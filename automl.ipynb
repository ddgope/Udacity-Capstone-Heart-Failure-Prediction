{
 "cells": [
  {
   "cell_type": "markdown",
   "metadata": {},
   "source": [
    "# Automated ML\n",
    "\n",
    "## Dependencies \n",
    "\n",
    "All the dependencies needed to complete the project appear here."
   ]
  },
  {
   "cell_type": "code",
   "execution_count": 2,
   "metadata": {
    "gather": {
     "logged": 1612382549902
    },
    "jupyter": {
     "outputs_hidden": false,
     "source_hidden": false
    },
    "nteract": {
     "transient": {
      "deleting": false
     }
    }
   },
   "outputs": [
    {
     "name": "stdout",
     "output_type": "stream",
     "text": [
      "SDK version: 1.22.0\n"
     ]
    }
   ],
   "source": [
    "import logging\n",
    "import os\n",
    "import csv\n",
    "\n",
    "from matplotlib import pyplot as plt\n",
    "import numpy as np\n",
    "import pandas as pd\n",
    "from sklearn import datasets\n",
    "import pkg_resources\n",
    "\n",
    "import azureml.core\n",
    "from azureml.core.experiment import Experiment\n",
    "from azureml.core.workspace import Workspace\n",
    "from azureml.train.automl import AutoMLConfig\n",
    "from azureml.core.dataset import Dataset\n",
    "from azureml.data.dataset_factory import TabularDatasetFactory\n",
    "\n",
    "from azureml.core.compute import AmlCompute\n",
    "from azureml.core.compute import ComputeTarget\n",
    "from azureml.core.compute_target import ComputeTargetException\n",
    "\n",
    "from azureml.pipeline.steps import AutoMLStep\n",
    "\n",
    "from azureml.widgets import RunDetails\n",
    "\n",
    "import joblib\n",
    "\n",
    "from azureml.core.environment import Environment \n",
    "from azureml.core.model import InferenceConfig \n",
    "from azureml.core.webservice import AciWebservice, Webservice\n",
    "from azureml.core.model import Model\n",
    "\n",
    "\n",
    "# Check core SDK version number\n",
    "print(\"SDK version:\", azureml.core.VERSION)"
   ]
  },
  {
   "cell_type": "markdown",
   "metadata": {},
   "source": [
    "## Workspace\n",
    "\n",
    "The `config.json` file is downloaded from Azure environment and has to be in the project folder in order for this cell to run."
   ]
  },
  {
   "cell_type": "code",
   "execution_count": 3,
   "metadata": {
    "gather": {
     "logged": 1612382555927
    }
   },
   "outputs": [
    {
     "name": "stdout",
     "output_type": "stream",
     "text": [
      "quick-starts-ws-139817\n",
      "aml-quickstarts-139817\n",
      "southcentralus\n",
      "9a7511b8-150f-4a58-8528-3e7d50216c31\n"
     ]
    }
   ],
   "source": [
    "ws = Workspace.from_config()\n",
    "print(ws.name, ws.resource_group, ws.location, ws.subscription_id, sep = '\\n')"
   ]
  },
  {
   "cell_type": "code",
   "execution_count": 19,
   "metadata": {},
   "outputs": [
    {
     "name": "stdout",
     "output_type": "stream",
     "text": [
      "packages channels:\n",
      "- anaconda\n",
      "- conda-forge\n",
      "- pytorch\n",
      "dependencies:\n",
      "- python=3.6.2\n",
      "- pip=20.2.4\n",
      "- pip:\n",
      "  - azureml-core==1.23.0\n",
      "  - azureml-pipeline-core==1.23.0\n",
      "  - azureml-telemetry==1.23.0\n",
      "  - azureml-defaults==1.23.0\n",
      "  - azureml-interpret==1.23.0\n",
      "  - azureml-automl-core==1.23.0\n",
      "  - azureml-automl-runtime==1.23.0\n",
      "  - azureml-train-automl-client==1.23.0\n",
      "  - azureml-train-automl-runtime==1.23.0\n",
      "  - azureml-dataset-runtime==1.23.0\n",
      "  - azureml-mlflow==1.23.0\n",
      "  - inference-schema\n",
      "  - py-cpuinfo==5.0.0\n",
      "  - boto3==1.15.18\n",
      "  - botocore==1.18.18\n",
      "- numpy~=1.18.0\n",
      "- scikit-learn==0.22.1\n",
      "- pandas~=0.25.0\n",
      "- py-xgboost<=0.90\n",
      "- fbprophet==0.5\n",
      "- holidays==0.9.11\n",
      "- setuptools-git\n",
      "- psutil>5.0.0,<6.0.0\n",
      "name: azureml_661474bbe74e96b5d8added5888dfc85\n",
      "\n"
     ]
    }
   ],
   "source": [
    "env = Environment.get(workspace=ws, name='AzureML-AutoML')\n",
    "#This will create a new folder called environ with a .yml and a .json file inside it\n",
    "env.save_to_directory('./environ', overwrite=True)\n",
    "\n",
    "#Chekc environment dependencies\n",
    "print(\"packages\", env.python.conda_dependencies.serialize_to_string())\n",
    "\n",
    "#get the environment Details and stored them into a file:\n",
    "f = open(\"env.yml\", \"w\")\n",
    "f.write(env.python.conda_dependencies.serialize_to_string())\n",
    "f.close()"
   ]
  },
  {
   "cell_type": "markdown",
   "metadata": {},
   "source": [
    "## Create an Azure ML experiment\n",
    "I am creating an experiment named `heart-failure-prediction` and a folder to hold the training scripts. The script runs will be recorded under the experiment in Azure.\n",
    "\n",
    "The best practice is to use separate folders for scripts and its dependent files for each step and specify that folder as the `source_directory` for the step. This helps reduce the size of the snapshot created for the step (only the specific folder is snapshotted). Since changes in any files in the `source_directory` would trigger a re-upload of the snapshot, this helps keep the reuse of the step when there are no changes in the `source_directory` of the step.\n"
   ]
  },
  {
   "cell_type": "code",
   "execution_count": 5,
   "metadata": {
    "gather": {
     "logged": 1612382568571
    }
   },
   "outputs": [],
   "source": [
    "# Choose a name for the run history container in the workspace.\n",
    "\n",
    "experiment_name = 'heart-failure-prediction'\n",
    "project_folder = './capstone-project'\n",
    "\n",
    "experiment = Experiment(ws, experiment_name)\n",
    "experiment\n",
    "\n",
    "run = experiment.start_logging()"
   ]
  },
  {
   "cell_type": "markdown",
   "metadata": {},
   "source": [
    "## Create or Attach a cluster\n",
    "\n",
    "We will need to create a [compute target](https://docs.microsoft.com/en-us/azure/machine-learning/concept-azure-machine-learning-architecture#compute-target) for the AutoML run. In case the compute target (named `compute-cluster` in this script) is not found, a new one is created using the default AmlCompute as the training compute resource."
   ]
  },
  {
   "cell_type": "code",
   "execution_count": 6,
   "metadata": {
    "gather": {
     "logged": 1612382581963
    }
   },
   "outputs": [
    {
     "name": "stdout",
     "output_type": "stream",
     "text": [
      "Creating a new compute cluster...\n",
      "Creating\n",
      "Succeeded.................\n",
      "AmlCompute wait for completion finished\n",
      "\n",
      "Minimum number of nodes requested have been provisioned\n",
      "{'currentNodeCount': 1, 'targetNodeCount': 1, 'nodeStateCounts': {'preparingNodeCount': 1, 'runningNodeCount': 0, 'idleNodeCount': 0, 'unusableNodeCount': 0, 'leavingNodeCount': 0, 'preemptedNodeCount': 0}, 'allocationState': 'Steady', 'allocationStateTransitionTime': '2021-03-04T19:04:38.487000+00:00', 'errors': None, 'creationTime': '2021-03-04T19:02:49.160424+00:00', 'modifiedTime': '2021-03-04T19:03:04.934244+00:00', 'provisioningState': 'Succeeded', 'provisioningStateTransitionTime': None, 'scaleSettings': {'minNodeCount': 1, 'maxNodeCount': 4, 'nodeIdleTimeBeforeScaleDown': 'PT120S'}, 'vmPriority': 'Dedicated', 'vmSize': 'STANDARD_DS3_V2'}\n"
     ]
    }
   ],
   "source": [
    "# max_nodes should be no greater than 4.\n",
    "\n",
    "# Choose a name for the cluster\n",
    "cpu_cluster_name = \"compute-cluster2\"\n",
    "\n",
    "# Verify that cluster does not exist already\n",
    "try:\n",
    "    compute_target = ComputeTarget(workspace=ws, name=cpu_cluster_name)\n",
    "    print('Found existing cluster, use it.')\n",
    "except ComputeTargetException:\n",
    "    print('Creating a new compute cluster...')\n",
    "    # Poll for a minimum number of nodes (min_nodes = 1). \n",
    "    # If no min node count is provided it uses the scale settings for the cluster.\n",
    "    compute_config = AmlCompute.provisioning_configuration(vm_size='Standard_DS3_v2', min_nodes=1, max_nodes=4)\n",
    "    compute_target = ComputeTarget.create(ws, cpu_cluster_name, compute_config)\n",
    "\n",
    "compute_target.wait_for_completion(show_output=True)\n",
    "\n",
    "# use get_status() to get a detailed status for the current cluster. \n",
    "print(compute_target.get_status().serialize())\n"
   ]
  },
  {
   "cell_type": "markdown",
   "metadata": {},
   "source": [
    "## Dataset\n",
    "\n",
    "### Overview\n",
    "\n",
    "The dataset used is taken from [Kaggle](https://www.kaggle.com/andrewmvd/heart-failure-clinical-data) and the data comes from 299 patients with heart failure collected at the Faisalabad Institute of Cardiology and at the Allied Hospital in Faisalabad (Punjab, Pakistan), during April–December 2015. The patients consisted of both women (105) and men (194), and the main task of the project is to classify the patients based on their odds of survival.\n",
    "\n",
    "Dataset features:\n",
    "\n",
    "| Feature | Explanation |\n",
    "| :---: | :---: |\n",
    "| *age* | Age of patient |\n",
    "| *anaemia* | Decrease of red blood cells or hemoglobin |\n",
    "| *creatinine-phosphokinase* | Level of the CPK enzyme in the blood |\n",
    "| *diabetes* | Whether the patient has diabetes or not |\n",
    "| *ejection_fraction* | Percentage of blood leaving the heart at each contraction |\n",
    "| *high_blood_pressure* | Whether the patient has hypertension or not |\n",
    "| *platelets* | Platelets in the blood |\n",
    "| *serum_creatinine* | Level of creatinine in the blood |\n",
    "| *serum_sodium* | Level of sodium in the blood |\n",
    "| *sex* | Female (F) or Male (M) |\n",
    "| *smoking* | Whether the patient smokes or not |\n",
    "| *time* | Follow-up period |\n",
    "| *DEATH_EVENT* | Whether the patient died during the follow-up period |\n"
   ]
  },
  {
   "cell_type": "code",
   "execution_count": 9,
   "metadata": {
    "gather": {
     "logged": 1612382598440
    },
    "jupyter": {
     "outputs_hidden": false,
     "source_hidden": false
    },
    "nteract": {
     "transient": {
      "deleting": false
     }
    }
   },
   "outputs": [
    {
     "name": "stdout",
     "output_type": "stream",
     "text": [
      "    age  anaemia  creatinine_phosphokinase  diabetes  ejection_fraction  \\\n",
      "0  75.0        0                       582         0                 20   \n",
      "1  55.0        0                      7861         0                 38   \n",
      "2  65.0        0                       146         0                 20   \n",
      "3  50.0        1                       111         0                 20   \n",
      "4  65.0        1                       160         1                 20   \n",
      "\n",
      "   high_blood_pressure  platelets  serum_creatinine  serum_sodium  sex  \\\n",
      "0                    1  265000.00               1.9           130    1   \n",
      "1                    0  263358.03               1.1           136    1   \n",
      "2                    0  162000.00               1.3           129    1   \n",
      "3                    0  210000.00               1.9           137    1   \n",
      "4                    0  327000.00               2.7           116    0   \n",
      "\n",
      "   smoking  time  DEATH_EVENT  \n",
      "0        0     4            1  \n",
      "1        0     6            1  \n",
      "2        1     7            1  \n",
      "3        0     7            1  \n",
      "4        0     8            1  \n",
      "              age     anaemia  creatinine_phosphokinase    diabetes  \\\n",
      "count  299.000000  299.000000                299.000000  299.000000   \n",
      "mean    60.833893    0.431438                581.839465    0.418060   \n",
      "std     11.894809    0.496107                970.287881    0.494067   \n",
      "min     40.000000    0.000000                 23.000000    0.000000   \n",
      "25%     51.000000    0.000000                116.500000    0.000000   \n",
      "50%     60.000000    0.000000                250.000000    0.000000   \n",
      "75%     70.000000    1.000000                582.000000    1.000000   \n",
      "max     95.000000    1.000000               7861.000000    1.000000   \n",
      "\n",
      "       ejection_fraction  high_blood_pressure      platelets  \\\n",
      "count         299.000000           299.000000     299.000000   \n",
      "mean           38.083612             0.351171  263358.029264   \n",
      "std            11.834841             0.478136   97804.236869   \n",
      "min            14.000000             0.000000   25100.000000   \n",
      "25%            30.000000             0.000000  212500.000000   \n",
      "50%            38.000000             0.000000  262000.000000   \n",
      "75%            45.000000             1.000000  303500.000000   \n",
      "max            80.000000             1.000000  850000.000000   \n",
      "\n",
      "       serum_creatinine  serum_sodium         sex    smoking        time  \\\n",
      "count         299.00000    299.000000  299.000000  299.00000  299.000000   \n",
      "mean            1.39388    136.625418    0.648829    0.32107  130.260870   \n",
      "std             1.03451      4.412477    0.478136    0.46767   77.614208   \n",
      "min             0.50000    113.000000    0.000000    0.00000    4.000000   \n",
      "25%             0.90000    134.000000    0.000000    0.00000   73.000000   \n",
      "50%             1.10000    137.000000    1.000000    0.00000  115.000000   \n",
      "75%             1.40000    140.000000    1.000000    1.00000  203.000000   \n",
      "max             9.40000    148.000000    1.000000    1.00000  285.000000   \n",
      "\n",
      "       DEATH_EVENT  \n",
      "count    299.00000  \n",
      "mean       0.32107  \n",
      "std        0.46767  \n",
      "min        0.00000  \n",
      "25%        0.00000  \n",
      "50%        0.00000  \n",
      "75%        1.00000  \n",
      "max        1.00000  \n"
     ]
    }
   ],
   "source": [
    "data = pd.read_csv('./heart_failure_clinical_records_dataset.csv')\n",
    "\n",
    "found = False\n",
    "key = \"heart-failure-prediction\"\n",
    "description_text = \"Prediction of survival of patients with heart failure\"\n",
    "\n",
    "if key in ws.datasets.keys(): \n",
    "        found = True\n",
    "        dataset = ws.datasets[key] \n",
    "\n",
    "if not found:\n",
    "        # Create AML Dataset and register it into Workspace\n",
    "        my_dataset = 'https://raw.githubusercontent.com/ddgope/Udacity-Capstone-Heart-Failure-Prediction/master/heart_failure_clinical_records_dataset.csv'\n",
    "        dataset = Dataset.Tabular.from_delimited_files(my_dataset)        \n",
    "        # Register Dataset in Workspace\n",
    "        dataset = dataset.register(workspace=ws,\n",
    "                                   name=key,\n",
    "                                   description=description_text)\n",
    "                                \n",
    "# Preview of the first five rows\n",
    "print(data.head())\n",
    "\n",
    "# Explore data\n",
    "print(data.describe())\n",
    "\n",
    "df = dataset.to_pandas_dataframe()\n",
    "df.describe()\n",
    "\n",
    "# Data columns\n",
    "df.columns = ['age', 'anaemia', 'creatinine_phosphokinase', 'diabetes', 'ejection_fraction', 'high_blood_pressure', 'platelets', 'serum_creatinine', 'serum_sodium', 'sex', 'smoking', 'time', 'DEATH_EVENT']\n",
    "x = df[['age', 'anaemia', 'creatinine_phosphokinase', 'diabetes', 'ejection_fraction', 'high_blood_pressure', 'platelets', 'serum_creatinine', 'serum_sodium', 'sex', 'smoking', 'time']]\n",
    "y = df[['DEATH_EVENT']]"
   ]
  },
  {
   "cell_type": "markdown",
   "metadata": {},
   "source": [
    "## AutoML Configuration\n",
    "\n",
    "Here is an overview of the `automl` settings and configuration I used for the AutoML run:\n",
    "\n",
    "`\"n_cross_validations\": 2`\n",
    "\n",
    "This parameter sets how many cross validations to perform, based on the same number of folds (number of subsets). As one cross-validation could result in overfit, in my code I chose 2 folds for cross-validation; thus the metrics are calculated with the average of the 2 validation metrics.\n",
    "\n",
    "`\"primary_metric\": 'accuracy'`\n",
    "\n",
    "I chose accuracy as the primary metric as it is the default metric used for classification tasks.\n",
    "\n",
    "`\"enable_early_stopping\": True`\n",
    "\n",
    "It defines to enable early termination if the score is not improving in the short term. In this experiment, it could also be omitted because the _experiment_timeout_minutes_ is already defined below.\n",
    "\n",
    "`\"max_concurrent_iterations\": 4`\n",
    "\n",
    "It represents the maximum number of iterations that would be executed in parallel.\n",
    "\n",
    "`\"experiment_timeout_minutes\": 20`\n",
    "\n",
    "This is an exit criterion and is used to define how long, in minutes, the experiment should continue to run. To help avoid experiment time out failures, I used the value of 20 minutes.\n",
    "\n",
    "`\"verbosity\": logging.INFO`\n",
    "\n",
    "The verbosity level for writing to the log file.\n",
    "\n",
    "`compute_target = compute_target`\n",
    "\n",
    "The Azure Machine Learning compute target to run the Automated Machine Learning experiment on.\n",
    "\n",
    "`task = 'classification'`\n",
    "\n",
    "This defines the experiment type which in this case is classification. Other options are _regression_ and _forecasting_.\n",
    "\n",
    "`training_data = dataset`\n",
    "\n",
    "The training data to be used within the experiment. It should contain both training features and a label column - see next parameter.\n",
    "\n",
    "`label_column_name = 'DEATH_EVENT'` \n",
    "\n",
    "The name of the label column i.e. the target column based on which the prediction is done.\n",
    "\n",
    "`path = project_folder`\n",
    "\n",
    "The full path to the Azure Machine Learning project folder.\n",
    "\n",
    "`featurization = 'auto'`\n",
    "\n",
    "This parameter defines whether featurization step should be done automatically as in this case (_auto_) or not (_off_).\n",
    "\n",
    "`debug_log = 'automl_errors.log`\n",
    "\n",
    "The log file to write debug information to.\n",
    "\n",
    "`enable_onnx_compatible_models = False`\n",
    "\n",
    "I chose not to enable enforcing the ONNX-compatible models at this stage. However, I will try it in the future. For more info on Open Neural Network Exchange (ONNX), please see [here](https://docs.microsoft.com/en-us/azure/machine-learning/concept-onnx).\n"
   ]
  },
  {
   "cell_type": "code",
   "execution_count": 11,
   "metadata": {
    "gather": {
     "logged": 1612382615679
    },
    "jupyter": {
     "outputs_hidden": false,
     "source_hidden": false
    },
    "nteract": {
     "transient": {
      "deleting": false
     }
    }
   },
   "outputs": [],
   "source": [
    "# Automl settings\n",
    "\n",
    "automl_settings = {\"n_cross_validations\": 2,\n",
    "                    \"primary_metric\": 'accuracy',\n",
    "                    \"enable_early_stopping\": True,\n",
    "                    \"max_concurrent_iterations\": 4,\n",
    "                    \"experiment_timeout_minutes\": 25,\n",
    "                    \"blocked_models\":['XGBoostClassifier'],\n",
    "                    \"verbosity\": logging.INFO                   \n",
    "                    }\n",
    "\n",
    "# Parameters for AutoMLConfig\n",
    "\n",
    "automl_config = AutoMLConfig(compute_target = compute_target,\n",
    "                            task='classification',\n",
    "                            training_data=dataset,\n",
    "                            label_column_name='DEATH_EVENT',\n",
    "                            path = project_folder,\n",
    "                            featurization= 'auto',\n",
    "                            debug_log = \"automl_errors.log\",\n",
    "                            enable_onnx_compatible_models=False,                            \n",
    "                            **automl_settings\n",
    "                            )"
   ]
  },
  {
   "cell_type": "code",
   "execution_count": 12,
   "metadata": {
    "gather": {
     "logged": 1612383725503
    },
    "jupyter": {
     "outputs_hidden": false,
     "source_hidden": false
    },
    "nteract": {
     "transient": {
      "deleting": false
     }
    }
   },
   "outputs": [
    {
     "name": "stdout",
     "output_type": "stream",
     "text": [
      "Running on remote.\n",
      "No run_configuration provided, running on compute-cluster2 with default configuration\n",
      "Running on remote compute: compute-cluster2\n",
      "Parent Run ID: AutoML_5a6ae0d4-dc22-4937-8491-91faaeb4af56\n",
      "\n",
      "Current status: FeaturesGeneration. Generating features for the dataset.\n",
      "Current status: ModelSelection. Beginning model selection.\n",
      "\n",
      "****************************************************************************************************\n",
      "DATA GUARDRAILS: \n",
      "\n",
      "TYPE:         Class balancing detection\n",
      "STATUS:       PASSED\n",
      "DESCRIPTION:  Your inputs were analyzed, and all classes are balanced in your training data.\n",
      "              Learn more about imbalanced data: https://aka.ms/AutomatedMLImbalancedData\n",
      "\n",
      "****************************************************************************************************\n",
      "\n",
      "TYPE:         Missing feature values imputation\n",
      "STATUS:       PASSED\n",
      "DESCRIPTION:  No feature missing values were detected in the training data.\n",
      "              Learn more about missing value imputation: https://aka.ms/AutomatedMLFeaturization\n",
      "\n",
      "****************************************************************************************************\n",
      "\n",
      "TYPE:         High cardinality feature detection\n",
      "STATUS:       PASSED\n",
      "DESCRIPTION:  Your inputs were analyzed, and no high cardinality features were detected.\n",
      "              Learn more about high cardinality feature handling: https://aka.ms/AutomatedMLFeaturization\n",
      "\n",
      "****************************************************************************************************\n",
      "\n",
      "****************************************************************************************************\n",
      "ITERATION: The iteration being evaluated.\n",
      "PIPELINE: A summary description of the pipeline being evaluated.\n",
      "DURATION: Time taken for the current iteration.\n",
      "METRIC: The result of computing score on the fitted pipeline.\n",
      "BEST: The best observed score thus far.\n",
      "****************************************************************************************************\n",
      "\n",
      " ITERATION   PIPELINE                                       DURATION      METRIC      BEST\n",
      "         1   MinMaxScaler RandomForest                      0:00:43       0.8461    0.8461\n",
      "         2   MinMaxScaler RandomForest                      0:00:57       0.8195    0.8461\n",
      "         3   MinMaxScaler RandomForest                      0:00:47       0.8528    0.8528\n",
      "         6   MinMaxScaler SVM                               0:00:47       0.6822    0.8528\n",
      "         0   MaxAbsScaler LightGBM                          0:01:59       0.8127    0.8528\n",
      "         4   MinMaxScaler RandomForest                      0:01:58       0.8159    0.8528\n",
      "         5   MinMaxScaler SVM                               0:02:04       0.6989    0.8528\n",
      "         7   MaxAbsScaler RandomForest                      0:00:48       0.7626    0.8528\n",
      "         8   MaxAbsScaler RandomForest                      0:00:46       0.8361    0.8528\n",
      "        10   MaxAbsScaler GradientBoosting                  0:00:49       0.8361    0.8528\n",
      "        11   StandardScalerWrapper LightGBM                 0:00:50       0.8261    0.8528\n",
      "         9   StandardScalerWrapper GradientBoosting         0:00:51       0.8395    0.8528\n",
      "        13   StandardScalerWrapper LogisticRegression       0:00:47       0.7926    0.8528\n",
      "        14   StandardScalerWrapper LightGBM                 0:00:38       0.7559    0.8528\n",
      "        12   MaxAbsScaler ExtremeRandomTrees                0:00:54       0.7928    0.8528\n",
      "        15   SparseNormalizer LightGBM                      0:00:47       0.6923    0.8528\n",
      "        16   MaxAbsScaler LightGBM                          0:00:45       0.8294    0.8528\n",
      "        17   StandardScalerWrapper ExtremeRandomTrees       0:00:45       0.6857    0.8528\n",
      "        18   StandardScalerWrapper LightGBM                 0:00:51       0.8395    0.8528\n",
      "        19   MinMaxScaler LightGBM                          0:00:45       0.8361    0.8528\n",
      "        20   RobustScaler LightGBM                          0:00:47       0.6789    0.8528\n",
      "        21   StandardScalerWrapper LightGBM                 0:00:49       0.7459    0.8528\n",
      "        22   StandardScalerWrapper LightGBM                 0:00:44       0.8261    0.8528\n",
      "        23   MaxAbsScaler LightGBM                          0:00:45       0.7090    0.8528\n",
      "        24   MaxAbsScaler LightGBM                          0:00:50       0.7292    0.8528\n",
      "        25   StandardScalerWrapper RandomForest             0:00:51       0.6789    0.8528\n",
      "        26   RobustScaler LightGBM                          0:00:48       0.8462    0.8528\n",
      "        27   StandardScalerWrapper RandomForest             0:01:02       0.8394    0.8528\n",
      "        28   StandardScalerWrapper RandomForest             0:00:44       0.8528    0.8528\n",
      "        29   StandardScalerWrapper RandomForest             0:00:53       0.8294    0.8528\n",
      "        30   MaxAbsScaler RandomForest                      0:00:44       0.8328    0.8528\n",
      "        31   StandardScalerWrapper RandomForest             0:00:45       0.8395    0.8528\n",
      "        32   SparseNormalizer LightGBM                      0:00:42       0.8094    0.8528\n",
      "        33   MaxAbsScaler RandomForest                      0:00:59       0.8395    0.8528\n",
      "        34   MinMaxScaler LightGBM                          0:00:47       0.8395    0.8528\n",
      "        35   SparseNormalizer RandomForest                  0:00:47       0.7525    0.8528\n",
      "        36   MaxAbsScaler ExtremeRandomTrees                0:00:45       0.7926    0.8528\n",
      "        37   SparseNormalizer ExtremeRandomTrees            0:00:41       0.7357    0.8528\n",
      "        38   MaxAbsScaler ExtremeRandomTrees                0:00:47       0.7759    0.8528\n",
      "        39   MaxAbsScaler RandomForest                      0:00:47       0.8361    0.8528\n",
      "        40   MaxAbsScaler RandomForest                      0:00:51       0.7358    0.8528\n",
      "        41   StandardScalerWrapper LightGBM                 0:00:45       0.8428    0.8528\n",
      "        42   MaxAbsScaler LightGBM                          0:00:34       0.8395    0.8528\n",
      "        43   SparseNormalizer RandomForest                  0:00:31       0.7893    0.8528\n",
      "        44                                                  0:00:08          nan    0.8528\n",
      "        45    VotingEnsemble                                0:01:07       0.8596    0.8596\n",
      "        46    StackEnsemble                                 0:01:05       0.8193    0.8596\n"
     ]
    },
    {
     "data": {
      "text/plain": [
       "{'runId': 'AutoML_5a6ae0d4-dc22-4937-8491-91faaeb4af56',\n",
       " 'target': 'compute-cluster2',\n",
       " 'status': 'Completed',\n",
       " 'startTimeUtc': '2021-03-04T19:10:16.128146Z',\n",
       " 'endTimeUtc': '2021-03-04T19:29:25.904231Z',\n",
       " 'properties': {'num_iterations': '1000',\n",
       "  'training_type': 'TrainFull',\n",
       "  'acquisition_function': 'EI',\n",
       "  'primary_metric': 'accuracy',\n",
       "  'train_split': '0',\n",
       "  'acquisition_parameter': '0',\n",
       "  'num_cross_validation': '2',\n",
       "  'target': 'compute-cluster2',\n",
       "  'AMLSettingsJsonString': '{\"path\":null,\"name\":\"heart-failure-prediction\",\"subscription_id\":\"9a7511b8-150f-4a58-8528-3e7d50216c31\",\"resource_group\":\"aml-quickstarts-139817\",\"workspace_name\":\"quick-starts-ws-139817\",\"region\":\"southcentralus\",\"compute_target\":\"compute-cluster2\",\"spark_service\":null,\"azure_service\":\"remote\",\"many_models\":false,\"pipeline_fetch_max_batch_size\":1,\"iterations\":1000,\"primary_metric\":\"accuracy\",\"task_type\":\"classification\",\"data_script\":null,\"validation_size\":0.0,\"n_cross_validations\":2,\"y_min\":null,\"y_max\":null,\"num_classes\":null,\"featurization\":\"auto\",\"_ignore_package_version_incompatibilities\":false,\"is_timeseries\":false,\"max_cores_per_iteration\":1,\"max_concurrent_iterations\":4,\"iteration_timeout_minutes\":null,\"mem_in_mb\":null,\"enforce_time_on_windows\":false,\"experiment_timeout_minutes\":25,\"experiment_exit_score\":null,\"whitelist_models\":null,\"blacklist_algos\":[\"XGBoostClassifier\",\"TensorFlowLinearClassifier\",\"TensorFlowDNN\"],\"supported_models\":[\"BernoulliNaiveBayes\",\"MultinomialNaiveBayes\",\"DecisionTree\",\"RandomForest\",\"LightGBM\",\"GradientBoosting\",\"XGBoostClassifier\",\"KNN\",\"ExtremeRandomTrees\",\"SGD\",\"TensorFlowDNN\",\"SVM\",\"LinearSVM\",\"AveragedPerceptronClassifier\",\"LogisticRegression\",\"TensorFlowLinearClassifier\"],\"private_models\":[],\"auto_blacklist\":true,\"blacklist_samples_reached\":false,\"exclude_nan_labels\":true,\"verbosity\":20,\"_debug_log\":\"azureml_automl.log\",\"show_warnings\":false,\"model_explainability\":true,\"service_url\":null,\"sdk_url\":null,\"sdk_packages\":null,\"enable_onnx_compatible_models\":false,\"enable_split_onnx_featurizer_estimator_models\":false,\"vm_type\":\"STANDARD_DS3_V2\",\"telemetry_verbosity\":20,\"send_telemetry\":true,\"enable_dnn\":false,\"scenario\":\"SDK-1.13.0\",\"environment_label\":null,\"force_text_dnn\":false,\"enable_feature_sweeping\":true,\"enable_early_stopping\":true,\"early_stopping_n_iters\":10,\"metrics\":null,\"enable_ensembling\":true,\"enable_stack_ensembling\":true,\"ensemble_iterations\":15,\"enable_tf\":false,\"enable_subsampling\":null,\"subsample_seed\":null,\"enable_nimbusml\":false,\"enable_streaming\":false,\"force_streaming\":false,\"track_child_runs\":true,\"allowed_private_models\":[],\"label_column_name\":\"DEATH_EVENT\",\"weight_column_name\":null,\"cv_split_column_names\":null,\"enable_local_managed\":false,\"_local_managed_run_id\":null,\"cost_mode\":1,\"lag_length\":0,\"metric_operation\":\"maximize\",\"preprocess\":true}',\n",
       "  'DataPrepJsonString': '{\\\\\"training_data\\\\\": \\\\\"{\\\\\\\\\\\\\"blocks\\\\\\\\\\\\\": [{\\\\\\\\\\\\\"id\\\\\\\\\\\\\": \\\\\\\\\\\\\"51c20d36-6a15-4784-ab95-381f15fc1310\\\\\\\\\\\\\", \\\\\\\\\\\\\"type\\\\\\\\\\\\\": \\\\\\\\\\\\\"Microsoft.DPrep.GetDatastoreFilesBlock\\\\\\\\\\\\\", \\\\\\\\\\\\\"arguments\\\\\\\\\\\\\": {\\\\\\\\\\\\\"datastores\\\\\\\\\\\\\": [{\\\\\\\\\\\\\"datastoreName\\\\\\\\\\\\\": \\\\\\\\\\\\\"workspaceblobstore\\\\\\\\\\\\\", \\\\\\\\\\\\\"path\\\\\\\\\\\\\": \\\\\\\\\\\\\"UI/03-04-2021_065652_UTC/heart_failure_clinical_records_dataset.csv\\\\\\\\\\\\\", \\\\\\\\\\\\\"resourceGroup\\\\\\\\\\\\\": \\\\\\\\\\\\\"aml-quickstarts-139817\\\\\\\\\\\\\", \\\\\\\\\\\\\"subscription\\\\\\\\\\\\\": \\\\\\\\\\\\\"9a7511b8-150f-4a58-8528-3e7d50216c31\\\\\\\\\\\\\", \\\\\\\\\\\\\"workspaceName\\\\\\\\\\\\\": \\\\\\\\\\\\\"quick-starts-ws-139817\\\\\\\\\\\\\"}]}, \\\\\\\\\\\\\"localData\\\\\\\\\\\\\": {}, \\\\\\\\\\\\\"isEnabled\\\\\\\\\\\\\": true, \\\\\\\\\\\\\"name\\\\\\\\\\\\\": null, \\\\\\\\\\\\\"annotation\\\\\\\\\\\\\": null}, {\\\\\\\\\\\\\"id\\\\\\\\\\\\\": \\\\\\\\\\\\\"e9db7820-74c6-4705-8ab3-9c0675a7ea46\\\\\\\\\\\\\", \\\\\\\\\\\\\"type\\\\\\\\\\\\\": \\\\\\\\\\\\\"Microsoft.DPrep.ParseDelimitedBlock\\\\\\\\\\\\\", \\\\\\\\\\\\\"arguments\\\\\\\\\\\\\": {\\\\\\\\\\\\\"columnHeadersMode\\\\\\\\\\\\\": 1, \\\\\\\\\\\\\"fileEncoding\\\\\\\\\\\\\": 0, \\\\\\\\\\\\\"handleQuotedLineBreaks\\\\\\\\\\\\\": false, \\\\\\\\\\\\\"preview\\\\\\\\\\\\\": false, \\\\\\\\\\\\\"separator\\\\\\\\\\\\\": \\\\\\\\\\\\\",\\\\\\\\\\\\\", \\\\\\\\\\\\\"skipRows\\\\\\\\\\\\\": 0, \\\\\\\\\\\\\"skipRowsMode\\\\\\\\\\\\\": 0}, \\\\\\\\\\\\\"localData\\\\\\\\\\\\\": {}, \\\\\\\\\\\\\"isEnabled\\\\\\\\\\\\\": true, \\\\\\\\\\\\\"name\\\\\\\\\\\\\": null, \\\\\\\\\\\\\"annotation\\\\\\\\\\\\\": null}, {\\\\\\\\\\\\\"id\\\\\\\\\\\\\": \\\\\\\\\\\\\"4450bc8c-a28f-412d-abab-0e03999efad9\\\\\\\\\\\\\", \\\\\\\\\\\\\"type\\\\\\\\\\\\\": \\\\\\\\\\\\\"Microsoft.DPrep.DropColumnsBlock\\\\\\\\\\\\\", \\\\\\\\\\\\\"arguments\\\\\\\\\\\\\": {\\\\\\\\\\\\\"columns\\\\\\\\\\\\\": {\\\\\\\\\\\\\"type\\\\\\\\\\\\\": 0, \\\\\\\\\\\\\"details\\\\\\\\\\\\\": {\\\\\\\\\\\\\"selectedColumns\\\\\\\\\\\\\": [\\\\\\\\\\\\\"Path\\\\\\\\\\\\\"]}}}, \\\\\\\\\\\\\"localData\\\\\\\\\\\\\": {}, \\\\\\\\\\\\\"isEnabled\\\\\\\\\\\\\": true, \\\\\\\\\\\\\"name\\\\\\\\\\\\\": null, \\\\\\\\\\\\\"annotation\\\\\\\\\\\\\": null}, {\\\\\\\\\\\\\"id\\\\\\\\\\\\\": \\\\\\\\\\\\\"4b46c21e-776c-4a2c-82af-93cf8662be09\\\\\\\\\\\\\", \\\\\\\\\\\\\"type\\\\\\\\\\\\\": \\\\\\\\\\\\\"Microsoft.DPrep.SetColumnTypesBlock\\\\\\\\\\\\\", \\\\\\\\\\\\\"arguments\\\\\\\\\\\\\": {\\\\\\\\\\\\\"columnConversion\\\\\\\\\\\\\": [{\\\\\\\\\\\\\"column\\\\\\\\\\\\\": {\\\\\\\\\\\\\"type\\\\\\\\\\\\\": 2, \\\\\\\\\\\\\"details\\\\\\\\\\\\\": {\\\\\\\\\\\\\"selectedColumn\\\\\\\\\\\\\": \\\\\\\\\\\\\"Path\\\\\\\\\\\\\"}}, \\\\\\\\\\\\\"typeProperty\\\\\\\\\\\\\": 0}, {\\\\\\\\\\\\\"column\\\\\\\\\\\\\": {\\\\\\\\\\\\\"type\\\\\\\\\\\\\": 2, \\\\\\\\\\\\\"details\\\\\\\\\\\\\": {\\\\\\\\\\\\\"selectedColumn\\\\\\\\\\\\\": \\\\\\\\\\\\\"age\\\\\\\\\\\\\"}}, \\\\\\\\\\\\\"typeProperty\\\\\\\\\\\\\": 3}, {\\\\\\\\\\\\\"column\\\\\\\\\\\\\": {\\\\\\\\\\\\\"type\\\\\\\\\\\\\": 2, \\\\\\\\\\\\\"details\\\\\\\\\\\\\": {\\\\\\\\\\\\\"selectedColumn\\\\\\\\\\\\\": \\\\\\\\\\\\\"anaemia\\\\\\\\\\\\\"}}, \\\\\\\\\\\\\"typeProperty\\\\\\\\\\\\\": 2}, {\\\\\\\\\\\\\"column\\\\\\\\\\\\\": {\\\\\\\\\\\\\"type\\\\\\\\\\\\\": 2, \\\\\\\\\\\\\"details\\\\\\\\\\\\\": {\\\\\\\\\\\\\"selectedColumn\\\\\\\\\\\\\": \\\\\\\\\\\\\"creatinine_phosphokinase\\\\\\\\\\\\\"}}, \\\\\\\\\\\\\"typeProperty\\\\\\\\\\\\\": 2}, {\\\\\\\\\\\\\"column\\\\\\\\\\\\\": {\\\\\\\\\\\\\"type\\\\\\\\\\\\\": 2, \\\\\\\\\\\\\"details\\\\\\\\\\\\\": {\\\\\\\\\\\\\"selectedColumn\\\\\\\\\\\\\": \\\\\\\\\\\\\"diabetes\\\\\\\\\\\\\"}}, \\\\\\\\\\\\\"typeProperty\\\\\\\\\\\\\": 2}, {\\\\\\\\\\\\\"column\\\\\\\\\\\\\": {\\\\\\\\\\\\\"type\\\\\\\\\\\\\": 2, \\\\\\\\\\\\\"details\\\\\\\\\\\\\": {\\\\\\\\\\\\\"selectedColumn\\\\\\\\\\\\\": \\\\\\\\\\\\\"ejection_fraction\\\\\\\\\\\\\"}}, \\\\\\\\\\\\\"typeProperty\\\\\\\\\\\\\": 2}, {\\\\\\\\\\\\\"column\\\\\\\\\\\\\": {\\\\\\\\\\\\\"type\\\\\\\\\\\\\": 2, \\\\\\\\\\\\\"details\\\\\\\\\\\\\": {\\\\\\\\\\\\\"selectedColumn\\\\\\\\\\\\\": \\\\\\\\\\\\\"high_blood_pressure\\\\\\\\\\\\\"}}, \\\\\\\\\\\\\"typeProperty\\\\\\\\\\\\\": 2}, {\\\\\\\\\\\\\"column\\\\\\\\\\\\\": {\\\\\\\\\\\\\"type\\\\\\\\\\\\\": 2, \\\\\\\\\\\\\"details\\\\\\\\\\\\\": {\\\\\\\\\\\\\"selectedColumn\\\\\\\\\\\\\": \\\\\\\\\\\\\"platelets\\\\\\\\\\\\\"}}, \\\\\\\\\\\\\"typeProperty\\\\\\\\\\\\\": 3}, {\\\\\\\\\\\\\"column\\\\\\\\\\\\\": {\\\\\\\\\\\\\"type\\\\\\\\\\\\\": 2, \\\\\\\\\\\\\"details\\\\\\\\\\\\\": {\\\\\\\\\\\\\"selectedColumn\\\\\\\\\\\\\": \\\\\\\\\\\\\"serum_creatinine\\\\\\\\\\\\\"}}, \\\\\\\\\\\\\"typeProperty\\\\\\\\\\\\\": 3}, {\\\\\\\\\\\\\"column\\\\\\\\\\\\\": {\\\\\\\\\\\\\"type\\\\\\\\\\\\\": 2, \\\\\\\\\\\\\"details\\\\\\\\\\\\\": {\\\\\\\\\\\\\"selectedColumn\\\\\\\\\\\\\": \\\\\\\\\\\\\"serum_sodium\\\\\\\\\\\\\"}}, \\\\\\\\\\\\\"typeProperty\\\\\\\\\\\\\": 2}, {\\\\\\\\\\\\\"column\\\\\\\\\\\\\": {\\\\\\\\\\\\\"type\\\\\\\\\\\\\": 2, \\\\\\\\\\\\\"details\\\\\\\\\\\\\": {\\\\\\\\\\\\\"selectedColumn\\\\\\\\\\\\\": \\\\\\\\\\\\\"sex\\\\\\\\\\\\\"}}, \\\\\\\\\\\\\"typeProperty\\\\\\\\\\\\\": 2}, {\\\\\\\\\\\\\"column\\\\\\\\\\\\\": {\\\\\\\\\\\\\"type\\\\\\\\\\\\\": 2, \\\\\\\\\\\\\"details\\\\\\\\\\\\\": {\\\\\\\\\\\\\"selectedColumn\\\\\\\\\\\\\": \\\\\\\\\\\\\"smoking\\\\\\\\\\\\\"}}, \\\\\\\\\\\\\"typeProperty\\\\\\\\\\\\\": 2}, {\\\\\\\\\\\\\"column\\\\\\\\\\\\\": {\\\\\\\\\\\\\"type\\\\\\\\\\\\\": 2, \\\\\\\\\\\\\"details\\\\\\\\\\\\\": {\\\\\\\\\\\\\"selectedColumn\\\\\\\\\\\\\": \\\\\\\\\\\\\"time\\\\\\\\\\\\\"}}, \\\\\\\\\\\\\"typeProperty\\\\\\\\\\\\\": 2}, {\\\\\\\\\\\\\"column\\\\\\\\\\\\\": {\\\\\\\\\\\\\"type\\\\\\\\\\\\\": 2, \\\\\\\\\\\\\"details\\\\\\\\\\\\\": {\\\\\\\\\\\\\"selectedColumn\\\\\\\\\\\\\": \\\\\\\\\\\\\"DEATH_EVENT\\\\\\\\\\\\\"}}, \\\\\\\\\\\\\"typeProperty\\\\\\\\\\\\\": 2}]}, \\\\\\\\\\\\\"localData\\\\\\\\\\\\\": {}, \\\\\\\\\\\\\"isEnabled\\\\\\\\\\\\\": true, \\\\\\\\\\\\\"name\\\\\\\\\\\\\": null, \\\\\\\\\\\\\"annotation\\\\\\\\\\\\\": null}], \\\\\\\\\\\\\"inspectors\\\\\\\\\\\\\": [], \\\\\\\\\\\\\"meta\\\\\\\\\\\\\": {\\\\\\\\\\\\\"savedDatasetId\\\\\\\\\\\\\": \\\\\\\\\\\\\"2a260d36-bcc8-4268-ac60-7f7cb5faa0c0\\\\\\\\\\\\\", \\\\\\\\\\\\\"datasetType\\\\\\\\\\\\\": \\\\\\\\\\\\\"tabular\\\\\\\\\\\\\", \\\\\\\\\\\\\"subscriptionId\\\\\\\\\\\\\": \\\\\\\\\\\\\"9a7511b8-150f-4a58-8528-3e7d50216c31\\\\\\\\\\\\\", \\\\\\\\\\\\\"workspaceId\\\\\\\\\\\\\": \\\\\\\\\\\\\"837ec3ad-c694-4343-abc7-9d98d0ef4cd6\\\\\\\\\\\\\", \\\\\\\\\\\\\"workspaceLocation\\\\\\\\\\\\\": \\\\\\\\\\\\\"southcentralus\\\\\\\\\\\\\"}}\\\\\", \\\\\"activities\\\\\": 0}',\n",
       "  'EnableSubsampling': None,\n",
       "  'runTemplate': 'AutoML',\n",
       "  'azureml.runsource': 'automl',\n",
       "  'display_task_type': 'classification',\n",
       "  'dependencies_versions': '{\"azureml-widgets\": \"1.22.0\", \"azureml-train\": \"1.22.0\", \"azureml-train-restclients-hyperdrive\": \"1.22.0\", \"azureml-train-core\": \"1.22.0\", \"azureml-train-automl\": \"1.22.0\", \"azureml-train-automl-runtime\": \"1.22.0\", \"azureml-train-automl-client\": \"1.22.0\", \"azureml-tensorboard\": \"1.22.0\", \"azureml-telemetry\": \"1.22.0\", \"azureml-sdk\": \"1.22.0\", \"azureml-samples\": \"0+unknown\", \"azureml-pipeline\": \"1.22.0\", \"azureml-pipeline-steps\": \"1.22.0\", \"azureml-pipeline-core\": \"1.22.0\", \"azureml-opendatasets\": \"1.22.0\", \"azureml-model-management-sdk\": \"1.0.1b6.post1\", \"azureml-mlflow\": \"1.22.0\", \"azureml-interpret\": \"1.22.0\", \"azureml-explain-model\": \"1.22.0\", \"azureml-defaults\": \"1.22.0\", \"azureml-dataset-runtime\": \"1.22.0\", \"azureml-dataprep\": \"2.9.1\", \"azureml-dataprep-rslex\": \"1.7.0\", \"azureml-dataprep-native\": \"29.0.0\", \"azureml-datadrift\": \"1.22.0\", \"azureml-core\": \"1.22.0\", \"azureml-contrib-services\": \"1.22.0\", \"azureml-contrib-server\": \"1.22.0\", \"azureml-contrib-reinforcementlearning\": \"1.22.0\", \"azureml-contrib-pipeline-steps\": \"1.22.0\", \"azureml-contrib-notebook\": \"1.22.0\", \"azureml-contrib-interpret\": \"1.22.0\", \"azureml-contrib-gbdt\": \"1.22.0\", \"azureml-contrib-fairness\": \"1.22.0\", \"azureml-contrib-dataset\": \"1.22.0\", \"azureml-cli-common\": \"1.22.0\", \"azureml-automl-runtime\": \"1.22.0\", \"azureml-automl-core\": \"1.22.0\", \"azureml-accel-models\": \"1.22.0\"}',\n",
       "  '_aml_system_scenario_identification': 'Remote.Parent',\n",
       "  'ClientType': 'SDK',\n",
       "  'environment_cpu_name': 'AzureML-AutoML',\n",
       "  'environment_cpu_label': 'prod',\n",
       "  'environment_gpu_name': 'AzureML-AutoML-GPU',\n",
       "  'environment_gpu_label': 'prod',\n",
       "  'root_attribution': 'automl',\n",
       "  'attribution': 'AutoML',\n",
       "  'Orchestrator': 'AutoML',\n",
       "  'CancelUri': 'https://southcentralus.experiments.azureml.net/jasmine/v1.0/subscriptions/9a7511b8-150f-4a58-8528-3e7d50216c31/resourceGroups/aml-quickstarts-139817/providers/Microsoft.MachineLearningServices/workspaces/quick-starts-ws-139817/experimentids/95e072ac-a24d-4de2-ad10-29df622ac140/cancel/AutoML_5a6ae0d4-dc22-4937-8491-91faaeb4af56',\n",
       "  'ClientSdkVersion': '1.23.0',\n",
       "  'snapshotId': '00000000-0000-0000-0000-000000000000',\n",
       "  'SetupRunId': 'AutoML_5a6ae0d4-dc22-4937-8491-91faaeb4af56_setup',\n",
       "  'SetupRunContainerId': 'dcid.AutoML_5a6ae0d4-dc22-4937-8491-91faaeb4af56_setup',\n",
       "  'FeaturizationRunJsonPath': 'featurizer_container.json',\n",
       "  'FeaturizationRunId': 'AutoML_5a6ae0d4-dc22-4937-8491-91faaeb4af56_featurize',\n",
       "  'ProblemInfoJsonString': '{\"dataset_num_categorical\": 0, \"is_sparse\": false, \"subsampling\": false, \"dataset_classes\": 2, \"dataset_features\": 12, \"dataset_samples\": 299, \"single_frequency_class_detected\": false}',\n",
       "  'ModelExplainRunId': 'AutoML_5a6ae0d4-dc22-4937-8491-91faaeb4af56_ModelExplain'},\n",
       " 'inputDatasets': [{'dataset': {'id': '2a260d36-bcc8-4268-ac60-7f7cb5faa0c0'}, 'consumptionDetails': {'type': 'RunInput', 'inputName': 'training_data', 'mechanism': 'Direct'}}],\n",
       " 'outputDatasets': [],\n",
       " 'logFiles': {},\n",
       " 'submittedBy': 'ODL_User 139817'}"
      ]
     },
     "execution_count": 12,
     "metadata": {},
     "output_type": "execute_result"
    }
   ],
   "source": [
    "# Submit the experiment\n",
    "remote_run = experiment.submit(automl_config, show_output = True)\n",
    "remote_run.wait_for_completion()"
   ]
  },
  {
   "cell_type": "code",
   "execution_count": 13,
   "metadata": {
    "gather": {
     "logged": 1612383975181
    }
   },
   "outputs": [
    {
     "name": "stdout",
     "output_type": "stream",
     "text": [
      "Run Status:  Completed\n"
     ]
    }
   ],
   "source": [
    "# get_status()\n",
    "# Fetch the latest status of the run. It should show 'Completed'\n",
    "print(\"Run Status: \",remote_run.get_status())"
   ]
  },
  {
   "cell_type": "markdown",
   "metadata": {},
   "source": [
    "## Run Details\n",
    "\n",
    "In the cell below, I use the `RunDetails` widget and show the children runs of the experiment."
   ]
  },
  {
   "cell_type": "code",
   "execution_count": 14,
   "metadata": {
    "gather": {
     "logged": 1612383984076
    },
    "jupyter": {
     "outputs_hidden": false,
     "source_hidden": false
    },
    "nteract": {
     "transient": {
      "deleting": false
     }
    }
   },
   "outputs": [
    {
     "data": {
      "application/vnd.jupyter.widget-view+json": {
       "model_id": "54b45b6099094691bdc29773b1d66953",
       "version_major": 2,
       "version_minor": 0
      },
      "text/plain": [
       "_AutoMLWidget(widget_settings={'childWidgetDisplay': 'popup', 'send_telemetry': False, 'log_level': 'INFO', 's…"
      ]
     },
     "metadata": {},
     "output_type": "display_data"
    },
    {
     "data": {
      "application/aml.mini.widget.v1": "{\"status\": \"Completed\", \"workbench_run_details_uri\": \"https://ml.azure.com/experiments/heart-failure-prediction/runs/AutoML_5a6ae0d4-dc22-4937-8491-91faaeb4af56?wsid=/subscriptions/9a7511b8-150f-4a58-8528-3e7d50216c31/resourcegroups/aml-quickstarts-139817/workspaces/quick-starts-ws-139817\", \"run_id\": \"AutoML_5a6ae0d4-dc22-4937-8491-91faaeb4af56\", \"run_properties\": {\"run_id\": \"AutoML_5a6ae0d4-dc22-4937-8491-91faaeb4af56\", \"created_utc\": \"2021-03-04T19:10:00.135241Z\", \"properties\": {\"num_iterations\": \"1000\", \"training_type\": \"TrainFull\", \"acquisition_function\": \"EI\", \"primary_metric\": \"accuracy\", \"train_split\": \"0\", \"acquisition_parameter\": \"0\", \"num_cross_validation\": \"2\", \"target\": \"compute-cluster2\", \"AMLSettingsJsonString\": \"{\\\"path\\\":null,\\\"name\\\":\\\"heart-failure-prediction\\\",\\\"subscription_id\\\":\\\"9a7511b8-150f-4a58-8528-3e7d50216c31\\\",\\\"resource_group\\\":\\\"aml-quickstarts-139817\\\",\\\"workspace_name\\\":\\\"quick-starts-ws-139817\\\",\\\"region\\\":\\\"southcentralus\\\",\\\"compute_target\\\":\\\"compute-cluster2\\\",\\\"spark_service\\\":null,\\\"azure_service\\\":\\\"remote\\\",\\\"many_models\\\":false,\\\"pipeline_fetch_max_batch_size\\\":1,\\\"iterations\\\":1000,\\\"primary_metric\\\":\\\"accuracy\\\",\\\"task_type\\\":\\\"classification\\\",\\\"data_script\\\":null,\\\"validation_size\\\":0.0,\\\"n_cross_validations\\\":2,\\\"y_min\\\":null,\\\"y_max\\\":null,\\\"num_classes\\\":null,\\\"featurization\\\":\\\"auto\\\",\\\"_ignore_package_version_incompatibilities\\\":false,\\\"is_timeseries\\\":false,\\\"max_cores_per_iteration\\\":1,\\\"max_concurrent_iterations\\\":4,\\\"iteration_timeout_minutes\\\":null,\\\"mem_in_mb\\\":null,\\\"enforce_time_on_windows\\\":false,\\\"experiment_timeout_minutes\\\":25,\\\"experiment_exit_score\\\":null,\\\"whitelist_models\\\":null,\\\"blacklist_algos\\\":[\\\"XGBoostClassifier\\\",\\\"TensorFlowLinearClassifier\\\",\\\"TensorFlowDNN\\\"],\\\"supported_models\\\":[\\\"BernoulliNaiveBayes\\\",\\\"MultinomialNaiveBayes\\\",\\\"DecisionTree\\\",\\\"RandomForest\\\",\\\"LightGBM\\\",\\\"GradientBoosting\\\",\\\"XGBoostClassifier\\\",\\\"KNN\\\",\\\"ExtremeRandomTrees\\\",\\\"SGD\\\",\\\"TensorFlowDNN\\\",\\\"SVM\\\",\\\"LinearSVM\\\",\\\"AveragedPerceptronClassifier\\\",\\\"LogisticRegression\\\",\\\"TensorFlowLinearClassifier\\\"],\\\"private_models\\\":[],\\\"auto_blacklist\\\":true,\\\"blacklist_samples_reached\\\":false,\\\"exclude_nan_labels\\\":true,\\\"verbosity\\\":20,\\\"_debug_log\\\":\\\"azureml_automl.log\\\",\\\"show_warnings\\\":false,\\\"model_explainability\\\":true,\\\"service_url\\\":null,\\\"sdk_url\\\":null,\\\"sdk_packages\\\":null,\\\"enable_onnx_compatible_models\\\":false,\\\"enable_split_onnx_featurizer_estimator_models\\\":false,\\\"vm_type\\\":\\\"STANDARD_DS3_V2\\\",\\\"telemetry_verbosity\\\":20,\\\"send_telemetry\\\":true,\\\"enable_dnn\\\":false,\\\"scenario\\\":\\\"SDK-1.13.0\\\",\\\"environment_label\\\":null,\\\"force_text_dnn\\\":false,\\\"enable_feature_sweeping\\\":true,\\\"enable_early_stopping\\\":true,\\\"early_stopping_n_iters\\\":10,\\\"metrics\\\":null,\\\"enable_ensembling\\\":true,\\\"enable_stack_ensembling\\\":true,\\\"ensemble_iterations\\\":15,\\\"enable_tf\\\":false,\\\"enable_subsampling\\\":null,\\\"subsample_seed\\\":null,\\\"enable_nimbusml\\\":false,\\\"enable_streaming\\\":false,\\\"force_streaming\\\":false,\\\"track_child_runs\\\":true,\\\"allowed_private_models\\\":[],\\\"label_column_name\\\":\\\"DEATH_EVENT\\\",\\\"weight_column_name\\\":null,\\\"cv_split_column_names\\\":null,\\\"enable_local_managed\\\":false,\\\"_local_managed_run_id\\\":null,\\\"cost_mode\\\":1,\\\"lag_length\\\":0,\\\"metric_operation\\\":\\\"maximize\\\",\\\"preprocess\\\":true}\", \"DataPrepJsonString\": \"{\\\\\\\"training_data\\\\\\\": \\\\\\\"{\\\\\\\\\\\\\\\"blocks\\\\\\\\\\\\\\\": [{\\\\\\\\\\\\\\\"id\\\\\\\\\\\\\\\": \\\\\\\\\\\\\\\"51c20d36-6a15-4784-ab95-381f15fc1310\\\\\\\\\\\\\\\", \\\\\\\\\\\\\\\"type\\\\\\\\\\\\\\\": \\\\\\\\\\\\\\\"Microsoft.DPrep.GetDatastoreFilesBlock\\\\\\\\\\\\\\\", \\\\\\\\\\\\\\\"arguments\\\\\\\\\\\\\\\": {\\\\\\\\\\\\\\\"datastores\\\\\\\\\\\\\\\": [{\\\\\\\\\\\\\\\"datastoreName\\\\\\\\\\\\\\\": \\\\\\\\\\\\\\\"workspaceblobstore\\\\\\\\\\\\\\\", \\\\\\\\\\\\\\\"path\\\\\\\\\\\\\\\": \\\\\\\\\\\\\\\"UI/03-04-2021_065652_UTC/heart_failure_clinical_records_dataset.csv\\\\\\\\\\\\\\\", \\\\\\\\\\\\\\\"resourceGroup\\\\\\\\\\\\\\\": \\\\\\\\\\\\\\\"aml-quickstarts-139817\\\\\\\\\\\\\\\", \\\\\\\\\\\\\\\"subscription\\\\\\\\\\\\\\\": \\\\\\\\\\\\\\\"9a7511b8-150f-4a58-8528-3e7d50216c31\\\\\\\\\\\\\\\", \\\\\\\\\\\\\\\"workspaceName\\\\\\\\\\\\\\\": \\\\\\\\\\\\\\\"quick-starts-ws-139817\\\\\\\\\\\\\\\"}]}, \\\\\\\\\\\\\\\"localData\\\\\\\\\\\\\\\": {}, \\\\\\\\\\\\\\\"isEnabled\\\\\\\\\\\\\\\": true, \\\\\\\\\\\\\\\"name\\\\\\\\\\\\\\\": null, \\\\\\\\\\\\\\\"annotation\\\\\\\\\\\\\\\": null}, {\\\\\\\\\\\\\\\"id\\\\\\\\\\\\\\\": \\\\\\\\\\\\\\\"e9db7820-74c6-4705-8ab3-9c0675a7ea46\\\\\\\\\\\\\\\", \\\\\\\\\\\\\\\"type\\\\\\\\\\\\\\\": \\\\\\\\\\\\\\\"Microsoft.DPrep.ParseDelimitedBlock\\\\\\\\\\\\\\\", \\\\\\\\\\\\\\\"arguments\\\\\\\\\\\\\\\": {\\\\\\\\\\\\\\\"columnHeadersMode\\\\\\\\\\\\\\\": 1, \\\\\\\\\\\\\\\"fileEncoding\\\\\\\\\\\\\\\": 0, \\\\\\\\\\\\\\\"handleQuotedLineBreaks\\\\\\\\\\\\\\\": false, \\\\\\\\\\\\\\\"preview\\\\\\\\\\\\\\\": false, \\\\\\\\\\\\\\\"separator\\\\\\\\\\\\\\\": \\\\\\\\\\\\\\\",\\\\\\\\\\\\\\\", \\\\\\\\\\\\\\\"skipRows\\\\\\\\\\\\\\\": 0, \\\\\\\\\\\\\\\"skipRowsMode\\\\\\\\\\\\\\\": 0}, \\\\\\\\\\\\\\\"localData\\\\\\\\\\\\\\\": {}, \\\\\\\\\\\\\\\"isEnabled\\\\\\\\\\\\\\\": true, \\\\\\\\\\\\\\\"name\\\\\\\\\\\\\\\": null, \\\\\\\\\\\\\\\"annotation\\\\\\\\\\\\\\\": null}, {\\\\\\\\\\\\\\\"id\\\\\\\\\\\\\\\": \\\\\\\\\\\\\\\"4450bc8c-a28f-412d-abab-0e03999efad9\\\\\\\\\\\\\\\", \\\\\\\\\\\\\\\"type\\\\\\\\\\\\\\\": \\\\\\\\\\\\\\\"Microsoft.DPrep.DropColumnsBlock\\\\\\\\\\\\\\\", \\\\\\\\\\\\\\\"arguments\\\\\\\\\\\\\\\": {\\\\\\\\\\\\\\\"columns\\\\\\\\\\\\\\\": {\\\\\\\\\\\\\\\"type\\\\\\\\\\\\\\\": 0, \\\\\\\\\\\\\\\"details\\\\\\\\\\\\\\\": {\\\\\\\\\\\\\\\"selectedColumns\\\\\\\\\\\\\\\": [\\\\\\\\\\\\\\\"Path\\\\\\\\\\\\\\\"]}}}, \\\\\\\\\\\\\\\"localData\\\\\\\\\\\\\\\": {}, \\\\\\\\\\\\\\\"isEnabled\\\\\\\\\\\\\\\": true, \\\\\\\\\\\\\\\"name\\\\\\\\\\\\\\\": null, \\\\\\\\\\\\\\\"annotation\\\\\\\\\\\\\\\": null}, {\\\\\\\\\\\\\\\"id\\\\\\\\\\\\\\\": \\\\\\\\\\\\\\\"4b46c21e-776c-4a2c-82af-93cf8662be09\\\\\\\\\\\\\\\", \\\\\\\\\\\\\\\"type\\\\\\\\\\\\\\\": \\\\\\\\\\\\\\\"Microsoft.DPrep.SetColumnTypesBlock\\\\\\\\\\\\\\\", \\\\\\\\\\\\\\\"arguments\\\\\\\\\\\\\\\": {\\\\\\\\\\\\\\\"columnConversion\\\\\\\\\\\\\\\": [{\\\\\\\\\\\\\\\"column\\\\\\\\\\\\\\\": {\\\\\\\\\\\\\\\"type\\\\\\\\\\\\\\\": 2, \\\\\\\\\\\\\\\"details\\\\\\\\\\\\\\\": {\\\\\\\\\\\\\\\"selectedColumn\\\\\\\\\\\\\\\": \\\\\\\\\\\\\\\"Path\\\\\\\\\\\\\\\"}}, \\\\\\\\\\\\\\\"typeProperty\\\\\\\\\\\\\\\": 0}, {\\\\\\\\\\\\\\\"column\\\\\\\\\\\\\\\": {\\\\\\\\\\\\\\\"type\\\\\\\\\\\\\\\": 2, \\\\\\\\\\\\\\\"details\\\\\\\\\\\\\\\": {\\\\\\\\\\\\\\\"selectedColumn\\\\\\\\\\\\\\\": \\\\\\\\\\\\\\\"age\\\\\\\\\\\\\\\"}}, \\\\\\\\\\\\\\\"typeProperty\\\\\\\\\\\\\\\": 3}, {\\\\\\\\\\\\\\\"column\\\\\\\\\\\\\\\": {\\\\\\\\\\\\\\\"type\\\\\\\\\\\\\\\": 2, \\\\\\\\\\\\\\\"details\\\\\\\\\\\\\\\": {\\\\\\\\\\\\\\\"selectedColumn\\\\\\\\\\\\\\\": \\\\\\\\\\\\\\\"anaemia\\\\\\\\\\\\\\\"}}, \\\\\\\\\\\\\\\"typeProperty\\\\\\\\\\\\\\\": 2}, {\\\\\\\\\\\\\\\"column\\\\\\\\\\\\\\\": {\\\\\\\\\\\\\\\"type\\\\\\\\\\\\\\\": 2, \\\\\\\\\\\\\\\"details\\\\\\\\\\\\\\\": {\\\\\\\\\\\\\\\"selectedColumn\\\\\\\\\\\\\\\": \\\\\\\\\\\\\\\"creatinine_phosphokinase\\\\\\\\\\\\\\\"}}, \\\\\\\\\\\\\\\"typeProperty\\\\\\\\\\\\\\\": 2}, {\\\\\\\\\\\\\\\"column\\\\\\\\\\\\\\\": {\\\\\\\\\\\\\\\"type\\\\\\\\\\\\\\\": 2, \\\\\\\\\\\\\\\"details\\\\\\\\\\\\\\\": {\\\\\\\\\\\\\\\"selectedColumn\\\\\\\\\\\\\\\": \\\\\\\\\\\\\\\"diabetes\\\\\\\\\\\\\\\"}}, \\\\\\\\\\\\\\\"typeProperty\\\\\\\\\\\\\\\": 2}, {\\\\\\\\\\\\\\\"column\\\\\\\\\\\\\\\": {\\\\\\\\\\\\\\\"type\\\\\\\\\\\\\\\": 2, \\\\\\\\\\\\\\\"details\\\\\\\\\\\\\\\": {\\\\\\\\\\\\\\\"selectedColumn\\\\\\\\\\\\\\\": \\\\\\\\\\\\\\\"ejection_fraction\\\\\\\\\\\\\\\"}}, \\\\\\\\\\\\\\\"typeProperty\\\\\\\\\\\\\\\": 2}, {\\\\\\\\\\\\\\\"column\\\\\\\\\\\\\\\": {\\\\\\\\\\\\\\\"type\\\\\\\\\\\\\\\": 2, \\\\\\\\\\\\\\\"details\\\\\\\\\\\\\\\": {\\\\\\\\\\\\\\\"selectedColumn\\\\\\\\\\\\\\\": \\\\\\\\\\\\\\\"high_blood_pressure\\\\\\\\\\\\\\\"}}, \\\\\\\\\\\\\\\"typeProperty\\\\\\\\\\\\\\\": 2}, {\\\\\\\\\\\\\\\"column\\\\\\\\\\\\\\\": {\\\\\\\\\\\\\\\"type\\\\\\\\\\\\\\\": 2, \\\\\\\\\\\\\\\"details\\\\\\\\\\\\\\\": {\\\\\\\\\\\\\\\"selectedColumn\\\\\\\\\\\\\\\": \\\\\\\\\\\\\\\"platelets\\\\\\\\\\\\\\\"}}, \\\\\\\\\\\\\\\"typeProperty\\\\\\\\\\\\\\\": 3}, {\\\\\\\\\\\\\\\"column\\\\\\\\\\\\\\\": {\\\\\\\\\\\\\\\"type\\\\\\\\\\\\\\\": 2, \\\\\\\\\\\\\\\"details\\\\\\\\\\\\\\\": {\\\\\\\\\\\\\\\"selectedColumn\\\\\\\\\\\\\\\": \\\\\\\\\\\\\\\"serum_creatinine\\\\\\\\\\\\\\\"}}, \\\\\\\\\\\\\\\"typeProperty\\\\\\\\\\\\\\\": 3}, {\\\\\\\\\\\\\\\"column\\\\\\\\\\\\\\\": {\\\\\\\\\\\\\\\"type\\\\\\\\\\\\\\\": 2, \\\\\\\\\\\\\\\"details\\\\\\\\\\\\\\\": {\\\\\\\\\\\\\\\"selectedColumn\\\\\\\\\\\\\\\": \\\\\\\\\\\\\\\"serum_sodium\\\\\\\\\\\\\\\"}}, \\\\\\\\\\\\\\\"typeProperty\\\\\\\\\\\\\\\": 2}, {\\\\\\\\\\\\\\\"column\\\\\\\\\\\\\\\": {\\\\\\\\\\\\\\\"type\\\\\\\\\\\\\\\": 2, \\\\\\\\\\\\\\\"details\\\\\\\\\\\\\\\": {\\\\\\\\\\\\\\\"selectedColumn\\\\\\\\\\\\\\\": \\\\\\\\\\\\\\\"sex\\\\\\\\\\\\\\\"}}, \\\\\\\\\\\\\\\"typeProperty\\\\\\\\\\\\\\\": 2}, {\\\\\\\\\\\\\\\"column\\\\\\\\\\\\\\\": {\\\\\\\\\\\\\\\"type\\\\\\\\\\\\\\\": 2, \\\\\\\\\\\\\\\"details\\\\\\\\\\\\\\\": {\\\\\\\\\\\\\\\"selectedColumn\\\\\\\\\\\\\\\": \\\\\\\\\\\\\\\"smoking\\\\\\\\\\\\\\\"}}, \\\\\\\\\\\\\\\"typeProperty\\\\\\\\\\\\\\\": 2}, {\\\\\\\\\\\\\\\"column\\\\\\\\\\\\\\\": {\\\\\\\\\\\\\\\"type\\\\\\\\\\\\\\\": 2, \\\\\\\\\\\\\\\"details\\\\\\\\\\\\\\\": {\\\\\\\\\\\\\\\"selectedColumn\\\\\\\\\\\\\\\": \\\\\\\\\\\\\\\"time\\\\\\\\\\\\\\\"}}, \\\\\\\\\\\\\\\"typeProperty\\\\\\\\\\\\\\\": 2}, {\\\\\\\\\\\\\\\"column\\\\\\\\\\\\\\\": {\\\\\\\\\\\\\\\"type\\\\\\\\\\\\\\\": 2, \\\\\\\\\\\\\\\"details\\\\\\\\\\\\\\\": {\\\\\\\\\\\\\\\"selectedColumn\\\\\\\\\\\\\\\": \\\\\\\\\\\\\\\"DEATH_EVENT\\\\\\\\\\\\\\\"}}, \\\\\\\\\\\\\\\"typeProperty\\\\\\\\\\\\\\\": 2}]}, \\\\\\\\\\\\\\\"localData\\\\\\\\\\\\\\\": {}, \\\\\\\\\\\\\\\"isEnabled\\\\\\\\\\\\\\\": true, \\\\\\\\\\\\\\\"name\\\\\\\\\\\\\\\": null, \\\\\\\\\\\\\\\"annotation\\\\\\\\\\\\\\\": null}], \\\\\\\\\\\\\\\"inspectors\\\\\\\\\\\\\\\": [], \\\\\\\\\\\\\\\"meta\\\\\\\\\\\\\\\": {\\\\\\\\\\\\\\\"savedDatasetId\\\\\\\\\\\\\\\": \\\\\\\\\\\\\\\"2a260d36-bcc8-4268-ac60-7f7cb5faa0c0\\\\\\\\\\\\\\\", \\\\\\\\\\\\\\\"datasetType\\\\\\\\\\\\\\\": \\\\\\\\\\\\\\\"tabular\\\\\\\\\\\\\\\", \\\\\\\\\\\\\\\"subscriptionId\\\\\\\\\\\\\\\": \\\\\\\\\\\\\\\"9a7511b8-150f-4a58-8528-3e7d50216c31\\\\\\\\\\\\\\\", \\\\\\\\\\\\\\\"workspaceId\\\\\\\\\\\\\\\": \\\\\\\\\\\\\\\"837ec3ad-c694-4343-abc7-9d98d0ef4cd6\\\\\\\\\\\\\\\", \\\\\\\\\\\\\\\"workspaceLocation\\\\\\\\\\\\\\\": \\\\\\\\\\\\\\\"southcentralus\\\\\\\\\\\\\\\"}}\\\\\\\", \\\\\\\"activities\\\\\\\": 0}\", \"EnableSubsampling\": null, \"runTemplate\": \"AutoML\", \"azureml.runsource\": \"automl\", \"display_task_type\": \"classification\", \"dependencies_versions\": \"{\\\"azureml-widgets\\\": \\\"1.22.0\\\", \\\"azureml-train\\\": \\\"1.22.0\\\", \\\"azureml-train-restclients-hyperdrive\\\": \\\"1.22.0\\\", \\\"azureml-train-core\\\": \\\"1.22.0\\\", \\\"azureml-train-automl\\\": \\\"1.22.0\\\", \\\"azureml-train-automl-runtime\\\": \\\"1.22.0\\\", \\\"azureml-train-automl-client\\\": \\\"1.22.0\\\", \\\"azureml-tensorboard\\\": \\\"1.22.0\\\", \\\"azureml-telemetry\\\": \\\"1.22.0\\\", \\\"azureml-sdk\\\": \\\"1.22.0\\\", \\\"azureml-samples\\\": \\\"0+unknown\\\", \\\"azureml-pipeline\\\": \\\"1.22.0\\\", \\\"azureml-pipeline-steps\\\": \\\"1.22.0\\\", \\\"azureml-pipeline-core\\\": \\\"1.22.0\\\", \\\"azureml-opendatasets\\\": \\\"1.22.0\\\", \\\"azureml-model-management-sdk\\\": \\\"1.0.1b6.post1\\\", \\\"azureml-mlflow\\\": \\\"1.22.0\\\", \\\"azureml-interpret\\\": \\\"1.22.0\\\", \\\"azureml-explain-model\\\": \\\"1.22.0\\\", \\\"azureml-defaults\\\": \\\"1.22.0\\\", \\\"azureml-dataset-runtime\\\": \\\"1.22.0\\\", \\\"azureml-dataprep\\\": \\\"2.9.1\\\", \\\"azureml-dataprep-rslex\\\": \\\"1.7.0\\\", \\\"azureml-dataprep-native\\\": \\\"29.0.0\\\", \\\"azureml-datadrift\\\": \\\"1.22.0\\\", \\\"azureml-core\\\": \\\"1.22.0\\\", \\\"azureml-contrib-services\\\": \\\"1.22.0\\\", \\\"azureml-contrib-server\\\": \\\"1.22.0\\\", \\\"azureml-contrib-reinforcementlearning\\\": \\\"1.22.0\\\", \\\"azureml-contrib-pipeline-steps\\\": \\\"1.22.0\\\", \\\"azureml-contrib-notebook\\\": \\\"1.22.0\\\", \\\"azureml-contrib-interpret\\\": \\\"1.22.0\\\", \\\"azureml-contrib-gbdt\\\": \\\"1.22.0\\\", \\\"azureml-contrib-fairness\\\": \\\"1.22.0\\\", \\\"azureml-contrib-dataset\\\": \\\"1.22.0\\\", \\\"azureml-cli-common\\\": \\\"1.22.0\\\", \\\"azureml-automl-runtime\\\": \\\"1.22.0\\\", \\\"azureml-automl-core\\\": \\\"1.22.0\\\", \\\"azureml-accel-models\\\": \\\"1.22.0\\\"}\", \"_aml_system_scenario_identification\": \"Remote.Parent\", \"ClientType\": \"SDK\", \"environment_cpu_name\": \"AzureML-AutoML\", \"environment_cpu_label\": \"prod\", \"environment_gpu_name\": \"AzureML-AutoML-GPU\", \"environment_gpu_label\": \"prod\", \"root_attribution\": \"automl\", \"attribution\": \"AutoML\", \"Orchestrator\": \"AutoML\", \"CancelUri\": \"https://southcentralus.experiments.azureml.net/jasmine/v1.0/subscriptions/9a7511b8-150f-4a58-8528-3e7d50216c31/resourceGroups/aml-quickstarts-139817/providers/Microsoft.MachineLearningServices/workspaces/quick-starts-ws-139817/experimentids/95e072ac-a24d-4de2-ad10-29df622ac140/cancel/AutoML_5a6ae0d4-dc22-4937-8491-91faaeb4af56\", \"ClientSdkVersion\": \"1.23.0\", \"snapshotId\": \"00000000-0000-0000-0000-000000000000\", \"SetupRunId\": \"AutoML_5a6ae0d4-dc22-4937-8491-91faaeb4af56_setup\", \"SetupRunContainerId\": \"dcid.AutoML_5a6ae0d4-dc22-4937-8491-91faaeb4af56_setup\", \"FeaturizationRunJsonPath\": \"featurizer_container.json\", \"FeaturizationRunId\": \"AutoML_5a6ae0d4-dc22-4937-8491-91faaeb4af56_featurize\", \"ProblemInfoJsonString\": \"{\\\"dataset_num_categorical\\\": 0, \\\"is_sparse\\\": false, \\\"subsampling\\\": false, \\\"dataset_classes\\\": 2, \\\"dataset_features\\\": 12, \\\"dataset_samples\\\": 299, \\\"single_frequency_class_detected\\\": false}\", \"ModelExplainRunId\": \"AutoML_5a6ae0d4-dc22-4937-8491-91faaeb4af56_ModelExplain\"}, \"tags\": {\"model_explain_run\": \"best_run\", \"_aml_system_azureml.automlComponent\": \"AutoML\", \"pipeline_id\": \"\", \"score\": \"\", \"predicted_cost\": \"\", \"fit_time\": \"\", \"training_percent\": \"\", \"iteration\": \"\", \"run_preprocessor\": \"\", \"run_algorithm\": \"\", \"dynamic_whitelisting_iterations\": \"<25>;<30>;<35>;<40>;\", \"automl_best_child_run_id\": \"AutoML_5a6ae0d4-dc22-4937-8491-91faaeb4af56_45\", \"model_explain_best_run_child_id\": \"AutoML_5a6ae0d4-dc22-4937-8491-91faaeb4af56_45\"}, \"end_time_utc\": \"2021-03-04T19:29:25.904231Z\", \"status\": \"Completed\", \"log_files\": {}, \"log_groups\": [], \"run_duration\": \"0:19:25\", \"run_number\": \"2\", \"run_queued_details\": {\"status\": \"Completed\", \"details\": null}}, \"child_runs\": [{\"run_id\": \"AutoML_5a6ae0d4-dc22-4937-8491-91faaeb4af56_0\", \"run_number\": 6, \"metric\": null, \"status\": \"Completed\", \"run_type\": \"azureml.scriptrun\", \"training_percent\": \"100\", \"start_time\": \"2021-03-04T19:16:43.057362Z\", \"end_time\": \"2021-03-04T19:18:42.123649Z\", \"created_time\": \"2021-03-04T19:13:58.866881Z\", \"created_time_dt\": \"2021-03-04T19:13:58.866881Z\", \"duration\": \"0:04:43\", \"iteration\": \"0\", \"goal\": \"accuracy_max\", \"run_name\": \"MaxAbsScaler, LightGBM\", \"run_properties\": \"copy=True\", \"primary_metric\": 0.81270694, \"best_metric\": 0.81270694}, {\"run_id\": \"AutoML_5a6ae0d4-dc22-4937-8491-91faaeb4af56_2\", \"run_number\": 7, \"metric\": null, \"status\": \"Completed\", \"run_type\": \"azureml.scriptrun\", \"training_percent\": \"100\", \"start_time\": \"2021-03-04T19:14:57.242738Z\", \"end_time\": \"2021-03-04T19:15:54.150908Z\", \"created_time\": \"2021-03-04T19:13:58.901127Z\", \"created_time_dt\": \"2021-03-04T19:13:58.901127Z\", \"duration\": \"0:01:55\", \"iteration\": \"2\", \"goal\": \"accuracy_max\", \"run_name\": \"MinMaxScaler, RandomForest\", \"run_properties\": \"copy=True, feature_range=(0, 1\", \"primary_metric\": 0.81950783, \"best_metric\": 0.84612975}, {\"run_id\": \"AutoML_5a6ae0d4-dc22-4937-8491-91faaeb4af56_3\", \"run_number\": 8, \"metric\": null, \"status\": \"Completed\", \"run_type\": \"azureml.scriptrun\", \"training_percent\": \"100\", \"start_time\": \"2021-03-04T19:16:03.476698Z\", \"end_time\": \"2021-03-04T19:16:50.694441Z\", \"created_time\": \"2021-03-04T19:13:58.906313Z\", \"created_time_dt\": \"2021-03-04T19:13:58.906313Z\", \"duration\": \"0:02:51\", \"iteration\": \"3\", \"goal\": \"accuracy_max\", \"run_name\": \"MinMaxScaler, RandomForest\", \"run_properties\": \"copy=True, feature_range=(0, 1\", \"primary_metric\": 0.85281879, \"best_metric\": 0.85281879}, {\"run_id\": \"AutoML_5a6ae0d4-dc22-4937-8491-91faaeb4af56_1\", \"run_number\": 9, \"metric\": null, \"status\": \"Completed\", \"run_type\": \"azureml.scriptrun\", \"training_percent\": \"100\", \"start_time\": \"2021-03-04T19:14:11.135024Z\", \"end_time\": \"2021-03-04T19:14:53.933718Z\", \"created_time\": \"2021-03-04T19:13:58.927956Z\", \"created_time_dt\": \"2021-03-04T19:13:58.927956Z\", \"duration\": \"0:00:55\", \"iteration\": \"1\", \"goal\": \"accuracy_max\", \"run_name\": \"MinMaxScaler, RandomForest\", \"run_properties\": \"copy=True, feature_range=(0, 1\", \"primary_metric\": 0.84612975, \"best_metric\": 0.84612975}, {\"run_id\": \"AutoML_5a6ae0d4-dc22-4937-8491-91faaeb4af56_4\", \"run_number\": 10, \"metric\": null, \"status\": \"Completed\", \"run_type\": \"azureml.scriptrun\", \"training_percent\": \"100\", \"start_time\": \"2021-03-04T19:16:44.697615Z\", \"end_time\": \"2021-03-04T19:18:42.346709Z\", \"created_time\": \"2021-03-04T19:14:56.597288Z\", \"created_time_dt\": \"2021-03-04T19:14:56.597288Z\", \"duration\": \"0:03:45\", \"iteration\": \"4\", \"goal\": \"accuracy_max\", \"run_name\": \"MinMaxScaler, RandomForest\", \"run_properties\": \"copy=True, feature_range=(0, 1\", \"primary_metric\": 0.8158613, \"best_metric\": 0.85281879}, {\"run_id\": \"AutoML_5a6ae0d4-dc22-4937-8491-91faaeb4af56_5\", \"run_number\": 11, \"metric\": null, \"status\": \"Completed\", \"run_type\": \"azureml.scriptrun\", \"training_percent\": \"100\", \"start_time\": \"2021-03-04T19:16:43.024238Z\", \"end_time\": \"2021-03-04T19:18:47.134653Z\", \"created_time\": \"2021-03-04T19:15:56.445847Z\", \"created_time_dt\": \"2021-03-04T19:15:56.445847Z\", \"duration\": \"0:02:50\", \"iteration\": \"5\", \"goal\": \"accuracy_max\", \"run_name\": \"MinMaxScaler, SVM\", \"run_properties\": \"copy=True, feature_range=(0, 1\", \"primary_metric\": 0.69892617, \"best_metric\": 0.85281879}, {\"run_id\": \"AutoML_5a6ae0d4-dc22-4937-8491-91faaeb4af56_6\", \"run_number\": 12, \"metric\": null, \"status\": \"Completed\", \"run_type\": \"azureml.scriptrun\", \"training_percent\": \"100\", \"start_time\": \"2021-03-04T19:17:02.546345Z\", \"end_time\": \"2021-03-04T19:17:49.342328Z\", \"created_time\": \"2021-03-04T19:16:53.847214Z\", \"created_time_dt\": \"2021-03-04T19:16:53.847214Z\", \"duration\": \"0:00:55\", \"iteration\": \"6\", \"goal\": \"accuracy_max\", \"run_name\": \"MinMaxScaler, SVM\", \"run_properties\": \"copy=True, feature_range=(0, 1\", \"primary_metric\": 0.68223714, \"best_metric\": 0.85281879}, {\"run_id\": \"AutoML_5a6ae0d4-dc22-4937-8491-91faaeb4af56_7\", \"run_number\": 13, \"metric\": null, \"status\": \"Completed\", \"run_type\": \"azureml.scriptrun\", \"training_percent\": \"100\", \"start_time\": \"2021-03-04T19:18:02.7107Z\", \"end_time\": \"2021-03-04T19:18:50.94224Z\", \"created_time\": \"2021-03-04T19:17:51.225098Z\", \"created_time_dt\": \"2021-03-04T19:17:51.225098Z\", \"duration\": \"0:00:59\", \"iteration\": \"7\", \"goal\": \"accuracy_max\", \"run_name\": \"MaxAbsScaler, RandomForest\", \"run_properties\": \"copy=True\", \"primary_metric\": 0.76261745, \"best_metric\": 0.85281879}, {\"run_id\": \"AutoML_5a6ae0d4-dc22-4937-8491-91faaeb4af56_8\", \"run_number\": 14, \"metric\": null, \"status\": \"Completed\", \"run_type\": \"azureml.scriptrun\", \"training_percent\": \"100\", \"start_time\": \"2021-03-04T19:18:55.87597Z\", \"end_time\": \"2021-03-04T19:19:41.473982Z\", \"created_time\": \"2021-03-04T19:18:44.330992Z\", \"created_time_dt\": \"2021-03-04T19:18:44.330992Z\", \"duration\": \"0:00:57\", \"iteration\": \"8\", \"goal\": \"accuracy_max\", \"run_name\": \"MaxAbsScaler, RandomForest\", \"run_properties\": \"copy=True\", \"primary_metric\": 0.83612975, \"best_metric\": 0.85281879}, {\"run_id\": \"AutoML_5a6ae0d4-dc22-4937-8491-91faaeb4af56_9\", \"run_number\": 15, \"metric\": null, \"status\": \"Completed\", \"run_type\": \"azureml.scriptrun\", \"training_percent\": \"100\", \"start_time\": \"2021-03-04T19:18:54.276676Z\", \"end_time\": \"2021-03-04T19:19:45.509533Z\", \"created_time\": \"2021-03-04T19:18:44.421489Z\", \"created_time_dt\": \"2021-03-04T19:18:44.421489Z\", \"duration\": \"0:01:01\", \"iteration\": \"9\", \"goal\": \"accuracy_max\", \"run_name\": \"StandardScalerWrapper, GradientBoosting\", \"run_properties\": \"<azureml.automl.runtime.shared.model_wrappers.StandardScalerWrapper object at 0x7fd56e2c05f8\", \"primary_metric\": 0.83948546, \"best_metric\": 0.85281879}, {\"run_id\": \"AutoML_5a6ae0d4-dc22-4937-8491-91faaeb4af56_10\", \"run_number\": 16, \"metric\": null, \"status\": \"Completed\", \"run_type\": \"azureml.scriptrun\", \"training_percent\": \"100\", \"start_time\": \"2021-03-04T19:18:58.900165Z\", \"end_time\": \"2021-03-04T19:19:47.714649Z\", \"created_time\": \"2021-03-04T19:18:48.861855Z\", \"created_time_dt\": \"2021-03-04T19:18:48.861855Z\", \"duration\": \"0:00:58\", \"iteration\": \"10\", \"goal\": \"accuracy_max\", \"run_name\": \"MaxAbsScaler, GradientBoosting\", \"run_properties\": \"copy=True\", \"primary_metric\": 0.83610738, \"best_metric\": 0.85281879}, {\"run_id\": \"AutoML_5a6ae0d4-dc22-4937-8491-91faaeb4af56_11\", \"run_number\": 17, \"metric\": null, \"status\": \"Completed\", \"run_type\": \"azureml.scriptrun\", \"training_percent\": \"100\", \"start_time\": \"2021-03-04T19:19:05.794967Z\", \"end_time\": \"2021-03-04T19:19:56.278834Z\", \"created_time\": \"2021-03-04T19:18:52.789879Z\", \"created_time_dt\": \"2021-03-04T19:18:52.789879Z\", \"duration\": \"0:01:03\", \"iteration\": \"11\", \"goal\": \"accuracy_max\", \"run_name\": \"StandardScalerWrapper, LightGBM\", \"run_properties\": \"<azureml.automl.runtime.shared.model_wrappers.StandardScalerWrapper object at 0x7f25c0a338d0\", \"primary_metric\": 0.82606264, \"best_metric\": 0.85281879}, {\"run_id\": \"AutoML_5a6ae0d4-dc22-4937-8491-91faaeb4af56_12\", \"run_number\": 18, \"metric\": null, \"status\": \"Completed\", \"run_type\": \"azureml.scriptrun\", \"training_percent\": \"100\", \"start_time\": \"2021-03-04T19:19:54.817614Z\", \"end_time\": \"2021-03-04T19:20:48.482578Z\", \"created_time\": \"2021-03-04T19:19:43.10016Z\", \"created_time_dt\": \"2021-03-04T19:19:43.10016Z\", \"duration\": \"0:01:05\", \"iteration\": \"12\", \"goal\": \"accuracy_max\", \"run_name\": \"MaxAbsScaler, ExtremeRandomTrees\", \"run_properties\": \"copy=True\", \"primary_metric\": 0.79275168, \"best_metric\": 0.85281879}, {\"run_id\": \"AutoML_5a6ae0d4-dc22-4937-8491-91faaeb4af56_13\", \"run_number\": 19, \"metric\": null, \"status\": \"Completed\", \"run_type\": \"azureml.scriptrun\", \"training_percent\": \"100\", \"start_time\": \"2021-03-04T19:19:59.409023Z\", \"end_time\": \"2021-03-04T19:20:46.568194Z\", \"created_time\": \"2021-03-04T19:19:47.161492Z\", \"created_time_dt\": \"2021-03-04T19:19:47.161492Z\", \"duration\": \"0:00:59\", \"iteration\": \"13\", \"goal\": \"accuracy_max\", \"run_name\": \"StandardScalerWrapper, LogisticRegression\", \"run_properties\": \"<azureml.automl.runtime.shared.model_wrappers.StandardScalerWrapper object at 0x7faf5b75fa58\", \"primary_metric\": 0.79257271, \"best_metric\": 0.85281879}, {\"run_id\": \"AutoML_5a6ae0d4-dc22-4937-8491-91faaeb4af56_14\", \"run_number\": 20, \"metric\": null, \"status\": \"Completed\", \"run_type\": \"azureml.scriptrun\", \"training_percent\": \"100\", \"start_time\": \"2021-03-04T19:20:01.289697Z\", \"end_time\": \"2021-03-04T19:20:38.806714Z\", \"created_time\": \"2021-03-04T19:19:50.327009Z\", \"created_time_dt\": \"2021-03-04T19:19:50.327009Z\", \"duration\": \"0:00:48\", \"iteration\": \"14\", \"goal\": \"accuracy_max\", \"run_name\": \"StandardScalerWrapper, LightGBM\", \"run_properties\": \"<azureml.automl.runtime.shared.model_wrappers.StandardScalerWrapper object at 0x7f43be96b128\", \"primary_metric\": 0.75588367, \"best_metric\": 0.85281879}, {\"run_id\": \"AutoML_5a6ae0d4-dc22-4937-8491-91faaeb4af56_15\", \"run_number\": 21, \"metric\": null, \"status\": \"Completed\", \"run_type\": \"azureml.scriptrun\", \"training_percent\": \"100\", \"start_time\": \"2021-03-04T19:20:06.021863Z\", \"end_time\": \"2021-03-04T19:20:52.87519Z\", \"created_time\": \"2021-03-04T19:19:57.854817Z\", \"created_time_dt\": \"2021-03-04T19:19:57.854817Z\", \"duration\": \"0:00:55\", \"iteration\": \"15\", \"goal\": \"accuracy_max\", \"run_name\": \"SparseNormalizer, LightGBM\", \"run_properties\": \"<azureml.automl.runtime.shared.model_wrappers.SparseNormalizer object at 0x7f64ec178908\", \"primary_metric\": 0.69230425, \"best_metric\": 0.85281879}, {\"run_id\": \"AutoML_5a6ae0d4-dc22-4937-8491-91faaeb4af56_16\", \"run_number\": 22, \"metric\": null, \"status\": \"Completed\", \"run_type\": \"azureml.scriptrun\", \"training_percent\": \"100\", \"start_time\": \"2021-03-04T19:20:52.448424Z\", \"end_time\": \"2021-03-04T19:21:37.364561Z\", \"created_time\": \"2021-03-04T19:20:42.114796Z\", \"created_time_dt\": \"2021-03-04T19:20:42.114796Z\", \"duration\": \"0:00:55\", \"iteration\": \"16\", \"goal\": \"accuracy_max\", \"run_name\": \"MaxAbsScaler, LightGBM\", \"run_properties\": \"copy=True\", \"primary_metric\": 0.8293736, \"best_metric\": 0.85281879}, {\"run_id\": \"AutoML_5a6ae0d4-dc22-4937-8491-91faaeb4af56_17\", \"run_number\": 23, \"metric\": null, \"status\": \"Completed\", \"run_type\": \"azureml.scriptrun\", \"training_percent\": \"100\", \"start_time\": \"2021-03-04T19:20:57.793162Z\", \"end_time\": \"2021-03-04T19:21:42.615999Z\", \"created_time\": \"2021-03-04T19:20:48.470208Z\", \"created_time_dt\": \"2021-03-04T19:20:48.470208Z\", \"duration\": \"0:00:54\", \"iteration\": \"17\", \"goal\": \"accuracy_max\", \"run_name\": \"StandardScalerWrapper, ExtremeRandomTrees\", \"run_properties\": \"<azureml.automl.runtime.shared.model_wrappers.StandardScalerWrapper object at 0x7f3d4956d748\", \"primary_metric\": 0.68565996, \"best_metric\": 0.85281879}, {\"run_id\": \"AutoML_5a6ae0d4-dc22-4937-8491-91faaeb4af56_18\", \"run_number\": 24, \"metric\": null, \"status\": \"Completed\", \"run_type\": \"azureml.scriptrun\", \"training_percent\": \"100\", \"start_time\": \"2021-03-04T19:21:01.64657Z\", \"end_time\": \"2021-03-04T19:21:52.459386Z\", \"created_time\": \"2021-03-04T19:20:51.491479Z\", \"created_time_dt\": \"2021-03-04T19:20:51.491479Z\", \"duration\": \"0:01:00\", \"iteration\": \"18\", \"goal\": \"accuracy_max\", \"run_name\": \"StandardScalerWrapper, LightGBM\", \"run_properties\": \"<azureml.automl.runtime.shared.model_wrappers.StandardScalerWrapper object at 0x7f436df28a20\", \"primary_metric\": 0.83946309, \"best_metric\": 0.85281879}, {\"run_id\": \"AutoML_5a6ae0d4-dc22-4937-8491-91faaeb4af56_19\", \"run_number\": 25, \"metric\": null, \"status\": \"Completed\", \"run_type\": \"azureml.scriptrun\", \"training_percent\": \"100\", \"start_time\": \"2021-03-04T19:21:04.838787Z\", \"end_time\": \"2021-03-04T19:21:49.681435Z\", \"created_time\": \"2021-03-04T19:20:54.914494Z\", \"created_time_dt\": \"2021-03-04T19:20:54.914494Z\", \"duration\": \"0:00:54\", \"iteration\": \"19\", \"goal\": \"accuracy_max\", \"run_name\": \"MinMaxScaler, LightGBM\", \"run_properties\": \"copy=True, feature_range=(0, 1\", \"primary_metric\": 0.83610738, \"best_metric\": 0.85281879}, {\"run_id\": \"AutoML_5a6ae0d4-dc22-4937-8491-91faaeb4af56_20\", \"run_number\": 26, \"metric\": null, \"status\": \"Completed\", \"run_type\": \"azureml.scriptrun\", \"training_percent\": \"100\", \"start_time\": \"2021-03-04T19:21:48.842414Z\", \"end_time\": \"2021-03-04T19:22:35.99658Z\", \"created_time\": \"2021-03-04T19:21:39.014143Z\", \"created_time_dt\": \"2021-03-04T19:21:39.014143Z\", \"duration\": \"0:00:56\", \"iteration\": \"20\", \"goal\": \"accuracy_max\", \"run_name\": \"RobustScaler, LightGBM\", \"run_properties\": \"copy=True, quantile_range=[25, 75], with_centering=False,\\n             with_scaling=True\", \"primary_metric\": 0.67894855, \"best_metric\": 0.85281879}, {\"run_id\": \"AutoML_5a6ae0d4-dc22-4937-8491-91faaeb4af56_21\", \"run_number\": 27, \"metric\": null, \"status\": \"Completed\", \"run_type\": \"azureml.scriptrun\", \"training_percent\": \"100\", \"start_time\": \"2021-03-04T19:21:59.409729Z\", \"end_time\": \"2021-03-04T19:22:48.544259Z\", \"created_time\": \"2021-03-04T19:21:46.664678Z\", \"created_time_dt\": \"2021-03-04T19:21:46.664678Z\", \"duration\": \"0:01:01\", \"iteration\": \"21\", \"goal\": \"accuracy_max\", \"run_name\": \"StandardScalerWrapper, LightGBM\", \"run_properties\": \"<azureml.automl.runtime.shared.model_wrappers.StandardScalerWrapper object at 0x7fc35e49b160\", \"primary_metric\": 0.74588367, \"best_metric\": 0.85281879}, {\"run_id\": \"AutoML_5a6ae0d4-dc22-4937-8491-91faaeb4af56_22\", \"run_number\": 28, \"metric\": null, \"status\": \"Completed\", \"run_type\": \"azureml.scriptrun\", \"training_percent\": \"100\", \"start_time\": \"2021-03-04T19:22:00.461447Z\", \"end_time\": \"2021-03-04T19:22:44.166258Z\", \"created_time\": \"2021-03-04T19:21:52.319411Z\", \"created_time_dt\": \"2021-03-04T19:21:52.319411Z\", \"duration\": \"0:00:51\", \"iteration\": \"22\", \"goal\": \"accuracy_max\", \"run_name\": \"StandardScalerWrapper, LightGBM\", \"run_properties\": \"<azureml.automl.runtime.shared.model_wrappers.StandardScalerWrapper object at 0x7fc2dbb63be0\", \"primary_metric\": 0.82606264, \"best_metric\": 0.85281879}, {\"run_id\": \"AutoML_5a6ae0d4-dc22-4937-8491-91faaeb4af56_23\", \"run_number\": 29, \"metric\": null, \"status\": \"Completed\", \"run_type\": \"azureml.scriptrun\", \"training_percent\": \"100\", \"start_time\": \"2021-03-04T19:22:06.613551Z\", \"end_time\": \"2021-03-04T19:22:51.304362Z\", \"created_time\": \"2021-03-04T19:21:57.147878Z\", \"created_time_dt\": \"2021-03-04T19:21:57.147878Z\", \"duration\": \"0:00:54\", \"iteration\": \"23\", \"goal\": \"accuracy_max\", \"run_name\": \"MaxAbsScaler, LightGBM\", \"run_properties\": \"copy=True\", \"primary_metric\": 0.70903803, \"best_metric\": 0.85281879}, {\"run_id\": \"AutoML_5a6ae0d4-dc22-4937-8491-91faaeb4af56_24\", \"run_number\": 30, \"metric\": null, \"status\": \"Completed\", \"run_type\": \"azureml.scriptrun\", \"training_percent\": \"100\", \"start_time\": \"2021-03-04T19:22:48.208989Z\", \"end_time\": \"2021-03-04T19:23:38.63841Z\", \"created_time\": \"2021-03-04T19:22:38.294387Z\", \"created_time_dt\": \"2021-03-04T19:22:38.294387Z\", \"duration\": \"0:01:00\", \"iteration\": \"24\", \"goal\": \"accuracy_max\", \"run_name\": \"MaxAbsScaler, LightGBM\", \"run_properties\": \"copy=True\", \"primary_metric\": 0.729217, \"best_metric\": 0.85281879}, {\"run_id\": \"AutoML_5a6ae0d4-dc22-4937-8491-91faaeb4af56_25\", \"run_number\": 31, \"metric\": null, \"status\": \"Completed\", \"run_type\": \"azureml.scriptrun\", \"training_percent\": \"100\", \"start_time\": \"2021-03-04T19:22:55.01069Z\", \"end_time\": \"2021-03-04T19:23:46.057233Z\", \"created_time\": \"2021-03-04T19:22:46.827058Z\", \"created_time_dt\": \"2021-03-04T19:22:46.827058Z\", \"duration\": \"0:00:59\", \"iteration\": \"25\", \"goal\": \"accuracy_max\", \"run_name\": \"StandardScalerWrapper, RandomForest\", \"run_properties\": \"<azureml.automl.runtime.shared.model_wrappers.StandardScalerWrapper object at 0x7fc438fb9cf8\", \"primary_metric\": 0.67894855, \"best_metric\": 0.85281879}, {\"run_id\": \"AutoML_5a6ae0d4-dc22-4937-8491-91faaeb4af56_26\", \"run_number\": 32, \"metric\": null, \"status\": \"Completed\", \"run_type\": \"azureml.scriptrun\", \"training_percent\": \"100\", \"start_time\": \"2021-03-04T19:23:00.273734Z\", \"end_time\": \"2021-03-04T19:23:48.616863Z\", \"created_time\": \"2021-03-04T19:22:50.176151Z\", \"created_time_dt\": \"2021-03-04T19:22:50.176151Z\", \"duration\": \"0:00:58\", \"iteration\": \"26\", \"goal\": \"accuracy_max\", \"run_name\": \"RobustScaler, LightGBM\", \"run_properties\": \"copy=True, quantile_range=[25, 75], with_centering=False,\\n             with_scaling=False\", \"primary_metric\": 0.8461745, \"best_metric\": 0.85281879}, {\"run_id\": \"AutoML_5a6ae0d4-dc22-4937-8491-91faaeb4af56_27\", \"run_number\": 33, \"metric\": null, \"status\": \"Completed\", \"run_type\": \"azureml.scriptrun\", \"training_percent\": \"100\", \"start_time\": \"2021-03-04T19:23:02.964799Z\", \"end_time\": \"2021-03-04T19:24:05.156015Z\", \"created_time\": \"2021-03-04T19:22:53.734455Z\", \"created_time_dt\": \"2021-03-04T19:22:53.734455Z\", \"duration\": \"0:01:11\", \"iteration\": \"27\", \"goal\": \"accuracy_max\", \"run_name\": \"StandardScalerWrapper, RandomForest\", \"run_properties\": \"<azureml.automl.runtime.shared.model_wrappers.StandardScalerWrapper object at 0x7f36899e7588\", \"primary_metric\": 0.83944072, \"best_metric\": 0.85281879}, {\"run_id\": \"AutoML_5a6ae0d4-dc22-4937-8491-91faaeb4af56_28\", \"run_number\": 34, \"metric\": null, \"status\": \"Completed\", \"run_type\": \"azureml.scriptrun\", \"training_percent\": \"100\", \"start_time\": \"2021-03-04T19:23:50.430351Z\", \"end_time\": \"2021-03-04T19:24:34.389922Z\", \"created_time\": \"2021-03-04T19:23:40.551178Z\", \"created_time_dt\": \"2021-03-04T19:23:40.551178Z\", \"duration\": \"0:00:53\", \"iteration\": \"28\", \"goal\": \"accuracy_max\", \"run_name\": \"StandardScalerWrapper, RandomForest\", \"run_properties\": \"<azureml.automl.runtime.shared.model_wrappers.StandardScalerWrapper object at 0x7f9fd72b0cc0\", \"primary_metric\": 0.85284116, \"best_metric\": 0.85284116}, {\"run_id\": \"AutoML_5a6ae0d4-dc22-4937-8491-91faaeb4af56_29\", \"run_number\": 35, \"metric\": null, \"status\": \"Completed\", \"run_type\": \"azureml.scriptrun\", \"training_percent\": \"100\", \"start_time\": \"2021-03-04T19:23:58.267282Z\", \"end_time\": \"2021-03-04T19:24:51.670201Z\", \"created_time\": \"2021-03-04T19:23:47.958288Z\", \"created_time_dt\": \"2021-03-04T19:23:47.958288Z\", \"duration\": \"0:01:03\", \"iteration\": \"29\", \"goal\": \"accuracy_max\", \"run_name\": \"StandardScalerWrapper, RandomForest\", \"run_properties\": \"<azureml.automl.runtime.shared.model_wrappers.StandardScalerWrapper object at 0x7f5f239ceeb8\", \"primary_metric\": 0.8293736, \"best_metric\": 0.85284116}, {\"run_id\": \"AutoML_5a6ae0d4-dc22-4937-8491-91faaeb4af56_30\", \"run_number\": 36, \"metric\": null, \"status\": \"Completed\", \"run_type\": \"azureml.scriptrun\", \"training_percent\": \"100\", \"start_time\": \"2021-03-04T19:24:04.246656Z\", \"end_time\": \"2021-03-04T19:24:48.593933Z\", \"created_time\": \"2021-03-04T19:23:54.495949Z\", \"created_time_dt\": \"2021-03-04T19:23:54.495949Z\", \"duration\": \"0:00:54\", \"iteration\": \"30\", \"goal\": \"accuracy_max\", \"run_name\": \"MaxAbsScaler, RandomForest\", \"run_properties\": \"copy=True\", \"primary_metric\": 0.83277405, \"best_metric\": 0.85284116}, {\"run_id\": \"AutoML_5a6ae0d4-dc22-4937-8491-91faaeb4af56_31\", \"run_number\": 37, \"metric\": null, \"status\": \"Completed\", \"run_type\": \"azureml.scriptrun\", \"training_percent\": \"100\", \"start_time\": \"2021-03-04T19:24:18.417476Z\", \"end_time\": \"2021-03-04T19:25:03.476767Z\", \"created_time\": \"2021-03-04T19:24:07.190044Z\", \"created_time_dt\": \"2021-03-04T19:24:07.190044Z\", \"duration\": \"0:00:56\", \"iteration\": \"31\", \"goal\": \"accuracy_max\", \"run_name\": \"StandardScalerWrapper, RandomForest\", \"run_properties\": \"<azureml.automl.runtime.shared.model_wrappers.StandardScalerWrapper object at 0x7fe3204c22b0\", \"primary_metric\": 0.83948546, \"best_metric\": 0.85284116}, {\"run_id\": \"AutoML_5a6ae0d4-dc22-4937-8491-91faaeb4af56_32\", \"run_number\": 38, \"metric\": null, \"status\": \"Completed\", \"run_type\": \"azureml.scriptrun\", \"training_percent\": \"100\", \"start_time\": \"2021-03-04T19:24:45.612772Z\", \"end_time\": \"2021-03-04T19:25:28.085986Z\", \"created_time\": \"2021-03-04T19:24:36.437247Z\", \"created_time_dt\": \"2021-03-04T19:24:36.437247Z\", \"duration\": \"0:00:51\", \"iteration\": \"32\", \"goal\": \"accuracy_max\", \"run_name\": \"SparseNormalizer, LightGBM\", \"run_properties\": \"<azureml.automl.runtime.shared.model_wrappers.SparseNormalizer object at 0x7f0367750710\", \"primary_metric\": 0.8093736, \"best_metric\": 0.85284116}, {\"run_id\": \"AutoML_5a6ae0d4-dc22-4937-8491-91faaeb4af56_33\", \"run_number\": 39, \"metric\": null, \"status\": \"Completed\", \"run_type\": \"azureml.scriptrun\", \"training_percent\": \"100\", \"start_time\": \"2021-03-04T19:24:58.176567Z\", \"end_time\": \"2021-03-04T19:25:57.029966Z\", \"created_time\": \"2021-03-04T19:24:50.435242Z\", \"created_time_dt\": \"2021-03-04T19:24:50.435242Z\", \"duration\": \"0:01:06\", \"iteration\": \"33\", \"goal\": \"accuracy_max\", \"run_name\": \"MaxAbsScaler, RandomForest\", \"run_properties\": \"copy=True\", \"primary_metric\": 0.83948546, \"best_metric\": 0.85284116}, {\"run_id\": \"AutoML_5a6ae0d4-dc22-4937-8491-91faaeb4af56_34\", \"run_number\": 40, \"metric\": null, \"status\": \"Completed\", \"run_type\": \"azureml.scriptrun\", \"training_percent\": \"100\", \"start_time\": \"2021-03-04T19:25:01.465278Z\", \"end_time\": \"2021-03-04T19:25:48.487062Z\", \"created_time\": \"2021-03-04T19:24:53.634297Z\", \"created_time_dt\": \"2021-03-04T19:24:53.634297Z\", \"duration\": \"0:00:54\", \"iteration\": \"34\", \"goal\": \"accuracy_max\", \"run_name\": \"MinMaxScaler, LightGBM\", \"run_properties\": \"copy=True, feature_range=(0, 1\", \"primary_metric\": 0.83946309, \"best_metric\": 0.85284116}, {\"run_id\": \"AutoML_5a6ae0d4-dc22-4937-8491-91faaeb4af56_35\", \"run_number\": 41, \"metric\": null, \"status\": \"Completed\", \"run_type\": \"azureml.scriptrun\", \"training_percent\": \"100\", \"start_time\": \"2021-03-04T19:25:19.909231Z\", \"end_time\": \"2021-03-04T19:26:06.822469Z\", \"created_time\": \"2021-03-04T19:25:06.301872Z\", \"created_time_dt\": \"2021-03-04T19:25:06.301872Z\", \"duration\": \"0:01:00\", \"iteration\": \"35\", \"goal\": \"accuracy_max\", \"run_name\": \"SparseNormalizer, RandomForest\", \"run_properties\": \"<azureml.automl.runtime.shared.model_wrappers.SparseNormalizer object at 0x7ff1432a13c8\", \"primary_metric\": 0.75246085, \"best_metric\": 0.85284116}, {\"run_id\": \"AutoML_5a6ae0d4-dc22-4937-8491-91faaeb4af56_36\", \"run_number\": 42, \"metric\": null, \"status\": \"Completed\", \"run_type\": \"azureml.scriptrun\", \"training_percent\": \"100\", \"start_time\": \"2021-03-04T19:25:40.750287Z\", \"end_time\": \"2021-03-04T19:26:26.080688Z\", \"created_time\": \"2021-03-04T19:25:29.840653Z\", \"created_time_dt\": \"2021-03-04T19:25:29.840653Z\", \"duration\": \"0:00:56\", \"iteration\": \"36\", \"goal\": \"accuracy_max\", \"run_name\": \"MaxAbsScaler, ExtremeRandomTrees\", \"run_properties\": \"copy=True\", \"primary_metric\": 0.79257271, \"best_metric\": 0.85284116}, {\"run_id\": \"AutoML_5a6ae0d4-dc22-4937-8491-91faaeb4af56_37\", \"run_number\": 43, \"metric\": null, \"status\": \"Completed\", \"run_type\": \"azureml.scriptrun\", \"training_percent\": \"100\", \"start_time\": \"2021-03-04T19:25:58.842475Z\", \"end_time\": \"2021-03-04T19:26:40.14971Z\", \"created_time\": \"2021-03-04T19:25:50.19843Z\", \"created_time_dt\": \"2021-03-04T19:25:50.19843Z\", \"duration\": \"0:00:49\", \"iteration\": \"37\", \"goal\": \"accuracy_max\", \"run_name\": \"SparseNormalizer, ExtremeRandomTrees\", \"run_properties\": \"<azureml.automl.runtime.shared.model_wrappers.SparseNormalizer object at 0x7fc5a5fea5c0\", \"primary_metric\": 0.73572707, \"best_metric\": 0.85284116}, {\"run_id\": \"AutoML_5a6ae0d4-dc22-4937-8491-91faaeb4af56_38\", \"run_number\": 44, \"metric\": null, \"status\": \"Completed\", \"run_type\": \"azureml.scriptrun\", \"training_percent\": \"100\", \"start_time\": \"2021-03-04T19:26:09.211367Z\", \"end_time\": \"2021-03-04T19:26:56.328904Z\", \"created_time\": \"2021-03-04T19:25:58.644659Z\", \"created_time_dt\": \"2021-03-04T19:25:58.644659Z\", \"duration\": \"0:00:57\", \"iteration\": \"38\", \"goal\": \"accuracy_max\", \"run_name\": \"MaxAbsScaler, ExtremeRandomTrees\", \"run_properties\": \"copy=True\", \"primary_metric\": 0.7758613, \"best_metric\": 0.85284116}, {\"run_id\": \"AutoML_5a6ae0d4-dc22-4937-8491-91faaeb4af56_39\", \"run_number\": 45, \"metric\": null, \"status\": \"Completed\", \"run_type\": \"azureml.scriptrun\", \"training_percent\": \"100\", \"start_time\": \"2021-03-04T19:26:16.384043Z\", \"end_time\": \"2021-03-04T19:27:03.286044Z\", \"created_time\": \"2021-03-04T19:26:08.500466Z\", \"created_time_dt\": \"2021-03-04T19:26:08.500466Z\", \"duration\": \"0:00:54\", \"iteration\": \"39\", \"goal\": \"accuracy_max\", \"run_name\": \"MaxAbsScaler, RandomForest\", \"run_properties\": \"copy=True\", \"primary_metric\": 0.83610738, \"best_metric\": 0.85284116}, {\"run_id\": \"AutoML_5a6ae0d4-dc22-4937-8491-91faaeb4af56_40\", \"run_number\": 46, \"metric\": null, \"status\": \"Completed\", \"run_type\": \"azureml.scriptrun\", \"training_percent\": \"100\", \"start_time\": \"2021-03-04T19:26:40.102743Z\", \"end_time\": \"2021-03-04T19:27:30.633551Z\", \"created_time\": \"2021-03-04T19:26:29.141963Z\", \"created_time_dt\": \"2021-03-04T19:26:29.141963Z\", \"duration\": \"0:01:01\", \"iteration\": \"40\", \"goal\": \"accuracy_max\", \"run_name\": \"MaxAbsScaler, RandomForest\", \"run_properties\": \"copy=True\", \"primary_metric\": 0.73583893, \"best_metric\": 0.85284116}, {\"run_id\": \"AutoML_5a6ae0d4-dc22-4937-8491-91faaeb4af56_41\", \"run_number\": 47, \"metric\": null, \"status\": \"Completed\", \"run_type\": \"azureml.scriptrun\", \"training_percent\": \"100\", \"start_time\": \"2021-03-04T19:26:51.103065Z\", \"end_time\": \"2021-03-04T19:27:35.862167Z\", \"created_time\": \"2021-03-04T19:26:41.855347Z\", \"created_time_dt\": \"2021-03-04T19:26:41.855347Z\", \"duration\": \"0:00:54\", \"iteration\": \"41\", \"goal\": \"accuracy_max\", \"run_name\": \"StandardScalerWrapper, LightGBM\", \"run_properties\": \"<azureml.automl.runtime.shared.model_wrappers.StandardScalerWrapper object at 0x7f15da42c940\", \"primary_metric\": 0.84281879, \"best_metric\": 0.85284116}, {\"run_id\": \"AutoML_5a6ae0d4-dc22-4937-8491-91faaeb4af56_42\", \"run_number\": 48, \"metric\": null, \"status\": \"Canceled\", \"run_type\": \"azureml.scriptrun\", \"training_percent\": \"100\", \"start_time\": \"2021-03-04T19:27:10.818598Z\", \"end_time\": \"2021-03-04T19:27:44.889775Z\", \"created_time\": \"2021-03-04T19:26:58.152229Z\", \"created_time_dt\": \"2021-03-04T19:26:58.152229Z\", \"duration\": \"0:00:46\", \"iteration\": \"42\", \"goal\": \"accuracy_max\", \"run_name\": \"MaxAbsScaler, LightGBM\", \"run_properties\": \"copy=True\", \"primary_metric\": 0.83946309, \"best_metric\": 0.85284116}, {\"run_id\": \"AutoML_5a6ae0d4-dc22-4937-8491-91faaeb4af56_43\", \"run_number\": 49, \"metric\": null, \"status\": \"Canceled\", \"run_type\": \"azureml.scriptrun\", \"training_percent\": \"100\", \"start_time\": \"2021-03-04T19:27:15.961329Z\", \"end_time\": \"2021-03-04T19:27:47.333831Z\", \"created_time\": \"2021-03-04T19:27:06.120549Z\", \"created_time_dt\": \"2021-03-04T19:27:06.120549Z\", \"duration\": \"0:00:41\", \"iteration\": \"43\", \"goal\": \"accuracy_max\", \"run_name\": \"SparseNormalizer, RandomForest\", \"run_properties\": \"<azureml.automl.runtime.shared.model_wrappers.SparseNormalizer object at 0x7f50300b3dd8\", \"primary_metric\": 0.78926174, \"best_metric\": 0.85284116}, {\"run_id\": \"AutoML_5a6ae0d4-dc22-4937-8491-91faaeb4af56_44\", \"run_number\": 50, \"metric\": null, \"status\": \"Canceled\", \"run_type\": \"azureml.scriptrun\", \"training_percent\": \"100\", \"start_time\": \"2021-03-04T19:27:46.100738Z\", \"end_time\": \"2021-03-04T19:27:54.1982Z\", \"created_time\": \"2021-03-04T19:27:33.614956Z\", \"created_time_dt\": \"2021-03-04T19:27:33.614956Z\", \"duration\": \"0:00:20\", \"iteration\": \"44\", \"goal\": null, \"run_name\": \"Canceled\", \"run_properties\": null}, {\"run_id\": \"AutoML_5a6ae0d4-dc22-4937-8491-91faaeb4af56_45\", \"run_number\": 51, \"metric\": null, \"status\": \"Completed\", \"run_type\": \"azureml.scriptrun\", \"training_percent\": \"100\", \"start_time\": \"2021-03-04T19:28:07.573877Z\", \"end_time\": \"2021-03-04T19:29:14.380415Z\", \"created_time\": \"2021-03-04T19:27:55.845122Z\", \"created_time_dt\": \"2021-03-04T19:27:55.845122Z\", \"duration\": \"0:01:18\", \"iteration\": \"45\", \"goal\": \"accuracy_max\", \"run_name\": \"VotingEnsemble\", \"run_properties\": \"classification_labels=None,\\n                              estimators=[('28',\\n                                           Pipeline(memory=None,\\n                                                    steps=[('standardscalerwrapper',\\n                                                            <azureml.automl.runtime.shared.model_wrappers.StandardScalerWrapper object at 0x7f1594690550>\", \"primary_metric\": 0.85957494, \"best_metric\": 0.85957494}, {\"run_id\": \"AutoML_5a6ae0d4-dc22-4937-8491-91faaeb4af56_46\", \"run_number\": 52, \"metric\": null, \"status\": \"Completed\", \"run_type\": \"azureml.scriptrun\", \"training_percent\": \"100\", \"start_time\": \"2021-03-04T19:28:12.12081Z\", \"end_time\": \"2021-03-04T19:29:16.787904Z\", \"created_time\": \"2021-03-04T19:27:55.95113Z\", \"created_time_dt\": \"2021-03-04T19:27:55.95113Z\", \"duration\": \"0:01:20\", \"iteration\": \"46\", \"goal\": \"accuracy_max\", \"run_name\": \"StackEnsemble\", \"run_properties\": \"base_learners=[('28',\\n                                        Pipeline(memory=None,\\n                                                 steps=[('standardscalerwrapper',\\n                                                         <azureml.automl.runtime.shared.model_wrappers.StandardScalerWrapper object at 0x7f2cbc2b9ef0>\", \"primary_metric\": 0.81932886, \"best_metric\": 0.85957494}], \"children_metrics\": {\"categories\": [0], \"series\": {\"precision_score_macro\": [{\"categories\": [\"0\", \"1\", \"2\", \"3\", \"4\", \"5\", \"6\", \"7\", \"8\", \"9\", \"10\", \"11\", \"12\", \"13\", \"14\", \"15\", \"16\", \"17\", \"18\", \"19\", \"20\", \"21\", \"22\", \"23\", \"24\", \"25\", \"26\", \"27\", \"28\", \"29\", \"30\", \"31\", \"32\", \"33\", \"34\", \"35\", \"36\", \"37\", \"38\", \"39\", \"40\", \"41\", \"42\", \"43\", \"45\", \"46\"], \"mode\": \"markers\", \"name\": \"precision_score_macro\", \"stepped\": false, \"type\": \"scatter\", \"data\": [0.8038548007066774, 0.8426705682024831, 0.8177755102040817, 0.8416632546713317, 0.8064930512757302, 0.7360246460856217, 0.7306543132238121, 0.8259216589861751, 0.8310169226363463, 0.8364879118057085, 0.8255700628292643, 0.8263072986203828, 0.8218643547891373, 0.7735498701121137, 0.8289193073022498, 0.682985932406931, 0.8206093471871507, 0.5918027210884353, 0.837361655959217, 0.8291841491841492, 0.3394742729306488, 0.7830714285714286, 0.8196257181389559, 0.7771954849913172, 0.7791337179154784, 0.3394742729306488, 0.847999222999223, 0.8317513789403754, 0.8456134627764149, 0.8212260329330158, 0.8296879360804991, 0.8338501368965247, 0.7871160042964555, 0.841396103896104, 0.8331353963496821, 0.7176010101010102, 0.7664301141652964, 0.7086894586894587, 0.7487909836065574, 0.8349180151914793, 0.7718182340661989, 0.8425582572371564, 0.8393162393162392, 0.7645833851353325, 0.8579949377870271, 0.8140707198084247]}, {\"categories\": [\"0\", \"1\", \"2\", \"3\", \"4\", \"5\", \"6\", \"7\", \"8\", \"9\", \"10\", \"11\", \"12\", \"13\", \"14\", \"15\", \"16\", \"17\", \"18\", \"19\", \"20\", \"21\", \"22\", \"23\", \"24\", \"25\", \"26\", \"27\", \"28\", \"29\", \"30\", \"31\", \"32\", \"33\", \"34\", \"35\", \"36\", \"37\", \"38\", \"39\", \"40\", \"41\", \"42\", \"43\", \"45\", \"46\"], \"mode\": \"lines\", \"name\": \"precision_score_macro_max\", \"stepped\": true, \"type\": \"scatter\", \"data\": [0.8038548007066774, 0.8426705682024831, 0.8426705682024831, 0.8426705682024831, 0.8426705682024831, 0.8426705682024831, 0.8426705682024831, 0.8426705682024831, 0.8426705682024831, 0.8426705682024831, 0.8426705682024831, 0.8426705682024831, 0.8426705682024831, 0.8426705682024831, 0.8426705682024831, 0.8426705682024831, 0.8426705682024831, 0.8426705682024831, 0.8426705682024831, 0.8426705682024831, 0.8426705682024831, 0.8426705682024831, 0.8426705682024831, 0.8426705682024831, 0.8426705682024831, 0.8426705682024831, 0.847999222999223, 0.847999222999223, 0.847999222999223, 0.847999222999223, 0.847999222999223, 0.847999222999223, 0.847999222999223, 0.847999222999223, 0.847999222999223, 0.847999222999223, 0.847999222999223, 0.847999222999223, 0.847999222999223, 0.847999222999223, 0.847999222999223, 0.847999222999223, 0.847999222999223, 0.847999222999223, 0.8579949377870271, 0.8579949377870271]}], \"precision_score_weighted\": [{\"categories\": [\"0\", \"1\", \"2\", \"3\", \"4\", \"5\", \"6\", \"7\", \"8\", \"9\", \"10\", \"11\", \"12\", \"13\", \"14\", \"15\", \"16\", \"17\", \"18\", \"19\", \"20\", \"21\", \"22\", \"23\", \"24\", \"25\", \"26\", \"27\", \"28\", \"29\", \"30\", \"31\", \"32\", \"33\", \"34\", \"35\", \"36\", \"37\", \"38\", \"39\", \"40\", \"41\", \"42\", \"43\", \"45\", \"46\"], \"mode\": \"markers\", \"name\": \"precision_score_weighted\", \"stepped\": false, \"type\": \"scatter\", \"data\": [0.8129063373603715, 0.8554671426383549, 0.8256002995023513, 0.8537057791665023, 0.830293922829684, 0.7347659592004001, 0.729282684856182, 0.8001415426963163, 0.8391311663443674, 0.8414452951685633, 0.8376609999123635, 0.8294549804910152, 0.8083661725156325, 0.7964226930791918, 0.798064436508583, 0.6896294321035417, 0.8328629338798699, 0.6219087217884917, 0.8404919618555239, 0.8404597689161447, 0.46100265853890465, 0.7686372643016938, 0.8285718161243838, 0.7520252617161074, 0.7582087268042822, 0.46100265853890465, 0.84766898028643, 0.8448582321242415, 0.8570009727847953, 0.8376108301564986, 0.8341327045623642, 0.8393531300314359, 0.8084190401699358, 0.8437216605169625, 0.843157572869941, 0.7516179129098592, 0.8024757816910911, 0.7513960296063205, 0.7898095243334433, 0.8404373005503943, 0.7563477578756677, 0.8440055275927452, 0.8405132724595812, 0.7876225255186615, 0.8611065119700444, 0.8346536829714297]}, {\"categories\": [\"0\", \"1\", \"2\", \"3\", \"4\", \"5\", \"6\", \"7\", \"8\", \"9\", \"10\", \"11\", \"12\", \"13\", \"14\", \"15\", \"16\", \"17\", \"18\", \"19\", \"20\", \"21\", \"22\", \"23\", \"24\", \"25\", \"26\", \"27\", \"28\", \"29\", \"30\", \"31\", \"32\", \"33\", \"34\", \"35\", \"36\", \"37\", \"38\", \"39\", \"40\", \"41\", \"42\", \"43\", \"45\", \"46\"], \"mode\": \"lines\", \"name\": \"precision_score_weighted_max\", \"stepped\": true, \"type\": \"scatter\", \"data\": [0.8129063373603715, 0.8554671426383549, 0.8554671426383549, 0.8554671426383549, 0.8554671426383549, 0.8554671426383549, 0.8554671426383549, 0.8554671426383549, 0.8554671426383549, 0.8554671426383549, 0.8554671426383549, 0.8554671426383549, 0.8554671426383549, 0.8554671426383549, 0.8554671426383549, 0.8554671426383549, 0.8554671426383549, 0.8554671426383549, 0.8554671426383549, 0.8554671426383549, 0.8554671426383549, 0.8554671426383549, 0.8554671426383549, 0.8554671426383549, 0.8554671426383549, 0.8554671426383549, 0.8554671426383549, 0.8554671426383549, 0.8570009727847953, 0.8570009727847953, 0.8570009727847953, 0.8570009727847953, 0.8570009727847953, 0.8570009727847953, 0.8570009727847953, 0.8570009727847953, 0.8570009727847953, 0.8570009727847953, 0.8570009727847953, 0.8570009727847953, 0.8570009727847953, 0.8570009727847953, 0.8570009727847953, 0.8570009727847953, 0.8611065119700444, 0.8611065119700444]}], \"AUC_macro\": [{\"categories\": [\"0\", \"1\", \"2\", \"3\", \"4\", \"5\", \"6\", \"7\", \"8\", \"9\", \"10\", \"11\", \"12\", \"13\", \"14\", \"15\", \"16\", \"17\", \"18\", \"19\", \"20\", \"21\", \"22\", \"23\", \"24\", \"25\", \"26\", \"27\", \"28\", \"29\", \"30\", \"31\", \"32\", \"33\", \"34\", \"35\", \"36\", \"37\", \"38\", \"39\", \"40\", \"41\", \"42\", \"43\", \"45\", \"46\"], \"mode\": \"markers\", \"name\": \"AUC_macro\", \"stepped\": false, \"type\": \"scatter\", \"data\": [0.8555301412749637, 0.8730880913561969, 0.8901498770985116, 0.8976355867815844, 0.897386751203536, 0.7485802726399176, 0.7366065237976378, 0.891227967909304, 0.8982247417610398, 0.9014748621167448, 0.8981960384743743, 0.8873169448946632, 0.8768361357603922, 0.8489666563908058, 0.8899164363449192, 0.7945700294021126, 0.8976775879932761, 0.8340820423387387, 0.8876955142705913, 0.8680144060994948, 0.8677638108118748, 0.8439505989882787, 0.8827568103289346, 0.8258530713739045, 0.8828381257706369, 0.8088016752940906, 0.8925936289830868, 0.901256584369581, 0.8945686237418919, 0.8890019142268241, 0.8605415307053935, 0.8972153639210055, 0.879477280695299, 0.8942264497962656, 0.9005718887512872, 0.7917793091536172, 0.8410504606308502, 0.8076764516634545, 0.8296597973505812, 0.9094239549622251, 0.8952789879381287, 0.8798180531955777, 0.8954649481448362, 0.8512180309241877, 0.8929751171587237, 0.8972379977902263]}, {\"categories\": [\"0\", \"1\", \"2\", \"3\", \"4\", \"5\", \"6\", \"7\", \"8\", \"9\", \"10\", \"11\", \"12\", \"13\", \"14\", \"15\", \"16\", \"17\", \"18\", \"19\", \"20\", \"21\", \"22\", \"23\", \"24\", \"25\", \"26\", \"27\", \"28\", \"29\", \"30\", \"31\", \"32\", \"33\", \"34\", \"35\", \"36\", \"37\", \"38\", \"39\", \"40\", \"41\", \"42\", \"43\", \"45\", \"46\"], \"mode\": \"lines\", \"name\": \"AUC_macro_max\", \"stepped\": true, \"type\": \"scatter\", \"data\": [0.8555301412749637, 0.8730880913561969, 0.8901498770985116, 0.8976355867815844, 0.8976355867815844, 0.8976355867815844, 0.8976355867815844, 0.8976355867815844, 0.8982247417610398, 0.9014748621167448, 0.9014748621167448, 0.9014748621167448, 0.9014748621167448, 0.9014748621167448, 0.9014748621167448, 0.9014748621167448, 0.9014748621167448, 0.9014748621167448, 0.9014748621167448, 0.9014748621167448, 0.9014748621167448, 0.9014748621167448, 0.9014748621167448, 0.9014748621167448, 0.9014748621167448, 0.9014748621167448, 0.9014748621167448, 0.9014748621167448, 0.9014748621167448, 0.9014748621167448, 0.9014748621167448, 0.9014748621167448, 0.9014748621167448, 0.9014748621167448, 0.9014748621167448, 0.9014748621167448, 0.9014748621167448, 0.9014748621167448, 0.9014748621167448, 0.9094239549622251, 0.9094239549622251, 0.9094239549622251, 0.9094239549622251, 0.9094239549622251, 0.9094239549622251, 0.9094239549622251]}], \"log_loss\": [{\"categories\": [\"0\", \"1\", \"2\", \"3\", \"4\", \"5\", \"6\", \"7\", \"8\", \"9\", \"10\", \"11\", \"12\", \"13\", \"14\", \"15\", \"16\", \"17\", \"18\", \"19\", \"20\", \"21\", \"22\", \"23\", \"24\", \"25\", \"26\", \"27\", \"28\", \"29\", \"30\", \"31\", \"32\", \"33\", \"34\", \"35\", \"36\", \"37\", \"38\", \"39\", \"40\", \"41\", \"42\", \"43\", \"45\", \"46\"], \"mode\": \"markers\", \"name\": \"log_loss\", \"stepped\": false, \"type\": \"scatter\", \"data\": [0.5552296145880724, 0.42879004593662295, 0.41740186274662194, 0.39195380012705605, 0.47210614563071873, 0.5532195216644726, 0.5781052774649948, 0.4826126369504465, 0.7065520881110744, 0.42845225303954737, 0.3789300851370999, 0.4094328028394219, 0.47230021214561135, 0.48795577015278213, 0.5075486649682516, 0.5430833306117986, 0.3890179548070557, 0.5690196130952001, 0.46891305657513305, 0.4288089906858942, 0.5295250685798883, 0.5186521046795673, 0.43399110820963527, 0.5441476952711165, 0.5150602960704895, 0.5803294051303219, 0.44850548474073315, 0.38108739735801345, 0.39478699349051305, 0.4184469228372195, 0.41811536515133046, 0.391776044962587, 0.41546696380250936, 0.40073554485726487, 0.38544304632193394, 0.6747596943493692, 0.5384463461861654, 0.6014058479758023, 0.5951797453263562, 0.38677108173021313, 0.487988402862155, 0.4781589535636752, 0.42577844234273804, 0.44627743891612603, 0.4060963796406123, 0.4189243053956969]}, {\"categories\": [\"0\", \"1\", \"2\", \"3\", \"4\", \"5\", \"6\", \"7\", \"8\", \"9\", \"10\", \"11\", \"12\", \"13\", \"14\", \"15\", \"16\", \"17\", \"18\", \"19\", \"20\", \"21\", \"22\", \"23\", \"24\", \"25\", \"26\", \"27\", \"28\", \"29\", \"30\", \"31\", \"32\", \"33\", \"34\", \"35\", \"36\", \"37\", \"38\", \"39\", \"40\", \"41\", \"42\", \"43\", \"45\", \"46\"], \"mode\": \"lines\", \"name\": \"log_loss_min\", \"stepped\": true, \"type\": \"scatter\", \"data\": [0.5552296145880724, 0.42879004593662295, 0.41740186274662194, 0.39195380012705605, 0.39195380012705605, 0.39195380012705605, 0.39195380012705605, 0.39195380012705605, 0.39195380012705605, 0.39195380012705605, 0.3789300851370999, 0.3789300851370999, 0.3789300851370999, 0.3789300851370999, 0.3789300851370999, 0.3789300851370999, 0.3789300851370999, 0.3789300851370999, 0.3789300851370999, 0.3789300851370999, 0.3789300851370999, 0.3789300851370999, 0.3789300851370999, 0.3789300851370999, 0.3789300851370999, 0.3789300851370999, 0.3789300851370999, 0.3789300851370999, 0.3789300851370999, 0.3789300851370999, 0.3789300851370999, 0.3789300851370999, 0.3789300851370999, 0.3789300851370999, 0.3789300851370999, 0.3789300851370999, 0.3789300851370999, 0.3789300851370999, 0.3789300851370999, 0.3789300851370999, 0.3789300851370999, 0.3789300851370999, 0.3789300851370999, 0.3789300851370999, 0.3789300851370999, 0.3789300851370999]}], \"average_precision_score_macro\": [{\"categories\": [\"0\", \"1\", \"2\", \"3\", \"4\", \"5\", \"6\", \"7\", \"8\", \"9\", \"10\", \"11\", \"12\", \"13\", \"14\", \"15\", \"16\", \"17\", \"18\", \"19\", \"20\", \"21\", \"22\", \"23\", \"24\", \"25\", \"26\", \"27\", \"28\", \"29\", \"30\", \"31\", \"32\", \"33\", \"34\", \"35\", \"36\", \"37\", \"38\", \"39\", \"40\", \"41\", \"42\", \"43\", \"45\", \"46\"], \"mode\": \"markers\", \"name\": \"average_precision_score_macro\", \"stepped\": false, \"type\": \"scatter\", \"data\": [0.8315719322255934, 0.8598359425144041, 0.8834378428766309, 0.874298760491265, 0.8812183909323295, 0.7318283571615326, 0.7181193927665178, 0.8744041748989415, 0.8753642982983074, 0.8885193634168165, 0.8814042656095777, 0.8722915734458467, 0.8570621718840092, 0.8289122158799915, 0.8761635026359009, 0.7456048068725728, 0.8843896235888445, 0.8043815437210899, 0.8774854290596588, 0.8431451823549709, 0.8278237322549957, 0.8219186095508626, 0.8661316357355597, 0.799910938584863, 0.8622025985130507, 0.788537833713503, 0.8794598242740153, 0.8803378377552946, 0.8753772861730049, 0.8694402038624343, 0.7986788540582854, 0.8757842967635009, 0.8652569384551501, 0.8795060219312486, 0.8828716515296818, 0.773576044204445, 0.8207613680870185, 0.7795021875719729, 0.8075284679247619, 0.8982825306758939, 0.8734868508304925, 0.864755432101316, 0.8794713533861709, 0.8330021082987056, 0.8765666594118979, 0.8780213205211189]}, {\"categories\": [\"0\", \"1\", \"2\", \"3\", \"4\", \"5\", \"6\", \"7\", \"8\", \"9\", \"10\", \"11\", \"12\", \"13\", \"14\", \"15\", \"16\", \"17\", \"18\", \"19\", \"20\", \"21\", \"22\", \"23\", \"24\", \"25\", \"26\", \"27\", \"28\", \"29\", \"30\", \"31\", \"32\", \"33\", \"34\", \"35\", \"36\", \"37\", \"38\", \"39\", \"40\", \"41\", \"42\", \"43\", \"45\", \"46\"], \"mode\": \"lines\", \"name\": \"average_precision_score_macro_max\", \"stepped\": true, \"type\": \"scatter\", \"data\": [0.8315719322255934, 0.8598359425144041, 0.8834378428766309, 0.8834378428766309, 0.8834378428766309, 0.8834378428766309, 0.8834378428766309, 0.8834378428766309, 0.8834378428766309, 0.8885193634168165, 0.8885193634168165, 0.8885193634168165, 0.8885193634168165, 0.8885193634168165, 0.8885193634168165, 0.8885193634168165, 0.8885193634168165, 0.8885193634168165, 0.8885193634168165, 0.8885193634168165, 0.8885193634168165, 0.8885193634168165, 0.8885193634168165, 0.8885193634168165, 0.8885193634168165, 0.8885193634168165, 0.8885193634168165, 0.8885193634168165, 0.8885193634168165, 0.8885193634168165, 0.8885193634168165, 0.8885193634168165, 0.8885193634168165, 0.8885193634168165, 0.8885193634168165, 0.8885193634168165, 0.8885193634168165, 0.8885193634168165, 0.8885193634168165, 0.8982825306758939, 0.8982825306758939, 0.8982825306758939, 0.8982825306758939, 0.8982825306758939, 0.8982825306758939, 0.8982825306758939]}], \"matthews_correlation\": [{\"categories\": [\"0\", \"1\", \"2\", \"3\", \"4\", \"5\", \"6\", \"7\", \"8\", \"9\", \"10\", \"11\", \"12\", \"13\", \"14\", \"15\", \"16\", \"17\", \"18\", \"19\", \"20\", \"21\", \"22\", \"23\", \"24\", \"25\", \"26\", \"27\", \"28\", \"29\", \"30\", \"31\", \"32\", \"33\", \"34\", \"35\", \"36\", \"37\", \"38\", \"39\", \"40\", \"41\", \"42\", \"43\", \"45\", \"46\"], \"mode\": \"markers\", \"name\": \"matthews_correlation\", \"stepped\": false, \"type\": \"scatter\", \"data\": [0.5565126394717403, 0.653762430945857, 0.5758992448843714, 0.6587694302530035, 0.598878757368354, 0.27309660077232284, 0.21963108357682112, 0.4259616068569459, 0.6179424953404651, 0.6229418757943792, 0.6188905899116935, 0.5905432866524027, 0.5003887378266756, 0.5239962862465157, 0.40850207782813647, 0.172149285908659, 0.6057709827846613, 0.08591668100366304, 0.6209192345901703, 0.6219668666819996, 0.0, 0.3682455667886806, 0.5934570244883812, 0.24428707818509304, 0.3025357918101058, 0.0, 0.636202653966507, 0.6327866994144349, 0.6623113479085287, 0.6147996170965004, 0.6054009000594867, 0.620782209749873, 0.5560958388864764, 0.6241348421385611, 0.628389868539891, 0.4283488975532218, 0.5424852236635533, 0.4213104167626791, 0.5124742045251344, 0.6183916007379007, 0.3329145962014479, 0.6284543370989755, 0.6197748840420727, 0.5074531811549254, 0.6709089459747068, 0.6027786837781461]}, {\"categories\": [\"0\", \"1\", \"2\", \"3\", \"4\", \"5\", \"6\", \"7\", \"8\", \"9\", \"10\", \"11\", \"12\", \"13\", \"14\", \"15\", \"16\", \"17\", \"18\", \"19\", \"20\", \"21\", \"22\", \"23\", \"24\", \"25\", \"26\", \"27\", \"28\", \"29\", \"30\", \"31\", \"32\", \"33\", \"34\", \"35\", \"36\", \"37\", \"38\", \"39\", \"40\", \"41\", \"42\", \"43\", \"45\", \"46\"], \"mode\": \"lines\", \"name\": \"matthews_correlation_max\", \"stepped\": true, \"type\": \"scatter\", \"data\": [0.5565126394717403, 0.653762430945857, 0.653762430945857, 0.6587694302530035, 0.6587694302530035, 0.6587694302530035, 0.6587694302530035, 0.6587694302530035, 0.6587694302530035, 0.6587694302530035, 0.6587694302530035, 0.6587694302530035, 0.6587694302530035, 0.6587694302530035, 0.6587694302530035, 0.6587694302530035, 0.6587694302530035, 0.6587694302530035, 0.6587694302530035, 0.6587694302530035, 0.6587694302530035, 0.6587694302530035, 0.6587694302530035, 0.6587694302530035, 0.6587694302530035, 0.6587694302530035, 0.6587694302530035, 0.6587694302530035, 0.6623113479085287, 0.6623113479085287, 0.6623113479085287, 0.6623113479085287, 0.6623113479085287, 0.6623113479085287, 0.6623113479085287, 0.6623113479085287, 0.6623113479085287, 0.6623113479085287, 0.6623113479085287, 0.6623113479085287, 0.6623113479085287, 0.6623113479085287, 0.6623113479085287, 0.6623113479085287, 0.6709089459747068, 0.6709089459747068]}], \"AUC_weighted\": [{\"categories\": [\"0\", \"1\", \"2\", \"3\", \"4\", \"5\", \"6\", \"7\", \"8\", \"9\", \"10\", \"11\", \"12\", \"13\", \"14\", \"15\", \"16\", \"17\", \"18\", \"19\", \"20\", \"21\", \"22\", \"23\", \"24\", \"25\", \"26\", \"27\", \"28\", \"29\", \"30\", \"31\", \"32\", \"33\", \"34\", \"35\", \"36\", \"37\", \"38\", \"39\", \"40\", \"41\", \"42\", \"43\", \"45\", \"46\"], \"mode\": \"markers\", \"name\": \"AUC_weighted\", \"stepped\": false, \"type\": \"scatter\", \"data\": [0.8555301412749636, 0.8730880913561969, 0.8901498770985116, 0.8976355867815844, 0.8973867512035361, 0.7485802726399176, 0.7366065237976378, 0.891227967909304, 0.8982247417610398, 0.9014748621167445, 0.8981960384743743, 0.8873169448946632, 0.8768361357603922, 0.8489666563908057, 0.8899164363449192, 0.7945700294021127, 0.8976775879932761, 0.8340820423387387, 0.8876955142705913, 0.8680144060994948, 0.8677638108118748, 0.8439505989882787, 0.8827568103289347, 0.8258530713739045, 0.8828381257706368, 0.8088016752940906, 0.8925936289830867, 0.901256584369581, 0.8945686237418919, 0.8890019142268242, 0.8605415307053936, 0.8972153639210056, 0.879477280695299, 0.8942264497962655, 0.9005718887512874, 0.7917793091536172, 0.8410504606308502, 0.8076764516634545, 0.8296597973505812, 0.9094239549622252, 0.8952789879381287, 0.8798180531955778, 0.8954649481448362, 0.8512180309241877, 0.8929751171587237, 0.8972379977902263]}, {\"categories\": [\"0\", \"1\", \"2\", \"3\", \"4\", \"5\", \"6\", \"7\", \"8\", \"9\", \"10\", \"11\", \"12\", \"13\", \"14\", \"15\", \"16\", \"17\", \"18\", \"19\", \"20\", \"21\", \"22\", \"23\", \"24\", \"25\", \"26\", \"27\", \"28\", \"29\", \"30\", \"31\", \"32\", \"33\", \"34\", \"35\", \"36\", \"37\", \"38\", \"39\", \"40\", \"41\", \"42\", \"43\", \"45\", \"46\"], \"mode\": \"lines\", \"name\": \"AUC_weighted_max\", \"stepped\": true, \"type\": \"scatter\", \"data\": [0.8555301412749636, 0.8730880913561969, 0.8901498770985116, 0.8976355867815844, 0.8976355867815844, 0.8976355867815844, 0.8976355867815844, 0.8976355867815844, 0.8982247417610398, 0.9014748621167445, 0.9014748621167445, 0.9014748621167445, 0.9014748621167445, 0.9014748621167445, 0.9014748621167445, 0.9014748621167445, 0.9014748621167445, 0.9014748621167445, 0.9014748621167445, 0.9014748621167445, 0.9014748621167445, 0.9014748621167445, 0.9014748621167445, 0.9014748621167445, 0.9014748621167445, 0.9014748621167445, 0.9014748621167445, 0.9014748621167445, 0.9014748621167445, 0.9014748621167445, 0.9014748621167445, 0.9014748621167445, 0.9014748621167445, 0.9014748621167445, 0.9014748621167445, 0.9014748621167445, 0.9014748621167445, 0.9014748621167445, 0.9014748621167445, 0.9094239549622252, 0.9094239549622252, 0.9094239549622252, 0.9094239549622252, 0.9094239549622252, 0.9094239549622252, 0.9094239549622252]}], \"balanced_accuracy\": [{\"categories\": [\"0\", \"1\", \"2\", \"3\", \"4\", \"5\", \"6\", \"7\", \"8\", \"9\", \"10\", \"11\", \"12\", \"13\", \"14\", \"15\", \"16\", \"17\", \"18\", \"19\", \"20\", \"21\", \"22\", \"23\", \"24\", \"25\", \"26\", \"27\", \"28\", \"29\", \"30\", \"31\", \"32\", \"33\", \"34\", \"35\", \"36\", \"37\", \"38\", \"39\", \"40\", \"41\", \"42\", \"43\", \"45\", \"46\"], \"mode\": \"markers\", \"name\": \"balanced_accuracy\", \"stepped\": false, \"type\": \"scatter\", \"data\": [0.7557586759161217, 0.8138666041516669, 0.7646386129762628, 0.8180687063112584, 0.7937832495542982, 0.5906266762023958, 0.5735038696329595, 0.6451484849258853, 0.7897146008182081, 0.7892974126663516, 0.7949924545339517, 0.76826219217411, 0.6976230875750342, 0.7520427172343553, 0.6285567418456744, 0.5433292444848173, 0.7872465923382204, 0.5106382978723405, 0.7862121360024945, 0.795233829786391, 0.5, 0.624481918320309, 0.7766253225537108, 0.5553913054583535, 0.5874990400626229, 0.5, 0.7911140967868082, 0.803204039146731, 0.8185271896835414, 0.7958510979702604, 0.7786591147940112, 0.7890560374139123, 0.7697683138981314, 0.7866706193747774, 0.7976848101785479, 0.7109884084242503, 0.7764079826158397, 0.7132671901707808, 0.7640802792572685, 0.7868706994067902, 0.6027638672911759, 0.7886631163946514, 0.7833439674584811, 0.7438068654889806, 0.8150417529556588, 0.7915834334576468]}, {\"categories\": [\"0\", \"1\", \"2\", \"3\", \"4\", \"5\", \"6\", \"7\", \"8\", \"9\", \"10\", \"11\", \"12\", \"13\", \"14\", \"15\", \"16\", \"17\", \"18\", \"19\", \"20\", \"21\", \"22\", \"23\", \"24\", \"25\", \"26\", \"27\", \"28\", \"29\", \"30\", \"31\", \"32\", \"33\", \"34\", \"35\", \"36\", \"37\", \"38\", \"39\", \"40\", \"41\", \"42\", \"43\", \"45\", \"46\"], \"mode\": \"lines\", \"name\": \"balanced_accuracy_max\", \"stepped\": true, \"type\": \"scatter\", \"data\": [0.7557586759161217, 0.8138666041516669, 0.8138666041516669, 0.8180687063112584, 0.8180687063112584, 0.8180687063112584, 0.8180687063112584, 0.8180687063112584, 0.8180687063112584, 0.8180687063112584, 0.8180687063112584, 0.8180687063112584, 0.8180687063112584, 0.8180687063112584, 0.8180687063112584, 0.8180687063112584, 0.8180687063112584, 0.8180687063112584, 0.8180687063112584, 0.8180687063112584, 0.8180687063112584, 0.8180687063112584, 0.8180687063112584, 0.8180687063112584, 0.8180687063112584, 0.8180687063112584, 0.8180687063112584, 0.8180687063112584, 0.8185271896835414, 0.8185271896835414, 0.8185271896835414, 0.8185271896835414, 0.8185271896835414, 0.8185271896835414, 0.8185271896835414, 0.8185271896835414, 0.8185271896835414, 0.8185271896835414, 0.8185271896835414, 0.8185271896835414, 0.8185271896835414, 0.8185271896835414, 0.8185271896835414, 0.8185271896835414, 0.8185271896835414, 0.8185271896835414]}], \"precision_score_micro\": [{\"categories\": [\"0\", \"1\", \"2\", \"3\", \"4\", \"5\", \"6\", \"7\", \"8\", \"9\", \"10\", \"11\", \"12\", \"13\", \"14\", \"15\", \"16\", \"17\", \"18\", \"19\", \"20\", \"21\", \"22\", \"23\", \"24\", \"25\", \"26\", \"27\", \"28\", \"29\", \"30\", \"31\", \"32\", \"33\", \"34\", \"35\", \"36\", \"37\", \"38\", \"39\", \"40\", \"41\", \"42\", \"43\", \"45\", \"46\"], \"mode\": \"markers\", \"name\": \"precision_score_micro\", \"stepped\": false, \"type\": \"scatter\", \"data\": [0.8127069351230425, 0.8461297539149888, 0.8195078299776286, 0.8528187919463087, 0.8158612975391499, 0.6989261744966443, 0.6822371364653244, 0.7626174496644296, 0.8361297539149888, 0.8394854586129754, 0.8361073825503356, 0.8260626398210291, 0.792751677852349, 0.792572706935123, 0.7558836689038031, 0.6923042505592841, 0.8293736017897092, 0.6856599552572706, 0.8394630872483222, 0.8361073825503356, 0.6789485458612976, 0.7458836689038031, 0.8260626398210291, 0.7090380313199105, 0.7292170022371365, 0.6789485458612976, 0.8461744966442952, 0.839440715883669, 0.852841163310962, 0.8293736017897092, 0.8327740492170023, 0.8394854586129754, 0.8093736017897092, 0.8394854586129754, 0.8394630872483222, 0.7524608501118568, 0.792572706935123, 0.7357270693512303, 0.7758612975391499, 0.8361073825503356, 0.7358389261744966, 0.8428187919463087, 0.8394630872483222, 0.789261744966443, 0.8595749440715883, 0.8193288590604026]}, {\"categories\": [\"0\", \"1\", \"2\", \"3\", \"4\", \"5\", \"6\", \"7\", \"8\", \"9\", \"10\", \"11\", \"12\", \"13\", \"14\", \"15\", \"16\", \"17\", \"18\", \"19\", \"20\", \"21\", \"22\", \"23\", \"24\", \"25\", \"26\", \"27\", \"28\", \"29\", \"30\", \"31\", \"32\", \"33\", \"34\", \"35\", \"36\", \"37\", \"38\", \"39\", \"40\", \"41\", \"42\", \"43\", \"45\", \"46\"], \"mode\": \"lines\", \"name\": \"precision_score_micro_max\", \"stepped\": true, \"type\": \"scatter\", \"data\": [0.8127069351230425, 0.8461297539149888, 0.8461297539149888, 0.8528187919463087, 0.8528187919463087, 0.8528187919463087, 0.8528187919463087, 0.8528187919463087, 0.8528187919463087, 0.8528187919463087, 0.8528187919463087, 0.8528187919463087, 0.8528187919463087, 0.8528187919463087, 0.8528187919463087, 0.8528187919463087, 0.8528187919463087, 0.8528187919463087, 0.8528187919463087, 0.8528187919463087, 0.8528187919463087, 0.8528187919463087, 0.8528187919463087, 0.8528187919463087, 0.8528187919463087, 0.8528187919463087, 0.8528187919463087, 0.8528187919463087, 0.852841163310962, 0.852841163310962, 0.852841163310962, 0.852841163310962, 0.852841163310962, 0.852841163310962, 0.852841163310962, 0.852841163310962, 0.852841163310962, 0.852841163310962, 0.852841163310962, 0.852841163310962, 0.852841163310962, 0.852841163310962, 0.852841163310962, 0.852841163310962, 0.8595749440715883, 0.8595749440715883]}], \"recall_score_macro\": [{\"categories\": [\"0\", \"1\", \"2\", \"3\", \"4\", \"5\", \"6\", \"7\", \"8\", \"9\", \"10\", \"11\", \"12\", \"13\", \"14\", \"15\", \"16\", \"17\", \"18\", \"19\", \"20\", \"21\", \"22\", \"23\", \"24\", \"25\", \"26\", \"27\", \"28\", \"29\", \"30\", \"31\", \"32\", \"33\", \"34\", \"35\", \"36\", \"37\", \"38\", \"39\", \"40\", \"41\", \"42\", \"43\", \"45\", \"46\"], \"mode\": \"markers\", \"name\": \"recall_score_macro\", \"stepped\": false, \"type\": \"scatter\", \"data\": [0.7557586759161217, 0.8138666041516669, 0.7646386129762628, 0.8180687063112584, 0.7937832495542982, 0.5906266762023958, 0.5735038696329595, 0.6451484849258853, 0.7897146008182081, 0.7892974126663516, 0.7949924545339517, 0.76826219217411, 0.6976230875750342, 0.7520427172343553, 0.6285567418456744, 0.5433292444848173, 0.7872465923382204, 0.5106382978723405, 0.7862121360024945, 0.795233829786391, 0.5, 0.624481918320309, 0.7766253225537108, 0.5553913054583535, 0.5874990400626229, 0.5, 0.7911140967868082, 0.803204039146731, 0.8185271896835414, 0.7958510979702604, 0.7786591147940112, 0.7890560374139123, 0.7697683138981314, 0.7866706193747774, 0.7976848101785479, 0.7109884084242503, 0.7764079826158397, 0.7132671901707808, 0.7640802792572685, 0.7868706994067902, 0.6027638672911759, 0.7886631163946514, 0.7833439674584811, 0.7438068654889806, 0.8150417529556588, 0.7915834334576468]}, {\"categories\": [\"0\", \"1\", \"2\", \"3\", \"4\", \"5\", \"6\", \"7\", \"8\", \"9\", \"10\", \"11\", \"12\", \"13\", \"14\", \"15\", \"16\", \"17\", \"18\", \"19\", \"20\", \"21\", \"22\", \"23\", \"24\", \"25\", \"26\", \"27\", \"28\", \"29\", \"30\", \"31\", \"32\", \"33\", \"34\", \"35\", \"36\", \"37\", \"38\", \"39\", \"40\", \"41\", \"42\", \"43\", \"45\", \"46\"], \"mode\": \"lines\", \"name\": \"recall_score_macro_max\", \"stepped\": true, \"type\": \"scatter\", \"data\": [0.7557586759161217, 0.8138666041516669, 0.8138666041516669, 0.8180687063112584, 0.8180687063112584, 0.8180687063112584, 0.8180687063112584, 0.8180687063112584, 0.8180687063112584, 0.8180687063112584, 0.8180687063112584, 0.8180687063112584, 0.8180687063112584, 0.8180687063112584, 0.8180687063112584, 0.8180687063112584, 0.8180687063112584, 0.8180687063112584, 0.8180687063112584, 0.8180687063112584, 0.8180687063112584, 0.8180687063112584, 0.8180687063112584, 0.8180687063112584, 0.8180687063112584, 0.8180687063112584, 0.8180687063112584, 0.8180687063112584, 0.8185271896835414, 0.8185271896835414, 0.8185271896835414, 0.8185271896835414, 0.8185271896835414, 0.8185271896835414, 0.8185271896835414, 0.8185271896835414, 0.8185271896835414, 0.8185271896835414, 0.8185271896835414, 0.8185271896835414, 0.8185271896835414, 0.8185271896835414, 0.8185271896835414, 0.8185271896835414, 0.8185271896835414, 0.8185271896835414]}], \"average_precision_score_weighted\": [{\"categories\": [\"0\", \"1\", \"2\", \"3\", \"4\", \"5\", \"6\", \"7\", \"8\", \"9\", \"10\", \"11\", \"12\", \"13\", \"14\", \"15\", \"16\", \"17\", \"18\", \"19\", \"20\", \"21\", \"22\", \"23\", \"24\", \"25\", \"26\", \"27\", \"28\", \"29\", \"30\", \"31\", \"32\", \"33\", \"34\", \"35\", \"36\", \"37\", \"38\", \"39\", \"40\", \"41\", \"42\", \"43\", \"45\", \"46\"], \"mode\": \"markers\", \"name\": \"average_precision_score_weighted\", \"stepped\": false, \"type\": \"scatter\", \"data\": [0.862550328383885, 0.8809731628373969, 0.9005131890532977, 0.8995080177019101, 0.9054379814399847, 0.7709263404703259, 0.7590263782131201, 0.8981485324183158, 0.8967058145238866, 0.9086190111006074, 0.9050857345318537, 0.897123445658561, 0.8826070485119715, 0.8611775517005409, 0.9002918351027942, 0.7979551434732856, 0.9064088785015963, 0.8411594948926566, 0.8997392628084813, 0.8664077548269866, 0.8595628043793953, 0.857485356311043, 0.8928846611973917, 0.8386981251690091, 0.8887556218025849, 0.8298608869813239, 0.9021455552465524, 0.9050542793398395, 0.9003298214985339, 0.8924888103308035, 0.8340631704583801, 0.9013900259665868, 0.891515912054619, 0.9010842699877143, 0.9064456224272128, 0.8021443775592632, 0.8530265632967697, 0.8227150954129812, 0.8416078749493412, 0.9176239112426428, 0.8998433260386649, 0.889624111284554, 0.9031010653425022, 0.8651649991332324, 0.8994642678700334, 0.9015295017526106]}, {\"categories\": [\"0\", \"1\", \"2\", \"3\", \"4\", \"5\", \"6\", \"7\", \"8\", \"9\", \"10\", \"11\", \"12\", \"13\", \"14\", \"15\", \"16\", \"17\", \"18\", \"19\", \"20\", \"21\", \"22\", \"23\", \"24\", \"25\", \"26\", \"27\", \"28\", \"29\", \"30\", \"31\", \"32\", \"33\", \"34\", \"35\", \"36\", \"37\", \"38\", \"39\", \"40\", \"41\", \"42\", \"43\", \"45\", \"46\"], \"mode\": \"lines\", \"name\": \"average_precision_score_weighted_max\", \"stepped\": true, \"type\": \"scatter\", \"data\": [0.862550328383885, 0.8809731628373969, 0.9005131890532977, 0.9005131890532977, 0.9054379814399847, 0.9054379814399847, 0.9054379814399847, 0.9054379814399847, 0.9054379814399847, 0.9086190111006074, 0.9086190111006074, 0.9086190111006074, 0.9086190111006074, 0.9086190111006074, 0.9086190111006074, 0.9086190111006074, 0.9086190111006074, 0.9086190111006074, 0.9086190111006074, 0.9086190111006074, 0.9086190111006074, 0.9086190111006074, 0.9086190111006074, 0.9086190111006074, 0.9086190111006074, 0.9086190111006074, 0.9086190111006074, 0.9086190111006074, 0.9086190111006074, 0.9086190111006074, 0.9086190111006074, 0.9086190111006074, 0.9086190111006074, 0.9086190111006074, 0.9086190111006074, 0.9086190111006074, 0.9086190111006074, 0.9086190111006074, 0.9086190111006074, 0.9176239112426428, 0.9176239112426428, 0.9176239112426428, 0.9176239112426428, 0.9176239112426428, 0.9176239112426428, 0.9176239112426428]}], \"recall_score_weighted\": [{\"categories\": [\"0\", \"1\", \"2\", \"3\", \"4\", \"5\", \"6\", \"7\", \"8\", \"9\", \"10\", \"11\", \"12\", \"13\", \"14\", \"15\", \"16\", \"17\", \"18\", \"19\", \"20\", \"21\", \"22\", \"23\", \"24\", \"25\", \"26\", \"27\", \"28\", \"29\", \"30\", \"31\", \"32\", \"33\", \"34\", \"35\", \"36\", \"37\", \"38\", \"39\", \"40\", \"41\", \"42\", \"43\", \"45\", \"46\"], \"mode\": \"markers\", \"name\": \"recall_score_weighted\", \"stepped\": false, \"type\": \"scatter\", \"data\": [0.8127069351230425, 0.8461297539149888, 0.8195078299776286, 0.8528187919463087, 0.8158612975391499, 0.6989261744966443, 0.6822371364653244, 0.7626174496644296, 0.8361297539149888, 0.8394854586129754, 0.8361073825503356, 0.8260626398210291, 0.792751677852349, 0.792572706935123, 0.7558836689038031, 0.6923042505592841, 0.8293736017897092, 0.6856599552572706, 0.8394630872483222, 0.8361073825503356, 0.6789485458612976, 0.7458836689038031, 0.8260626398210291, 0.7090380313199105, 0.7292170022371365, 0.6789485458612976, 0.8461744966442952, 0.839440715883669, 0.852841163310962, 0.8293736017897092, 0.8327740492170023, 0.8394854586129754, 0.8093736017897092, 0.8394854586129754, 0.8394630872483222, 0.7524608501118568, 0.792572706935123, 0.7357270693512303, 0.7758612975391499, 0.8361073825503356, 0.7358389261744966, 0.8428187919463087, 0.8394630872483222, 0.789261744966443, 0.8595749440715883, 0.8193288590604026]}, {\"categories\": [\"0\", \"1\", \"2\", \"3\", \"4\", \"5\", \"6\", \"7\", \"8\", \"9\", \"10\", \"11\", \"12\", \"13\", \"14\", \"15\", \"16\", \"17\", \"18\", \"19\", \"20\", \"21\", \"22\", \"23\", \"24\", \"25\", \"26\", \"27\", \"28\", \"29\", \"30\", \"31\", \"32\", \"33\", \"34\", \"35\", \"36\", \"37\", \"38\", \"39\", \"40\", \"41\", \"42\", \"43\", \"45\", \"46\"], \"mode\": \"lines\", \"name\": \"recall_score_weighted_max\", \"stepped\": true, \"type\": \"scatter\", \"data\": [0.8127069351230425, 0.8461297539149888, 0.8461297539149888, 0.8528187919463087, 0.8528187919463087, 0.8528187919463087, 0.8528187919463087, 0.8528187919463087, 0.8528187919463087, 0.8528187919463087, 0.8528187919463087, 0.8528187919463087, 0.8528187919463087, 0.8528187919463087, 0.8528187919463087, 0.8528187919463087, 0.8528187919463087, 0.8528187919463087, 0.8528187919463087, 0.8528187919463087, 0.8528187919463087, 0.8528187919463087, 0.8528187919463087, 0.8528187919463087, 0.8528187919463087, 0.8528187919463087, 0.8528187919463087, 0.8528187919463087, 0.852841163310962, 0.852841163310962, 0.852841163310962, 0.852841163310962, 0.852841163310962, 0.852841163310962, 0.852841163310962, 0.852841163310962, 0.852841163310962, 0.852841163310962, 0.852841163310962, 0.852841163310962, 0.852841163310962, 0.852841163310962, 0.852841163310962, 0.852841163310962, 0.8595749440715883, 0.8595749440715883]}], \"AUC_micro\": [{\"categories\": [\"0\", \"1\", \"2\", \"3\", \"4\", \"5\", \"6\", \"7\", \"8\", \"9\", \"10\", \"11\", \"12\", \"13\", \"14\", \"15\", \"16\", \"17\", \"18\", \"19\", \"20\", \"21\", \"22\", \"23\", \"24\", \"25\", \"26\", \"27\", \"28\", \"29\", \"30\", \"31\", \"32\", \"33\", \"34\", \"35\", \"36\", \"37\", \"38\", \"39\", \"40\", \"41\", \"42\", \"43\", \"45\", \"46\"], \"mode\": \"markers\", \"name\": \"AUC_micro\", \"stepped\": false, \"type\": \"scatter\", \"data\": [0.8778265723766197, 0.8920033752233384, 0.8998719857463877, 0.9096884474673312, 0.8970433333833812, 0.7912870351185383, 0.7795652247896742, 0.8731378316292059, 0.9092104089405383, 0.9033215931214309, 0.9092110065112182, 0.8979492785610257, 0.8774365959491315, 0.8688086902992358, 0.8601790600023023, 0.8108441601729652, 0.9081236891231126, 0.82479223158116, 0.8890621103153511, 0.8901062564749336, 0.8393024438338614, 0.8478853835412818, 0.895729901055508, 0.8266076443003068, 0.8568387690244184, 0.8136653343943467, 0.8953224169081472, 0.9101562362055763, 0.9063468092027887, 0.8991687331401488, 0.8906627849596365, 0.9047989600068065, 0.8937159827635391, 0.906009135724617, 0.9098529815974254, 0.8368892742569154, 0.8515150889099089, 0.8274420641712836, 0.8433004989765226, 0.9159698532098154, 0.8693353632719246, 0.8841259342672252, 0.904721144693182, 0.8708246275192808, 0.9058955552552688, 0.8901794333588577]}, {\"categories\": [\"0\", \"1\", \"2\", \"3\", \"4\", \"5\", \"6\", \"7\", \"8\", \"9\", \"10\", \"11\", \"12\", \"13\", \"14\", \"15\", \"16\", \"17\", \"18\", \"19\", \"20\", \"21\", \"22\", \"23\", \"24\", \"25\", \"26\", \"27\", \"28\", \"29\", \"30\", \"31\", \"32\", \"33\", \"34\", \"35\", \"36\", \"37\", \"38\", \"39\", \"40\", \"41\", \"42\", \"43\", \"45\", \"46\"], \"mode\": \"lines\", \"name\": \"AUC_micro_max\", \"stepped\": true, \"type\": \"scatter\", \"data\": [0.8778265723766197, 0.8920033752233384, 0.8998719857463877, 0.9096884474673312, 0.9096884474673312, 0.9096884474673312, 0.9096884474673312, 0.9096884474673312, 0.9096884474673312, 0.9096884474673312, 0.9096884474673312, 0.9096884474673312, 0.9096884474673312, 0.9096884474673312, 0.9096884474673312, 0.9096884474673312, 0.9096884474673312, 0.9096884474673312, 0.9096884474673312, 0.9096884474673312, 0.9096884474673312, 0.9096884474673312, 0.9096884474673312, 0.9096884474673312, 0.9096884474673312, 0.9096884474673312, 0.9096884474673312, 0.9101562362055763, 0.9101562362055763, 0.9101562362055763, 0.9101562362055763, 0.9101562362055763, 0.9101562362055763, 0.9101562362055763, 0.9101562362055763, 0.9101562362055763, 0.9101562362055763, 0.9101562362055763, 0.9101562362055763, 0.9159698532098154, 0.9159698532098154, 0.9159698532098154, 0.9159698532098154, 0.9159698532098154, 0.9159698532098154, 0.9159698532098154]}], \"weighted_accuracy\": [{\"categories\": [\"0\", \"1\", \"2\", \"3\", \"4\", \"5\", \"6\", \"7\", \"8\", \"9\", \"10\", \"11\", \"12\", \"13\", \"14\", \"15\", \"16\", \"17\", \"18\", \"19\", \"20\", \"21\", \"22\", \"23\", \"24\", \"25\", \"26\", \"27\", \"28\", \"29\", \"30\", \"31\", \"32\", \"33\", \"34\", \"35\", \"36\", \"37\", \"38\", \"39\", \"40\", \"41\", \"42\", \"43\", \"45\", \"46\"], \"mode\": \"markers\", \"name\": \"weighted_accuracy\", \"stepped\": false, \"type\": \"scatter\", \"data\": [0.8569164934675346, 0.8714391052638473, 0.8623820569998334, 0.8798412297285798, 0.833227851927825, 0.7831286616377253, 0.7669480906413356, 0.8536562249837253, 0.8722646938396464, 0.8784884312534258, 0.8681022178770696, 0.8709186774129714, 0.8665412457450352, 0.8241689005379624, 0.8543714700082528, 0.8075393302504412, 0.8621594667714416, 0.8208952755709241, 0.8807497002215037, 0.8679850922773191, 0.8171689614505722, 0.83993502734644, 0.8644949324823168, 0.8278013984181318, 0.8389355087963859, 0.8171689614505722, 0.8888365946954591, 0.8677489379519696, 0.8796431253375532, 0.8556185962410365, 0.8747621171330738, 0.8786055568531763, 0.8401788287774723, 0.880551595830477, 0.8720285395142968, 0.7846217220607568, 0.8052490425452496, 0.7534582030090577, 0.785140246785784, 0.8744088372079739, 0.8387422833279896, 0.8847931474584814, 0.8829299903983053, 0.8245583272715367, 0.8941899115506375, 0.8412269855620254]}, {\"categories\": [\"0\", \"1\", \"2\", \"3\", \"4\", \"5\", \"6\", \"7\", \"8\", \"9\", \"10\", \"11\", \"12\", \"13\", \"14\", \"15\", \"16\", \"17\", \"18\", \"19\", \"20\", \"21\", \"22\", \"23\", \"24\", \"25\", \"26\", \"27\", \"28\", \"29\", \"30\", \"31\", \"32\", \"33\", \"34\", \"35\", \"36\", \"37\", \"38\", \"39\", \"40\", \"41\", \"42\", \"43\", \"45\", \"46\"], \"mode\": \"lines\", \"name\": \"weighted_accuracy_max\", \"stepped\": true, \"type\": \"scatter\", \"data\": [0.8569164934675346, 0.8714391052638473, 0.8714391052638473, 0.8798412297285798, 0.8798412297285798, 0.8798412297285798, 0.8798412297285798, 0.8798412297285798, 0.8798412297285798, 0.8798412297285798, 0.8798412297285798, 0.8798412297285798, 0.8798412297285798, 0.8798412297285798, 0.8798412297285798, 0.8798412297285798, 0.8798412297285798, 0.8798412297285798, 0.8807497002215037, 0.8807497002215037, 0.8807497002215037, 0.8807497002215037, 0.8807497002215037, 0.8807497002215037, 0.8807497002215037, 0.8807497002215037, 0.8888365946954591, 0.8888365946954591, 0.8888365946954591, 0.8888365946954591, 0.8888365946954591, 0.8888365946954591, 0.8888365946954591, 0.8888365946954591, 0.8888365946954591, 0.8888365946954591, 0.8888365946954591, 0.8888365946954591, 0.8888365946954591, 0.8888365946954591, 0.8888365946954591, 0.8888365946954591, 0.8888365946954591, 0.8888365946954591, 0.8941899115506375, 0.8941899115506375]}], \"f1_score_micro\": [{\"categories\": [\"0\", \"1\", \"2\", \"3\", \"4\", \"5\", \"6\", \"7\", \"8\", \"9\", \"10\", \"11\", \"12\", \"13\", \"14\", \"15\", \"16\", \"17\", \"18\", \"19\", \"20\", \"21\", \"22\", \"23\", \"24\", \"25\", \"26\", \"27\", \"28\", \"29\", \"30\", \"31\", \"32\", \"33\", \"34\", \"35\", \"36\", \"37\", \"38\", \"39\", \"40\", \"41\", \"42\", \"43\", \"45\", \"46\"], \"mode\": \"markers\", \"name\": \"f1_score_micro\", \"stepped\": false, \"type\": \"scatter\", \"data\": [0.8127069351230425, 0.8461297539149889, 0.8195078299776286, 0.8528187919463086, 0.8158612975391499, 0.6989261744966443, 0.6822371364653244, 0.7626174496644295, 0.8361297539149888, 0.8394854586129754, 0.8361073825503356, 0.8260626398210291, 0.792751677852349, 0.792572706935123, 0.7558836689038031, 0.6923042505592841, 0.8293736017897092, 0.6856599552572706, 0.8394630872483221, 0.8361073825503356, 0.6789485458612976, 0.7458836689038031, 0.8260626398210291, 0.7090380313199105, 0.7292170022371365, 0.6789485458612976, 0.8461744966442952, 0.839440715883669, 0.852841163310962, 0.8293736017897092, 0.8327740492170023, 0.8394854586129754, 0.8093736017897091, 0.8394854586129754, 0.8394630872483221, 0.7524608501118568, 0.792572706935123, 0.7357270693512304, 0.7758612975391499, 0.8361073825503356, 0.7358389261744966, 0.8428187919463086, 0.8394630872483221, 0.789261744966443, 0.8595749440715883, 0.8193288590604026]}, {\"categories\": [\"0\", \"1\", \"2\", \"3\", \"4\", \"5\", \"6\", \"7\", \"8\", \"9\", \"10\", \"11\", \"12\", \"13\", \"14\", \"15\", \"16\", \"17\", \"18\", \"19\", \"20\", \"21\", \"22\", \"23\", \"24\", \"25\", \"26\", \"27\", \"28\", \"29\", \"30\", \"31\", \"32\", \"33\", \"34\", \"35\", \"36\", \"37\", \"38\", \"39\", \"40\", \"41\", \"42\", \"43\", \"45\", \"46\"], \"mode\": \"lines\", \"name\": \"f1_score_micro_max\", \"stepped\": true, \"type\": \"scatter\", \"data\": [0.8127069351230425, 0.8461297539149889, 0.8461297539149889, 0.8528187919463086, 0.8528187919463086, 0.8528187919463086, 0.8528187919463086, 0.8528187919463086, 0.8528187919463086, 0.8528187919463086, 0.8528187919463086, 0.8528187919463086, 0.8528187919463086, 0.8528187919463086, 0.8528187919463086, 0.8528187919463086, 0.8528187919463086, 0.8528187919463086, 0.8528187919463086, 0.8528187919463086, 0.8528187919463086, 0.8528187919463086, 0.8528187919463086, 0.8528187919463086, 0.8528187919463086, 0.8528187919463086, 0.8528187919463086, 0.8528187919463086, 0.852841163310962, 0.852841163310962, 0.852841163310962, 0.852841163310962, 0.852841163310962, 0.852841163310962, 0.852841163310962, 0.852841163310962, 0.852841163310962, 0.852841163310962, 0.852841163310962, 0.852841163310962, 0.852841163310962, 0.852841163310962, 0.852841163310962, 0.852841163310962, 0.8595749440715883, 0.8595749440715883]}], \"f1_score_weighted\": [{\"categories\": [\"0\", \"1\", \"2\", \"3\", \"4\", \"5\", \"6\", \"7\", \"8\", \"9\", \"10\", \"11\", \"12\", \"13\", \"14\", \"15\", \"16\", \"17\", \"18\", \"19\", \"20\", \"21\", \"22\", \"23\", \"24\", \"25\", \"26\", \"27\", \"28\", \"29\", \"30\", \"31\", \"32\", \"33\", \"34\", \"35\", \"36\", \"37\", \"38\", \"39\", \"40\", \"41\", \"42\", \"43\", \"45\", \"46\"], \"mode\": \"markers\", \"name\": \"f1_score_weighted\", \"stepped\": false, \"type\": \"scatter\", \"data\": [0.8048405818640718, 0.8431811137084118, 0.8082777923655562, 0.8504171317139001, 0.8168720873865384, 0.6552852563324012, 0.6281540716547105, 0.7189909370646741, 0.8306192967302546, 0.8332620678294016, 0.8322682165054179, 0.8181624681777895, 0.7660900173651851, 0.7895137429477475, 0.7069091251016462, 0.6141776382125793, 0.825609260549309, 0.5642415519793365, 0.8329989397699994, 0.8319095285260056, 0.5491321514835512, 0.6986988246002466, 0.8202860496437244, 0.6266454006448029, 0.6593109375458868, 0.5491321514835512, 0.839264588095482, 0.8362273477113016, 0.8498749833017969, 0.8268628103445343, 0.8259105580429719, 0.8335907311926922, 0.8062721783332507, 0.8323336300793361, 0.8350342176026724, 0.7509745595954386, 0.794950713475209, 0.7375547157783289, 0.7795053884710512, 0.8301336903854976, 0.6802307078145649, 0.8361249595910751, 0.8323676504889137, 0.78539881769664, 0.8547080576666007, 0.8172758054138731]}, {\"categories\": [\"0\", \"1\", \"2\", \"3\", \"4\", \"5\", \"6\", \"7\", \"8\", \"9\", \"10\", \"11\", \"12\", \"13\", \"14\", \"15\", \"16\", \"17\", \"18\", \"19\", \"20\", \"21\", \"22\", \"23\", \"24\", \"25\", \"26\", \"27\", \"28\", \"29\", \"30\", \"31\", \"32\", \"33\", \"34\", \"35\", \"36\", \"37\", \"38\", \"39\", \"40\", \"41\", \"42\", \"43\", \"45\", \"46\"], \"mode\": \"lines\", \"name\": \"f1_score_weighted_max\", \"stepped\": true, \"type\": \"scatter\", \"data\": [0.8048405818640718, 0.8431811137084118, 0.8431811137084118, 0.8504171317139001, 0.8504171317139001, 0.8504171317139001, 0.8504171317139001, 0.8504171317139001, 0.8504171317139001, 0.8504171317139001, 0.8504171317139001, 0.8504171317139001, 0.8504171317139001, 0.8504171317139001, 0.8504171317139001, 0.8504171317139001, 0.8504171317139001, 0.8504171317139001, 0.8504171317139001, 0.8504171317139001, 0.8504171317139001, 0.8504171317139001, 0.8504171317139001, 0.8504171317139001, 0.8504171317139001, 0.8504171317139001, 0.8504171317139001, 0.8504171317139001, 0.8504171317139001, 0.8504171317139001, 0.8504171317139001, 0.8504171317139001, 0.8504171317139001, 0.8504171317139001, 0.8504171317139001, 0.8504171317139001, 0.8504171317139001, 0.8504171317139001, 0.8504171317139001, 0.8504171317139001, 0.8504171317139001, 0.8504171317139001, 0.8504171317139001, 0.8504171317139001, 0.8547080576666007, 0.8547080576666007]}], \"accuracy\": [{\"categories\": [\"0\", \"1\", \"2\", \"3\", \"4\", \"5\", \"6\", \"7\", \"8\", \"9\", \"10\", \"11\", \"12\", \"13\", \"14\", \"15\", \"16\", \"17\", \"18\", \"19\", \"20\", \"21\", \"22\", \"23\", \"24\", \"25\", \"26\", \"27\", \"28\", \"29\", \"30\", \"31\", \"32\", \"33\", \"34\", \"35\", \"36\", \"37\", \"38\", \"39\", \"40\", \"41\", \"42\", \"43\", \"45\", \"46\"], \"mode\": \"markers\", \"name\": \"accuracy\", \"stepped\": false, \"type\": \"scatter\", \"data\": [0.8127069351230425, 0.8461297539149888, 0.8195078299776286, 0.8528187919463087, 0.8158612975391499, 0.6989261744966443, 0.6822371364653244, 0.7626174496644296, 0.8361297539149888, 0.8394854586129754, 0.8361073825503356, 0.8260626398210291, 0.792751677852349, 0.792572706935123, 0.7558836689038031, 0.6923042505592841, 0.8293736017897092, 0.6856599552572706, 0.8394630872483222, 0.8361073825503356, 0.6789485458612976, 0.7458836689038031, 0.8260626398210291, 0.7090380313199105, 0.7292170022371365, 0.6789485458612976, 0.8461744966442952, 0.839440715883669, 0.852841163310962, 0.8293736017897092, 0.8327740492170023, 0.8394854586129754, 0.8093736017897092, 0.8394854586129754, 0.8394630872483222, 0.7524608501118568, 0.792572706935123, 0.7357270693512303, 0.7758612975391499, 0.8361073825503356, 0.7358389261744966, 0.8428187919463087, 0.8394630872483222, 0.789261744966443, 0.8595749440715883, 0.8193288590604026]}, {\"categories\": [\"0\", \"1\", \"2\", \"3\", \"4\", \"5\", \"6\", \"7\", \"8\", \"9\", \"10\", \"11\", \"12\", \"13\", \"14\", \"15\", \"16\", \"17\", \"18\", \"19\", \"20\", \"21\", \"22\", \"23\", \"24\", \"25\", \"26\", \"27\", \"28\", \"29\", \"30\", \"31\", \"32\", \"33\", \"34\", \"35\", \"36\", \"37\", \"38\", \"39\", \"40\", \"41\", \"42\", \"43\", \"45\", \"46\"], \"mode\": \"lines\", \"name\": \"accuracy_max\", \"stepped\": true, \"type\": \"scatter\", \"data\": [0.8127069351230425, 0.8461297539149888, 0.8461297539149888, 0.8528187919463087, 0.8528187919463087, 0.8528187919463087, 0.8528187919463087, 0.8528187919463087, 0.8528187919463087, 0.8528187919463087, 0.8528187919463087, 0.8528187919463087, 0.8528187919463087, 0.8528187919463087, 0.8528187919463087, 0.8528187919463087, 0.8528187919463087, 0.8528187919463087, 0.8528187919463087, 0.8528187919463087, 0.8528187919463087, 0.8528187919463087, 0.8528187919463087, 0.8528187919463087, 0.8528187919463087, 0.8528187919463087, 0.8528187919463087, 0.8528187919463087, 0.852841163310962, 0.852841163310962, 0.852841163310962, 0.852841163310962, 0.852841163310962, 0.852841163310962, 0.852841163310962, 0.852841163310962, 0.852841163310962, 0.852841163310962, 0.852841163310962, 0.852841163310962, 0.852841163310962, 0.852841163310962, 0.852841163310962, 0.852841163310962, 0.8595749440715883, 0.8595749440715883]}], \"recall_score_micro\": [{\"categories\": [\"0\", \"1\", \"2\", \"3\", \"4\", \"5\", \"6\", \"7\", \"8\", \"9\", \"10\", \"11\", \"12\", \"13\", \"14\", \"15\", \"16\", \"17\", \"18\", \"19\", \"20\", \"21\", \"22\", \"23\", \"24\", \"25\", \"26\", \"27\", \"28\", \"29\", \"30\", \"31\", \"32\", \"33\", \"34\", \"35\", \"36\", \"37\", \"38\", \"39\", \"40\", \"41\", \"42\", \"43\", \"45\", \"46\"], \"mode\": \"markers\", \"name\": \"recall_score_micro\", \"stepped\": false, \"type\": \"scatter\", \"data\": [0.8127069351230425, 0.8461297539149888, 0.8195078299776286, 0.8528187919463087, 0.8158612975391499, 0.6989261744966443, 0.6822371364653244, 0.7626174496644296, 0.8361297539149888, 0.8394854586129754, 0.8361073825503356, 0.8260626398210291, 0.792751677852349, 0.792572706935123, 0.7558836689038031, 0.6923042505592841, 0.8293736017897092, 0.6856599552572706, 0.8394630872483222, 0.8361073825503356, 0.6789485458612976, 0.7458836689038031, 0.8260626398210291, 0.7090380313199105, 0.7292170022371365, 0.6789485458612976, 0.8461744966442952, 0.839440715883669, 0.852841163310962, 0.8293736017897092, 0.8327740492170023, 0.8394854586129754, 0.8093736017897092, 0.8394854586129754, 0.8394630872483222, 0.7524608501118568, 0.792572706935123, 0.7357270693512303, 0.7758612975391499, 0.8361073825503356, 0.7358389261744966, 0.8428187919463087, 0.8394630872483222, 0.789261744966443, 0.8595749440715883, 0.8193288590604026]}, {\"categories\": [\"0\", \"1\", \"2\", \"3\", \"4\", \"5\", \"6\", \"7\", \"8\", \"9\", \"10\", \"11\", \"12\", \"13\", \"14\", \"15\", \"16\", \"17\", \"18\", \"19\", \"20\", \"21\", \"22\", \"23\", \"24\", \"25\", \"26\", \"27\", \"28\", \"29\", \"30\", \"31\", \"32\", \"33\", \"34\", \"35\", \"36\", \"37\", \"38\", \"39\", \"40\", \"41\", \"42\", \"43\", \"45\", \"46\"], \"mode\": \"lines\", \"name\": \"recall_score_micro_max\", \"stepped\": true, \"type\": \"scatter\", \"data\": [0.8127069351230425, 0.8461297539149888, 0.8461297539149888, 0.8528187919463087, 0.8528187919463087, 0.8528187919463087, 0.8528187919463087, 0.8528187919463087, 0.8528187919463087, 0.8528187919463087, 0.8528187919463087, 0.8528187919463087, 0.8528187919463087, 0.8528187919463087, 0.8528187919463087, 0.8528187919463087, 0.8528187919463087, 0.8528187919463087, 0.8528187919463087, 0.8528187919463087, 0.8528187919463087, 0.8528187919463087, 0.8528187919463087, 0.8528187919463087, 0.8528187919463087, 0.8528187919463087, 0.8528187919463087, 0.8528187919463087, 0.852841163310962, 0.852841163310962, 0.852841163310962, 0.852841163310962, 0.852841163310962, 0.852841163310962, 0.852841163310962, 0.852841163310962, 0.852841163310962, 0.852841163310962, 0.852841163310962, 0.852841163310962, 0.852841163310962, 0.852841163310962, 0.852841163310962, 0.852841163310962, 0.8595749440715883, 0.8595749440715883]}], \"average_precision_score_micro\": [{\"categories\": [\"0\", \"1\", \"2\", \"3\", \"4\", \"5\", \"6\", \"7\", \"8\", \"9\", \"10\", \"11\", \"12\", \"13\", \"14\", \"15\", \"16\", \"17\", \"18\", \"19\", \"20\", \"21\", \"22\", \"23\", \"24\", \"25\", \"26\", \"27\", \"28\", \"29\", \"30\", \"31\", \"32\", \"33\", \"34\", \"35\", \"36\", \"37\", \"38\", \"39\", \"40\", \"41\", \"42\", \"43\", \"45\", \"46\"], \"mode\": \"markers\", \"name\": \"average_precision_score_micro\", \"stepped\": false, \"type\": \"scatter\", \"data\": [0.8729387725912188, 0.8827167126140475, 0.8948185589318594, 0.9070859552168008, 0.8990944849332185, 0.7847376125942731, 0.7723120278823904, 0.876654878123686, 0.8999531165167252, 0.9016500717983074, 0.9092637786385154, 0.8992493934504394, 0.8761880747165239, 0.8649232872991078, 0.868236056670957, 0.8169858757317741, 0.907755163276923, 0.8298993120909843, 0.8895749466012086, 0.8738052778939367, 0.839893548339884, 0.8543311700606524, 0.897693541734355, 0.833160518376443, 0.86255855893555, 0.8242582323277214, 0.8955944201915483, 0.9104167825857683, 0.9063822014423863, 0.8937511839250118, 0.8641569858049121, 0.9063909297655597, 0.8956866037268776, 0.9023780666447562, 0.9102348076285665, 0.8136372657252234, 0.844468381352309, 0.8307326956985703, 0.8388133944516554, 0.9168104452458483, 0.8765758117093561, 0.8834917626256014, 0.9047530488592013, 0.8742227863909038, 0.9031080863111631, 0.8780408308035743]}, {\"categories\": [\"0\", \"1\", \"2\", \"3\", \"4\", \"5\", \"6\", \"7\", \"8\", \"9\", \"10\", \"11\", \"12\", \"13\", \"14\", \"15\", \"16\", \"17\", \"18\", \"19\", \"20\", \"21\", \"22\", \"23\", \"24\", \"25\", \"26\", \"27\", \"28\", \"29\", \"30\", \"31\", \"32\", \"33\", \"34\", \"35\", \"36\", \"37\", \"38\", \"39\", \"40\", \"41\", \"42\", \"43\", \"45\", \"46\"], \"mode\": \"lines\", \"name\": \"average_precision_score_micro_max\", \"stepped\": true, \"type\": \"scatter\", \"data\": [0.8729387725912188, 0.8827167126140475, 0.8948185589318594, 0.9070859552168008, 0.9070859552168008, 0.9070859552168008, 0.9070859552168008, 0.9070859552168008, 0.9070859552168008, 0.9070859552168008, 0.9092637786385154, 0.9092637786385154, 0.9092637786385154, 0.9092637786385154, 0.9092637786385154, 0.9092637786385154, 0.9092637786385154, 0.9092637786385154, 0.9092637786385154, 0.9092637786385154, 0.9092637786385154, 0.9092637786385154, 0.9092637786385154, 0.9092637786385154, 0.9092637786385154, 0.9092637786385154, 0.9092637786385154, 0.9104167825857683, 0.9104167825857683, 0.9104167825857683, 0.9104167825857683, 0.9104167825857683, 0.9104167825857683, 0.9104167825857683, 0.9104167825857683, 0.9104167825857683, 0.9104167825857683, 0.9104167825857683, 0.9104167825857683, 0.9168104452458483, 0.9168104452458483, 0.9168104452458483, 0.9168104452458483, 0.9168104452458483, 0.9168104452458483, 0.9168104452458483]}], \"norm_macro_recall\": [{\"categories\": [\"0\", \"1\", \"2\", \"3\", \"4\", \"5\", \"6\", \"7\", \"8\", \"9\", \"10\", \"11\", \"12\", \"13\", \"14\", \"15\", \"16\", \"17\", \"18\", \"19\", \"20\", \"21\", \"22\", \"23\", \"24\", \"25\", \"26\", \"27\", \"28\", \"29\", \"30\", \"31\", \"32\", \"33\", \"34\", \"35\", \"36\", \"37\", \"38\", \"39\", \"40\", \"41\", \"42\", \"43\", \"45\", \"46\"], \"mode\": \"markers\", \"name\": \"norm_macro_recall\", \"stepped\": false, \"type\": \"scatter\", \"data\": [0.5115173518322433, 0.6277332083033339, 0.5292772259525255, 0.6361374126225169, 0.5875664991085964, 0.18125335240479168, 0.14700773926591915, 0.29029696985177045, 0.5794292016364161, 0.5785948253327031, 0.5899849090679036, 0.5365243843482199, 0.39524617515006844, 0.5040854344687107, 0.2571134836913489, 0.08665848896963468, 0.5744931846764406, 0.021276595744680882, 0.572424272004989, 0.5904676595727821, 0.0, 0.24896383664061794, 0.5532506451074215, 0.11078261091670705, 0.17499808012524576, 0.0, 0.5822281935736164, 0.6064080782934619, 0.6370543793670829, 0.5917021959405208, 0.5573182295880222, 0.5781120748278246, 0.5395366277962628, 0.573341238749555, 0.5953696203570958, 0.4219768168485005, 0.5528159652316794, 0.42653438034156144, 0.528160558514537, 0.5737413988135805, 0.20552773458235196, 0.5773262327893027, 0.5666879349169622, 0.4876137309779611, 0.6300835059113176, 0.5831668669152936]}, {\"categories\": [\"0\", \"1\", \"2\", \"3\", \"4\", \"5\", \"6\", \"7\", \"8\", \"9\", \"10\", \"11\", \"12\", \"13\", \"14\", \"15\", \"16\", \"17\", \"18\", \"19\", \"20\", \"21\", \"22\", \"23\", \"24\", \"25\", \"26\", \"27\", \"28\", \"29\", \"30\", \"31\", \"32\", \"33\", \"34\", \"35\", \"36\", \"37\", \"38\", \"39\", \"40\", \"41\", \"42\", \"43\", \"45\", \"46\"], \"mode\": \"lines\", \"name\": \"norm_macro_recall_max\", \"stepped\": true, \"type\": \"scatter\", \"data\": [0.5115173518322433, 0.6277332083033339, 0.6277332083033339, 0.6361374126225169, 0.6361374126225169, 0.6361374126225169, 0.6361374126225169, 0.6361374126225169, 0.6361374126225169, 0.6361374126225169, 0.6361374126225169, 0.6361374126225169, 0.6361374126225169, 0.6361374126225169, 0.6361374126225169, 0.6361374126225169, 0.6361374126225169, 0.6361374126225169, 0.6361374126225169, 0.6361374126225169, 0.6361374126225169, 0.6361374126225169, 0.6361374126225169, 0.6361374126225169, 0.6361374126225169, 0.6361374126225169, 0.6361374126225169, 0.6361374126225169, 0.6370543793670829, 0.6370543793670829, 0.6370543793670829, 0.6370543793670829, 0.6370543793670829, 0.6370543793670829, 0.6370543793670829, 0.6370543793670829, 0.6370543793670829, 0.6370543793670829, 0.6370543793670829, 0.6370543793670829, 0.6370543793670829, 0.6370543793670829, 0.6370543793670829, 0.6370543793670829, 0.6370543793670829, 0.6370543793670829]}], \"f1_score_macro\": [{\"categories\": [\"0\", \"1\", \"2\", \"3\", \"4\", \"5\", \"6\", \"7\", \"8\", \"9\", \"10\", \"11\", \"12\", \"13\", \"14\", \"15\", \"16\", \"17\", \"18\", \"19\", \"20\", \"21\", \"22\", \"23\", \"24\", \"25\", \"26\", \"27\", \"28\", \"29\", \"30\", \"31\", \"32\", \"33\", \"34\", \"35\", \"36\", \"37\", \"38\", \"39\", \"40\", \"41\", \"42\", \"43\", \"45\", \"46\"], \"mode\": \"markers\", \"name\": \"f1_score_macro\", \"stepped\": false, \"type\": \"scatter\", \"data\": [0.7692501942501943, 0.8182616971604036, 0.7719742723644525, 0.8261558461476664, 0.7924000749810417, 0.5759607196082606, 0.5409986584357158, 0.647779989976988, 0.8010591414475265, 0.8033361024228605, 0.8042159997695388, 0.784466185616025, 0.7122960372960373, 0.7563299663299663, 0.6299143006492792, 0.5060763850302983, 0.7966550637005292, 0.42642265949724584, 0.8025530857596197, 0.8037788154589607, 0.4043824701195219, 0.6219543739824015, 0.7887932189578684, 0.5183785487851239, 0.5641661381152818, 0.4043824701195219, 0.8094094479143583, 0.809686847406538, 0.8254383975812547, 0.7998834590190527, 0.7941716680662321, 0.8037782485672287, 0.7750589759680193, 0.8016409419983508, 0.8071033622158366, 0.7129571985339269, 0.768310095264521, 0.703891662242681, 0.7524582034008586, 0.8000351667739551, 0.5950629010469436, 0.8059631936557546, 0.8012370038599483, 0.7502614693506281, 0.8290805336125466, 0.7903882038578955]}, {\"categories\": [\"0\", \"1\", \"2\", \"3\", \"4\", \"5\", \"6\", \"7\", \"8\", \"9\", \"10\", \"11\", \"12\", \"13\", \"14\", \"15\", \"16\", \"17\", \"18\", \"19\", \"20\", \"21\", \"22\", \"23\", \"24\", \"25\", \"26\", \"27\", \"28\", \"29\", \"30\", \"31\", \"32\", \"33\", \"34\", \"35\", \"36\", \"37\", \"38\", \"39\", \"40\", \"41\", \"42\", \"43\", \"45\", \"46\"], \"mode\": \"lines\", \"name\": \"f1_score_macro_max\", \"stepped\": true, \"type\": \"scatter\", \"data\": [0.7692501942501943, 0.8182616971604036, 0.8182616971604036, 0.8261558461476664, 0.8261558461476664, 0.8261558461476664, 0.8261558461476664, 0.8261558461476664, 0.8261558461476664, 0.8261558461476664, 0.8261558461476664, 0.8261558461476664, 0.8261558461476664, 0.8261558461476664, 0.8261558461476664, 0.8261558461476664, 0.8261558461476664, 0.8261558461476664, 0.8261558461476664, 0.8261558461476664, 0.8261558461476664, 0.8261558461476664, 0.8261558461476664, 0.8261558461476664, 0.8261558461476664, 0.8261558461476664, 0.8261558461476664, 0.8261558461476664, 0.8261558461476664, 0.8261558461476664, 0.8261558461476664, 0.8261558461476664, 0.8261558461476664, 0.8261558461476664, 0.8261558461476664, 0.8261558461476664, 0.8261558461476664, 0.8261558461476664, 0.8261558461476664, 0.8261558461476664, 0.8261558461476664, 0.8261558461476664, 0.8261558461476664, 0.8261558461476664, 0.8290805336125466, 0.8290805336125466]}]}, \"metricName\": null, \"primaryMetricName\": \"accuracy\", \"showLegend\": false}, \"run_metrics\": [{\"name\": \"experiment_status\", \"run_id\": \"AutoML_5a6ae0d4-dc22-4937-8491-91faaeb4af56\", \"categories\": [0, 1, 2, 3, 4, 5, 6, 7, 8, 9, 10, 11, 12, 13], \"series\": [{\"data\": [\"DatasetEvaluation\", \"FeaturesGeneration\", \"DatasetFeaturization\", \"DatasetFeaturizationCompleted\", \"DatasetCrossValidationSplit\", \"ModelSelection\", \"BestRunExplainModel\", \"ModelExplanationDataSetSetup\", \"PickSurrogateModel\", \"EngineeredFeatureExplanations\", \"EngineeredFeatureExplanations\", \"RawFeaturesExplanations\", \"RawFeaturesExplanations\", \"BestRunExplainModel\"]}]}, {\"name\": \"experiment_status_description\", \"run_id\": \"AutoML_5a6ae0d4-dc22-4937-8491-91faaeb4af56\", \"categories\": [0, 1, 2, 3, 4, 5, 6, 7, 8, 9, 10, 11, 12, 13], \"series\": [{\"data\": [\"Gathering dataset statistics.\", \"Generating features for the dataset.\", \"Beginning to fit featurizers and featurize the dataset.\", \"Completed fit featurizers and featurizing the dataset.\", \"Generating individually featurized CV splits.\", \"Beginning model selection.\", \"Best run model explanations started\", \"Model explanations data setup completed\", \"Choosing LightGBM as the surrogate model for explanations\", \"Computation of engineered features started\", \"Computation of engineered features completed\", \"Computation of raw features started\", \"Computation of raw features completed\", \"Best run model explanations completed\"]}]}, {\"name\": \"accuracy\", \"run_id\": \"AutoML_5a6ae0d4-dc22-4937-8491-91faaeb4af56\", \"categories\": [0], \"series\": [{\"data\": [0.8595749440715883]}]}, {\"name\": \"precision_score_macro\", \"run_id\": \"AutoML_5a6ae0d4-dc22-4937-8491-91faaeb4af56\", \"categories\": [0], \"series\": [{\"data\": [0.8579949377870271]}]}, {\"name\": \"balanced_accuracy\", \"run_id\": \"AutoML_5a6ae0d4-dc22-4937-8491-91faaeb4af56\", \"categories\": [0], \"series\": [{\"data\": [0.8150417529556588]}]}, {\"name\": \"f1_score_weighted\", \"run_id\": \"AutoML_5a6ae0d4-dc22-4937-8491-91faaeb4af56\", \"categories\": [0], \"series\": [{\"data\": [0.8547080576666007]}]}, {\"name\": \"AUC_weighted\", \"run_id\": \"AutoML_5a6ae0d4-dc22-4937-8491-91faaeb4af56\", \"categories\": [0], \"series\": [{\"data\": [0.8929751171587237]}]}, {\"name\": \"weighted_accuracy\", \"run_id\": \"AutoML_5a6ae0d4-dc22-4937-8491-91faaeb4af56\", \"categories\": [0], \"series\": [{\"data\": [0.8941899115506375]}]}, {\"name\": \"average_precision_score_macro\", \"run_id\": \"AutoML_5a6ae0d4-dc22-4937-8491-91faaeb4af56\", \"categories\": [0], \"series\": [{\"data\": [0.8765666594118979]}]}, {\"name\": \"average_precision_score_micro\", \"run_id\": \"AutoML_5a6ae0d4-dc22-4937-8491-91faaeb4af56\", \"categories\": [0], \"series\": [{\"data\": [0.9031080863111631]}]}, {\"name\": \"AUC_micro\", \"run_id\": \"AutoML_5a6ae0d4-dc22-4937-8491-91faaeb4af56\", \"categories\": [0], \"series\": [{\"data\": [0.9058955552552688]}]}, {\"name\": \"recall_score_weighted\", \"run_id\": \"AutoML_5a6ae0d4-dc22-4937-8491-91faaeb4af56\", \"categories\": [0], \"series\": [{\"data\": [0.8595749440715883]}]}, {\"name\": \"precision_score_micro\", \"run_id\": \"AutoML_5a6ae0d4-dc22-4937-8491-91faaeb4af56\", \"categories\": [0], \"series\": [{\"data\": [0.8595749440715883]}]}, {\"name\": \"average_precision_score_weighted\", \"run_id\": \"AutoML_5a6ae0d4-dc22-4937-8491-91faaeb4af56\", \"categories\": [0], \"series\": [{\"data\": [0.8994642678700334]}]}, {\"name\": \"log_loss\", \"run_id\": \"AutoML_5a6ae0d4-dc22-4937-8491-91faaeb4af56\", \"categories\": [0], \"series\": [{\"data\": [0.4060963796406123]}]}, {\"name\": \"f1_score_micro\", \"run_id\": \"AutoML_5a6ae0d4-dc22-4937-8491-91faaeb4af56\", \"categories\": [0], \"series\": [{\"data\": [0.8595749440715883]}]}, {\"name\": \"precision_score_weighted\", \"run_id\": \"AutoML_5a6ae0d4-dc22-4937-8491-91faaeb4af56\", \"categories\": [0], \"series\": [{\"data\": [0.8611065119700444]}]}, {\"name\": \"recall_score_micro\", \"run_id\": \"AutoML_5a6ae0d4-dc22-4937-8491-91faaeb4af56\", \"categories\": [0], \"series\": [{\"data\": [0.8595749440715883]}]}, {\"name\": \"norm_macro_recall\", \"run_id\": \"AutoML_5a6ae0d4-dc22-4937-8491-91faaeb4af56\", \"categories\": [0], \"series\": [{\"data\": [0.6300835059113176]}]}, {\"name\": \"AUC_macro\", \"run_id\": \"AutoML_5a6ae0d4-dc22-4937-8491-91faaeb4af56\", \"categories\": [0], \"series\": [{\"data\": [0.8929751171587237]}]}, {\"name\": \"matthews_correlation\", \"run_id\": \"AutoML_5a6ae0d4-dc22-4937-8491-91faaeb4af56\", \"categories\": [0], \"series\": [{\"data\": [0.6709089459747068]}]}, {\"name\": \"recall_score_macro\", \"run_id\": \"AutoML_5a6ae0d4-dc22-4937-8491-91faaeb4af56\", \"categories\": [0], \"series\": [{\"data\": [0.8150417529556588]}]}, {\"name\": \"f1_score_macro\", \"run_id\": \"AutoML_5a6ae0d4-dc22-4937-8491-91faaeb4af56\", \"categories\": [0], \"series\": [{\"data\": [0.8290805336125466]}]}], \"run_logs\": \"\\nRun is completed.\", \"graph\": {}, \"widget_settings\": {\"childWidgetDisplay\": \"popup\", \"send_telemetry\": false, \"log_level\": \"INFO\", \"sdk_version\": \"1.22.0\"}, \"loading\": false}"
     },
     "metadata": {},
     "output_type": "display_data"
    },
    {
     "name": "stdout",
     "output_type": "stream",
     "text": [
      "===================================================\n",
      "Run(Experiment: heart-failure-prediction,\n",
      "Id: AutoML_5a6ae0d4-dc22-4937-8491-91faaeb4af56_46,\n",
      "Type: azureml.scriptrun,\n",
      "Status: Completed)\n",
      "===================================================\n",
      "Run(Experiment: heart-failure-prediction,\n",
      "Id: AutoML_5a6ae0d4-dc22-4937-8491-91faaeb4af56_45,\n",
      "Type: azureml.scriptrun,\n",
      "Status: Completed)\n",
      "===================================================\n",
      "Run(Experiment: heart-failure-prediction,\n",
      "Id: AutoML_5a6ae0d4-dc22-4937-8491-91faaeb4af56_44,\n",
      "Type: azureml.scriptrun,\n",
      "Status: Canceled)\n",
      "===================================================\n",
      "Run(Experiment: heart-failure-prediction,\n",
      "Id: AutoML_5a6ae0d4-dc22-4937-8491-91faaeb4af56_43,\n",
      "Type: azureml.scriptrun,\n",
      "Status: Canceled)\n",
      "===================================================\n",
      "Run(Experiment: heart-failure-prediction,\n",
      "Id: AutoML_5a6ae0d4-dc22-4937-8491-91faaeb4af56_42,\n",
      "Type: azureml.scriptrun,\n",
      "Status: Canceled)\n",
      "===================================================\n",
      "Run(Experiment: heart-failure-prediction,\n",
      "Id: AutoML_5a6ae0d4-dc22-4937-8491-91faaeb4af56_41,\n",
      "Type: azureml.scriptrun,\n",
      "Status: Completed)\n",
      "===================================================\n",
      "Run(Experiment: heart-failure-prediction,\n",
      "Id: AutoML_5a6ae0d4-dc22-4937-8491-91faaeb4af56_40,\n",
      "Type: azureml.scriptrun,\n",
      "Status: Completed)\n",
      "===================================================\n",
      "Run(Experiment: heart-failure-prediction,\n",
      "Id: AutoML_5a6ae0d4-dc22-4937-8491-91faaeb4af56_39,\n",
      "Type: azureml.scriptrun,\n",
      "Status: Completed)\n",
      "===================================================\n",
      "Run(Experiment: heart-failure-prediction,\n",
      "Id: AutoML_5a6ae0d4-dc22-4937-8491-91faaeb4af56_38,\n",
      "Type: azureml.scriptrun,\n",
      "Status: Completed)\n",
      "===================================================\n",
      "Run(Experiment: heart-failure-prediction,\n",
      "Id: AutoML_5a6ae0d4-dc22-4937-8491-91faaeb4af56_37,\n",
      "Type: azureml.scriptrun,\n",
      "Status: Completed)\n",
      "===================================================\n",
      "Run(Experiment: heart-failure-prediction,\n",
      "Id: AutoML_5a6ae0d4-dc22-4937-8491-91faaeb4af56_36,\n",
      "Type: azureml.scriptrun,\n",
      "Status: Completed)\n",
      "===================================================\n",
      "Run(Experiment: heart-failure-prediction,\n",
      "Id: AutoML_5a6ae0d4-dc22-4937-8491-91faaeb4af56_35,\n",
      "Type: azureml.scriptrun,\n",
      "Status: Completed)\n",
      "===================================================\n",
      "Run(Experiment: heart-failure-prediction,\n",
      "Id: AutoML_5a6ae0d4-dc22-4937-8491-91faaeb4af56_34,\n",
      "Type: azureml.scriptrun,\n",
      "Status: Completed)\n",
      "===================================================\n",
      "Run(Experiment: heart-failure-prediction,\n",
      "Id: AutoML_5a6ae0d4-dc22-4937-8491-91faaeb4af56_33,\n",
      "Type: azureml.scriptrun,\n",
      "Status: Completed)\n",
      "===================================================\n",
      "Run(Experiment: heart-failure-prediction,\n",
      "Id: AutoML_5a6ae0d4-dc22-4937-8491-91faaeb4af56_32,\n",
      "Type: azureml.scriptrun,\n",
      "Status: Completed)\n",
      "===================================================\n",
      "Run(Experiment: heart-failure-prediction,\n",
      "Id: AutoML_5a6ae0d4-dc22-4937-8491-91faaeb4af56_31,\n",
      "Type: azureml.scriptrun,\n",
      "Status: Completed)\n",
      "===================================================\n",
      "Run(Experiment: heart-failure-prediction,\n",
      "Id: AutoML_5a6ae0d4-dc22-4937-8491-91faaeb4af56_30,\n",
      "Type: azureml.scriptrun,\n",
      "Status: Completed)\n",
      "===================================================\n",
      "Run(Experiment: heart-failure-prediction,\n",
      "Id: AutoML_5a6ae0d4-dc22-4937-8491-91faaeb4af56_29,\n",
      "Type: azureml.scriptrun,\n",
      "Status: Completed)\n",
      "===================================================\n",
      "Run(Experiment: heart-failure-prediction,\n",
      "Id: AutoML_5a6ae0d4-dc22-4937-8491-91faaeb4af56_28,\n",
      "Type: azureml.scriptrun,\n",
      "Status: Completed)\n",
      "===================================================\n",
      "Run(Experiment: heart-failure-prediction,\n",
      "Id: AutoML_5a6ae0d4-dc22-4937-8491-91faaeb4af56_27,\n",
      "Type: azureml.scriptrun,\n",
      "Status: Completed)\n",
      "===================================================\n",
      "Run(Experiment: heart-failure-prediction,\n",
      "Id: AutoML_5a6ae0d4-dc22-4937-8491-91faaeb4af56_26,\n",
      "Type: azureml.scriptrun,\n",
      "Status: Completed)\n",
      "===================================================\n",
      "Run(Experiment: heart-failure-prediction,\n",
      "Id: AutoML_5a6ae0d4-dc22-4937-8491-91faaeb4af56_25,\n",
      "Type: azureml.scriptrun,\n",
      "Status: Completed)\n",
      "===================================================\n",
      "Run(Experiment: heart-failure-prediction,\n",
      "Id: AutoML_5a6ae0d4-dc22-4937-8491-91faaeb4af56_24,\n",
      "Type: azureml.scriptrun,\n",
      "Status: Completed)\n",
      "===================================================\n",
      "Run(Experiment: heart-failure-prediction,\n",
      "Id: AutoML_5a6ae0d4-dc22-4937-8491-91faaeb4af56_23,\n",
      "Type: azureml.scriptrun,\n",
      "Status: Completed)\n",
      "===================================================\n",
      "Run(Experiment: heart-failure-prediction,\n",
      "Id: AutoML_5a6ae0d4-dc22-4937-8491-91faaeb4af56_22,\n",
      "Type: azureml.scriptrun,\n",
      "Status: Completed)\n",
      "===================================================\n",
      "Run(Experiment: heart-failure-prediction,\n",
      "Id: AutoML_5a6ae0d4-dc22-4937-8491-91faaeb4af56_21,\n",
      "Type: azureml.scriptrun,\n",
      "Status: Completed)\n",
      "===================================================\n",
      "Run(Experiment: heart-failure-prediction,\n",
      "Id: AutoML_5a6ae0d4-dc22-4937-8491-91faaeb4af56_20,\n",
      "Type: azureml.scriptrun,\n",
      "Status: Completed)\n",
      "===================================================\n",
      "Run(Experiment: heart-failure-prediction,\n",
      "Id: AutoML_5a6ae0d4-dc22-4937-8491-91faaeb4af56_19,\n",
      "Type: azureml.scriptrun,\n",
      "Status: Completed)\n",
      "===================================================\n",
      "Run(Experiment: heart-failure-prediction,\n",
      "Id: AutoML_5a6ae0d4-dc22-4937-8491-91faaeb4af56_18,\n",
      "Type: azureml.scriptrun,\n",
      "Status: Completed)\n",
      "===================================================\n",
      "Run(Experiment: heart-failure-prediction,\n",
      "Id: AutoML_5a6ae0d4-dc22-4937-8491-91faaeb4af56_17,\n",
      "Type: azureml.scriptrun,\n",
      "Status: Completed)\n",
      "===================================================\n",
      "Run(Experiment: heart-failure-prediction,\n",
      "Id: AutoML_5a6ae0d4-dc22-4937-8491-91faaeb4af56_16,\n",
      "Type: azureml.scriptrun,\n",
      "Status: Completed)\n",
      "===================================================\n",
      "Run(Experiment: heart-failure-prediction,\n",
      "Id: AutoML_5a6ae0d4-dc22-4937-8491-91faaeb4af56_15,\n",
      "Type: azureml.scriptrun,\n",
      "Status: Completed)\n",
      "===================================================\n",
      "Run(Experiment: heart-failure-prediction,\n",
      "Id: AutoML_5a6ae0d4-dc22-4937-8491-91faaeb4af56_14,\n",
      "Type: azureml.scriptrun,\n",
      "Status: Completed)\n",
      "===================================================\n",
      "Run(Experiment: heart-failure-prediction,\n",
      "Id: AutoML_5a6ae0d4-dc22-4937-8491-91faaeb4af56_13,\n",
      "Type: azureml.scriptrun,\n",
      "Status: Completed)\n",
      "===================================================\n",
      "Run(Experiment: heart-failure-prediction,\n",
      "Id: AutoML_5a6ae0d4-dc22-4937-8491-91faaeb4af56_12,\n",
      "Type: azureml.scriptrun,\n",
      "Status: Completed)\n",
      "===================================================\n",
      "Run(Experiment: heart-failure-prediction,\n",
      "Id: AutoML_5a6ae0d4-dc22-4937-8491-91faaeb4af56_11,\n",
      "Type: azureml.scriptrun,\n",
      "Status: Completed)\n",
      "===================================================\n",
      "Run(Experiment: heart-failure-prediction,\n",
      "Id: AutoML_5a6ae0d4-dc22-4937-8491-91faaeb4af56_10,\n",
      "Type: azureml.scriptrun,\n",
      "Status: Completed)\n",
      "===================================================\n",
      "Run(Experiment: heart-failure-prediction,\n",
      "Id: AutoML_5a6ae0d4-dc22-4937-8491-91faaeb4af56_8,\n",
      "Type: azureml.scriptrun,\n",
      "Status: Completed)\n",
      "===================================================\n",
      "Run(Experiment: heart-failure-prediction,\n",
      "Id: AutoML_5a6ae0d4-dc22-4937-8491-91faaeb4af56_9,\n",
      "Type: azureml.scriptrun,\n",
      "Status: Completed)\n",
      "===================================================\n",
      "Run(Experiment: heart-failure-prediction,\n",
      "Id: AutoML_5a6ae0d4-dc22-4937-8491-91faaeb4af56_7,\n",
      "Type: azureml.scriptrun,\n",
      "Status: Completed)\n",
      "===================================================\n",
      "Run(Experiment: heart-failure-prediction,\n",
      "Id: AutoML_5a6ae0d4-dc22-4937-8491-91faaeb4af56_6,\n",
      "Type: azureml.scriptrun,\n",
      "Status: Completed)\n",
      "===================================================\n",
      "Run(Experiment: heart-failure-prediction,\n",
      "Id: AutoML_5a6ae0d4-dc22-4937-8491-91faaeb4af56_4,\n",
      "Type: azureml.scriptrun,\n",
      "Status: Completed)\n",
      "===================================================\n",
      "Run(Experiment: heart-failure-prediction,\n",
      "Id: AutoML_5a6ae0d4-dc22-4937-8491-91faaeb4af56_0,\n",
      "Type: azureml.scriptrun,\n",
      "Status: Completed)\n",
      "===================================================\n",
      "Run(Experiment: heart-failure-prediction,\n",
      "Id: AutoML_5a6ae0d4-dc22-4937-8491-91faaeb4af56_5,\n",
      "Type: azureml.scriptrun,\n",
      "Status: Completed)\n",
      "===================================================\n",
      "Run(Experiment: heart-failure-prediction,\n",
      "Id: AutoML_5a6ae0d4-dc22-4937-8491-91faaeb4af56_3,\n",
      "Type: azureml.scriptrun,\n",
      "Status: Completed)\n",
      "===================================================\n",
      "Run(Experiment: heart-failure-prediction,\n",
      "Id: AutoML_5a6ae0d4-dc22-4937-8491-91faaeb4af56_2,\n",
      "Type: azureml.scriptrun,\n",
      "Status: Completed)\n",
      "===================================================\n",
      "Run(Experiment: heart-failure-prediction,\n",
      "Id: AutoML_5a6ae0d4-dc22-4937-8491-91faaeb4af56_1,\n",
      "Type: azureml.scriptrun,\n",
      "Status: Completed)\n"
     ]
    }
   ],
   "source": [
    "\n",
    "RunDetails(remote_run).show()\n",
    "\n",
    "# Get details from each run\n",
    "for child_run in remote_run.get_children():\n",
    "    print('===================================================')\n",
    "    print(child_run)\n"
   ]
  },
  {
   "cell_type": "markdown",
   "metadata": {},
   "source": [
    "## Best Model\n",
    "In the cell below, I get the best model from the automl experiment and display all the properties of the model."
   ]
  },
  {
   "cell_type": "code",
   "execution_count": 27,
   "metadata": {},
   "outputs": [
    {
     "data": {
      "application/vnd.jupyter.widget-view+json": {
       "model_id": "a5f45af74d6c405596528fa1d4ecd5b1",
       "version_major": 2,
       "version_minor": 0
      },
      "text/plain": [
       "_AutoMLWidget(widget_settings={'childWidgetDisplay': 'popup', 'send_telemetry': False, 'log_level': 'INFO', 's…"
      ]
     },
     "metadata": {},
     "output_type": "display_data"
    },
    {
     "data": {
      "application/aml.mini.widget.v1": "{\"status\": \"Completed\", \"workbench_run_details_uri\": \"https://ml.azure.com/experiments/heart-failure-prediction/runs/AutoML_5a6ae0d4-dc22-4937-8491-91faaeb4af56?wsid=/subscriptions/9a7511b8-150f-4a58-8528-3e7d50216c31/resourcegroups/aml-quickstarts-139817/workspaces/quick-starts-ws-139817\", \"run_id\": \"AutoML_5a6ae0d4-dc22-4937-8491-91faaeb4af56\", \"run_properties\": {\"run_id\": \"AutoML_5a6ae0d4-dc22-4937-8491-91faaeb4af56\", \"created_utc\": \"2021-03-04T19:10:00.135241Z\", \"properties\": {\"num_iterations\": \"1000\", \"training_type\": \"TrainFull\", \"acquisition_function\": \"EI\", \"primary_metric\": \"accuracy\", \"train_split\": \"0\", \"acquisition_parameter\": \"0\", \"num_cross_validation\": \"2\", \"target\": \"compute-cluster2\", \"AMLSettingsJsonString\": \"{\\\"path\\\":null,\\\"name\\\":\\\"heart-failure-prediction\\\",\\\"subscription_id\\\":\\\"9a7511b8-150f-4a58-8528-3e7d50216c31\\\",\\\"resource_group\\\":\\\"aml-quickstarts-139817\\\",\\\"workspace_name\\\":\\\"quick-starts-ws-139817\\\",\\\"region\\\":\\\"southcentralus\\\",\\\"compute_target\\\":\\\"compute-cluster2\\\",\\\"spark_service\\\":null,\\\"azure_service\\\":\\\"remote\\\",\\\"many_models\\\":false,\\\"pipeline_fetch_max_batch_size\\\":1,\\\"iterations\\\":1000,\\\"primary_metric\\\":\\\"accuracy\\\",\\\"task_type\\\":\\\"classification\\\",\\\"data_script\\\":null,\\\"validation_size\\\":0.0,\\\"n_cross_validations\\\":2,\\\"y_min\\\":null,\\\"y_max\\\":null,\\\"num_classes\\\":null,\\\"featurization\\\":\\\"auto\\\",\\\"_ignore_package_version_incompatibilities\\\":false,\\\"is_timeseries\\\":false,\\\"max_cores_per_iteration\\\":1,\\\"max_concurrent_iterations\\\":4,\\\"iteration_timeout_minutes\\\":null,\\\"mem_in_mb\\\":null,\\\"enforce_time_on_windows\\\":false,\\\"experiment_timeout_minutes\\\":25,\\\"experiment_exit_score\\\":null,\\\"whitelist_models\\\":null,\\\"blacklist_algos\\\":[\\\"XGBoostClassifier\\\",\\\"TensorFlowLinearClassifier\\\",\\\"TensorFlowDNN\\\"],\\\"supported_models\\\":[\\\"BernoulliNaiveBayes\\\",\\\"MultinomialNaiveBayes\\\",\\\"DecisionTree\\\",\\\"RandomForest\\\",\\\"LightGBM\\\",\\\"GradientBoosting\\\",\\\"XGBoostClassifier\\\",\\\"KNN\\\",\\\"ExtremeRandomTrees\\\",\\\"SGD\\\",\\\"TensorFlowDNN\\\",\\\"SVM\\\",\\\"LinearSVM\\\",\\\"AveragedPerceptronClassifier\\\",\\\"LogisticRegression\\\",\\\"TensorFlowLinearClassifier\\\"],\\\"private_models\\\":[],\\\"auto_blacklist\\\":true,\\\"blacklist_samples_reached\\\":false,\\\"exclude_nan_labels\\\":true,\\\"verbosity\\\":20,\\\"_debug_log\\\":\\\"azureml_automl.log\\\",\\\"show_warnings\\\":false,\\\"model_explainability\\\":true,\\\"service_url\\\":null,\\\"sdk_url\\\":null,\\\"sdk_packages\\\":null,\\\"enable_onnx_compatible_models\\\":false,\\\"enable_split_onnx_featurizer_estimator_models\\\":false,\\\"vm_type\\\":\\\"STANDARD_DS3_V2\\\",\\\"telemetry_verbosity\\\":20,\\\"send_telemetry\\\":true,\\\"enable_dnn\\\":false,\\\"scenario\\\":\\\"SDK-1.13.0\\\",\\\"environment_label\\\":null,\\\"force_text_dnn\\\":false,\\\"enable_feature_sweeping\\\":true,\\\"enable_early_stopping\\\":true,\\\"early_stopping_n_iters\\\":10,\\\"metrics\\\":null,\\\"enable_ensembling\\\":true,\\\"enable_stack_ensembling\\\":true,\\\"ensemble_iterations\\\":15,\\\"enable_tf\\\":false,\\\"enable_subsampling\\\":null,\\\"subsample_seed\\\":null,\\\"enable_nimbusml\\\":false,\\\"enable_streaming\\\":false,\\\"force_streaming\\\":false,\\\"track_child_runs\\\":true,\\\"allowed_private_models\\\":[],\\\"label_column_name\\\":\\\"DEATH_EVENT\\\",\\\"weight_column_name\\\":null,\\\"cv_split_column_names\\\":null,\\\"enable_local_managed\\\":false,\\\"_local_managed_run_id\\\":null,\\\"cost_mode\\\":1,\\\"lag_length\\\":0,\\\"metric_operation\\\":\\\"maximize\\\",\\\"preprocess\\\":true}\", \"DataPrepJsonString\": \"{\\\\\\\"training_data\\\\\\\": \\\\\\\"{\\\\\\\\\\\\\\\"blocks\\\\\\\\\\\\\\\": [{\\\\\\\\\\\\\\\"id\\\\\\\\\\\\\\\": \\\\\\\\\\\\\\\"51c20d36-6a15-4784-ab95-381f15fc1310\\\\\\\\\\\\\\\", \\\\\\\\\\\\\\\"type\\\\\\\\\\\\\\\": \\\\\\\\\\\\\\\"Microsoft.DPrep.GetDatastoreFilesBlock\\\\\\\\\\\\\\\", \\\\\\\\\\\\\\\"arguments\\\\\\\\\\\\\\\": {\\\\\\\\\\\\\\\"datastores\\\\\\\\\\\\\\\": [{\\\\\\\\\\\\\\\"datastoreName\\\\\\\\\\\\\\\": \\\\\\\\\\\\\\\"workspaceblobstore\\\\\\\\\\\\\\\", \\\\\\\\\\\\\\\"path\\\\\\\\\\\\\\\": \\\\\\\\\\\\\\\"UI/03-04-2021_065652_UTC/heart_failure_clinical_records_dataset.csv\\\\\\\\\\\\\\\", \\\\\\\\\\\\\\\"resourceGroup\\\\\\\\\\\\\\\": \\\\\\\\\\\\\\\"aml-quickstarts-139817\\\\\\\\\\\\\\\", \\\\\\\\\\\\\\\"subscription\\\\\\\\\\\\\\\": \\\\\\\\\\\\\\\"9a7511b8-150f-4a58-8528-3e7d50216c31\\\\\\\\\\\\\\\", \\\\\\\\\\\\\\\"workspaceName\\\\\\\\\\\\\\\": \\\\\\\\\\\\\\\"quick-starts-ws-139817\\\\\\\\\\\\\\\"}]}, \\\\\\\\\\\\\\\"localData\\\\\\\\\\\\\\\": {}, \\\\\\\\\\\\\\\"isEnabled\\\\\\\\\\\\\\\": true, \\\\\\\\\\\\\\\"name\\\\\\\\\\\\\\\": null, \\\\\\\\\\\\\\\"annotation\\\\\\\\\\\\\\\": null}, {\\\\\\\\\\\\\\\"id\\\\\\\\\\\\\\\": \\\\\\\\\\\\\\\"e9db7820-74c6-4705-8ab3-9c0675a7ea46\\\\\\\\\\\\\\\", \\\\\\\\\\\\\\\"type\\\\\\\\\\\\\\\": \\\\\\\\\\\\\\\"Microsoft.DPrep.ParseDelimitedBlock\\\\\\\\\\\\\\\", \\\\\\\\\\\\\\\"arguments\\\\\\\\\\\\\\\": {\\\\\\\\\\\\\\\"columnHeadersMode\\\\\\\\\\\\\\\": 1, \\\\\\\\\\\\\\\"fileEncoding\\\\\\\\\\\\\\\": 0, \\\\\\\\\\\\\\\"handleQuotedLineBreaks\\\\\\\\\\\\\\\": false, \\\\\\\\\\\\\\\"preview\\\\\\\\\\\\\\\": false, \\\\\\\\\\\\\\\"separator\\\\\\\\\\\\\\\": \\\\\\\\\\\\\\\",\\\\\\\\\\\\\\\", \\\\\\\\\\\\\\\"skipRows\\\\\\\\\\\\\\\": 0, \\\\\\\\\\\\\\\"skipRowsMode\\\\\\\\\\\\\\\": 0}, \\\\\\\\\\\\\\\"localData\\\\\\\\\\\\\\\": {}, \\\\\\\\\\\\\\\"isEnabled\\\\\\\\\\\\\\\": true, \\\\\\\\\\\\\\\"name\\\\\\\\\\\\\\\": null, \\\\\\\\\\\\\\\"annotation\\\\\\\\\\\\\\\": null}, {\\\\\\\\\\\\\\\"id\\\\\\\\\\\\\\\": \\\\\\\\\\\\\\\"4450bc8c-a28f-412d-abab-0e03999efad9\\\\\\\\\\\\\\\", \\\\\\\\\\\\\\\"type\\\\\\\\\\\\\\\": \\\\\\\\\\\\\\\"Microsoft.DPrep.DropColumnsBlock\\\\\\\\\\\\\\\", \\\\\\\\\\\\\\\"arguments\\\\\\\\\\\\\\\": {\\\\\\\\\\\\\\\"columns\\\\\\\\\\\\\\\": {\\\\\\\\\\\\\\\"type\\\\\\\\\\\\\\\": 0, \\\\\\\\\\\\\\\"details\\\\\\\\\\\\\\\": {\\\\\\\\\\\\\\\"selectedColumns\\\\\\\\\\\\\\\": [\\\\\\\\\\\\\\\"Path\\\\\\\\\\\\\\\"]}}}, \\\\\\\\\\\\\\\"localData\\\\\\\\\\\\\\\": {}, \\\\\\\\\\\\\\\"isEnabled\\\\\\\\\\\\\\\": true, \\\\\\\\\\\\\\\"name\\\\\\\\\\\\\\\": null, \\\\\\\\\\\\\\\"annotation\\\\\\\\\\\\\\\": null}, {\\\\\\\\\\\\\\\"id\\\\\\\\\\\\\\\": \\\\\\\\\\\\\\\"4b46c21e-776c-4a2c-82af-93cf8662be09\\\\\\\\\\\\\\\", \\\\\\\\\\\\\\\"type\\\\\\\\\\\\\\\": \\\\\\\\\\\\\\\"Microsoft.DPrep.SetColumnTypesBlock\\\\\\\\\\\\\\\", \\\\\\\\\\\\\\\"arguments\\\\\\\\\\\\\\\": {\\\\\\\\\\\\\\\"columnConversion\\\\\\\\\\\\\\\": [{\\\\\\\\\\\\\\\"column\\\\\\\\\\\\\\\": {\\\\\\\\\\\\\\\"type\\\\\\\\\\\\\\\": 2, \\\\\\\\\\\\\\\"details\\\\\\\\\\\\\\\": {\\\\\\\\\\\\\\\"selectedColumn\\\\\\\\\\\\\\\": \\\\\\\\\\\\\\\"Path\\\\\\\\\\\\\\\"}}, \\\\\\\\\\\\\\\"typeProperty\\\\\\\\\\\\\\\": 0}, {\\\\\\\\\\\\\\\"column\\\\\\\\\\\\\\\": {\\\\\\\\\\\\\\\"type\\\\\\\\\\\\\\\": 2, \\\\\\\\\\\\\\\"details\\\\\\\\\\\\\\\": {\\\\\\\\\\\\\\\"selectedColumn\\\\\\\\\\\\\\\": \\\\\\\\\\\\\\\"age\\\\\\\\\\\\\\\"}}, \\\\\\\\\\\\\\\"typeProperty\\\\\\\\\\\\\\\": 3}, {\\\\\\\\\\\\\\\"column\\\\\\\\\\\\\\\": {\\\\\\\\\\\\\\\"type\\\\\\\\\\\\\\\": 2, \\\\\\\\\\\\\\\"details\\\\\\\\\\\\\\\": {\\\\\\\\\\\\\\\"selectedColumn\\\\\\\\\\\\\\\": \\\\\\\\\\\\\\\"anaemia\\\\\\\\\\\\\\\"}}, \\\\\\\\\\\\\\\"typeProperty\\\\\\\\\\\\\\\": 2}, {\\\\\\\\\\\\\\\"column\\\\\\\\\\\\\\\": {\\\\\\\\\\\\\\\"type\\\\\\\\\\\\\\\": 2, \\\\\\\\\\\\\\\"details\\\\\\\\\\\\\\\": {\\\\\\\\\\\\\\\"selectedColumn\\\\\\\\\\\\\\\": \\\\\\\\\\\\\\\"creatinine_phosphokinase\\\\\\\\\\\\\\\"}}, \\\\\\\\\\\\\\\"typeProperty\\\\\\\\\\\\\\\": 2}, {\\\\\\\\\\\\\\\"column\\\\\\\\\\\\\\\": {\\\\\\\\\\\\\\\"type\\\\\\\\\\\\\\\": 2, \\\\\\\\\\\\\\\"details\\\\\\\\\\\\\\\": {\\\\\\\\\\\\\\\"selectedColumn\\\\\\\\\\\\\\\": \\\\\\\\\\\\\\\"diabetes\\\\\\\\\\\\\\\"}}, \\\\\\\\\\\\\\\"typeProperty\\\\\\\\\\\\\\\": 2}, {\\\\\\\\\\\\\\\"column\\\\\\\\\\\\\\\": {\\\\\\\\\\\\\\\"type\\\\\\\\\\\\\\\": 2, \\\\\\\\\\\\\\\"details\\\\\\\\\\\\\\\": {\\\\\\\\\\\\\\\"selectedColumn\\\\\\\\\\\\\\\": \\\\\\\\\\\\\\\"ejection_fraction\\\\\\\\\\\\\\\"}}, \\\\\\\\\\\\\\\"typeProperty\\\\\\\\\\\\\\\": 2}, {\\\\\\\\\\\\\\\"column\\\\\\\\\\\\\\\": {\\\\\\\\\\\\\\\"type\\\\\\\\\\\\\\\": 2, \\\\\\\\\\\\\\\"details\\\\\\\\\\\\\\\": {\\\\\\\\\\\\\\\"selectedColumn\\\\\\\\\\\\\\\": \\\\\\\\\\\\\\\"high_blood_pressure\\\\\\\\\\\\\\\"}}, \\\\\\\\\\\\\\\"typeProperty\\\\\\\\\\\\\\\": 2}, {\\\\\\\\\\\\\\\"column\\\\\\\\\\\\\\\": {\\\\\\\\\\\\\\\"type\\\\\\\\\\\\\\\": 2, \\\\\\\\\\\\\\\"details\\\\\\\\\\\\\\\": {\\\\\\\\\\\\\\\"selectedColumn\\\\\\\\\\\\\\\": \\\\\\\\\\\\\\\"platelets\\\\\\\\\\\\\\\"}}, \\\\\\\\\\\\\\\"typeProperty\\\\\\\\\\\\\\\": 3}, {\\\\\\\\\\\\\\\"column\\\\\\\\\\\\\\\": {\\\\\\\\\\\\\\\"type\\\\\\\\\\\\\\\": 2, \\\\\\\\\\\\\\\"details\\\\\\\\\\\\\\\": {\\\\\\\\\\\\\\\"selectedColumn\\\\\\\\\\\\\\\": \\\\\\\\\\\\\\\"serum_creatinine\\\\\\\\\\\\\\\"}}, \\\\\\\\\\\\\\\"typeProperty\\\\\\\\\\\\\\\": 3}, {\\\\\\\\\\\\\\\"column\\\\\\\\\\\\\\\": {\\\\\\\\\\\\\\\"type\\\\\\\\\\\\\\\": 2, \\\\\\\\\\\\\\\"details\\\\\\\\\\\\\\\": {\\\\\\\\\\\\\\\"selectedColumn\\\\\\\\\\\\\\\": \\\\\\\\\\\\\\\"serum_sodium\\\\\\\\\\\\\\\"}}, \\\\\\\\\\\\\\\"typeProperty\\\\\\\\\\\\\\\": 2}, {\\\\\\\\\\\\\\\"column\\\\\\\\\\\\\\\": {\\\\\\\\\\\\\\\"type\\\\\\\\\\\\\\\": 2, \\\\\\\\\\\\\\\"details\\\\\\\\\\\\\\\": {\\\\\\\\\\\\\\\"selectedColumn\\\\\\\\\\\\\\\": \\\\\\\\\\\\\\\"sex\\\\\\\\\\\\\\\"}}, \\\\\\\\\\\\\\\"typeProperty\\\\\\\\\\\\\\\": 2}, {\\\\\\\\\\\\\\\"column\\\\\\\\\\\\\\\": {\\\\\\\\\\\\\\\"type\\\\\\\\\\\\\\\": 2, \\\\\\\\\\\\\\\"details\\\\\\\\\\\\\\\": {\\\\\\\\\\\\\\\"selectedColumn\\\\\\\\\\\\\\\": \\\\\\\\\\\\\\\"smoking\\\\\\\\\\\\\\\"}}, \\\\\\\\\\\\\\\"typeProperty\\\\\\\\\\\\\\\": 2}, {\\\\\\\\\\\\\\\"column\\\\\\\\\\\\\\\": {\\\\\\\\\\\\\\\"type\\\\\\\\\\\\\\\": 2, \\\\\\\\\\\\\\\"details\\\\\\\\\\\\\\\": {\\\\\\\\\\\\\\\"selectedColumn\\\\\\\\\\\\\\\": \\\\\\\\\\\\\\\"time\\\\\\\\\\\\\\\"}}, \\\\\\\\\\\\\\\"typeProperty\\\\\\\\\\\\\\\": 2}, {\\\\\\\\\\\\\\\"column\\\\\\\\\\\\\\\": {\\\\\\\\\\\\\\\"type\\\\\\\\\\\\\\\": 2, \\\\\\\\\\\\\\\"details\\\\\\\\\\\\\\\": {\\\\\\\\\\\\\\\"selectedColumn\\\\\\\\\\\\\\\": \\\\\\\\\\\\\\\"DEATH_EVENT\\\\\\\\\\\\\\\"}}, \\\\\\\\\\\\\\\"typeProperty\\\\\\\\\\\\\\\": 2}]}, \\\\\\\\\\\\\\\"localData\\\\\\\\\\\\\\\": {}, \\\\\\\\\\\\\\\"isEnabled\\\\\\\\\\\\\\\": true, \\\\\\\\\\\\\\\"name\\\\\\\\\\\\\\\": null, \\\\\\\\\\\\\\\"annotation\\\\\\\\\\\\\\\": null}], \\\\\\\\\\\\\\\"inspectors\\\\\\\\\\\\\\\": [], \\\\\\\\\\\\\\\"meta\\\\\\\\\\\\\\\": {\\\\\\\\\\\\\\\"savedDatasetId\\\\\\\\\\\\\\\": \\\\\\\\\\\\\\\"2a260d36-bcc8-4268-ac60-7f7cb5faa0c0\\\\\\\\\\\\\\\", \\\\\\\\\\\\\\\"datasetType\\\\\\\\\\\\\\\": \\\\\\\\\\\\\\\"tabular\\\\\\\\\\\\\\\", \\\\\\\\\\\\\\\"subscriptionId\\\\\\\\\\\\\\\": \\\\\\\\\\\\\\\"9a7511b8-150f-4a58-8528-3e7d50216c31\\\\\\\\\\\\\\\", \\\\\\\\\\\\\\\"workspaceId\\\\\\\\\\\\\\\": \\\\\\\\\\\\\\\"837ec3ad-c694-4343-abc7-9d98d0ef4cd6\\\\\\\\\\\\\\\", \\\\\\\\\\\\\\\"workspaceLocation\\\\\\\\\\\\\\\": \\\\\\\\\\\\\\\"southcentralus\\\\\\\\\\\\\\\"}}\\\\\\\", \\\\\\\"activities\\\\\\\": 0}\", \"EnableSubsampling\": null, \"runTemplate\": \"AutoML\", \"azureml.runsource\": \"automl\", \"display_task_type\": \"classification\", \"dependencies_versions\": \"{\\\"azureml-widgets\\\": \\\"1.22.0\\\", \\\"azureml-train\\\": \\\"1.22.0\\\", \\\"azureml-train-restclients-hyperdrive\\\": \\\"1.22.0\\\", \\\"azureml-train-core\\\": \\\"1.22.0\\\", \\\"azureml-train-automl\\\": \\\"1.22.0\\\", \\\"azureml-train-automl-runtime\\\": \\\"1.22.0\\\", \\\"azureml-train-automl-client\\\": \\\"1.22.0\\\", \\\"azureml-tensorboard\\\": \\\"1.22.0\\\", \\\"azureml-telemetry\\\": \\\"1.22.0\\\", \\\"azureml-sdk\\\": \\\"1.22.0\\\", \\\"azureml-samples\\\": \\\"0+unknown\\\", \\\"azureml-pipeline\\\": \\\"1.22.0\\\", \\\"azureml-pipeline-steps\\\": \\\"1.22.0\\\", \\\"azureml-pipeline-core\\\": \\\"1.22.0\\\", \\\"azureml-opendatasets\\\": \\\"1.22.0\\\", \\\"azureml-model-management-sdk\\\": \\\"1.0.1b6.post1\\\", \\\"azureml-mlflow\\\": \\\"1.22.0\\\", \\\"azureml-interpret\\\": \\\"1.22.0\\\", \\\"azureml-explain-model\\\": \\\"1.22.0\\\", \\\"azureml-defaults\\\": \\\"1.22.0\\\", \\\"azureml-dataset-runtime\\\": \\\"1.22.0\\\", \\\"azureml-dataprep\\\": \\\"2.9.1\\\", \\\"azureml-dataprep-rslex\\\": \\\"1.7.0\\\", \\\"azureml-dataprep-native\\\": \\\"29.0.0\\\", \\\"azureml-datadrift\\\": \\\"1.22.0\\\", \\\"azureml-core\\\": \\\"1.22.0\\\", \\\"azureml-contrib-services\\\": \\\"1.22.0\\\", \\\"azureml-contrib-server\\\": \\\"1.22.0\\\", \\\"azureml-contrib-reinforcementlearning\\\": \\\"1.22.0\\\", \\\"azureml-contrib-pipeline-steps\\\": \\\"1.22.0\\\", \\\"azureml-contrib-notebook\\\": \\\"1.22.0\\\", \\\"azureml-contrib-interpret\\\": \\\"1.22.0\\\", \\\"azureml-contrib-gbdt\\\": \\\"1.22.0\\\", \\\"azureml-contrib-fairness\\\": \\\"1.22.0\\\", \\\"azureml-contrib-dataset\\\": \\\"1.22.0\\\", \\\"azureml-cli-common\\\": \\\"1.22.0\\\", \\\"azureml-automl-runtime\\\": \\\"1.22.0\\\", \\\"azureml-automl-core\\\": \\\"1.22.0\\\", \\\"azureml-accel-models\\\": \\\"1.22.0\\\"}\", \"_aml_system_scenario_identification\": \"Remote.Parent\", \"ClientType\": \"SDK\", \"environment_cpu_name\": \"AzureML-AutoML\", \"environment_cpu_label\": \"prod\", \"environment_gpu_name\": \"AzureML-AutoML-GPU\", \"environment_gpu_label\": \"prod\", \"root_attribution\": \"automl\", \"attribution\": \"AutoML\", \"Orchestrator\": \"AutoML\", \"CancelUri\": \"https://southcentralus.experiments.azureml.net/jasmine/v1.0/subscriptions/9a7511b8-150f-4a58-8528-3e7d50216c31/resourceGroups/aml-quickstarts-139817/providers/Microsoft.MachineLearningServices/workspaces/quick-starts-ws-139817/experimentids/95e072ac-a24d-4de2-ad10-29df622ac140/cancel/AutoML_5a6ae0d4-dc22-4937-8491-91faaeb4af56\", \"ClientSdkVersion\": \"1.23.0\", \"snapshotId\": \"00000000-0000-0000-0000-000000000000\", \"SetupRunId\": \"AutoML_5a6ae0d4-dc22-4937-8491-91faaeb4af56_setup\", \"SetupRunContainerId\": \"dcid.AutoML_5a6ae0d4-dc22-4937-8491-91faaeb4af56_setup\", \"FeaturizationRunJsonPath\": \"featurizer_container.json\", \"FeaturizationRunId\": \"AutoML_5a6ae0d4-dc22-4937-8491-91faaeb4af56_featurize\", \"ProblemInfoJsonString\": \"{\\\"dataset_num_categorical\\\": 0, \\\"is_sparse\\\": false, \\\"subsampling\\\": false, \\\"dataset_classes\\\": 2, \\\"dataset_features\\\": 12, \\\"dataset_samples\\\": 299, \\\"single_frequency_class_detected\\\": false}\", \"ModelExplainRunId\": \"AutoML_5a6ae0d4-dc22-4937-8491-91faaeb4af56_ModelExplain\"}, \"tags\": {\"model_explain_run\": \"best_run\", \"_aml_system_azureml.automlComponent\": \"AutoML\", \"pipeline_id\": \"\", \"score\": \"\", \"predicted_cost\": \"\", \"fit_time\": \"\", \"training_percent\": \"\", \"iteration\": \"\", \"run_preprocessor\": \"\", \"run_algorithm\": \"\", \"dynamic_whitelisting_iterations\": \"<25>;<30>;<35>;<40>;\", \"automl_best_child_run_id\": \"AutoML_5a6ae0d4-dc22-4937-8491-91faaeb4af56_45\", \"model_explain_best_run_child_id\": \"AutoML_5a6ae0d4-dc22-4937-8491-91faaeb4af56_45\"}, \"end_time_utc\": \"2021-03-04T19:29:25.904231Z\", \"status\": \"Completed\", \"log_files\": {}, \"log_groups\": [], \"run_duration\": \"0:19:25\", \"run_number\": \"2\", \"run_queued_details\": {\"status\": \"Completed\", \"details\": null}}, \"child_runs\": [{\"run_id\": \"AutoML_5a6ae0d4-dc22-4937-8491-91faaeb4af56_0\", \"run_number\": 6, \"metric\": null, \"status\": \"Completed\", \"run_type\": \"azureml.scriptrun\", \"training_percent\": \"100\", \"start_time\": \"2021-03-04T19:16:43.057362Z\", \"end_time\": \"2021-03-04T19:18:42.123649Z\", \"created_time\": \"2021-03-04T19:13:58.866881Z\", \"created_time_dt\": \"2021-03-04T19:13:58.866881Z\", \"duration\": \"0:04:43\", \"iteration\": \"0\", \"goal\": \"accuracy_max\", \"run_name\": \"MaxAbsScaler, LightGBM\", \"run_properties\": \"copy=True\", \"primary_metric\": 0.81270694, \"best_metric\": 0.81270694}, {\"run_id\": \"AutoML_5a6ae0d4-dc22-4937-8491-91faaeb4af56_2\", \"run_number\": 7, \"metric\": null, \"status\": \"Completed\", \"run_type\": \"azureml.scriptrun\", \"training_percent\": \"100\", \"start_time\": \"2021-03-04T19:14:57.242738Z\", \"end_time\": \"2021-03-04T19:15:54.150908Z\", \"created_time\": \"2021-03-04T19:13:58.901127Z\", \"created_time_dt\": \"2021-03-04T19:13:58.901127Z\", \"duration\": \"0:01:55\", \"iteration\": \"2\", \"goal\": \"accuracy_max\", \"run_name\": \"MinMaxScaler, RandomForest\", \"run_properties\": \"copy=True, feature_range=(0, 1\", \"primary_metric\": 0.81950783, \"best_metric\": 0.84612975}, {\"run_id\": \"AutoML_5a6ae0d4-dc22-4937-8491-91faaeb4af56_3\", \"run_number\": 8, \"metric\": null, \"status\": \"Completed\", \"run_type\": \"azureml.scriptrun\", \"training_percent\": \"100\", \"start_time\": \"2021-03-04T19:16:03.476698Z\", \"end_time\": \"2021-03-04T19:16:50.694441Z\", \"created_time\": \"2021-03-04T19:13:58.906313Z\", \"created_time_dt\": \"2021-03-04T19:13:58.906313Z\", \"duration\": \"0:02:51\", \"iteration\": \"3\", \"goal\": \"accuracy_max\", \"run_name\": \"MinMaxScaler, RandomForest\", \"run_properties\": \"copy=True, feature_range=(0, 1\", \"primary_metric\": 0.85281879, \"best_metric\": 0.85281879}, {\"run_id\": \"AutoML_5a6ae0d4-dc22-4937-8491-91faaeb4af56_1\", \"run_number\": 9, \"metric\": null, \"status\": \"Completed\", \"run_type\": \"azureml.scriptrun\", \"training_percent\": \"100\", \"start_time\": \"2021-03-04T19:14:11.135024Z\", \"end_time\": \"2021-03-04T19:14:53.933718Z\", \"created_time\": \"2021-03-04T19:13:58.927956Z\", \"created_time_dt\": \"2021-03-04T19:13:58.927956Z\", \"duration\": \"0:00:55\", \"iteration\": \"1\", \"goal\": \"accuracy_max\", \"run_name\": \"MinMaxScaler, RandomForest\", \"run_properties\": \"copy=True, feature_range=(0, 1\", \"primary_metric\": 0.84612975, \"best_metric\": 0.84612975}, {\"run_id\": \"AutoML_5a6ae0d4-dc22-4937-8491-91faaeb4af56_4\", \"run_number\": 10, \"metric\": null, \"status\": \"Completed\", \"run_type\": \"azureml.scriptrun\", \"training_percent\": \"100\", \"start_time\": \"2021-03-04T19:16:44.697615Z\", \"end_time\": \"2021-03-04T19:18:42.346709Z\", \"created_time\": \"2021-03-04T19:14:56.597288Z\", \"created_time_dt\": \"2021-03-04T19:14:56.597288Z\", \"duration\": \"0:03:45\", \"iteration\": \"4\", \"goal\": \"accuracy_max\", \"run_name\": \"MinMaxScaler, RandomForest\", \"run_properties\": \"copy=True, feature_range=(0, 1\", \"primary_metric\": 0.8158613, \"best_metric\": 0.85281879}, {\"run_id\": \"AutoML_5a6ae0d4-dc22-4937-8491-91faaeb4af56_5\", \"run_number\": 11, \"metric\": null, \"status\": \"Completed\", \"run_type\": \"azureml.scriptrun\", \"training_percent\": \"100\", \"start_time\": \"2021-03-04T19:16:43.024238Z\", \"end_time\": \"2021-03-04T19:18:47.134653Z\", \"created_time\": \"2021-03-04T19:15:56.445847Z\", \"created_time_dt\": \"2021-03-04T19:15:56.445847Z\", \"duration\": \"0:02:50\", \"iteration\": \"5\", \"goal\": \"accuracy_max\", \"run_name\": \"MinMaxScaler, SVM\", \"run_properties\": \"copy=True, feature_range=(0, 1\", \"primary_metric\": 0.69892617, \"best_metric\": 0.85281879}, {\"run_id\": \"AutoML_5a6ae0d4-dc22-4937-8491-91faaeb4af56_6\", \"run_number\": 12, \"metric\": null, \"status\": \"Completed\", \"run_type\": \"azureml.scriptrun\", \"training_percent\": \"100\", \"start_time\": \"2021-03-04T19:17:02.546345Z\", \"end_time\": \"2021-03-04T19:17:49.342328Z\", \"created_time\": \"2021-03-04T19:16:53.847214Z\", \"created_time_dt\": \"2021-03-04T19:16:53.847214Z\", \"duration\": \"0:00:55\", \"iteration\": \"6\", \"goal\": \"accuracy_max\", \"run_name\": \"MinMaxScaler, SVM\", \"run_properties\": \"copy=True, feature_range=(0, 1\", \"primary_metric\": 0.68223714, \"best_metric\": 0.85281879}, {\"run_id\": \"AutoML_5a6ae0d4-dc22-4937-8491-91faaeb4af56_7\", \"run_number\": 13, \"metric\": null, \"status\": \"Completed\", \"run_type\": \"azureml.scriptrun\", \"training_percent\": \"100\", \"start_time\": \"2021-03-04T19:18:02.7107Z\", \"end_time\": \"2021-03-04T19:18:50.94224Z\", \"created_time\": \"2021-03-04T19:17:51.225098Z\", \"created_time_dt\": \"2021-03-04T19:17:51.225098Z\", \"duration\": \"0:00:59\", \"iteration\": \"7\", \"goal\": \"accuracy_max\", \"run_name\": \"MaxAbsScaler, RandomForest\", \"run_properties\": \"copy=True\", \"primary_metric\": 0.76261745, \"best_metric\": 0.85281879}, {\"run_id\": \"AutoML_5a6ae0d4-dc22-4937-8491-91faaeb4af56_8\", \"run_number\": 14, \"metric\": null, \"status\": \"Completed\", \"run_type\": \"azureml.scriptrun\", \"training_percent\": \"100\", \"start_time\": \"2021-03-04T19:18:55.87597Z\", \"end_time\": \"2021-03-04T19:19:41.473982Z\", \"created_time\": \"2021-03-04T19:18:44.330992Z\", \"created_time_dt\": \"2021-03-04T19:18:44.330992Z\", \"duration\": \"0:00:57\", \"iteration\": \"8\", \"goal\": \"accuracy_max\", \"run_name\": \"MaxAbsScaler, RandomForest\", \"run_properties\": \"copy=True\", \"primary_metric\": 0.83612975, \"best_metric\": 0.85281879}, {\"run_id\": \"AutoML_5a6ae0d4-dc22-4937-8491-91faaeb4af56_9\", \"run_number\": 15, \"metric\": null, \"status\": \"Completed\", \"run_type\": \"azureml.scriptrun\", \"training_percent\": \"100\", \"start_time\": \"2021-03-04T19:18:54.276676Z\", \"end_time\": \"2021-03-04T19:19:45.509533Z\", \"created_time\": \"2021-03-04T19:18:44.421489Z\", \"created_time_dt\": \"2021-03-04T19:18:44.421489Z\", \"duration\": \"0:01:01\", \"iteration\": \"9\", \"goal\": \"accuracy_max\", \"run_name\": \"StandardScalerWrapper, GradientBoosting\", \"run_properties\": \"<azureml.automl.runtime.shared.model_wrappers.StandardScalerWrapper object at 0x7fd56e2c05f8\", \"primary_metric\": 0.83948546, \"best_metric\": 0.85281879}, {\"run_id\": \"AutoML_5a6ae0d4-dc22-4937-8491-91faaeb4af56_10\", \"run_number\": 16, \"metric\": null, \"status\": \"Completed\", \"run_type\": \"azureml.scriptrun\", \"training_percent\": \"100\", \"start_time\": \"2021-03-04T19:18:58.900165Z\", \"end_time\": \"2021-03-04T19:19:47.714649Z\", \"created_time\": \"2021-03-04T19:18:48.861855Z\", \"created_time_dt\": \"2021-03-04T19:18:48.861855Z\", \"duration\": \"0:00:58\", \"iteration\": \"10\", \"goal\": \"accuracy_max\", \"run_name\": \"MaxAbsScaler, GradientBoosting\", \"run_properties\": \"copy=True\", \"primary_metric\": 0.83610738, \"best_metric\": 0.85281879}, {\"run_id\": \"AutoML_5a6ae0d4-dc22-4937-8491-91faaeb4af56_11\", \"run_number\": 17, \"metric\": null, \"status\": \"Completed\", \"run_type\": \"azureml.scriptrun\", \"training_percent\": \"100\", \"start_time\": \"2021-03-04T19:19:05.794967Z\", \"end_time\": \"2021-03-04T19:19:56.278834Z\", \"created_time\": \"2021-03-04T19:18:52.789879Z\", \"created_time_dt\": \"2021-03-04T19:18:52.789879Z\", \"duration\": \"0:01:03\", \"iteration\": \"11\", \"goal\": \"accuracy_max\", \"run_name\": \"StandardScalerWrapper, LightGBM\", \"run_properties\": \"<azureml.automl.runtime.shared.model_wrappers.StandardScalerWrapper object at 0x7f25c0a338d0\", \"primary_metric\": 0.82606264, \"best_metric\": 0.85281879}, {\"run_id\": \"AutoML_5a6ae0d4-dc22-4937-8491-91faaeb4af56_12\", \"run_number\": 18, \"metric\": null, \"status\": \"Completed\", \"run_type\": \"azureml.scriptrun\", \"training_percent\": \"100\", \"start_time\": \"2021-03-04T19:19:54.817614Z\", \"end_time\": \"2021-03-04T19:20:48.482578Z\", \"created_time\": \"2021-03-04T19:19:43.10016Z\", \"created_time_dt\": \"2021-03-04T19:19:43.10016Z\", \"duration\": \"0:01:05\", \"iteration\": \"12\", \"goal\": \"accuracy_max\", \"run_name\": \"MaxAbsScaler, ExtremeRandomTrees\", \"run_properties\": \"copy=True\", \"primary_metric\": 0.79275168, \"best_metric\": 0.85281879}, {\"run_id\": \"AutoML_5a6ae0d4-dc22-4937-8491-91faaeb4af56_13\", \"run_number\": 19, \"metric\": null, \"status\": \"Completed\", \"run_type\": \"azureml.scriptrun\", \"training_percent\": \"100\", \"start_time\": \"2021-03-04T19:19:59.409023Z\", \"end_time\": \"2021-03-04T19:20:46.568194Z\", \"created_time\": \"2021-03-04T19:19:47.161492Z\", \"created_time_dt\": \"2021-03-04T19:19:47.161492Z\", \"duration\": \"0:00:59\", \"iteration\": \"13\", \"goal\": \"accuracy_max\", \"run_name\": \"StandardScalerWrapper, LogisticRegression\", \"run_properties\": \"<azureml.automl.runtime.shared.model_wrappers.StandardScalerWrapper object at 0x7faf5b75fa58\", \"primary_metric\": 0.79257271, \"best_metric\": 0.85281879}, {\"run_id\": \"AutoML_5a6ae0d4-dc22-4937-8491-91faaeb4af56_14\", \"run_number\": 20, \"metric\": null, \"status\": \"Completed\", \"run_type\": \"azureml.scriptrun\", \"training_percent\": \"100\", \"start_time\": \"2021-03-04T19:20:01.289697Z\", \"end_time\": \"2021-03-04T19:20:38.806714Z\", \"created_time\": \"2021-03-04T19:19:50.327009Z\", \"created_time_dt\": \"2021-03-04T19:19:50.327009Z\", \"duration\": \"0:00:48\", \"iteration\": \"14\", \"goal\": \"accuracy_max\", \"run_name\": \"StandardScalerWrapper, LightGBM\", \"run_properties\": \"<azureml.automl.runtime.shared.model_wrappers.StandardScalerWrapper object at 0x7f43be96b128\", \"primary_metric\": 0.75588367, \"best_metric\": 0.85281879}, {\"run_id\": \"AutoML_5a6ae0d4-dc22-4937-8491-91faaeb4af56_15\", \"run_number\": 21, \"metric\": null, \"status\": \"Completed\", \"run_type\": \"azureml.scriptrun\", \"training_percent\": \"100\", \"start_time\": \"2021-03-04T19:20:06.021863Z\", \"end_time\": \"2021-03-04T19:20:52.87519Z\", \"created_time\": \"2021-03-04T19:19:57.854817Z\", \"created_time_dt\": \"2021-03-04T19:19:57.854817Z\", \"duration\": \"0:00:55\", \"iteration\": \"15\", \"goal\": \"accuracy_max\", \"run_name\": \"SparseNormalizer, LightGBM\", \"run_properties\": \"<azureml.automl.runtime.shared.model_wrappers.SparseNormalizer object at 0x7f64ec178908\", \"primary_metric\": 0.69230425, \"best_metric\": 0.85281879}, {\"run_id\": \"AutoML_5a6ae0d4-dc22-4937-8491-91faaeb4af56_16\", \"run_number\": 22, \"metric\": null, \"status\": \"Completed\", \"run_type\": \"azureml.scriptrun\", \"training_percent\": \"100\", \"start_time\": \"2021-03-04T19:20:52.448424Z\", \"end_time\": \"2021-03-04T19:21:37.364561Z\", \"created_time\": \"2021-03-04T19:20:42.114796Z\", \"created_time_dt\": \"2021-03-04T19:20:42.114796Z\", \"duration\": \"0:00:55\", \"iteration\": \"16\", \"goal\": \"accuracy_max\", \"run_name\": \"MaxAbsScaler, LightGBM\", \"run_properties\": \"copy=True\", \"primary_metric\": 0.8293736, \"best_metric\": 0.85281879}, {\"run_id\": \"AutoML_5a6ae0d4-dc22-4937-8491-91faaeb4af56_17\", \"run_number\": 23, \"metric\": null, \"status\": \"Completed\", \"run_type\": \"azureml.scriptrun\", \"training_percent\": \"100\", \"start_time\": \"2021-03-04T19:20:57.793162Z\", \"end_time\": \"2021-03-04T19:21:42.615999Z\", \"created_time\": \"2021-03-04T19:20:48.470208Z\", \"created_time_dt\": \"2021-03-04T19:20:48.470208Z\", \"duration\": \"0:00:54\", \"iteration\": \"17\", \"goal\": \"accuracy_max\", \"run_name\": \"StandardScalerWrapper, ExtremeRandomTrees\", \"run_properties\": \"<azureml.automl.runtime.shared.model_wrappers.StandardScalerWrapper object at 0x7f3d4956d748\", \"primary_metric\": 0.68565996, \"best_metric\": 0.85281879}, {\"run_id\": \"AutoML_5a6ae0d4-dc22-4937-8491-91faaeb4af56_18\", \"run_number\": 24, \"metric\": null, \"status\": \"Completed\", \"run_type\": \"azureml.scriptrun\", \"training_percent\": \"100\", \"start_time\": \"2021-03-04T19:21:01.64657Z\", \"end_time\": \"2021-03-04T19:21:52.459386Z\", \"created_time\": \"2021-03-04T19:20:51.491479Z\", \"created_time_dt\": \"2021-03-04T19:20:51.491479Z\", \"duration\": \"0:01:00\", \"iteration\": \"18\", \"goal\": \"accuracy_max\", \"run_name\": \"StandardScalerWrapper, LightGBM\", \"run_properties\": \"<azureml.automl.runtime.shared.model_wrappers.StandardScalerWrapper object at 0x7f436df28a20\", \"primary_metric\": 0.83946309, \"best_metric\": 0.85281879}, {\"run_id\": \"AutoML_5a6ae0d4-dc22-4937-8491-91faaeb4af56_19\", \"run_number\": 25, \"metric\": null, \"status\": \"Completed\", \"run_type\": \"azureml.scriptrun\", \"training_percent\": \"100\", \"start_time\": \"2021-03-04T19:21:04.838787Z\", \"end_time\": \"2021-03-04T19:21:49.681435Z\", \"created_time\": \"2021-03-04T19:20:54.914494Z\", \"created_time_dt\": \"2021-03-04T19:20:54.914494Z\", \"duration\": \"0:00:54\", \"iteration\": \"19\", \"goal\": \"accuracy_max\", \"run_name\": \"MinMaxScaler, LightGBM\", \"run_properties\": \"copy=True, feature_range=(0, 1\", \"primary_metric\": 0.83610738, \"best_metric\": 0.85281879}, {\"run_id\": \"AutoML_5a6ae0d4-dc22-4937-8491-91faaeb4af56_20\", \"run_number\": 26, \"metric\": null, \"status\": \"Completed\", \"run_type\": \"azureml.scriptrun\", \"training_percent\": \"100\", \"start_time\": \"2021-03-04T19:21:48.842414Z\", \"end_time\": \"2021-03-04T19:22:35.99658Z\", \"created_time\": \"2021-03-04T19:21:39.014143Z\", \"created_time_dt\": \"2021-03-04T19:21:39.014143Z\", \"duration\": \"0:00:56\", \"iteration\": \"20\", \"goal\": \"accuracy_max\", \"run_name\": \"RobustScaler, LightGBM\", \"run_properties\": \"copy=True, quantile_range=[25, 75], with_centering=False,\\n             with_scaling=True\", \"primary_metric\": 0.67894855, \"best_metric\": 0.85281879}, {\"run_id\": \"AutoML_5a6ae0d4-dc22-4937-8491-91faaeb4af56_21\", \"run_number\": 27, \"metric\": null, \"status\": \"Completed\", \"run_type\": \"azureml.scriptrun\", \"training_percent\": \"100\", \"start_time\": \"2021-03-04T19:21:59.409729Z\", \"end_time\": \"2021-03-04T19:22:48.544259Z\", \"created_time\": \"2021-03-04T19:21:46.664678Z\", \"created_time_dt\": \"2021-03-04T19:21:46.664678Z\", \"duration\": \"0:01:01\", \"iteration\": \"21\", \"goal\": \"accuracy_max\", \"run_name\": \"StandardScalerWrapper, LightGBM\", \"run_properties\": \"<azureml.automl.runtime.shared.model_wrappers.StandardScalerWrapper object at 0x7fc35e49b160\", \"primary_metric\": 0.74588367, \"best_metric\": 0.85281879}, {\"run_id\": \"AutoML_5a6ae0d4-dc22-4937-8491-91faaeb4af56_22\", \"run_number\": 28, \"metric\": null, \"status\": \"Completed\", \"run_type\": \"azureml.scriptrun\", \"training_percent\": \"100\", \"start_time\": \"2021-03-04T19:22:00.461447Z\", \"end_time\": \"2021-03-04T19:22:44.166258Z\", \"created_time\": \"2021-03-04T19:21:52.319411Z\", \"created_time_dt\": \"2021-03-04T19:21:52.319411Z\", \"duration\": \"0:00:51\", \"iteration\": \"22\", \"goal\": \"accuracy_max\", \"run_name\": \"StandardScalerWrapper, LightGBM\", \"run_properties\": \"<azureml.automl.runtime.shared.model_wrappers.StandardScalerWrapper object at 0x7fc2dbb63be0\", \"primary_metric\": 0.82606264, \"best_metric\": 0.85281879}, {\"run_id\": \"AutoML_5a6ae0d4-dc22-4937-8491-91faaeb4af56_23\", \"run_number\": 29, \"metric\": null, \"status\": \"Completed\", \"run_type\": \"azureml.scriptrun\", \"training_percent\": \"100\", \"start_time\": \"2021-03-04T19:22:06.613551Z\", \"end_time\": \"2021-03-04T19:22:51.304362Z\", \"created_time\": \"2021-03-04T19:21:57.147878Z\", \"created_time_dt\": \"2021-03-04T19:21:57.147878Z\", \"duration\": \"0:00:54\", \"iteration\": \"23\", \"goal\": \"accuracy_max\", \"run_name\": \"MaxAbsScaler, LightGBM\", \"run_properties\": \"copy=True\", \"primary_metric\": 0.70903803, \"best_metric\": 0.85281879}, {\"run_id\": \"AutoML_5a6ae0d4-dc22-4937-8491-91faaeb4af56_24\", \"run_number\": 30, \"metric\": null, \"status\": \"Completed\", \"run_type\": \"azureml.scriptrun\", \"training_percent\": \"100\", \"start_time\": \"2021-03-04T19:22:48.208989Z\", \"end_time\": \"2021-03-04T19:23:38.63841Z\", \"created_time\": \"2021-03-04T19:22:38.294387Z\", \"created_time_dt\": \"2021-03-04T19:22:38.294387Z\", \"duration\": \"0:01:00\", \"iteration\": \"24\", \"goal\": \"accuracy_max\", \"run_name\": \"MaxAbsScaler, LightGBM\", \"run_properties\": \"copy=True\", \"primary_metric\": 0.729217, \"best_metric\": 0.85281879}, {\"run_id\": \"AutoML_5a6ae0d4-dc22-4937-8491-91faaeb4af56_25\", \"run_number\": 31, \"metric\": null, \"status\": \"Completed\", \"run_type\": \"azureml.scriptrun\", \"training_percent\": \"100\", \"start_time\": \"2021-03-04T19:22:55.01069Z\", \"end_time\": \"2021-03-04T19:23:46.057233Z\", \"created_time\": \"2021-03-04T19:22:46.827058Z\", \"created_time_dt\": \"2021-03-04T19:22:46.827058Z\", \"duration\": \"0:00:59\", \"iteration\": \"25\", \"goal\": \"accuracy_max\", \"run_name\": \"StandardScalerWrapper, RandomForest\", \"run_properties\": \"<azureml.automl.runtime.shared.model_wrappers.StandardScalerWrapper object at 0x7fc438fb9cf8\", \"primary_metric\": 0.67894855, \"best_metric\": 0.85281879}, {\"run_id\": \"AutoML_5a6ae0d4-dc22-4937-8491-91faaeb4af56_26\", \"run_number\": 32, \"metric\": null, \"status\": \"Completed\", \"run_type\": \"azureml.scriptrun\", \"training_percent\": \"100\", \"start_time\": \"2021-03-04T19:23:00.273734Z\", \"end_time\": \"2021-03-04T19:23:48.616863Z\", \"created_time\": \"2021-03-04T19:22:50.176151Z\", \"created_time_dt\": \"2021-03-04T19:22:50.176151Z\", \"duration\": \"0:00:58\", \"iteration\": \"26\", \"goal\": \"accuracy_max\", \"run_name\": \"RobustScaler, LightGBM\", \"run_properties\": \"copy=True, quantile_range=[25, 75], with_centering=False,\\n             with_scaling=False\", \"primary_metric\": 0.8461745, \"best_metric\": 0.85281879}, {\"run_id\": \"AutoML_5a6ae0d4-dc22-4937-8491-91faaeb4af56_27\", \"run_number\": 33, \"metric\": null, \"status\": \"Completed\", \"run_type\": \"azureml.scriptrun\", \"training_percent\": \"100\", \"start_time\": \"2021-03-04T19:23:02.964799Z\", \"end_time\": \"2021-03-04T19:24:05.156015Z\", \"created_time\": \"2021-03-04T19:22:53.734455Z\", \"created_time_dt\": \"2021-03-04T19:22:53.734455Z\", \"duration\": \"0:01:11\", \"iteration\": \"27\", \"goal\": \"accuracy_max\", \"run_name\": \"StandardScalerWrapper, RandomForest\", \"run_properties\": \"<azureml.automl.runtime.shared.model_wrappers.StandardScalerWrapper object at 0x7f36899e7588\", \"primary_metric\": 0.83944072, \"best_metric\": 0.85281879}, {\"run_id\": \"AutoML_5a6ae0d4-dc22-4937-8491-91faaeb4af56_28\", \"run_number\": 34, \"metric\": null, \"status\": \"Completed\", \"run_type\": \"azureml.scriptrun\", \"training_percent\": \"100\", \"start_time\": \"2021-03-04T19:23:50.430351Z\", \"end_time\": \"2021-03-04T19:24:34.389922Z\", \"created_time\": \"2021-03-04T19:23:40.551178Z\", \"created_time_dt\": \"2021-03-04T19:23:40.551178Z\", \"duration\": \"0:00:53\", \"iteration\": \"28\", \"goal\": \"accuracy_max\", \"run_name\": \"StandardScalerWrapper, RandomForest\", \"run_properties\": \"<azureml.automl.runtime.shared.model_wrappers.StandardScalerWrapper object at 0x7f9fd72b0cc0\", \"primary_metric\": 0.85284116, \"best_metric\": 0.85284116}, {\"run_id\": \"AutoML_5a6ae0d4-dc22-4937-8491-91faaeb4af56_29\", \"run_number\": 35, \"metric\": null, \"status\": \"Completed\", \"run_type\": \"azureml.scriptrun\", \"training_percent\": \"100\", \"start_time\": \"2021-03-04T19:23:58.267282Z\", \"end_time\": \"2021-03-04T19:24:51.670201Z\", \"created_time\": \"2021-03-04T19:23:47.958288Z\", \"created_time_dt\": \"2021-03-04T19:23:47.958288Z\", \"duration\": \"0:01:03\", \"iteration\": \"29\", \"goal\": \"accuracy_max\", \"run_name\": \"StandardScalerWrapper, RandomForest\", \"run_properties\": \"<azureml.automl.runtime.shared.model_wrappers.StandardScalerWrapper object at 0x7f5f239ceeb8\", \"primary_metric\": 0.8293736, \"best_metric\": 0.85284116}, {\"run_id\": \"AutoML_5a6ae0d4-dc22-4937-8491-91faaeb4af56_30\", \"run_number\": 36, \"metric\": null, \"status\": \"Completed\", \"run_type\": \"azureml.scriptrun\", \"training_percent\": \"100\", \"start_time\": \"2021-03-04T19:24:04.246656Z\", \"end_time\": \"2021-03-04T19:24:48.593933Z\", \"created_time\": \"2021-03-04T19:23:54.495949Z\", \"created_time_dt\": \"2021-03-04T19:23:54.495949Z\", \"duration\": \"0:00:54\", \"iteration\": \"30\", \"goal\": \"accuracy_max\", \"run_name\": \"MaxAbsScaler, RandomForest\", \"run_properties\": \"copy=True\", \"primary_metric\": 0.83277405, \"best_metric\": 0.85284116}, {\"run_id\": \"AutoML_5a6ae0d4-dc22-4937-8491-91faaeb4af56_31\", \"run_number\": 37, \"metric\": null, \"status\": \"Completed\", \"run_type\": \"azureml.scriptrun\", \"training_percent\": \"100\", \"start_time\": \"2021-03-04T19:24:18.417476Z\", \"end_time\": \"2021-03-04T19:25:03.476767Z\", \"created_time\": \"2021-03-04T19:24:07.190044Z\", \"created_time_dt\": \"2021-03-04T19:24:07.190044Z\", \"duration\": \"0:00:56\", \"iteration\": \"31\", \"goal\": \"accuracy_max\", \"run_name\": \"StandardScalerWrapper, RandomForest\", \"run_properties\": \"<azureml.automl.runtime.shared.model_wrappers.StandardScalerWrapper object at 0x7fe3204c22b0\", \"primary_metric\": 0.83948546, \"best_metric\": 0.85284116}, {\"run_id\": \"AutoML_5a6ae0d4-dc22-4937-8491-91faaeb4af56_32\", \"run_number\": 38, \"metric\": null, \"status\": \"Completed\", \"run_type\": \"azureml.scriptrun\", \"training_percent\": \"100\", \"start_time\": \"2021-03-04T19:24:45.612772Z\", \"end_time\": \"2021-03-04T19:25:28.085986Z\", \"created_time\": \"2021-03-04T19:24:36.437247Z\", \"created_time_dt\": \"2021-03-04T19:24:36.437247Z\", \"duration\": \"0:00:51\", \"iteration\": \"32\", \"goal\": \"accuracy_max\", \"run_name\": \"SparseNormalizer, LightGBM\", \"run_properties\": \"<azureml.automl.runtime.shared.model_wrappers.SparseNormalizer object at 0x7f0367750710\", \"primary_metric\": 0.8093736, \"best_metric\": 0.85284116}, {\"run_id\": \"AutoML_5a6ae0d4-dc22-4937-8491-91faaeb4af56_33\", \"run_number\": 39, \"metric\": null, \"status\": \"Completed\", \"run_type\": \"azureml.scriptrun\", \"training_percent\": \"100\", \"start_time\": \"2021-03-04T19:24:58.176567Z\", \"end_time\": \"2021-03-04T19:25:57.029966Z\", \"created_time\": \"2021-03-04T19:24:50.435242Z\", \"created_time_dt\": \"2021-03-04T19:24:50.435242Z\", \"duration\": \"0:01:06\", \"iteration\": \"33\", \"goal\": \"accuracy_max\", \"run_name\": \"MaxAbsScaler, RandomForest\", \"run_properties\": \"copy=True\", \"primary_metric\": 0.83948546, \"best_metric\": 0.85284116}, {\"run_id\": \"AutoML_5a6ae0d4-dc22-4937-8491-91faaeb4af56_34\", \"run_number\": 40, \"metric\": null, \"status\": \"Completed\", \"run_type\": \"azureml.scriptrun\", \"training_percent\": \"100\", \"start_time\": \"2021-03-04T19:25:01.465278Z\", \"end_time\": \"2021-03-04T19:25:48.487062Z\", \"created_time\": \"2021-03-04T19:24:53.634297Z\", \"created_time_dt\": \"2021-03-04T19:24:53.634297Z\", \"duration\": \"0:00:54\", \"iteration\": \"34\", \"goal\": \"accuracy_max\", \"run_name\": \"MinMaxScaler, LightGBM\", \"run_properties\": \"copy=True, feature_range=(0, 1\", \"primary_metric\": 0.83946309, \"best_metric\": 0.85284116}, {\"run_id\": \"AutoML_5a6ae0d4-dc22-4937-8491-91faaeb4af56_35\", \"run_number\": 41, \"metric\": null, \"status\": \"Completed\", \"run_type\": \"azureml.scriptrun\", \"training_percent\": \"100\", \"start_time\": \"2021-03-04T19:25:19.909231Z\", \"end_time\": \"2021-03-04T19:26:06.822469Z\", \"created_time\": \"2021-03-04T19:25:06.301872Z\", \"created_time_dt\": \"2021-03-04T19:25:06.301872Z\", \"duration\": \"0:01:00\", \"iteration\": \"35\", \"goal\": \"accuracy_max\", \"run_name\": \"SparseNormalizer, RandomForest\", \"run_properties\": \"<azureml.automl.runtime.shared.model_wrappers.SparseNormalizer object at 0x7ff1432a13c8\", \"primary_metric\": 0.75246085, \"best_metric\": 0.85284116}, {\"run_id\": \"AutoML_5a6ae0d4-dc22-4937-8491-91faaeb4af56_36\", \"run_number\": 42, \"metric\": null, \"status\": \"Completed\", \"run_type\": \"azureml.scriptrun\", \"training_percent\": \"100\", \"start_time\": \"2021-03-04T19:25:40.750287Z\", \"end_time\": \"2021-03-04T19:26:26.080688Z\", \"created_time\": \"2021-03-04T19:25:29.840653Z\", \"created_time_dt\": \"2021-03-04T19:25:29.840653Z\", \"duration\": \"0:00:56\", \"iteration\": \"36\", \"goal\": \"accuracy_max\", \"run_name\": \"MaxAbsScaler, ExtremeRandomTrees\", \"run_properties\": \"copy=True\", \"primary_metric\": 0.79257271, \"best_metric\": 0.85284116}, {\"run_id\": \"AutoML_5a6ae0d4-dc22-4937-8491-91faaeb4af56_37\", \"run_number\": 43, \"metric\": null, \"status\": \"Completed\", \"run_type\": \"azureml.scriptrun\", \"training_percent\": \"100\", \"start_time\": \"2021-03-04T19:25:58.842475Z\", \"end_time\": \"2021-03-04T19:26:40.14971Z\", \"created_time\": \"2021-03-04T19:25:50.19843Z\", \"created_time_dt\": \"2021-03-04T19:25:50.19843Z\", \"duration\": \"0:00:49\", \"iteration\": \"37\", \"goal\": \"accuracy_max\", \"run_name\": \"SparseNormalizer, ExtremeRandomTrees\", \"run_properties\": \"<azureml.automl.runtime.shared.model_wrappers.SparseNormalizer object at 0x7fc5a5fea5c0\", \"primary_metric\": 0.73572707, \"best_metric\": 0.85284116}, {\"run_id\": \"AutoML_5a6ae0d4-dc22-4937-8491-91faaeb4af56_38\", \"run_number\": 44, \"metric\": null, \"status\": \"Completed\", \"run_type\": \"azureml.scriptrun\", \"training_percent\": \"100\", \"start_time\": \"2021-03-04T19:26:09.211367Z\", \"end_time\": \"2021-03-04T19:26:56.328904Z\", \"created_time\": \"2021-03-04T19:25:58.644659Z\", \"created_time_dt\": \"2021-03-04T19:25:58.644659Z\", \"duration\": \"0:00:57\", \"iteration\": \"38\", \"goal\": \"accuracy_max\", \"run_name\": \"MaxAbsScaler, ExtremeRandomTrees\", \"run_properties\": \"copy=True\", \"primary_metric\": 0.7758613, \"best_metric\": 0.85284116}, {\"run_id\": \"AutoML_5a6ae0d4-dc22-4937-8491-91faaeb4af56_39\", \"run_number\": 45, \"metric\": null, \"status\": \"Completed\", \"run_type\": \"azureml.scriptrun\", \"training_percent\": \"100\", \"start_time\": \"2021-03-04T19:26:16.384043Z\", \"end_time\": \"2021-03-04T19:27:03.286044Z\", \"created_time\": \"2021-03-04T19:26:08.500466Z\", \"created_time_dt\": \"2021-03-04T19:26:08.500466Z\", \"duration\": \"0:00:54\", \"iteration\": \"39\", \"goal\": \"accuracy_max\", \"run_name\": \"MaxAbsScaler, RandomForest\", \"run_properties\": \"copy=True\", \"primary_metric\": 0.83610738, \"best_metric\": 0.85284116}, {\"run_id\": \"AutoML_5a6ae0d4-dc22-4937-8491-91faaeb4af56_40\", \"run_number\": 46, \"metric\": null, \"status\": \"Completed\", \"run_type\": \"azureml.scriptrun\", \"training_percent\": \"100\", \"start_time\": \"2021-03-04T19:26:40.102743Z\", \"end_time\": \"2021-03-04T19:27:30.633551Z\", \"created_time\": \"2021-03-04T19:26:29.141963Z\", \"created_time_dt\": \"2021-03-04T19:26:29.141963Z\", \"duration\": \"0:01:01\", \"iteration\": \"40\", \"goal\": \"accuracy_max\", \"run_name\": \"MaxAbsScaler, RandomForest\", \"run_properties\": \"copy=True\", \"primary_metric\": 0.73583893, \"best_metric\": 0.85284116}, {\"run_id\": \"AutoML_5a6ae0d4-dc22-4937-8491-91faaeb4af56_41\", \"run_number\": 47, \"metric\": null, \"status\": \"Completed\", \"run_type\": \"azureml.scriptrun\", \"training_percent\": \"100\", \"start_time\": \"2021-03-04T19:26:51.103065Z\", \"end_time\": \"2021-03-04T19:27:35.862167Z\", \"created_time\": \"2021-03-04T19:26:41.855347Z\", \"created_time_dt\": \"2021-03-04T19:26:41.855347Z\", \"duration\": \"0:00:54\", \"iteration\": \"41\", \"goal\": \"accuracy_max\", \"run_name\": \"StandardScalerWrapper, LightGBM\", \"run_properties\": \"<azureml.automl.runtime.shared.model_wrappers.StandardScalerWrapper object at 0x7f15da42c940\", \"primary_metric\": 0.84281879, \"best_metric\": 0.85284116}, {\"run_id\": \"AutoML_5a6ae0d4-dc22-4937-8491-91faaeb4af56_42\", \"run_number\": 48, \"metric\": null, \"status\": \"Canceled\", \"run_type\": \"azureml.scriptrun\", \"training_percent\": \"100\", \"start_time\": \"2021-03-04T19:27:10.818598Z\", \"end_time\": \"2021-03-04T19:27:44.889775Z\", \"created_time\": \"2021-03-04T19:26:58.152229Z\", \"created_time_dt\": \"2021-03-04T19:26:58.152229Z\", \"duration\": \"0:00:46\", \"iteration\": \"42\", \"goal\": \"accuracy_max\", \"run_name\": \"MaxAbsScaler, LightGBM\", \"run_properties\": \"copy=True\", \"primary_metric\": 0.83946309, \"best_metric\": 0.85284116}, {\"run_id\": \"AutoML_5a6ae0d4-dc22-4937-8491-91faaeb4af56_43\", \"run_number\": 49, \"metric\": null, \"status\": \"Canceled\", \"run_type\": \"azureml.scriptrun\", \"training_percent\": \"100\", \"start_time\": \"2021-03-04T19:27:15.961329Z\", \"end_time\": \"2021-03-04T19:27:47.333831Z\", \"created_time\": \"2021-03-04T19:27:06.120549Z\", \"created_time_dt\": \"2021-03-04T19:27:06.120549Z\", \"duration\": \"0:00:41\", \"iteration\": \"43\", \"goal\": \"accuracy_max\", \"run_name\": \"SparseNormalizer, RandomForest\", \"run_properties\": \"<azureml.automl.runtime.shared.model_wrappers.SparseNormalizer object at 0x7f50300b3dd8\", \"primary_metric\": 0.78926174, \"best_metric\": 0.85284116}, {\"run_id\": \"AutoML_5a6ae0d4-dc22-4937-8491-91faaeb4af56_44\", \"run_number\": 50, \"metric\": null, \"status\": \"Canceled\", \"run_type\": \"azureml.scriptrun\", \"training_percent\": \"100\", \"start_time\": \"2021-03-04T19:27:46.100738Z\", \"end_time\": \"2021-03-04T19:27:54.1982Z\", \"created_time\": \"2021-03-04T19:27:33.614956Z\", \"created_time_dt\": \"2021-03-04T19:27:33.614956Z\", \"duration\": \"0:00:20\", \"iteration\": \"44\", \"goal\": null, \"run_name\": \"Canceled\", \"run_properties\": null}, {\"run_id\": \"AutoML_5a6ae0d4-dc22-4937-8491-91faaeb4af56_45\", \"run_number\": 51, \"metric\": null, \"status\": \"Completed\", \"run_type\": \"azureml.scriptrun\", \"training_percent\": \"100\", \"start_time\": \"2021-03-04T19:28:07.573877Z\", \"end_time\": \"2021-03-04T19:29:14.380415Z\", \"created_time\": \"2021-03-04T19:27:55.845122Z\", \"created_time_dt\": \"2021-03-04T19:27:55.845122Z\", \"duration\": \"0:01:18\", \"iteration\": \"45\", \"goal\": \"accuracy_max\", \"run_name\": \"VotingEnsemble\", \"run_properties\": \"classification_labels=None,\\n                              estimators=[('28',\\n                                           Pipeline(memory=None,\\n                                                    steps=[('standardscalerwrapper',\\n                                                            <azureml.automl.runtime.shared.model_wrappers.StandardScalerWrapper object at 0x7f1594690550>\", \"primary_metric\": 0.85957494, \"best_metric\": 0.85957494}, {\"run_id\": \"AutoML_5a6ae0d4-dc22-4937-8491-91faaeb4af56_46\", \"run_number\": 52, \"metric\": null, \"status\": \"Completed\", \"run_type\": \"azureml.scriptrun\", \"training_percent\": \"100\", \"start_time\": \"2021-03-04T19:28:12.12081Z\", \"end_time\": \"2021-03-04T19:29:16.787904Z\", \"created_time\": \"2021-03-04T19:27:55.95113Z\", \"created_time_dt\": \"2021-03-04T19:27:55.95113Z\", \"duration\": \"0:01:20\", \"iteration\": \"46\", \"goal\": \"accuracy_max\", \"run_name\": \"StackEnsemble\", \"run_properties\": \"base_learners=[('28',\\n                                        Pipeline(memory=None,\\n                                                 steps=[('standardscalerwrapper',\\n                                                         <azureml.automl.runtime.shared.model_wrappers.StandardScalerWrapper object at 0x7f2cbc2b9ef0>\", \"primary_metric\": 0.81932886, \"best_metric\": 0.85957494}], \"children_metrics\": {\"categories\": [0], \"series\": {\"precision_score_macro\": [{\"categories\": [\"0\", \"1\", \"2\", \"3\", \"4\", \"5\", \"6\", \"7\", \"8\", \"9\", \"10\", \"11\", \"12\", \"13\", \"14\", \"15\", \"16\", \"17\", \"18\", \"19\", \"20\", \"21\", \"22\", \"23\", \"24\", \"25\", \"26\", \"27\", \"28\", \"29\", \"30\", \"31\", \"32\", \"33\", \"34\", \"35\", \"36\", \"37\", \"38\", \"39\", \"40\", \"41\", \"42\", \"43\", \"45\", \"46\"], \"mode\": \"markers\", \"name\": \"precision_score_macro\", \"stepped\": false, \"type\": \"scatter\", \"data\": [0.8038548007066774, 0.8426705682024831, 0.8177755102040817, 0.8416632546713317, 0.8064930512757302, 0.7360246460856217, 0.7306543132238121, 0.8259216589861751, 0.8310169226363463, 0.8364879118057085, 0.8255700628292643, 0.8263072986203828, 0.8218643547891373, 0.7735498701121137, 0.8289193073022498, 0.682985932406931, 0.8206093471871507, 0.5918027210884353, 0.837361655959217, 0.8291841491841492, 0.3394742729306488, 0.7830714285714286, 0.8196257181389559, 0.7771954849913172, 0.7791337179154784, 0.3394742729306488, 0.847999222999223, 0.8317513789403754, 0.8456134627764149, 0.8212260329330158, 0.8296879360804991, 0.8338501368965247, 0.7871160042964555, 0.841396103896104, 0.8331353963496821, 0.7176010101010102, 0.7664301141652964, 0.7086894586894587, 0.7487909836065574, 0.8349180151914793, 0.7718182340661989, 0.8425582572371564, 0.8393162393162392, 0.7645833851353325, 0.8579949377870271, 0.8140707198084247]}, {\"categories\": [\"0\", \"1\", \"2\", \"3\", \"4\", \"5\", \"6\", \"7\", \"8\", \"9\", \"10\", \"11\", \"12\", \"13\", \"14\", \"15\", \"16\", \"17\", \"18\", \"19\", \"20\", \"21\", \"22\", \"23\", \"24\", \"25\", \"26\", \"27\", \"28\", \"29\", \"30\", \"31\", \"32\", \"33\", \"34\", \"35\", \"36\", \"37\", \"38\", \"39\", \"40\", \"41\", \"42\", \"43\", \"45\", \"46\"], \"mode\": \"lines\", \"name\": \"precision_score_macro_max\", \"stepped\": true, \"type\": \"scatter\", \"data\": [0.8038548007066774, 0.8426705682024831, 0.8426705682024831, 0.8426705682024831, 0.8426705682024831, 0.8426705682024831, 0.8426705682024831, 0.8426705682024831, 0.8426705682024831, 0.8426705682024831, 0.8426705682024831, 0.8426705682024831, 0.8426705682024831, 0.8426705682024831, 0.8426705682024831, 0.8426705682024831, 0.8426705682024831, 0.8426705682024831, 0.8426705682024831, 0.8426705682024831, 0.8426705682024831, 0.8426705682024831, 0.8426705682024831, 0.8426705682024831, 0.8426705682024831, 0.8426705682024831, 0.847999222999223, 0.847999222999223, 0.847999222999223, 0.847999222999223, 0.847999222999223, 0.847999222999223, 0.847999222999223, 0.847999222999223, 0.847999222999223, 0.847999222999223, 0.847999222999223, 0.847999222999223, 0.847999222999223, 0.847999222999223, 0.847999222999223, 0.847999222999223, 0.847999222999223, 0.847999222999223, 0.8579949377870271, 0.8579949377870271]}], \"precision_score_weighted\": [{\"categories\": [\"0\", \"1\", \"2\", \"3\", \"4\", \"5\", \"6\", \"7\", \"8\", \"9\", \"10\", \"11\", \"12\", \"13\", \"14\", \"15\", \"16\", \"17\", \"18\", \"19\", \"20\", \"21\", \"22\", \"23\", \"24\", \"25\", \"26\", \"27\", \"28\", \"29\", \"30\", \"31\", \"32\", \"33\", \"34\", \"35\", \"36\", \"37\", \"38\", \"39\", \"40\", \"41\", \"42\", \"43\", \"45\", \"46\"], \"mode\": \"markers\", \"name\": \"precision_score_weighted\", \"stepped\": false, \"type\": \"scatter\", \"data\": [0.8129063373603715, 0.8554671426383549, 0.8256002995023513, 0.8537057791665023, 0.830293922829684, 0.7347659592004001, 0.729282684856182, 0.8001415426963163, 0.8391311663443674, 0.8414452951685633, 0.8376609999123635, 0.8294549804910152, 0.8083661725156325, 0.7964226930791918, 0.798064436508583, 0.6896294321035417, 0.8328629338798699, 0.6219087217884917, 0.8404919618555239, 0.8404597689161447, 0.46100265853890465, 0.7686372643016938, 0.8285718161243838, 0.7520252617161074, 0.7582087268042822, 0.46100265853890465, 0.84766898028643, 0.8448582321242415, 0.8570009727847953, 0.8376108301564986, 0.8341327045623642, 0.8393531300314359, 0.8084190401699358, 0.8437216605169625, 0.843157572869941, 0.7516179129098592, 0.8024757816910911, 0.7513960296063205, 0.7898095243334433, 0.8404373005503943, 0.7563477578756677, 0.8440055275927452, 0.8405132724595812, 0.7876225255186615, 0.8611065119700444, 0.8346536829714297]}, {\"categories\": [\"0\", \"1\", \"2\", \"3\", \"4\", \"5\", \"6\", \"7\", \"8\", \"9\", \"10\", \"11\", \"12\", \"13\", \"14\", \"15\", \"16\", \"17\", \"18\", \"19\", \"20\", \"21\", \"22\", \"23\", \"24\", \"25\", \"26\", \"27\", \"28\", \"29\", \"30\", \"31\", \"32\", \"33\", \"34\", \"35\", \"36\", \"37\", \"38\", \"39\", \"40\", \"41\", \"42\", \"43\", \"45\", \"46\"], \"mode\": \"lines\", \"name\": \"precision_score_weighted_max\", \"stepped\": true, \"type\": \"scatter\", \"data\": [0.8129063373603715, 0.8554671426383549, 0.8554671426383549, 0.8554671426383549, 0.8554671426383549, 0.8554671426383549, 0.8554671426383549, 0.8554671426383549, 0.8554671426383549, 0.8554671426383549, 0.8554671426383549, 0.8554671426383549, 0.8554671426383549, 0.8554671426383549, 0.8554671426383549, 0.8554671426383549, 0.8554671426383549, 0.8554671426383549, 0.8554671426383549, 0.8554671426383549, 0.8554671426383549, 0.8554671426383549, 0.8554671426383549, 0.8554671426383549, 0.8554671426383549, 0.8554671426383549, 0.8554671426383549, 0.8554671426383549, 0.8570009727847953, 0.8570009727847953, 0.8570009727847953, 0.8570009727847953, 0.8570009727847953, 0.8570009727847953, 0.8570009727847953, 0.8570009727847953, 0.8570009727847953, 0.8570009727847953, 0.8570009727847953, 0.8570009727847953, 0.8570009727847953, 0.8570009727847953, 0.8570009727847953, 0.8570009727847953, 0.8611065119700444, 0.8611065119700444]}], \"AUC_macro\": [{\"categories\": [\"0\", \"1\", \"2\", \"3\", \"4\", \"5\", \"6\", \"7\", \"8\", \"9\", \"10\", \"11\", \"12\", \"13\", \"14\", \"15\", \"16\", \"17\", \"18\", \"19\", \"20\", \"21\", \"22\", \"23\", \"24\", \"25\", \"26\", \"27\", \"28\", \"29\", \"30\", \"31\", \"32\", \"33\", \"34\", \"35\", \"36\", \"37\", \"38\", \"39\", \"40\", \"41\", \"42\", \"43\", \"45\", \"46\"], \"mode\": \"markers\", \"name\": \"AUC_macro\", \"stepped\": false, \"type\": \"scatter\", \"data\": [0.8555301412749637, 0.8730880913561969, 0.8901498770985116, 0.8976355867815844, 0.897386751203536, 0.7485802726399176, 0.7366065237976378, 0.891227967909304, 0.8982247417610398, 0.9014748621167448, 0.8981960384743743, 0.8873169448946632, 0.8768361357603922, 0.8489666563908058, 0.8899164363449192, 0.7945700294021126, 0.8976775879932761, 0.8340820423387387, 0.8876955142705913, 0.8680144060994948, 0.8677638108118748, 0.8439505989882787, 0.8827568103289346, 0.8258530713739045, 0.8828381257706369, 0.8088016752940906, 0.8925936289830868, 0.901256584369581, 0.8945686237418919, 0.8890019142268241, 0.8605415307053935, 0.8972153639210055, 0.879477280695299, 0.8942264497962656, 0.9005718887512872, 0.7917793091536172, 0.8410504606308502, 0.8076764516634545, 0.8296597973505812, 0.9094239549622251, 0.8952789879381287, 0.8798180531955777, 0.8954649481448362, 0.8512180309241877, 0.8929751171587237, 0.8972379977902263]}, {\"categories\": [\"0\", \"1\", \"2\", \"3\", \"4\", \"5\", \"6\", \"7\", \"8\", \"9\", \"10\", \"11\", \"12\", \"13\", \"14\", \"15\", \"16\", \"17\", \"18\", \"19\", \"20\", \"21\", \"22\", \"23\", \"24\", \"25\", \"26\", \"27\", \"28\", \"29\", \"30\", \"31\", \"32\", \"33\", \"34\", \"35\", \"36\", \"37\", \"38\", \"39\", \"40\", \"41\", \"42\", \"43\", \"45\", \"46\"], \"mode\": \"lines\", \"name\": \"AUC_macro_max\", \"stepped\": true, \"type\": \"scatter\", \"data\": [0.8555301412749637, 0.8730880913561969, 0.8901498770985116, 0.8976355867815844, 0.8976355867815844, 0.8976355867815844, 0.8976355867815844, 0.8976355867815844, 0.8982247417610398, 0.9014748621167448, 0.9014748621167448, 0.9014748621167448, 0.9014748621167448, 0.9014748621167448, 0.9014748621167448, 0.9014748621167448, 0.9014748621167448, 0.9014748621167448, 0.9014748621167448, 0.9014748621167448, 0.9014748621167448, 0.9014748621167448, 0.9014748621167448, 0.9014748621167448, 0.9014748621167448, 0.9014748621167448, 0.9014748621167448, 0.9014748621167448, 0.9014748621167448, 0.9014748621167448, 0.9014748621167448, 0.9014748621167448, 0.9014748621167448, 0.9014748621167448, 0.9014748621167448, 0.9014748621167448, 0.9014748621167448, 0.9014748621167448, 0.9014748621167448, 0.9094239549622251, 0.9094239549622251, 0.9094239549622251, 0.9094239549622251, 0.9094239549622251, 0.9094239549622251, 0.9094239549622251]}], \"log_loss\": [{\"categories\": [\"0\", \"1\", \"2\", \"3\", \"4\", \"5\", \"6\", \"7\", \"8\", \"9\", \"10\", \"11\", \"12\", \"13\", \"14\", \"15\", \"16\", \"17\", \"18\", \"19\", \"20\", \"21\", \"22\", \"23\", \"24\", \"25\", \"26\", \"27\", \"28\", \"29\", \"30\", \"31\", \"32\", \"33\", \"34\", \"35\", \"36\", \"37\", \"38\", \"39\", \"40\", \"41\", \"42\", \"43\", \"45\", \"46\"], \"mode\": \"markers\", \"name\": \"log_loss\", \"stepped\": false, \"type\": \"scatter\", \"data\": [0.5552296145880724, 0.42879004593662295, 0.41740186274662194, 0.39195380012705605, 0.47210614563071873, 0.5532195216644726, 0.5781052774649948, 0.4826126369504465, 0.7065520881110744, 0.42845225303954737, 0.3789300851370999, 0.4094328028394219, 0.47230021214561135, 0.48795577015278213, 0.5075486649682516, 0.5430833306117986, 0.3890179548070557, 0.5690196130952001, 0.46891305657513305, 0.4288089906858942, 0.5295250685798883, 0.5186521046795673, 0.43399110820963527, 0.5441476952711165, 0.5150602960704895, 0.5803294051303219, 0.44850548474073315, 0.38108739735801345, 0.39478699349051305, 0.4184469228372195, 0.41811536515133046, 0.391776044962587, 0.41546696380250936, 0.40073554485726487, 0.38544304632193394, 0.6747596943493692, 0.5384463461861654, 0.6014058479758023, 0.5951797453263562, 0.38677108173021313, 0.487988402862155, 0.4781589535636752, 0.42577844234273804, 0.44627743891612603, 0.4060963796406123, 0.4189243053956969]}, {\"categories\": [\"0\", \"1\", \"2\", \"3\", \"4\", \"5\", \"6\", \"7\", \"8\", \"9\", \"10\", \"11\", \"12\", \"13\", \"14\", \"15\", \"16\", \"17\", \"18\", \"19\", \"20\", \"21\", \"22\", \"23\", \"24\", \"25\", \"26\", \"27\", \"28\", \"29\", \"30\", \"31\", \"32\", \"33\", \"34\", \"35\", \"36\", \"37\", \"38\", \"39\", \"40\", \"41\", \"42\", \"43\", \"45\", \"46\"], \"mode\": \"lines\", \"name\": \"log_loss_min\", \"stepped\": true, \"type\": \"scatter\", \"data\": [0.5552296145880724, 0.42879004593662295, 0.41740186274662194, 0.39195380012705605, 0.39195380012705605, 0.39195380012705605, 0.39195380012705605, 0.39195380012705605, 0.39195380012705605, 0.39195380012705605, 0.3789300851370999, 0.3789300851370999, 0.3789300851370999, 0.3789300851370999, 0.3789300851370999, 0.3789300851370999, 0.3789300851370999, 0.3789300851370999, 0.3789300851370999, 0.3789300851370999, 0.3789300851370999, 0.3789300851370999, 0.3789300851370999, 0.3789300851370999, 0.3789300851370999, 0.3789300851370999, 0.3789300851370999, 0.3789300851370999, 0.3789300851370999, 0.3789300851370999, 0.3789300851370999, 0.3789300851370999, 0.3789300851370999, 0.3789300851370999, 0.3789300851370999, 0.3789300851370999, 0.3789300851370999, 0.3789300851370999, 0.3789300851370999, 0.3789300851370999, 0.3789300851370999, 0.3789300851370999, 0.3789300851370999, 0.3789300851370999, 0.3789300851370999, 0.3789300851370999]}], \"average_precision_score_macro\": [{\"categories\": [\"0\", \"1\", \"2\", \"3\", \"4\", \"5\", \"6\", \"7\", \"8\", \"9\", \"10\", \"11\", \"12\", \"13\", \"14\", \"15\", \"16\", \"17\", \"18\", \"19\", \"20\", \"21\", \"22\", \"23\", \"24\", \"25\", \"26\", \"27\", \"28\", \"29\", \"30\", \"31\", \"32\", \"33\", \"34\", \"35\", \"36\", \"37\", \"38\", \"39\", \"40\", \"41\", \"42\", \"43\", \"45\", \"46\"], \"mode\": \"markers\", \"name\": \"average_precision_score_macro\", \"stepped\": false, \"type\": \"scatter\", \"data\": [0.8315719322255934, 0.8598359425144041, 0.8834378428766309, 0.874298760491265, 0.8812183909323295, 0.7318283571615326, 0.7181193927665178, 0.8744041748989415, 0.8753642982983074, 0.8885193634168165, 0.8814042656095777, 0.8722915734458467, 0.8570621718840092, 0.8289122158799915, 0.8761635026359009, 0.7456048068725728, 0.8843896235888445, 0.8043815437210899, 0.8774854290596588, 0.8431451823549709, 0.8278237322549957, 0.8219186095508626, 0.8661316357355597, 0.799910938584863, 0.8622025985130507, 0.788537833713503, 0.8794598242740153, 0.8803378377552946, 0.8753772861730049, 0.8694402038624343, 0.7986788540582854, 0.8757842967635009, 0.8652569384551501, 0.8795060219312486, 0.8828716515296818, 0.773576044204445, 0.8207613680870185, 0.7795021875719729, 0.8075284679247619, 0.8982825306758939, 0.8734868508304925, 0.864755432101316, 0.8794713533861709, 0.8330021082987056, 0.8765666594118979, 0.8780213205211189]}, {\"categories\": [\"0\", \"1\", \"2\", \"3\", \"4\", \"5\", \"6\", \"7\", \"8\", \"9\", \"10\", \"11\", \"12\", \"13\", \"14\", \"15\", \"16\", \"17\", \"18\", \"19\", \"20\", \"21\", \"22\", \"23\", \"24\", \"25\", \"26\", \"27\", \"28\", \"29\", \"30\", \"31\", \"32\", \"33\", \"34\", \"35\", \"36\", \"37\", \"38\", \"39\", \"40\", \"41\", \"42\", \"43\", \"45\", \"46\"], \"mode\": \"lines\", \"name\": \"average_precision_score_macro_max\", \"stepped\": true, \"type\": \"scatter\", \"data\": [0.8315719322255934, 0.8598359425144041, 0.8834378428766309, 0.8834378428766309, 0.8834378428766309, 0.8834378428766309, 0.8834378428766309, 0.8834378428766309, 0.8834378428766309, 0.8885193634168165, 0.8885193634168165, 0.8885193634168165, 0.8885193634168165, 0.8885193634168165, 0.8885193634168165, 0.8885193634168165, 0.8885193634168165, 0.8885193634168165, 0.8885193634168165, 0.8885193634168165, 0.8885193634168165, 0.8885193634168165, 0.8885193634168165, 0.8885193634168165, 0.8885193634168165, 0.8885193634168165, 0.8885193634168165, 0.8885193634168165, 0.8885193634168165, 0.8885193634168165, 0.8885193634168165, 0.8885193634168165, 0.8885193634168165, 0.8885193634168165, 0.8885193634168165, 0.8885193634168165, 0.8885193634168165, 0.8885193634168165, 0.8885193634168165, 0.8982825306758939, 0.8982825306758939, 0.8982825306758939, 0.8982825306758939, 0.8982825306758939, 0.8982825306758939, 0.8982825306758939]}], \"matthews_correlation\": [{\"categories\": [\"0\", \"1\", \"2\", \"3\", \"4\", \"5\", \"6\", \"7\", \"8\", \"9\", \"10\", \"11\", \"12\", \"13\", \"14\", \"15\", \"16\", \"17\", \"18\", \"19\", \"20\", \"21\", \"22\", \"23\", \"24\", \"25\", \"26\", \"27\", \"28\", \"29\", \"30\", \"31\", \"32\", \"33\", \"34\", \"35\", \"36\", \"37\", \"38\", \"39\", \"40\", \"41\", \"42\", \"43\", \"45\", \"46\"], \"mode\": \"markers\", \"name\": \"matthews_correlation\", \"stepped\": false, \"type\": \"scatter\", \"data\": [0.5565126394717403, 0.653762430945857, 0.5758992448843714, 0.6587694302530035, 0.598878757368354, 0.27309660077232284, 0.21963108357682112, 0.4259616068569459, 0.6179424953404651, 0.6229418757943792, 0.6188905899116935, 0.5905432866524027, 0.5003887378266756, 0.5239962862465157, 0.40850207782813647, 0.172149285908659, 0.6057709827846613, 0.08591668100366304, 0.6209192345901703, 0.6219668666819996, 0.0, 0.3682455667886806, 0.5934570244883812, 0.24428707818509304, 0.3025357918101058, 0.0, 0.636202653966507, 0.6327866994144349, 0.6623113479085287, 0.6147996170965004, 0.6054009000594867, 0.620782209749873, 0.5560958388864764, 0.6241348421385611, 0.628389868539891, 0.4283488975532218, 0.5424852236635533, 0.4213104167626791, 0.5124742045251344, 0.6183916007379007, 0.3329145962014479, 0.6284543370989755, 0.6197748840420727, 0.5074531811549254, 0.6709089459747068, 0.6027786837781461]}, {\"categories\": [\"0\", \"1\", \"2\", \"3\", \"4\", \"5\", \"6\", \"7\", \"8\", \"9\", \"10\", \"11\", \"12\", \"13\", \"14\", \"15\", \"16\", \"17\", \"18\", \"19\", \"20\", \"21\", \"22\", \"23\", \"24\", \"25\", \"26\", \"27\", \"28\", \"29\", \"30\", \"31\", \"32\", \"33\", \"34\", \"35\", \"36\", \"37\", \"38\", \"39\", \"40\", \"41\", \"42\", \"43\", \"45\", \"46\"], \"mode\": \"lines\", \"name\": \"matthews_correlation_max\", \"stepped\": true, \"type\": \"scatter\", \"data\": [0.5565126394717403, 0.653762430945857, 0.653762430945857, 0.6587694302530035, 0.6587694302530035, 0.6587694302530035, 0.6587694302530035, 0.6587694302530035, 0.6587694302530035, 0.6587694302530035, 0.6587694302530035, 0.6587694302530035, 0.6587694302530035, 0.6587694302530035, 0.6587694302530035, 0.6587694302530035, 0.6587694302530035, 0.6587694302530035, 0.6587694302530035, 0.6587694302530035, 0.6587694302530035, 0.6587694302530035, 0.6587694302530035, 0.6587694302530035, 0.6587694302530035, 0.6587694302530035, 0.6587694302530035, 0.6587694302530035, 0.6623113479085287, 0.6623113479085287, 0.6623113479085287, 0.6623113479085287, 0.6623113479085287, 0.6623113479085287, 0.6623113479085287, 0.6623113479085287, 0.6623113479085287, 0.6623113479085287, 0.6623113479085287, 0.6623113479085287, 0.6623113479085287, 0.6623113479085287, 0.6623113479085287, 0.6623113479085287, 0.6709089459747068, 0.6709089459747068]}], \"AUC_weighted\": [{\"categories\": [\"0\", \"1\", \"2\", \"3\", \"4\", \"5\", \"6\", \"7\", \"8\", \"9\", \"10\", \"11\", \"12\", \"13\", \"14\", \"15\", \"16\", \"17\", \"18\", \"19\", \"20\", \"21\", \"22\", \"23\", \"24\", \"25\", \"26\", \"27\", \"28\", \"29\", \"30\", \"31\", \"32\", \"33\", \"34\", \"35\", \"36\", \"37\", \"38\", \"39\", \"40\", \"41\", \"42\", \"43\", \"45\", \"46\"], \"mode\": \"markers\", \"name\": \"AUC_weighted\", \"stepped\": false, \"type\": \"scatter\", \"data\": [0.8555301412749636, 0.8730880913561969, 0.8901498770985116, 0.8976355867815844, 0.8973867512035361, 0.7485802726399176, 0.7366065237976378, 0.891227967909304, 0.8982247417610398, 0.9014748621167445, 0.8981960384743743, 0.8873169448946632, 0.8768361357603922, 0.8489666563908057, 0.8899164363449192, 0.7945700294021127, 0.8976775879932761, 0.8340820423387387, 0.8876955142705913, 0.8680144060994948, 0.8677638108118748, 0.8439505989882787, 0.8827568103289347, 0.8258530713739045, 0.8828381257706368, 0.8088016752940906, 0.8925936289830867, 0.901256584369581, 0.8945686237418919, 0.8890019142268242, 0.8605415307053936, 0.8972153639210056, 0.879477280695299, 0.8942264497962655, 0.9005718887512874, 0.7917793091536172, 0.8410504606308502, 0.8076764516634545, 0.8296597973505812, 0.9094239549622252, 0.8952789879381287, 0.8798180531955778, 0.8954649481448362, 0.8512180309241877, 0.8929751171587237, 0.8972379977902263]}, {\"categories\": [\"0\", \"1\", \"2\", \"3\", \"4\", \"5\", \"6\", \"7\", \"8\", \"9\", \"10\", \"11\", \"12\", \"13\", \"14\", \"15\", \"16\", \"17\", \"18\", \"19\", \"20\", \"21\", \"22\", \"23\", \"24\", \"25\", \"26\", \"27\", \"28\", \"29\", \"30\", \"31\", \"32\", \"33\", \"34\", \"35\", \"36\", \"37\", \"38\", \"39\", \"40\", \"41\", \"42\", \"43\", \"45\", \"46\"], \"mode\": \"lines\", \"name\": \"AUC_weighted_max\", \"stepped\": true, \"type\": \"scatter\", \"data\": [0.8555301412749636, 0.8730880913561969, 0.8901498770985116, 0.8976355867815844, 0.8976355867815844, 0.8976355867815844, 0.8976355867815844, 0.8976355867815844, 0.8982247417610398, 0.9014748621167445, 0.9014748621167445, 0.9014748621167445, 0.9014748621167445, 0.9014748621167445, 0.9014748621167445, 0.9014748621167445, 0.9014748621167445, 0.9014748621167445, 0.9014748621167445, 0.9014748621167445, 0.9014748621167445, 0.9014748621167445, 0.9014748621167445, 0.9014748621167445, 0.9014748621167445, 0.9014748621167445, 0.9014748621167445, 0.9014748621167445, 0.9014748621167445, 0.9014748621167445, 0.9014748621167445, 0.9014748621167445, 0.9014748621167445, 0.9014748621167445, 0.9014748621167445, 0.9014748621167445, 0.9014748621167445, 0.9014748621167445, 0.9014748621167445, 0.9094239549622252, 0.9094239549622252, 0.9094239549622252, 0.9094239549622252, 0.9094239549622252, 0.9094239549622252, 0.9094239549622252]}], \"balanced_accuracy\": [{\"categories\": [\"0\", \"1\", \"2\", \"3\", \"4\", \"5\", \"6\", \"7\", \"8\", \"9\", \"10\", \"11\", \"12\", \"13\", \"14\", \"15\", \"16\", \"17\", \"18\", \"19\", \"20\", \"21\", \"22\", \"23\", \"24\", \"25\", \"26\", \"27\", \"28\", \"29\", \"30\", \"31\", \"32\", \"33\", \"34\", \"35\", \"36\", \"37\", \"38\", \"39\", \"40\", \"41\", \"42\", \"43\", \"45\", \"46\"], \"mode\": \"markers\", \"name\": \"balanced_accuracy\", \"stepped\": false, \"type\": \"scatter\", \"data\": [0.7557586759161217, 0.8138666041516669, 0.7646386129762628, 0.8180687063112584, 0.7937832495542982, 0.5906266762023958, 0.5735038696329595, 0.6451484849258853, 0.7897146008182081, 0.7892974126663516, 0.7949924545339517, 0.76826219217411, 0.6976230875750342, 0.7520427172343553, 0.6285567418456744, 0.5433292444848173, 0.7872465923382204, 0.5106382978723405, 0.7862121360024945, 0.795233829786391, 0.5, 0.624481918320309, 0.7766253225537108, 0.5553913054583535, 0.5874990400626229, 0.5, 0.7911140967868082, 0.803204039146731, 0.8185271896835414, 0.7958510979702604, 0.7786591147940112, 0.7890560374139123, 0.7697683138981314, 0.7866706193747774, 0.7976848101785479, 0.7109884084242503, 0.7764079826158397, 0.7132671901707808, 0.7640802792572685, 0.7868706994067902, 0.6027638672911759, 0.7886631163946514, 0.7833439674584811, 0.7438068654889806, 0.8150417529556588, 0.7915834334576468]}, {\"categories\": [\"0\", \"1\", \"2\", \"3\", \"4\", \"5\", \"6\", \"7\", \"8\", \"9\", \"10\", \"11\", \"12\", \"13\", \"14\", \"15\", \"16\", \"17\", \"18\", \"19\", \"20\", \"21\", \"22\", \"23\", \"24\", \"25\", \"26\", \"27\", \"28\", \"29\", \"30\", \"31\", \"32\", \"33\", \"34\", \"35\", \"36\", \"37\", \"38\", \"39\", \"40\", \"41\", \"42\", \"43\", \"45\", \"46\"], \"mode\": \"lines\", \"name\": \"balanced_accuracy_max\", \"stepped\": true, \"type\": \"scatter\", \"data\": [0.7557586759161217, 0.8138666041516669, 0.8138666041516669, 0.8180687063112584, 0.8180687063112584, 0.8180687063112584, 0.8180687063112584, 0.8180687063112584, 0.8180687063112584, 0.8180687063112584, 0.8180687063112584, 0.8180687063112584, 0.8180687063112584, 0.8180687063112584, 0.8180687063112584, 0.8180687063112584, 0.8180687063112584, 0.8180687063112584, 0.8180687063112584, 0.8180687063112584, 0.8180687063112584, 0.8180687063112584, 0.8180687063112584, 0.8180687063112584, 0.8180687063112584, 0.8180687063112584, 0.8180687063112584, 0.8180687063112584, 0.8185271896835414, 0.8185271896835414, 0.8185271896835414, 0.8185271896835414, 0.8185271896835414, 0.8185271896835414, 0.8185271896835414, 0.8185271896835414, 0.8185271896835414, 0.8185271896835414, 0.8185271896835414, 0.8185271896835414, 0.8185271896835414, 0.8185271896835414, 0.8185271896835414, 0.8185271896835414, 0.8185271896835414, 0.8185271896835414]}], \"precision_score_micro\": [{\"categories\": [\"0\", \"1\", \"2\", \"3\", \"4\", \"5\", \"6\", \"7\", \"8\", \"9\", \"10\", \"11\", \"12\", \"13\", \"14\", \"15\", \"16\", \"17\", \"18\", \"19\", \"20\", \"21\", \"22\", \"23\", \"24\", \"25\", \"26\", \"27\", \"28\", \"29\", \"30\", \"31\", \"32\", \"33\", \"34\", \"35\", \"36\", \"37\", \"38\", \"39\", \"40\", \"41\", \"42\", \"43\", \"45\", \"46\"], \"mode\": \"markers\", \"name\": \"precision_score_micro\", \"stepped\": false, \"type\": \"scatter\", \"data\": [0.8127069351230425, 0.8461297539149888, 0.8195078299776286, 0.8528187919463087, 0.8158612975391499, 0.6989261744966443, 0.6822371364653244, 0.7626174496644296, 0.8361297539149888, 0.8394854586129754, 0.8361073825503356, 0.8260626398210291, 0.792751677852349, 0.792572706935123, 0.7558836689038031, 0.6923042505592841, 0.8293736017897092, 0.6856599552572706, 0.8394630872483222, 0.8361073825503356, 0.6789485458612976, 0.7458836689038031, 0.8260626398210291, 0.7090380313199105, 0.7292170022371365, 0.6789485458612976, 0.8461744966442952, 0.839440715883669, 0.852841163310962, 0.8293736017897092, 0.8327740492170023, 0.8394854586129754, 0.8093736017897092, 0.8394854586129754, 0.8394630872483222, 0.7524608501118568, 0.792572706935123, 0.7357270693512303, 0.7758612975391499, 0.8361073825503356, 0.7358389261744966, 0.8428187919463087, 0.8394630872483222, 0.789261744966443, 0.8595749440715883, 0.8193288590604026]}, {\"categories\": [\"0\", \"1\", \"2\", \"3\", \"4\", \"5\", \"6\", \"7\", \"8\", \"9\", \"10\", \"11\", \"12\", \"13\", \"14\", \"15\", \"16\", \"17\", \"18\", \"19\", \"20\", \"21\", \"22\", \"23\", \"24\", \"25\", \"26\", \"27\", \"28\", \"29\", \"30\", \"31\", \"32\", \"33\", \"34\", \"35\", \"36\", \"37\", \"38\", \"39\", \"40\", \"41\", \"42\", \"43\", \"45\", \"46\"], \"mode\": \"lines\", \"name\": \"precision_score_micro_max\", \"stepped\": true, \"type\": \"scatter\", \"data\": [0.8127069351230425, 0.8461297539149888, 0.8461297539149888, 0.8528187919463087, 0.8528187919463087, 0.8528187919463087, 0.8528187919463087, 0.8528187919463087, 0.8528187919463087, 0.8528187919463087, 0.8528187919463087, 0.8528187919463087, 0.8528187919463087, 0.8528187919463087, 0.8528187919463087, 0.8528187919463087, 0.8528187919463087, 0.8528187919463087, 0.8528187919463087, 0.8528187919463087, 0.8528187919463087, 0.8528187919463087, 0.8528187919463087, 0.8528187919463087, 0.8528187919463087, 0.8528187919463087, 0.8528187919463087, 0.8528187919463087, 0.852841163310962, 0.852841163310962, 0.852841163310962, 0.852841163310962, 0.852841163310962, 0.852841163310962, 0.852841163310962, 0.852841163310962, 0.852841163310962, 0.852841163310962, 0.852841163310962, 0.852841163310962, 0.852841163310962, 0.852841163310962, 0.852841163310962, 0.852841163310962, 0.8595749440715883, 0.8595749440715883]}], \"recall_score_macro\": [{\"categories\": [\"0\", \"1\", \"2\", \"3\", \"4\", \"5\", \"6\", \"7\", \"8\", \"9\", \"10\", \"11\", \"12\", \"13\", \"14\", \"15\", \"16\", \"17\", \"18\", \"19\", \"20\", \"21\", \"22\", \"23\", \"24\", \"25\", \"26\", \"27\", \"28\", \"29\", \"30\", \"31\", \"32\", \"33\", \"34\", \"35\", \"36\", \"37\", \"38\", \"39\", \"40\", \"41\", \"42\", \"43\", \"45\", \"46\"], \"mode\": \"markers\", \"name\": \"recall_score_macro\", \"stepped\": false, \"type\": \"scatter\", \"data\": [0.7557586759161217, 0.8138666041516669, 0.7646386129762628, 0.8180687063112584, 0.7937832495542982, 0.5906266762023958, 0.5735038696329595, 0.6451484849258853, 0.7897146008182081, 0.7892974126663516, 0.7949924545339517, 0.76826219217411, 0.6976230875750342, 0.7520427172343553, 0.6285567418456744, 0.5433292444848173, 0.7872465923382204, 0.5106382978723405, 0.7862121360024945, 0.795233829786391, 0.5, 0.624481918320309, 0.7766253225537108, 0.5553913054583535, 0.5874990400626229, 0.5, 0.7911140967868082, 0.803204039146731, 0.8185271896835414, 0.7958510979702604, 0.7786591147940112, 0.7890560374139123, 0.7697683138981314, 0.7866706193747774, 0.7976848101785479, 0.7109884084242503, 0.7764079826158397, 0.7132671901707808, 0.7640802792572685, 0.7868706994067902, 0.6027638672911759, 0.7886631163946514, 0.7833439674584811, 0.7438068654889806, 0.8150417529556588, 0.7915834334576468]}, {\"categories\": [\"0\", \"1\", \"2\", \"3\", \"4\", \"5\", \"6\", \"7\", \"8\", \"9\", \"10\", \"11\", \"12\", \"13\", \"14\", \"15\", \"16\", \"17\", \"18\", \"19\", \"20\", \"21\", \"22\", \"23\", \"24\", \"25\", \"26\", \"27\", \"28\", \"29\", \"30\", \"31\", \"32\", \"33\", \"34\", \"35\", \"36\", \"37\", \"38\", \"39\", \"40\", \"41\", \"42\", \"43\", \"45\", \"46\"], \"mode\": \"lines\", \"name\": \"recall_score_macro_max\", \"stepped\": true, \"type\": \"scatter\", \"data\": [0.7557586759161217, 0.8138666041516669, 0.8138666041516669, 0.8180687063112584, 0.8180687063112584, 0.8180687063112584, 0.8180687063112584, 0.8180687063112584, 0.8180687063112584, 0.8180687063112584, 0.8180687063112584, 0.8180687063112584, 0.8180687063112584, 0.8180687063112584, 0.8180687063112584, 0.8180687063112584, 0.8180687063112584, 0.8180687063112584, 0.8180687063112584, 0.8180687063112584, 0.8180687063112584, 0.8180687063112584, 0.8180687063112584, 0.8180687063112584, 0.8180687063112584, 0.8180687063112584, 0.8180687063112584, 0.8180687063112584, 0.8185271896835414, 0.8185271896835414, 0.8185271896835414, 0.8185271896835414, 0.8185271896835414, 0.8185271896835414, 0.8185271896835414, 0.8185271896835414, 0.8185271896835414, 0.8185271896835414, 0.8185271896835414, 0.8185271896835414, 0.8185271896835414, 0.8185271896835414, 0.8185271896835414, 0.8185271896835414, 0.8185271896835414, 0.8185271896835414]}], \"average_precision_score_weighted\": [{\"categories\": [\"0\", \"1\", \"2\", \"3\", \"4\", \"5\", \"6\", \"7\", \"8\", \"9\", \"10\", \"11\", \"12\", \"13\", \"14\", \"15\", \"16\", \"17\", \"18\", \"19\", \"20\", \"21\", \"22\", \"23\", \"24\", \"25\", \"26\", \"27\", \"28\", \"29\", \"30\", \"31\", \"32\", \"33\", \"34\", \"35\", \"36\", \"37\", \"38\", \"39\", \"40\", \"41\", \"42\", \"43\", \"45\", \"46\"], \"mode\": \"markers\", \"name\": \"average_precision_score_weighted\", \"stepped\": false, \"type\": \"scatter\", \"data\": [0.862550328383885, 0.8809731628373969, 0.9005131890532977, 0.8995080177019101, 0.9054379814399847, 0.7709263404703259, 0.7590263782131201, 0.8981485324183158, 0.8967058145238866, 0.9086190111006074, 0.9050857345318537, 0.897123445658561, 0.8826070485119715, 0.8611775517005409, 0.9002918351027942, 0.7979551434732856, 0.9064088785015963, 0.8411594948926566, 0.8997392628084813, 0.8664077548269866, 0.8595628043793953, 0.857485356311043, 0.8928846611973917, 0.8386981251690091, 0.8887556218025849, 0.8298608869813239, 0.9021455552465524, 0.9050542793398395, 0.9003298214985339, 0.8924888103308035, 0.8340631704583801, 0.9013900259665868, 0.891515912054619, 0.9010842699877143, 0.9064456224272128, 0.8021443775592632, 0.8530265632967697, 0.8227150954129812, 0.8416078749493412, 0.9176239112426428, 0.8998433260386649, 0.889624111284554, 0.9031010653425022, 0.8651649991332324, 0.8994642678700334, 0.9015295017526106]}, {\"categories\": [\"0\", \"1\", \"2\", \"3\", \"4\", \"5\", \"6\", \"7\", \"8\", \"9\", \"10\", \"11\", \"12\", \"13\", \"14\", \"15\", \"16\", \"17\", \"18\", \"19\", \"20\", \"21\", \"22\", \"23\", \"24\", \"25\", \"26\", \"27\", \"28\", \"29\", \"30\", \"31\", \"32\", \"33\", \"34\", \"35\", \"36\", \"37\", \"38\", \"39\", \"40\", \"41\", \"42\", \"43\", \"45\", \"46\"], \"mode\": \"lines\", \"name\": \"average_precision_score_weighted_max\", \"stepped\": true, \"type\": \"scatter\", \"data\": [0.862550328383885, 0.8809731628373969, 0.9005131890532977, 0.9005131890532977, 0.9054379814399847, 0.9054379814399847, 0.9054379814399847, 0.9054379814399847, 0.9054379814399847, 0.9086190111006074, 0.9086190111006074, 0.9086190111006074, 0.9086190111006074, 0.9086190111006074, 0.9086190111006074, 0.9086190111006074, 0.9086190111006074, 0.9086190111006074, 0.9086190111006074, 0.9086190111006074, 0.9086190111006074, 0.9086190111006074, 0.9086190111006074, 0.9086190111006074, 0.9086190111006074, 0.9086190111006074, 0.9086190111006074, 0.9086190111006074, 0.9086190111006074, 0.9086190111006074, 0.9086190111006074, 0.9086190111006074, 0.9086190111006074, 0.9086190111006074, 0.9086190111006074, 0.9086190111006074, 0.9086190111006074, 0.9086190111006074, 0.9086190111006074, 0.9176239112426428, 0.9176239112426428, 0.9176239112426428, 0.9176239112426428, 0.9176239112426428, 0.9176239112426428, 0.9176239112426428]}], \"recall_score_weighted\": [{\"categories\": [\"0\", \"1\", \"2\", \"3\", \"4\", \"5\", \"6\", \"7\", \"8\", \"9\", \"10\", \"11\", \"12\", \"13\", \"14\", \"15\", \"16\", \"17\", \"18\", \"19\", \"20\", \"21\", \"22\", \"23\", \"24\", \"25\", \"26\", \"27\", \"28\", \"29\", \"30\", \"31\", \"32\", \"33\", \"34\", \"35\", \"36\", \"37\", \"38\", \"39\", \"40\", \"41\", \"42\", \"43\", \"45\", \"46\"], \"mode\": \"markers\", \"name\": \"recall_score_weighted\", \"stepped\": false, \"type\": \"scatter\", \"data\": [0.8127069351230425, 0.8461297539149888, 0.8195078299776286, 0.8528187919463087, 0.8158612975391499, 0.6989261744966443, 0.6822371364653244, 0.7626174496644296, 0.8361297539149888, 0.8394854586129754, 0.8361073825503356, 0.8260626398210291, 0.792751677852349, 0.792572706935123, 0.7558836689038031, 0.6923042505592841, 0.8293736017897092, 0.6856599552572706, 0.8394630872483222, 0.8361073825503356, 0.6789485458612976, 0.7458836689038031, 0.8260626398210291, 0.7090380313199105, 0.7292170022371365, 0.6789485458612976, 0.8461744966442952, 0.839440715883669, 0.852841163310962, 0.8293736017897092, 0.8327740492170023, 0.8394854586129754, 0.8093736017897092, 0.8394854586129754, 0.8394630872483222, 0.7524608501118568, 0.792572706935123, 0.7357270693512303, 0.7758612975391499, 0.8361073825503356, 0.7358389261744966, 0.8428187919463087, 0.8394630872483222, 0.789261744966443, 0.8595749440715883, 0.8193288590604026]}, {\"categories\": [\"0\", \"1\", \"2\", \"3\", \"4\", \"5\", \"6\", \"7\", \"8\", \"9\", \"10\", \"11\", \"12\", \"13\", \"14\", \"15\", \"16\", \"17\", \"18\", \"19\", \"20\", \"21\", \"22\", \"23\", \"24\", \"25\", \"26\", \"27\", \"28\", \"29\", \"30\", \"31\", \"32\", \"33\", \"34\", \"35\", \"36\", \"37\", \"38\", \"39\", \"40\", \"41\", \"42\", \"43\", \"45\", \"46\"], \"mode\": \"lines\", \"name\": \"recall_score_weighted_max\", \"stepped\": true, \"type\": \"scatter\", \"data\": [0.8127069351230425, 0.8461297539149888, 0.8461297539149888, 0.8528187919463087, 0.8528187919463087, 0.8528187919463087, 0.8528187919463087, 0.8528187919463087, 0.8528187919463087, 0.8528187919463087, 0.8528187919463087, 0.8528187919463087, 0.8528187919463087, 0.8528187919463087, 0.8528187919463087, 0.8528187919463087, 0.8528187919463087, 0.8528187919463087, 0.8528187919463087, 0.8528187919463087, 0.8528187919463087, 0.8528187919463087, 0.8528187919463087, 0.8528187919463087, 0.8528187919463087, 0.8528187919463087, 0.8528187919463087, 0.8528187919463087, 0.852841163310962, 0.852841163310962, 0.852841163310962, 0.852841163310962, 0.852841163310962, 0.852841163310962, 0.852841163310962, 0.852841163310962, 0.852841163310962, 0.852841163310962, 0.852841163310962, 0.852841163310962, 0.852841163310962, 0.852841163310962, 0.852841163310962, 0.852841163310962, 0.8595749440715883, 0.8595749440715883]}], \"AUC_micro\": [{\"categories\": [\"0\", \"1\", \"2\", \"3\", \"4\", \"5\", \"6\", \"7\", \"8\", \"9\", \"10\", \"11\", \"12\", \"13\", \"14\", \"15\", \"16\", \"17\", \"18\", \"19\", \"20\", \"21\", \"22\", \"23\", \"24\", \"25\", \"26\", \"27\", \"28\", \"29\", \"30\", \"31\", \"32\", \"33\", \"34\", \"35\", \"36\", \"37\", \"38\", \"39\", \"40\", \"41\", \"42\", \"43\", \"45\", \"46\"], \"mode\": \"markers\", \"name\": \"AUC_micro\", \"stepped\": false, \"type\": \"scatter\", \"data\": [0.8778265723766197, 0.8920033752233384, 0.8998719857463877, 0.9096884474673312, 0.8970433333833812, 0.7912870351185383, 0.7795652247896742, 0.8731378316292059, 0.9092104089405383, 0.9033215931214309, 0.9092110065112182, 0.8979492785610257, 0.8774365959491315, 0.8688086902992358, 0.8601790600023023, 0.8108441601729652, 0.9081236891231126, 0.82479223158116, 0.8890621103153511, 0.8901062564749336, 0.8393024438338614, 0.8478853835412818, 0.895729901055508, 0.8266076443003068, 0.8568387690244184, 0.8136653343943467, 0.8953224169081472, 0.9101562362055763, 0.9063468092027887, 0.8991687331401488, 0.8906627849596365, 0.9047989600068065, 0.8937159827635391, 0.906009135724617, 0.9098529815974254, 0.8368892742569154, 0.8515150889099089, 0.8274420641712836, 0.8433004989765226, 0.9159698532098154, 0.8693353632719246, 0.8841259342672252, 0.904721144693182, 0.8708246275192808, 0.9058955552552688, 0.8901794333588577]}, {\"categories\": [\"0\", \"1\", \"2\", \"3\", \"4\", \"5\", \"6\", \"7\", \"8\", \"9\", \"10\", \"11\", \"12\", \"13\", \"14\", \"15\", \"16\", \"17\", \"18\", \"19\", \"20\", \"21\", \"22\", \"23\", \"24\", \"25\", \"26\", \"27\", \"28\", \"29\", \"30\", \"31\", \"32\", \"33\", \"34\", \"35\", \"36\", \"37\", \"38\", \"39\", \"40\", \"41\", \"42\", \"43\", \"45\", \"46\"], \"mode\": \"lines\", \"name\": \"AUC_micro_max\", \"stepped\": true, \"type\": \"scatter\", \"data\": [0.8778265723766197, 0.8920033752233384, 0.8998719857463877, 0.9096884474673312, 0.9096884474673312, 0.9096884474673312, 0.9096884474673312, 0.9096884474673312, 0.9096884474673312, 0.9096884474673312, 0.9096884474673312, 0.9096884474673312, 0.9096884474673312, 0.9096884474673312, 0.9096884474673312, 0.9096884474673312, 0.9096884474673312, 0.9096884474673312, 0.9096884474673312, 0.9096884474673312, 0.9096884474673312, 0.9096884474673312, 0.9096884474673312, 0.9096884474673312, 0.9096884474673312, 0.9096884474673312, 0.9096884474673312, 0.9101562362055763, 0.9101562362055763, 0.9101562362055763, 0.9101562362055763, 0.9101562362055763, 0.9101562362055763, 0.9101562362055763, 0.9101562362055763, 0.9101562362055763, 0.9101562362055763, 0.9101562362055763, 0.9101562362055763, 0.9159698532098154, 0.9159698532098154, 0.9159698532098154, 0.9159698532098154, 0.9159698532098154, 0.9159698532098154, 0.9159698532098154]}], \"weighted_accuracy\": [{\"categories\": [\"0\", \"1\", \"2\", \"3\", \"4\", \"5\", \"6\", \"7\", \"8\", \"9\", \"10\", \"11\", \"12\", \"13\", \"14\", \"15\", \"16\", \"17\", \"18\", \"19\", \"20\", \"21\", \"22\", \"23\", \"24\", \"25\", \"26\", \"27\", \"28\", \"29\", \"30\", \"31\", \"32\", \"33\", \"34\", \"35\", \"36\", \"37\", \"38\", \"39\", \"40\", \"41\", \"42\", \"43\", \"45\", \"46\"], \"mode\": \"markers\", \"name\": \"weighted_accuracy\", \"stepped\": false, \"type\": \"scatter\", \"data\": [0.8569164934675346, 0.8714391052638473, 0.8623820569998334, 0.8798412297285798, 0.833227851927825, 0.7831286616377253, 0.7669480906413356, 0.8536562249837253, 0.8722646938396464, 0.8784884312534258, 0.8681022178770696, 0.8709186774129714, 0.8665412457450352, 0.8241689005379624, 0.8543714700082528, 0.8075393302504412, 0.8621594667714416, 0.8208952755709241, 0.8807497002215037, 0.8679850922773191, 0.8171689614505722, 0.83993502734644, 0.8644949324823168, 0.8278013984181318, 0.8389355087963859, 0.8171689614505722, 0.8888365946954591, 0.8677489379519696, 0.8796431253375532, 0.8556185962410365, 0.8747621171330738, 0.8786055568531763, 0.8401788287774723, 0.880551595830477, 0.8720285395142968, 0.7846217220607568, 0.8052490425452496, 0.7534582030090577, 0.785140246785784, 0.8744088372079739, 0.8387422833279896, 0.8847931474584814, 0.8829299903983053, 0.8245583272715367, 0.8941899115506375, 0.8412269855620254]}, {\"categories\": [\"0\", \"1\", \"2\", \"3\", \"4\", \"5\", \"6\", \"7\", \"8\", \"9\", \"10\", \"11\", \"12\", \"13\", \"14\", \"15\", \"16\", \"17\", \"18\", \"19\", \"20\", \"21\", \"22\", \"23\", \"24\", \"25\", \"26\", \"27\", \"28\", \"29\", \"30\", \"31\", \"32\", \"33\", \"34\", \"35\", \"36\", \"37\", \"38\", \"39\", \"40\", \"41\", \"42\", \"43\", \"45\", \"46\"], \"mode\": \"lines\", \"name\": \"weighted_accuracy_max\", \"stepped\": true, \"type\": \"scatter\", \"data\": [0.8569164934675346, 0.8714391052638473, 0.8714391052638473, 0.8798412297285798, 0.8798412297285798, 0.8798412297285798, 0.8798412297285798, 0.8798412297285798, 0.8798412297285798, 0.8798412297285798, 0.8798412297285798, 0.8798412297285798, 0.8798412297285798, 0.8798412297285798, 0.8798412297285798, 0.8798412297285798, 0.8798412297285798, 0.8798412297285798, 0.8807497002215037, 0.8807497002215037, 0.8807497002215037, 0.8807497002215037, 0.8807497002215037, 0.8807497002215037, 0.8807497002215037, 0.8807497002215037, 0.8888365946954591, 0.8888365946954591, 0.8888365946954591, 0.8888365946954591, 0.8888365946954591, 0.8888365946954591, 0.8888365946954591, 0.8888365946954591, 0.8888365946954591, 0.8888365946954591, 0.8888365946954591, 0.8888365946954591, 0.8888365946954591, 0.8888365946954591, 0.8888365946954591, 0.8888365946954591, 0.8888365946954591, 0.8888365946954591, 0.8941899115506375, 0.8941899115506375]}], \"f1_score_micro\": [{\"categories\": [\"0\", \"1\", \"2\", \"3\", \"4\", \"5\", \"6\", \"7\", \"8\", \"9\", \"10\", \"11\", \"12\", \"13\", \"14\", \"15\", \"16\", \"17\", \"18\", \"19\", \"20\", \"21\", \"22\", \"23\", \"24\", \"25\", \"26\", \"27\", \"28\", \"29\", \"30\", \"31\", \"32\", \"33\", \"34\", \"35\", \"36\", \"37\", \"38\", \"39\", \"40\", \"41\", \"42\", \"43\", \"45\", \"46\"], \"mode\": \"markers\", \"name\": \"f1_score_micro\", \"stepped\": false, \"type\": \"scatter\", \"data\": [0.8127069351230425, 0.8461297539149889, 0.8195078299776286, 0.8528187919463086, 0.8158612975391499, 0.6989261744966443, 0.6822371364653244, 0.7626174496644295, 0.8361297539149888, 0.8394854586129754, 0.8361073825503356, 0.8260626398210291, 0.792751677852349, 0.792572706935123, 0.7558836689038031, 0.6923042505592841, 0.8293736017897092, 0.6856599552572706, 0.8394630872483221, 0.8361073825503356, 0.6789485458612976, 0.7458836689038031, 0.8260626398210291, 0.7090380313199105, 0.7292170022371365, 0.6789485458612976, 0.8461744966442952, 0.839440715883669, 0.852841163310962, 0.8293736017897092, 0.8327740492170023, 0.8394854586129754, 0.8093736017897091, 0.8394854586129754, 0.8394630872483221, 0.7524608501118568, 0.792572706935123, 0.7357270693512304, 0.7758612975391499, 0.8361073825503356, 0.7358389261744966, 0.8428187919463086, 0.8394630872483221, 0.789261744966443, 0.8595749440715883, 0.8193288590604026]}, {\"categories\": [\"0\", \"1\", \"2\", \"3\", \"4\", \"5\", \"6\", \"7\", \"8\", \"9\", \"10\", \"11\", \"12\", \"13\", \"14\", \"15\", \"16\", \"17\", \"18\", \"19\", \"20\", \"21\", \"22\", \"23\", \"24\", \"25\", \"26\", \"27\", \"28\", \"29\", \"30\", \"31\", \"32\", \"33\", \"34\", \"35\", \"36\", \"37\", \"38\", \"39\", \"40\", \"41\", \"42\", \"43\", \"45\", \"46\"], \"mode\": \"lines\", \"name\": \"f1_score_micro_max\", \"stepped\": true, \"type\": \"scatter\", \"data\": [0.8127069351230425, 0.8461297539149889, 0.8461297539149889, 0.8528187919463086, 0.8528187919463086, 0.8528187919463086, 0.8528187919463086, 0.8528187919463086, 0.8528187919463086, 0.8528187919463086, 0.8528187919463086, 0.8528187919463086, 0.8528187919463086, 0.8528187919463086, 0.8528187919463086, 0.8528187919463086, 0.8528187919463086, 0.8528187919463086, 0.8528187919463086, 0.8528187919463086, 0.8528187919463086, 0.8528187919463086, 0.8528187919463086, 0.8528187919463086, 0.8528187919463086, 0.8528187919463086, 0.8528187919463086, 0.8528187919463086, 0.852841163310962, 0.852841163310962, 0.852841163310962, 0.852841163310962, 0.852841163310962, 0.852841163310962, 0.852841163310962, 0.852841163310962, 0.852841163310962, 0.852841163310962, 0.852841163310962, 0.852841163310962, 0.852841163310962, 0.852841163310962, 0.852841163310962, 0.852841163310962, 0.8595749440715883, 0.8595749440715883]}], \"f1_score_weighted\": [{\"categories\": [\"0\", \"1\", \"2\", \"3\", \"4\", \"5\", \"6\", \"7\", \"8\", \"9\", \"10\", \"11\", \"12\", \"13\", \"14\", \"15\", \"16\", \"17\", \"18\", \"19\", \"20\", \"21\", \"22\", \"23\", \"24\", \"25\", \"26\", \"27\", \"28\", \"29\", \"30\", \"31\", \"32\", \"33\", \"34\", \"35\", \"36\", \"37\", \"38\", \"39\", \"40\", \"41\", \"42\", \"43\", \"45\", \"46\"], \"mode\": \"markers\", \"name\": \"f1_score_weighted\", \"stepped\": false, \"type\": \"scatter\", \"data\": [0.8048405818640718, 0.8431811137084118, 0.8082777923655562, 0.8504171317139001, 0.8168720873865384, 0.6552852563324012, 0.6281540716547105, 0.7189909370646741, 0.8306192967302546, 0.8332620678294016, 0.8322682165054179, 0.8181624681777895, 0.7660900173651851, 0.7895137429477475, 0.7069091251016462, 0.6141776382125793, 0.825609260549309, 0.5642415519793365, 0.8329989397699994, 0.8319095285260056, 0.5491321514835512, 0.6986988246002466, 0.8202860496437244, 0.6266454006448029, 0.6593109375458868, 0.5491321514835512, 0.839264588095482, 0.8362273477113016, 0.8498749833017969, 0.8268628103445343, 0.8259105580429719, 0.8335907311926922, 0.8062721783332507, 0.8323336300793361, 0.8350342176026724, 0.7509745595954386, 0.794950713475209, 0.7375547157783289, 0.7795053884710512, 0.8301336903854976, 0.6802307078145649, 0.8361249595910751, 0.8323676504889137, 0.78539881769664, 0.8547080576666007, 0.8172758054138731]}, {\"categories\": [\"0\", \"1\", \"2\", \"3\", \"4\", \"5\", \"6\", \"7\", \"8\", \"9\", \"10\", \"11\", \"12\", \"13\", \"14\", \"15\", \"16\", \"17\", \"18\", \"19\", \"20\", \"21\", \"22\", \"23\", \"24\", \"25\", \"26\", \"27\", \"28\", \"29\", \"30\", \"31\", \"32\", \"33\", \"34\", \"35\", \"36\", \"37\", \"38\", \"39\", \"40\", \"41\", \"42\", \"43\", \"45\", \"46\"], \"mode\": \"lines\", \"name\": \"f1_score_weighted_max\", \"stepped\": true, \"type\": \"scatter\", \"data\": [0.8048405818640718, 0.8431811137084118, 0.8431811137084118, 0.8504171317139001, 0.8504171317139001, 0.8504171317139001, 0.8504171317139001, 0.8504171317139001, 0.8504171317139001, 0.8504171317139001, 0.8504171317139001, 0.8504171317139001, 0.8504171317139001, 0.8504171317139001, 0.8504171317139001, 0.8504171317139001, 0.8504171317139001, 0.8504171317139001, 0.8504171317139001, 0.8504171317139001, 0.8504171317139001, 0.8504171317139001, 0.8504171317139001, 0.8504171317139001, 0.8504171317139001, 0.8504171317139001, 0.8504171317139001, 0.8504171317139001, 0.8504171317139001, 0.8504171317139001, 0.8504171317139001, 0.8504171317139001, 0.8504171317139001, 0.8504171317139001, 0.8504171317139001, 0.8504171317139001, 0.8504171317139001, 0.8504171317139001, 0.8504171317139001, 0.8504171317139001, 0.8504171317139001, 0.8504171317139001, 0.8504171317139001, 0.8504171317139001, 0.8547080576666007, 0.8547080576666007]}], \"accuracy\": [{\"categories\": [\"0\", \"1\", \"2\", \"3\", \"4\", \"5\", \"6\", \"7\", \"8\", \"9\", \"10\", \"11\", \"12\", \"13\", \"14\", \"15\", \"16\", \"17\", \"18\", \"19\", \"20\", \"21\", \"22\", \"23\", \"24\", \"25\", \"26\", \"27\", \"28\", \"29\", \"30\", \"31\", \"32\", \"33\", \"34\", \"35\", \"36\", \"37\", \"38\", \"39\", \"40\", \"41\", \"42\", \"43\", \"45\", \"46\"], \"mode\": \"markers\", \"name\": \"accuracy\", \"stepped\": false, \"type\": \"scatter\", \"data\": [0.8127069351230425, 0.8461297539149888, 0.8195078299776286, 0.8528187919463087, 0.8158612975391499, 0.6989261744966443, 0.6822371364653244, 0.7626174496644296, 0.8361297539149888, 0.8394854586129754, 0.8361073825503356, 0.8260626398210291, 0.792751677852349, 0.792572706935123, 0.7558836689038031, 0.6923042505592841, 0.8293736017897092, 0.6856599552572706, 0.8394630872483222, 0.8361073825503356, 0.6789485458612976, 0.7458836689038031, 0.8260626398210291, 0.7090380313199105, 0.7292170022371365, 0.6789485458612976, 0.8461744966442952, 0.839440715883669, 0.852841163310962, 0.8293736017897092, 0.8327740492170023, 0.8394854586129754, 0.8093736017897092, 0.8394854586129754, 0.8394630872483222, 0.7524608501118568, 0.792572706935123, 0.7357270693512303, 0.7758612975391499, 0.8361073825503356, 0.7358389261744966, 0.8428187919463087, 0.8394630872483222, 0.789261744966443, 0.8595749440715883, 0.8193288590604026]}, {\"categories\": [\"0\", \"1\", \"2\", \"3\", \"4\", \"5\", \"6\", \"7\", \"8\", \"9\", \"10\", \"11\", \"12\", \"13\", \"14\", \"15\", \"16\", \"17\", \"18\", \"19\", \"20\", \"21\", \"22\", \"23\", \"24\", \"25\", \"26\", \"27\", \"28\", \"29\", \"30\", \"31\", \"32\", \"33\", \"34\", \"35\", \"36\", \"37\", \"38\", \"39\", \"40\", \"41\", \"42\", \"43\", \"45\", \"46\"], \"mode\": \"lines\", \"name\": \"accuracy_max\", \"stepped\": true, \"type\": \"scatter\", \"data\": [0.8127069351230425, 0.8461297539149888, 0.8461297539149888, 0.8528187919463087, 0.8528187919463087, 0.8528187919463087, 0.8528187919463087, 0.8528187919463087, 0.8528187919463087, 0.8528187919463087, 0.8528187919463087, 0.8528187919463087, 0.8528187919463087, 0.8528187919463087, 0.8528187919463087, 0.8528187919463087, 0.8528187919463087, 0.8528187919463087, 0.8528187919463087, 0.8528187919463087, 0.8528187919463087, 0.8528187919463087, 0.8528187919463087, 0.8528187919463087, 0.8528187919463087, 0.8528187919463087, 0.8528187919463087, 0.8528187919463087, 0.852841163310962, 0.852841163310962, 0.852841163310962, 0.852841163310962, 0.852841163310962, 0.852841163310962, 0.852841163310962, 0.852841163310962, 0.852841163310962, 0.852841163310962, 0.852841163310962, 0.852841163310962, 0.852841163310962, 0.852841163310962, 0.852841163310962, 0.852841163310962, 0.8595749440715883, 0.8595749440715883]}], \"recall_score_micro\": [{\"categories\": [\"0\", \"1\", \"2\", \"3\", \"4\", \"5\", \"6\", \"7\", \"8\", \"9\", \"10\", \"11\", \"12\", \"13\", \"14\", \"15\", \"16\", \"17\", \"18\", \"19\", \"20\", \"21\", \"22\", \"23\", \"24\", \"25\", \"26\", \"27\", \"28\", \"29\", \"30\", \"31\", \"32\", \"33\", \"34\", \"35\", \"36\", \"37\", \"38\", \"39\", \"40\", \"41\", \"42\", \"43\", \"45\", \"46\"], \"mode\": \"markers\", \"name\": \"recall_score_micro\", \"stepped\": false, \"type\": \"scatter\", \"data\": [0.8127069351230425, 0.8461297539149888, 0.8195078299776286, 0.8528187919463087, 0.8158612975391499, 0.6989261744966443, 0.6822371364653244, 0.7626174496644296, 0.8361297539149888, 0.8394854586129754, 0.8361073825503356, 0.8260626398210291, 0.792751677852349, 0.792572706935123, 0.7558836689038031, 0.6923042505592841, 0.8293736017897092, 0.6856599552572706, 0.8394630872483222, 0.8361073825503356, 0.6789485458612976, 0.7458836689038031, 0.8260626398210291, 0.7090380313199105, 0.7292170022371365, 0.6789485458612976, 0.8461744966442952, 0.839440715883669, 0.852841163310962, 0.8293736017897092, 0.8327740492170023, 0.8394854586129754, 0.8093736017897092, 0.8394854586129754, 0.8394630872483222, 0.7524608501118568, 0.792572706935123, 0.7357270693512303, 0.7758612975391499, 0.8361073825503356, 0.7358389261744966, 0.8428187919463087, 0.8394630872483222, 0.789261744966443, 0.8595749440715883, 0.8193288590604026]}, {\"categories\": [\"0\", \"1\", \"2\", \"3\", \"4\", \"5\", \"6\", \"7\", \"8\", \"9\", \"10\", \"11\", \"12\", \"13\", \"14\", \"15\", \"16\", \"17\", \"18\", \"19\", \"20\", \"21\", \"22\", \"23\", \"24\", \"25\", \"26\", \"27\", \"28\", \"29\", \"30\", \"31\", \"32\", \"33\", \"34\", \"35\", \"36\", \"37\", \"38\", \"39\", \"40\", \"41\", \"42\", \"43\", \"45\", \"46\"], \"mode\": \"lines\", \"name\": \"recall_score_micro_max\", \"stepped\": true, \"type\": \"scatter\", \"data\": [0.8127069351230425, 0.8461297539149888, 0.8461297539149888, 0.8528187919463087, 0.8528187919463087, 0.8528187919463087, 0.8528187919463087, 0.8528187919463087, 0.8528187919463087, 0.8528187919463087, 0.8528187919463087, 0.8528187919463087, 0.8528187919463087, 0.8528187919463087, 0.8528187919463087, 0.8528187919463087, 0.8528187919463087, 0.8528187919463087, 0.8528187919463087, 0.8528187919463087, 0.8528187919463087, 0.8528187919463087, 0.8528187919463087, 0.8528187919463087, 0.8528187919463087, 0.8528187919463087, 0.8528187919463087, 0.8528187919463087, 0.852841163310962, 0.852841163310962, 0.852841163310962, 0.852841163310962, 0.852841163310962, 0.852841163310962, 0.852841163310962, 0.852841163310962, 0.852841163310962, 0.852841163310962, 0.852841163310962, 0.852841163310962, 0.852841163310962, 0.852841163310962, 0.852841163310962, 0.852841163310962, 0.8595749440715883, 0.8595749440715883]}], \"average_precision_score_micro\": [{\"categories\": [\"0\", \"1\", \"2\", \"3\", \"4\", \"5\", \"6\", \"7\", \"8\", \"9\", \"10\", \"11\", \"12\", \"13\", \"14\", \"15\", \"16\", \"17\", \"18\", \"19\", \"20\", \"21\", \"22\", \"23\", \"24\", \"25\", \"26\", \"27\", \"28\", \"29\", \"30\", \"31\", \"32\", \"33\", \"34\", \"35\", \"36\", \"37\", \"38\", \"39\", \"40\", \"41\", \"42\", \"43\", \"45\", \"46\"], \"mode\": \"markers\", \"name\": \"average_precision_score_micro\", \"stepped\": false, \"type\": \"scatter\", \"data\": [0.8729387725912188, 0.8827167126140475, 0.8948185589318594, 0.9070859552168008, 0.8990944849332185, 0.7847376125942731, 0.7723120278823904, 0.876654878123686, 0.8999531165167252, 0.9016500717983074, 0.9092637786385154, 0.8992493934504394, 0.8761880747165239, 0.8649232872991078, 0.868236056670957, 0.8169858757317741, 0.907755163276923, 0.8298993120909843, 0.8895749466012086, 0.8738052778939367, 0.839893548339884, 0.8543311700606524, 0.897693541734355, 0.833160518376443, 0.86255855893555, 0.8242582323277214, 0.8955944201915483, 0.9104167825857683, 0.9063822014423863, 0.8937511839250118, 0.8641569858049121, 0.9063909297655597, 0.8956866037268776, 0.9023780666447562, 0.9102348076285665, 0.8136372657252234, 0.844468381352309, 0.8307326956985703, 0.8388133944516554, 0.9168104452458483, 0.8765758117093561, 0.8834917626256014, 0.9047530488592013, 0.8742227863909038, 0.9031080863111631, 0.8780408308035743]}, {\"categories\": [\"0\", \"1\", \"2\", \"3\", \"4\", \"5\", \"6\", \"7\", \"8\", \"9\", \"10\", \"11\", \"12\", \"13\", \"14\", \"15\", \"16\", \"17\", \"18\", \"19\", \"20\", \"21\", \"22\", \"23\", \"24\", \"25\", \"26\", \"27\", \"28\", \"29\", \"30\", \"31\", \"32\", \"33\", \"34\", \"35\", \"36\", \"37\", \"38\", \"39\", \"40\", \"41\", \"42\", \"43\", \"45\", \"46\"], \"mode\": \"lines\", \"name\": \"average_precision_score_micro_max\", \"stepped\": true, \"type\": \"scatter\", \"data\": [0.8729387725912188, 0.8827167126140475, 0.8948185589318594, 0.9070859552168008, 0.9070859552168008, 0.9070859552168008, 0.9070859552168008, 0.9070859552168008, 0.9070859552168008, 0.9070859552168008, 0.9092637786385154, 0.9092637786385154, 0.9092637786385154, 0.9092637786385154, 0.9092637786385154, 0.9092637786385154, 0.9092637786385154, 0.9092637786385154, 0.9092637786385154, 0.9092637786385154, 0.9092637786385154, 0.9092637786385154, 0.9092637786385154, 0.9092637786385154, 0.9092637786385154, 0.9092637786385154, 0.9092637786385154, 0.9104167825857683, 0.9104167825857683, 0.9104167825857683, 0.9104167825857683, 0.9104167825857683, 0.9104167825857683, 0.9104167825857683, 0.9104167825857683, 0.9104167825857683, 0.9104167825857683, 0.9104167825857683, 0.9104167825857683, 0.9168104452458483, 0.9168104452458483, 0.9168104452458483, 0.9168104452458483, 0.9168104452458483, 0.9168104452458483, 0.9168104452458483]}], \"norm_macro_recall\": [{\"categories\": [\"0\", \"1\", \"2\", \"3\", \"4\", \"5\", \"6\", \"7\", \"8\", \"9\", \"10\", \"11\", \"12\", \"13\", \"14\", \"15\", \"16\", \"17\", \"18\", \"19\", \"20\", \"21\", \"22\", \"23\", \"24\", \"25\", \"26\", \"27\", \"28\", \"29\", \"30\", \"31\", \"32\", \"33\", \"34\", \"35\", \"36\", \"37\", \"38\", \"39\", \"40\", \"41\", \"42\", \"43\", \"45\", \"46\"], \"mode\": \"markers\", \"name\": \"norm_macro_recall\", \"stepped\": false, \"type\": \"scatter\", \"data\": [0.5115173518322433, 0.6277332083033339, 0.5292772259525255, 0.6361374126225169, 0.5875664991085964, 0.18125335240479168, 0.14700773926591915, 0.29029696985177045, 0.5794292016364161, 0.5785948253327031, 0.5899849090679036, 0.5365243843482199, 0.39524617515006844, 0.5040854344687107, 0.2571134836913489, 0.08665848896963468, 0.5744931846764406, 0.021276595744680882, 0.572424272004989, 0.5904676595727821, 0.0, 0.24896383664061794, 0.5532506451074215, 0.11078261091670705, 0.17499808012524576, 0.0, 0.5822281935736164, 0.6064080782934619, 0.6370543793670829, 0.5917021959405208, 0.5573182295880222, 0.5781120748278246, 0.5395366277962628, 0.573341238749555, 0.5953696203570958, 0.4219768168485005, 0.5528159652316794, 0.42653438034156144, 0.528160558514537, 0.5737413988135805, 0.20552773458235196, 0.5773262327893027, 0.5666879349169622, 0.4876137309779611, 0.6300835059113176, 0.5831668669152936]}, {\"categories\": [\"0\", \"1\", \"2\", \"3\", \"4\", \"5\", \"6\", \"7\", \"8\", \"9\", \"10\", \"11\", \"12\", \"13\", \"14\", \"15\", \"16\", \"17\", \"18\", \"19\", \"20\", \"21\", \"22\", \"23\", \"24\", \"25\", \"26\", \"27\", \"28\", \"29\", \"30\", \"31\", \"32\", \"33\", \"34\", \"35\", \"36\", \"37\", \"38\", \"39\", \"40\", \"41\", \"42\", \"43\", \"45\", \"46\"], \"mode\": \"lines\", \"name\": \"norm_macro_recall_max\", \"stepped\": true, \"type\": \"scatter\", \"data\": [0.5115173518322433, 0.6277332083033339, 0.6277332083033339, 0.6361374126225169, 0.6361374126225169, 0.6361374126225169, 0.6361374126225169, 0.6361374126225169, 0.6361374126225169, 0.6361374126225169, 0.6361374126225169, 0.6361374126225169, 0.6361374126225169, 0.6361374126225169, 0.6361374126225169, 0.6361374126225169, 0.6361374126225169, 0.6361374126225169, 0.6361374126225169, 0.6361374126225169, 0.6361374126225169, 0.6361374126225169, 0.6361374126225169, 0.6361374126225169, 0.6361374126225169, 0.6361374126225169, 0.6361374126225169, 0.6361374126225169, 0.6370543793670829, 0.6370543793670829, 0.6370543793670829, 0.6370543793670829, 0.6370543793670829, 0.6370543793670829, 0.6370543793670829, 0.6370543793670829, 0.6370543793670829, 0.6370543793670829, 0.6370543793670829, 0.6370543793670829, 0.6370543793670829, 0.6370543793670829, 0.6370543793670829, 0.6370543793670829, 0.6370543793670829, 0.6370543793670829]}], \"f1_score_macro\": [{\"categories\": [\"0\", \"1\", \"2\", \"3\", \"4\", \"5\", \"6\", \"7\", \"8\", \"9\", \"10\", \"11\", \"12\", \"13\", \"14\", \"15\", \"16\", \"17\", \"18\", \"19\", \"20\", \"21\", \"22\", \"23\", \"24\", \"25\", \"26\", \"27\", \"28\", \"29\", \"30\", \"31\", \"32\", \"33\", \"34\", \"35\", \"36\", \"37\", \"38\", \"39\", \"40\", \"41\", \"42\", \"43\", \"45\", \"46\"], \"mode\": \"markers\", \"name\": \"f1_score_macro\", \"stepped\": false, \"type\": \"scatter\", \"data\": [0.7692501942501943, 0.8182616971604036, 0.7719742723644525, 0.8261558461476664, 0.7924000749810417, 0.5759607196082606, 0.5409986584357158, 0.647779989976988, 0.8010591414475265, 0.8033361024228605, 0.8042159997695388, 0.784466185616025, 0.7122960372960373, 0.7563299663299663, 0.6299143006492792, 0.5060763850302983, 0.7966550637005292, 0.42642265949724584, 0.8025530857596197, 0.8037788154589607, 0.4043824701195219, 0.6219543739824015, 0.7887932189578684, 0.5183785487851239, 0.5641661381152818, 0.4043824701195219, 0.8094094479143583, 0.809686847406538, 0.8254383975812547, 0.7998834590190527, 0.7941716680662321, 0.8037782485672287, 0.7750589759680193, 0.8016409419983508, 0.8071033622158366, 0.7129571985339269, 0.768310095264521, 0.703891662242681, 0.7524582034008586, 0.8000351667739551, 0.5950629010469436, 0.8059631936557546, 0.8012370038599483, 0.7502614693506281, 0.8290805336125466, 0.7903882038578955]}, {\"categories\": [\"0\", \"1\", \"2\", \"3\", \"4\", \"5\", \"6\", \"7\", \"8\", \"9\", \"10\", \"11\", \"12\", \"13\", \"14\", \"15\", \"16\", \"17\", \"18\", \"19\", \"20\", \"21\", \"22\", \"23\", \"24\", \"25\", \"26\", \"27\", \"28\", \"29\", \"30\", \"31\", \"32\", \"33\", \"34\", \"35\", \"36\", \"37\", \"38\", \"39\", \"40\", \"41\", \"42\", \"43\", \"45\", \"46\"], \"mode\": \"lines\", \"name\": \"f1_score_macro_max\", \"stepped\": true, \"type\": \"scatter\", \"data\": [0.7692501942501943, 0.8182616971604036, 0.8182616971604036, 0.8261558461476664, 0.8261558461476664, 0.8261558461476664, 0.8261558461476664, 0.8261558461476664, 0.8261558461476664, 0.8261558461476664, 0.8261558461476664, 0.8261558461476664, 0.8261558461476664, 0.8261558461476664, 0.8261558461476664, 0.8261558461476664, 0.8261558461476664, 0.8261558461476664, 0.8261558461476664, 0.8261558461476664, 0.8261558461476664, 0.8261558461476664, 0.8261558461476664, 0.8261558461476664, 0.8261558461476664, 0.8261558461476664, 0.8261558461476664, 0.8261558461476664, 0.8261558461476664, 0.8261558461476664, 0.8261558461476664, 0.8261558461476664, 0.8261558461476664, 0.8261558461476664, 0.8261558461476664, 0.8261558461476664, 0.8261558461476664, 0.8261558461476664, 0.8261558461476664, 0.8261558461476664, 0.8261558461476664, 0.8261558461476664, 0.8261558461476664, 0.8261558461476664, 0.8290805336125466, 0.8290805336125466]}]}, \"metricName\": null, \"primaryMetricName\": \"accuracy\", \"showLegend\": false}, \"run_metrics\": [{\"name\": \"experiment_status\", \"run_id\": \"AutoML_5a6ae0d4-dc22-4937-8491-91faaeb4af56\", \"categories\": [0, 1, 2, 3, 4, 5, 6, 7, 8, 9, 10, 11, 12, 13], \"series\": [{\"data\": [\"DatasetEvaluation\", \"FeaturesGeneration\", \"DatasetFeaturization\", \"DatasetFeaturizationCompleted\", \"DatasetCrossValidationSplit\", \"ModelSelection\", \"BestRunExplainModel\", \"ModelExplanationDataSetSetup\", \"PickSurrogateModel\", \"EngineeredFeatureExplanations\", \"EngineeredFeatureExplanations\", \"RawFeaturesExplanations\", \"RawFeaturesExplanations\", \"BestRunExplainModel\"]}]}, {\"name\": \"experiment_status_description\", \"run_id\": \"AutoML_5a6ae0d4-dc22-4937-8491-91faaeb4af56\", \"categories\": [0, 1, 2, 3, 4, 5, 6, 7, 8, 9, 10, 11, 12, 13], \"series\": [{\"data\": [\"Gathering dataset statistics.\", \"Generating features for the dataset.\", \"Beginning to fit featurizers and featurize the dataset.\", \"Completed fit featurizers and featurizing the dataset.\", \"Generating individually featurized CV splits.\", \"Beginning model selection.\", \"Best run model explanations started\", \"Model explanations data setup completed\", \"Choosing LightGBM as the surrogate model for explanations\", \"Computation of engineered features started\", \"Computation of engineered features completed\", \"Computation of raw features started\", \"Computation of raw features completed\", \"Best run model explanations completed\"]}]}, {\"name\": \"accuracy\", \"run_id\": \"AutoML_5a6ae0d4-dc22-4937-8491-91faaeb4af56\", \"categories\": [0], \"series\": [{\"data\": [0.8595749440715883]}]}, {\"name\": \"precision_score_macro\", \"run_id\": \"AutoML_5a6ae0d4-dc22-4937-8491-91faaeb4af56\", \"categories\": [0], \"series\": [{\"data\": [0.8579949377870271]}]}, {\"name\": \"balanced_accuracy\", \"run_id\": \"AutoML_5a6ae0d4-dc22-4937-8491-91faaeb4af56\", \"categories\": [0], \"series\": [{\"data\": [0.8150417529556588]}]}, {\"name\": \"f1_score_weighted\", \"run_id\": \"AutoML_5a6ae0d4-dc22-4937-8491-91faaeb4af56\", \"categories\": [0], \"series\": [{\"data\": [0.8547080576666007]}]}, {\"name\": \"AUC_weighted\", \"run_id\": \"AutoML_5a6ae0d4-dc22-4937-8491-91faaeb4af56\", \"categories\": [0], \"series\": [{\"data\": [0.8929751171587237]}]}, {\"name\": \"weighted_accuracy\", \"run_id\": \"AutoML_5a6ae0d4-dc22-4937-8491-91faaeb4af56\", \"categories\": [0], \"series\": [{\"data\": [0.8941899115506375]}]}, {\"name\": \"average_precision_score_macro\", \"run_id\": \"AutoML_5a6ae0d4-dc22-4937-8491-91faaeb4af56\", \"categories\": [0], \"series\": [{\"data\": [0.8765666594118979]}]}, {\"name\": \"average_precision_score_micro\", \"run_id\": \"AutoML_5a6ae0d4-dc22-4937-8491-91faaeb4af56\", \"categories\": [0], \"series\": [{\"data\": [0.9031080863111631]}]}, {\"name\": \"AUC_micro\", \"run_id\": \"AutoML_5a6ae0d4-dc22-4937-8491-91faaeb4af56\", \"categories\": [0], \"series\": [{\"data\": [0.9058955552552688]}]}, {\"name\": \"recall_score_weighted\", \"run_id\": \"AutoML_5a6ae0d4-dc22-4937-8491-91faaeb4af56\", \"categories\": [0], \"series\": [{\"data\": [0.8595749440715883]}]}, {\"name\": \"precision_score_micro\", \"run_id\": \"AutoML_5a6ae0d4-dc22-4937-8491-91faaeb4af56\", \"categories\": [0], \"series\": [{\"data\": [0.8595749440715883]}]}, {\"name\": \"average_precision_score_weighted\", \"run_id\": \"AutoML_5a6ae0d4-dc22-4937-8491-91faaeb4af56\", \"categories\": [0], \"series\": [{\"data\": [0.8994642678700334]}]}, {\"name\": \"log_loss\", \"run_id\": \"AutoML_5a6ae0d4-dc22-4937-8491-91faaeb4af56\", \"categories\": [0], \"series\": [{\"data\": [0.4060963796406123]}]}, {\"name\": \"f1_score_micro\", \"run_id\": \"AutoML_5a6ae0d4-dc22-4937-8491-91faaeb4af56\", \"categories\": [0], \"series\": [{\"data\": [0.8595749440715883]}]}, {\"name\": \"precision_score_weighted\", \"run_id\": \"AutoML_5a6ae0d4-dc22-4937-8491-91faaeb4af56\", \"categories\": [0], \"series\": [{\"data\": [0.8611065119700444]}]}, {\"name\": \"recall_score_micro\", \"run_id\": \"AutoML_5a6ae0d4-dc22-4937-8491-91faaeb4af56\", \"categories\": [0], \"series\": [{\"data\": [0.8595749440715883]}]}, {\"name\": \"norm_macro_recall\", \"run_id\": \"AutoML_5a6ae0d4-dc22-4937-8491-91faaeb4af56\", \"categories\": [0], \"series\": [{\"data\": [0.6300835059113176]}]}, {\"name\": \"AUC_macro\", \"run_id\": \"AutoML_5a6ae0d4-dc22-4937-8491-91faaeb4af56\", \"categories\": [0], \"series\": [{\"data\": [0.8929751171587237]}]}, {\"name\": \"matthews_correlation\", \"run_id\": \"AutoML_5a6ae0d4-dc22-4937-8491-91faaeb4af56\", \"categories\": [0], \"series\": [{\"data\": [0.6709089459747068]}]}, {\"name\": \"recall_score_macro\", \"run_id\": \"AutoML_5a6ae0d4-dc22-4937-8491-91faaeb4af56\", \"categories\": [0], \"series\": [{\"data\": [0.8150417529556588]}]}, {\"name\": \"f1_score_macro\", \"run_id\": \"AutoML_5a6ae0d4-dc22-4937-8491-91faaeb4af56\", \"categories\": [0], \"series\": [{\"data\": [0.8290805336125466]}]}], \"run_logs\": \"\\nRun is completed.\", \"graph\": {}, \"widget_settings\": {\"childWidgetDisplay\": \"popup\", \"send_telemetry\": false, \"log_level\": \"INFO\", \"sdk_version\": \"1.22.0\"}, \"loading\": false}"
     },
     "metadata": {},
     "output_type": "display_data"
    },
    {
     "data": {
      "text/plain": [
       "{'runId': 'AutoML_5a6ae0d4-dc22-4937-8491-91faaeb4af56',\n",
       " 'target': 'compute-cluster2',\n",
       " 'status': 'Completed',\n",
       " 'startTimeUtc': '2021-03-04T19:10:16.128146Z',\n",
       " 'endTimeUtc': '2021-03-04T19:29:25.904231Z',\n",
       " 'properties': {'num_iterations': '1000',\n",
       "  'training_type': 'TrainFull',\n",
       "  'acquisition_function': 'EI',\n",
       "  'primary_metric': 'accuracy',\n",
       "  'train_split': '0',\n",
       "  'acquisition_parameter': '0',\n",
       "  'num_cross_validation': '2',\n",
       "  'target': 'compute-cluster2',\n",
       "  'AMLSettingsJsonString': '{\"path\":null,\"name\":\"heart-failure-prediction\",\"subscription_id\":\"9a7511b8-150f-4a58-8528-3e7d50216c31\",\"resource_group\":\"aml-quickstarts-139817\",\"workspace_name\":\"quick-starts-ws-139817\",\"region\":\"southcentralus\",\"compute_target\":\"compute-cluster2\",\"spark_service\":null,\"azure_service\":\"remote\",\"many_models\":false,\"pipeline_fetch_max_batch_size\":1,\"iterations\":1000,\"primary_metric\":\"accuracy\",\"task_type\":\"classification\",\"data_script\":null,\"validation_size\":0.0,\"n_cross_validations\":2,\"y_min\":null,\"y_max\":null,\"num_classes\":null,\"featurization\":\"auto\",\"_ignore_package_version_incompatibilities\":false,\"is_timeseries\":false,\"max_cores_per_iteration\":1,\"max_concurrent_iterations\":4,\"iteration_timeout_minutes\":null,\"mem_in_mb\":null,\"enforce_time_on_windows\":false,\"experiment_timeout_minutes\":25,\"experiment_exit_score\":null,\"whitelist_models\":null,\"blacklist_algos\":[\"XGBoostClassifier\",\"TensorFlowLinearClassifier\",\"TensorFlowDNN\"],\"supported_models\":[\"BernoulliNaiveBayes\",\"MultinomialNaiveBayes\",\"DecisionTree\",\"RandomForest\",\"LightGBM\",\"GradientBoosting\",\"XGBoostClassifier\",\"KNN\",\"ExtremeRandomTrees\",\"SGD\",\"TensorFlowDNN\",\"SVM\",\"LinearSVM\",\"AveragedPerceptronClassifier\",\"LogisticRegression\",\"TensorFlowLinearClassifier\"],\"private_models\":[],\"auto_blacklist\":true,\"blacklist_samples_reached\":false,\"exclude_nan_labels\":true,\"verbosity\":20,\"_debug_log\":\"azureml_automl.log\",\"show_warnings\":false,\"model_explainability\":true,\"service_url\":null,\"sdk_url\":null,\"sdk_packages\":null,\"enable_onnx_compatible_models\":false,\"enable_split_onnx_featurizer_estimator_models\":false,\"vm_type\":\"STANDARD_DS3_V2\",\"telemetry_verbosity\":20,\"send_telemetry\":true,\"enable_dnn\":false,\"scenario\":\"SDK-1.13.0\",\"environment_label\":null,\"force_text_dnn\":false,\"enable_feature_sweeping\":true,\"enable_early_stopping\":true,\"early_stopping_n_iters\":10,\"metrics\":null,\"enable_ensembling\":true,\"enable_stack_ensembling\":true,\"ensemble_iterations\":15,\"enable_tf\":false,\"enable_subsampling\":null,\"subsample_seed\":null,\"enable_nimbusml\":false,\"enable_streaming\":false,\"force_streaming\":false,\"track_child_runs\":true,\"allowed_private_models\":[],\"label_column_name\":\"DEATH_EVENT\",\"weight_column_name\":null,\"cv_split_column_names\":null,\"enable_local_managed\":false,\"_local_managed_run_id\":null,\"cost_mode\":1,\"lag_length\":0,\"metric_operation\":\"maximize\",\"preprocess\":true}',\n",
       "  'DataPrepJsonString': '{\\\\\"training_data\\\\\": \\\\\"{\\\\\\\\\\\\\"blocks\\\\\\\\\\\\\": [{\\\\\\\\\\\\\"id\\\\\\\\\\\\\": \\\\\\\\\\\\\"51c20d36-6a15-4784-ab95-381f15fc1310\\\\\\\\\\\\\", \\\\\\\\\\\\\"type\\\\\\\\\\\\\": \\\\\\\\\\\\\"Microsoft.DPrep.GetDatastoreFilesBlock\\\\\\\\\\\\\", \\\\\\\\\\\\\"arguments\\\\\\\\\\\\\": {\\\\\\\\\\\\\"datastores\\\\\\\\\\\\\": [{\\\\\\\\\\\\\"datastoreName\\\\\\\\\\\\\": \\\\\\\\\\\\\"workspaceblobstore\\\\\\\\\\\\\", \\\\\\\\\\\\\"path\\\\\\\\\\\\\": \\\\\\\\\\\\\"UI/03-04-2021_065652_UTC/heart_failure_clinical_records_dataset.csv\\\\\\\\\\\\\", \\\\\\\\\\\\\"resourceGroup\\\\\\\\\\\\\": \\\\\\\\\\\\\"aml-quickstarts-139817\\\\\\\\\\\\\", \\\\\\\\\\\\\"subscription\\\\\\\\\\\\\": \\\\\\\\\\\\\"9a7511b8-150f-4a58-8528-3e7d50216c31\\\\\\\\\\\\\", \\\\\\\\\\\\\"workspaceName\\\\\\\\\\\\\": \\\\\\\\\\\\\"quick-starts-ws-139817\\\\\\\\\\\\\"}]}, \\\\\\\\\\\\\"localData\\\\\\\\\\\\\": {}, \\\\\\\\\\\\\"isEnabled\\\\\\\\\\\\\": true, \\\\\\\\\\\\\"name\\\\\\\\\\\\\": null, \\\\\\\\\\\\\"annotation\\\\\\\\\\\\\": null}, {\\\\\\\\\\\\\"id\\\\\\\\\\\\\": \\\\\\\\\\\\\"e9db7820-74c6-4705-8ab3-9c0675a7ea46\\\\\\\\\\\\\", \\\\\\\\\\\\\"type\\\\\\\\\\\\\": \\\\\\\\\\\\\"Microsoft.DPrep.ParseDelimitedBlock\\\\\\\\\\\\\", \\\\\\\\\\\\\"arguments\\\\\\\\\\\\\": {\\\\\\\\\\\\\"columnHeadersMode\\\\\\\\\\\\\": 1, \\\\\\\\\\\\\"fileEncoding\\\\\\\\\\\\\": 0, \\\\\\\\\\\\\"handleQuotedLineBreaks\\\\\\\\\\\\\": false, \\\\\\\\\\\\\"preview\\\\\\\\\\\\\": false, \\\\\\\\\\\\\"separator\\\\\\\\\\\\\": \\\\\\\\\\\\\",\\\\\\\\\\\\\", \\\\\\\\\\\\\"skipRows\\\\\\\\\\\\\": 0, \\\\\\\\\\\\\"skipRowsMode\\\\\\\\\\\\\": 0}, \\\\\\\\\\\\\"localData\\\\\\\\\\\\\": {}, \\\\\\\\\\\\\"isEnabled\\\\\\\\\\\\\": true, \\\\\\\\\\\\\"name\\\\\\\\\\\\\": null, \\\\\\\\\\\\\"annotation\\\\\\\\\\\\\": null}, {\\\\\\\\\\\\\"id\\\\\\\\\\\\\": \\\\\\\\\\\\\"4450bc8c-a28f-412d-abab-0e03999efad9\\\\\\\\\\\\\", \\\\\\\\\\\\\"type\\\\\\\\\\\\\": \\\\\\\\\\\\\"Microsoft.DPrep.DropColumnsBlock\\\\\\\\\\\\\", \\\\\\\\\\\\\"arguments\\\\\\\\\\\\\": {\\\\\\\\\\\\\"columns\\\\\\\\\\\\\": {\\\\\\\\\\\\\"type\\\\\\\\\\\\\": 0, \\\\\\\\\\\\\"details\\\\\\\\\\\\\": {\\\\\\\\\\\\\"selectedColumns\\\\\\\\\\\\\": [\\\\\\\\\\\\\"Path\\\\\\\\\\\\\"]}}}, \\\\\\\\\\\\\"localData\\\\\\\\\\\\\": {}, \\\\\\\\\\\\\"isEnabled\\\\\\\\\\\\\": true, \\\\\\\\\\\\\"name\\\\\\\\\\\\\": null, \\\\\\\\\\\\\"annotation\\\\\\\\\\\\\": null}, {\\\\\\\\\\\\\"id\\\\\\\\\\\\\": \\\\\\\\\\\\\"4b46c21e-776c-4a2c-82af-93cf8662be09\\\\\\\\\\\\\", \\\\\\\\\\\\\"type\\\\\\\\\\\\\": \\\\\\\\\\\\\"Microsoft.DPrep.SetColumnTypesBlock\\\\\\\\\\\\\", \\\\\\\\\\\\\"arguments\\\\\\\\\\\\\": {\\\\\\\\\\\\\"columnConversion\\\\\\\\\\\\\": [{\\\\\\\\\\\\\"column\\\\\\\\\\\\\": {\\\\\\\\\\\\\"type\\\\\\\\\\\\\": 2, \\\\\\\\\\\\\"details\\\\\\\\\\\\\": {\\\\\\\\\\\\\"selectedColumn\\\\\\\\\\\\\": \\\\\\\\\\\\\"Path\\\\\\\\\\\\\"}}, \\\\\\\\\\\\\"typeProperty\\\\\\\\\\\\\": 0}, {\\\\\\\\\\\\\"column\\\\\\\\\\\\\": {\\\\\\\\\\\\\"type\\\\\\\\\\\\\": 2, \\\\\\\\\\\\\"details\\\\\\\\\\\\\": {\\\\\\\\\\\\\"selectedColumn\\\\\\\\\\\\\": \\\\\\\\\\\\\"age\\\\\\\\\\\\\"}}, \\\\\\\\\\\\\"typeProperty\\\\\\\\\\\\\": 3}, {\\\\\\\\\\\\\"column\\\\\\\\\\\\\": {\\\\\\\\\\\\\"type\\\\\\\\\\\\\": 2, \\\\\\\\\\\\\"details\\\\\\\\\\\\\": {\\\\\\\\\\\\\"selectedColumn\\\\\\\\\\\\\": \\\\\\\\\\\\\"anaemia\\\\\\\\\\\\\"}}, \\\\\\\\\\\\\"typeProperty\\\\\\\\\\\\\": 2}, {\\\\\\\\\\\\\"column\\\\\\\\\\\\\": {\\\\\\\\\\\\\"type\\\\\\\\\\\\\": 2, \\\\\\\\\\\\\"details\\\\\\\\\\\\\": {\\\\\\\\\\\\\"selectedColumn\\\\\\\\\\\\\": \\\\\\\\\\\\\"creatinine_phosphokinase\\\\\\\\\\\\\"}}, \\\\\\\\\\\\\"typeProperty\\\\\\\\\\\\\": 2}, {\\\\\\\\\\\\\"column\\\\\\\\\\\\\": {\\\\\\\\\\\\\"type\\\\\\\\\\\\\": 2, \\\\\\\\\\\\\"details\\\\\\\\\\\\\": {\\\\\\\\\\\\\"selectedColumn\\\\\\\\\\\\\": \\\\\\\\\\\\\"diabetes\\\\\\\\\\\\\"}}, \\\\\\\\\\\\\"typeProperty\\\\\\\\\\\\\": 2}, {\\\\\\\\\\\\\"column\\\\\\\\\\\\\": {\\\\\\\\\\\\\"type\\\\\\\\\\\\\": 2, \\\\\\\\\\\\\"details\\\\\\\\\\\\\": {\\\\\\\\\\\\\"selectedColumn\\\\\\\\\\\\\": \\\\\\\\\\\\\"ejection_fraction\\\\\\\\\\\\\"}}, \\\\\\\\\\\\\"typeProperty\\\\\\\\\\\\\": 2}, {\\\\\\\\\\\\\"column\\\\\\\\\\\\\": {\\\\\\\\\\\\\"type\\\\\\\\\\\\\": 2, \\\\\\\\\\\\\"details\\\\\\\\\\\\\": {\\\\\\\\\\\\\"selectedColumn\\\\\\\\\\\\\": \\\\\\\\\\\\\"high_blood_pressure\\\\\\\\\\\\\"}}, \\\\\\\\\\\\\"typeProperty\\\\\\\\\\\\\": 2}, {\\\\\\\\\\\\\"column\\\\\\\\\\\\\": {\\\\\\\\\\\\\"type\\\\\\\\\\\\\": 2, \\\\\\\\\\\\\"details\\\\\\\\\\\\\": {\\\\\\\\\\\\\"selectedColumn\\\\\\\\\\\\\": \\\\\\\\\\\\\"platelets\\\\\\\\\\\\\"}}, \\\\\\\\\\\\\"typeProperty\\\\\\\\\\\\\": 3}, {\\\\\\\\\\\\\"column\\\\\\\\\\\\\": {\\\\\\\\\\\\\"type\\\\\\\\\\\\\": 2, \\\\\\\\\\\\\"details\\\\\\\\\\\\\": {\\\\\\\\\\\\\"selectedColumn\\\\\\\\\\\\\": \\\\\\\\\\\\\"serum_creatinine\\\\\\\\\\\\\"}}, \\\\\\\\\\\\\"typeProperty\\\\\\\\\\\\\": 3}, {\\\\\\\\\\\\\"column\\\\\\\\\\\\\": {\\\\\\\\\\\\\"type\\\\\\\\\\\\\": 2, \\\\\\\\\\\\\"details\\\\\\\\\\\\\": {\\\\\\\\\\\\\"selectedColumn\\\\\\\\\\\\\": \\\\\\\\\\\\\"serum_sodium\\\\\\\\\\\\\"}}, \\\\\\\\\\\\\"typeProperty\\\\\\\\\\\\\": 2}, {\\\\\\\\\\\\\"column\\\\\\\\\\\\\": {\\\\\\\\\\\\\"type\\\\\\\\\\\\\": 2, \\\\\\\\\\\\\"details\\\\\\\\\\\\\": {\\\\\\\\\\\\\"selectedColumn\\\\\\\\\\\\\": \\\\\\\\\\\\\"sex\\\\\\\\\\\\\"}}, \\\\\\\\\\\\\"typeProperty\\\\\\\\\\\\\": 2}, {\\\\\\\\\\\\\"column\\\\\\\\\\\\\": {\\\\\\\\\\\\\"type\\\\\\\\\\\\\": 2, \\\\\\\\\\\\\"details\\\\\\\\\\\\\": {\\\\\\\\\\\\\"selectedColumn\\\\\\\\\\\\\": \\\\\\\\\\\\\"smoking\\\\\\\\\\\\\"}}, \\\\\\\\\\\\\"typeProperty\\\\\\\\\\\\\": 2}, {\\\\\\\\\\\\\"column\\\\\\\\\\\\\": {\\\\\\\\\\\\\"type\\\\\\\\\\\\\": 2, \\\\\\\\\\\\\"details\\\\\\\\\\\\\": {\\\\\\\\\\\\\"selectedColumn\\\\\\\\\\\\\": \\\\\\\\\\\\\"time\\\\\\\\\\\\\"}}, \\\\\\\\\\\\\"typeProperty\\\\\\\\\\\\\": 2}, {\\\\\\\\\\\\\"column\\\\\\\\\\\\\": {\\\\\\\\\\\\\"type\\\\\\\\\\\\\": 2, \\\\\\\\\\\\\"details\\\\\\\\\\\\\": {\\\\\\\\\\\\\"selectedColumn\\\\\\\\\\\\\": \\\\\\\\\\\\\"DEATH_EVENT\\\\\\\\\\\\\"}}, \\\\\\\\\\\\\"typeProperty\\\\\\\\\\\\\": 2}]}, \\\\\\\\\\\\\"localData\\\\\\\\\\\\\": {}, \\\\\\\\\\\\\"isEnabled\\\\\\\\\\\\\": true, \\\\\\\\\\\\\"name\\\\\\\\\\\\\": null, \\\\\\\\\\\\\"annotation\\\\\\\\\\\\\": null}], \\\\\\\\\\\\\"inspectors\\\\\\\\\\\\\": [], \\\\\\\\\\\\\"meta\\\\\\\\\\\\\": {\\\\\\\\\\\\\"savedDatasetId\\\\\\\\\\\\\": \\\\\\\\\\\\\"2a260d36-bcc8-4268-ac60-7f7cb5faa0c0\\\\\\\\\\\\\", \\\\\\\\\\\\\"datasetType\\\\\\\\\\\\\": \\\\\\\\\\\\\"tabular\\\\\\\\\\\\\", \\\\\\\\\\\\\"subscriptionId\\\\\\\\\\\\\": \\\\\\\\\\\\\"9a7511b8-150f-4a58-8528-3e7d50216c31\\\\\\\\\\\\\", \\\\\\\\\\\\\"workspaceId\\\\\\\\\\\\\": \\\\\\\\\\\\\"837ec3ad-c694-4343-abc7-9d98d0ef4cd6\\\\\\\\\\\\\", \\\\\\\\\\\\\"workspaceLocation\\\\\\\\\\\\\": \\\\\\\\\\\\\"southcentralus\\\\\\\\\\\\\"}}\\\\\", \\\\\"activities\\\\\": 0}',\n",
       "  'EnableSubsampling': None,\n",
       "  'runTemplate': 'AutoML',\n",
       "  'azureml.runsource': 'automl',\n",
       "  'display_task_type': 'classification',\n",
       "  'dependencies_versions': '{\"azureml-widgets\": \"1.22.0\", \"azureml-train\": \"1.22.0\", \"azureml-train-restclients-hyperdrive\": \"1.22.0\", \"azureml-train-core\": \"1.22.0\", \"azureml-train-automl\": \"1.22.0\", \"azureml-train-automl-runtime\": \"1.22.0\", \"azureml-train-automl-client\": \"1.22.0\", \"azureml-tensorboard\": \"1.22.0\", \"azureml-telemetry\": \"1.22.0\", \"azureml-sdk\": \"1.22.0\", \"azureml-samples\": \"0+unknown\", \"azureml-pipeline\": \"1.22.0\", \"azureml-pipeline-steps\": \"1.22.0\", \"azureml-pipeline-core\": \"1.22.0\", \"azureml-opendatasets\": \"1.22.0\", \"azureml-model-management-sdk\": \"1.0.1b6.post1\", \"azureml-mlflow\": \"1.22.0\", \"azureml-interpret\": \"1.22.0\", \"azureml-explain-model\": \"1.22.0\", \"azureml-defaults\": \"1.22.0\", \"azureml-dataset-runtime\": \"1.22.0\", \"azureml-dataprep\": \"2.9.1\", \"azureml-dataprep-rslex\": \"1.7.0\", \"azureml-dataprep-native\": \"29.0.0\", \"azureml-datadrift\": \"1.22.0\", \"azureml-core\": \"1.22.0\", \"azureml-contrib-services\": \"1.22.0\", \"azureml-contrib-server\": \"1.22.0\", \"azureml-contrib-reinforcementlearning\": \"1.22.0\", \"azureml-contrib-pipeline-steps\": \"1.22.0\", \"azureml-contrib-notebook\": \"1.22.0\", \"azureml-contrib-interpret\": \"1.22.0\", \"azureml-contrib-gbdt\": \"1.22.0\", \"azureml-contrib-fairness\": \"1.22.0\", \"azureml-contrib-dataset\": \"1.22.0\", \"azureml-cli-common\": \"1.22.0\", \"azureml-automl-runtime\": \"1.22.0\", \"azureml-automl-core\": \"1.22.0\", \"azureml-accel-models\": \"1.22.0\"}',\n",
       "  '_aml_system_scenario_identification': 'Remote.Parent',\n",
       "  'ClientType': 'SDK',\n",
       "  'environment_cpu_name': 'AzureML-AutoML',\n",
       "  'environment_cpu_label': 'prod',\n",
       "  'environment_gpu_name': 'AzureML-AutoML-GPU',\n",
       "  'environment_gpu_label': 'prod',\n",
       "  'root_attribution': 'automl',\n",
       "  'attribution': 'AutoML',\n",
       "  'Orchestrator': 'AutoML',\n",
       "  'CancelUri': 'https://southcentralus.experiments.azureml.net/jasmine/v1.0/subscriptions/9a7511b8-150f-4a58-8528-3e7d50216c31/resourceGroups/aml-quickstarts-139817/providers/Microsoft.MachineLearningServices/workspaces/quick-starts-ws-139817/experimentids/95e072ac-a24d-4de2-ad10-29df622ac140/cancel/AutoML_5a6ae0d4-dc22-4937-8491-91faaeb4af56',\n",
       "  'ClientSdkVersion': '1.23.0',\n",
       "  'snapshotId': '00000000-0000-0000-0000-000000000000',\n",
       "  'SetupRunId': 'AutoML_5a6ae0d4-dc22-4937-8491-91faaeb4af56_setup',\n",
       "  'SetupRunContainerId': 'dcid.AutoML_5a6ae0d4-dc22-4937-8491-91faaeb4af56_setup',\n",
       "  'FeaturizationRunJsonPath': 'featurizer_container.json',\n",
       "  'FeaturizationRunId': 'AutoML_5a6ae0d4-dc22-4937-8491-91faaeb4af56_featurize',\n",
       "  'ProblemInfoJsonString': '{\"dataset_num_categorical\": 0, \"is_sparse\": false, \"subsampling\": false, \"dataset_classes\": 2, \"dataset_features\": 12, \"dataset_samples\": 299, \"single_frequency_class_detected\": false}',\n",
       "  'ModelExplainRunId': 'AutoML_5a6ae0d4-dc22-4937-8491-91faaeb4af56_ModelExplain'},\n",
       " 'inputDatasets': [{'dataset': {'id': '2a260d36-bcc8-4268-ac60-7f7cb5faa0c0'}, 'consumptionDetails': {'type': 'RunInput', 'inputName': 'training_data', 'mechanism': 'Direct'}}],\n",
       " 'outputDatasets': [],\n",
       " 'logFiles': {},\n",
       " 'submittedBy': 'ODL_User 139817'}"
      ]
     },
     "execution_count": 27,
     "metadata": {},
     "output_type": "execute_result"
    }
   ],
   "source": [
    "\n",
    "#Additional Run Details\n",
    "from azureml.widgets import RunDetails\n",
    "\n",
    "RunDetails(remote_run).show()\n",
    "\n",
    "# wait for completion\n",
    "remote_run.wait_for_completion()"
   ]
  },
  {
   "cell_type": "code",
   "execution_count": 28,
   "metadata": {},
   "outputs": [
    {
     "name": "stderr",
     "output_type": "stream",
     "text": [
      "WARNING:root:The version of the SDK does not match the version the model was trained on.\n",
      "WARNING:root:The consistency in the result may not be guaranteed.\n",
      "WARNING:root:Package:azureml-automl-core, training version:1.23.0, current version:1.22.0\n",
      "Package:azureml-automl-runtime, training version:1.23.0, current version:1.22.0\n",
      "Package:azureml-core, training version:1.23.0, current version:1.22.0\n",
      "Package:azureml-dataprep, training version:2.10.1, current version:2.9.1\n",
      "Package:azureml-dataprep-native, training version:30.0.0, current version:29.0.0\n",
      "Package:azureml-dataprep-rslex, training version:1.8.0, current version:1.7.0\n",
      "Package:azureml-dataset-runtime, training version:1.23.0, current version:1.22.0\n",
      "Package:azureml-defaults, training version:1.23.0, current version:1.22.0\n",
      "Package:azureml-interpret, training version:1.23.0, current version:1.22.0\n",
      "Package:azureml-mlflow, training version:1.23.0, current version:1.22.0\n",
      "Package:azureml-pipeline-core, training version:1.23.0, current version:1.22.0\n",
      "Package:azureml-telemetry, training version:1.23.0, current version:1.22.0\n",
      "Package:azureml-train-automl-client, training version:1.23.0, current version:1.22.0\n",
      "Package:azureml-train-automl-runtime, training version:1.23.0, current version:1.22.0\n",
      "WARNING:root:Please ensure the version of your local conda dependencies match the version on which your model was trained in order to properly retrieve your model.\n"
     ]
    },
    {
     "name": "stdout",
     "output_type": "stream",
     "text": [
      "Best AutoML run:  Run(Experiment: heart-failure-prediction,\n",
      "Id: AutoML_5a6ae0d4-dc22-4937-8491-91faaeb4af56_45,\n",
      "Type: azureml.scriptrun,\n",
      "Status: Completed)\n",
      "Best AutoML model : Pipeline(memory=None,\n",
      "         steps=[('datatransformer',\n",
      "                 DataTransformer(enable_dnn=None, enable_feature_sweeping=None,\n",
      "                                 feature_sweeping_config=None,\n",
      "                                 feature_sweeping_timeout=None,\n",
      "                                 featurization_config=None, force_text_dnn=None,\n",
      "                                 is_cross_validation=None,\n",
      "                                 is_onnx_compatible=None, logger=None,\n",
      "                                 observer=None, task=None, working_dir=None)),\n",
      "                ('prefittedsoftvotingclassifier',...\n",
      "                                                                                                    min_samples_leaf=0.01,\n",
      "                                                                                                    min_samples_split=0.056842105263157895,\n",
      "                                                                                                    min_weight_fraction_leaf=0.0,\n",
      "                                                                                                    n_estimators=50,\n",
      "                                                                                                    n_jobs=1,\n",
      "                                                                                                    oob_score=True,\n",
      "                                                                                                    random_state=None,\n",
      "                                                                                                    verbose=0,\n",
      "                                                                                                    warm_start=False))],\n",
      "                                                                     verbose=False))],\n",
      "                                               flatten_transform=None,\n",
      "                                               weights=[0.14285714285714285,\n",
      "                                                        0.14285714285714285,\n",
      "                                                        0.14285714285714285,\n",
      "                                                        0.2857142857142857,\n",
      "                                                        0.14285714285714285,\n",
      "                                                        0.14285714285714285]))],\n",
      "         verbose=False)\n",
      "Best_model name:  AutoML5a6ae0d4d45\n"
     ]
    },
    {
     "data": {
      "text/plain": [
       "{'runTemplate': 'automl_child',\n",
       " 'pipeline_id': '__AutoML_Ensemble__',\n",
       " 'pipeline_spec': '{\"pipeline_id\":\"__AutoML_Ensemble__\",\"objects\":[{\"module\":\"azureml.train.automl.ensemble\",\"class_name\":\"Ensemble\",\"spec_class\":\"sklearn\",\"param_args\":[],\"param_kwargs\":{\"automl_settings\":\"{\\'task_type\\':\\'classification\\',\\'primary_metric\\':\\'accuracy\\',\\'verbosity\\':20,\\'ensemble_iterations\\':15,\\'is_timeseries\\':False,\\'name\\':\\'heart-failure-prediction\\',\\'compute_target\\':\\'compute-cluster2\\',\\'subscription_id\\':\\'9a7511b8-150f-4a58-8528-3e7d50216c31\\',\\'region\\':\\'southcentralus\\',\\'spark_service\\':None}\",\"ensemble_run_id\":\"AutoML_5a6ae0d4-dc22-4937-8491-91faaeb4af56_45\",\"experiment_name\":\"heart-failure-prediction\",\"workspace_name\":\"quick-starts-ws-139817\",\"subscription_id\":\"9a7511b8-150f-4a58-8528-3e7d50216c31\",\"resource_group_name\":\"aml-quickstarts-139817\"}}]}',\n",
       " 'training_percent': '100',\n",
       " 'predicted_cost': None,\n",
       " 'iteration': '45',\n",
       " '_aml_system_scenario_identification': 'Remote.Child',\n",
       " '_azureml.ComputeTargetType': 'amlcompute',\n",
       " 'ContentSnapshotId': 'a151bcec-e681-4def-9310-c18172867278',\n",
       " 'ProcessInfoFile': 'azureml-logs/process_info.json',\n",
       " 'ProcessStatusFile': 'azureml-logs/process_status.json',\n",
       " 'run_template': 'automl_child',\n",
       " 'run_preprocessor': '',\n",
       " 'run_algorithm': 'VotingEnsemble',\n",
       " 'model_output_path': 'outputs/model.pkl',\n",
       " 'conda_env_data_location': 'aml://artifact/ExperimentRun/dcid.AutoML_5a6ae0d4-dc22-4937-8491-91faaeb4af56_45/outputs/conda_env_v_1_0_0.yml',\n",
       " 'model_data_location': 'aml://artifact/ExperimentRun/dcid.AutoML_5a6ae0d4-dc22-4937-8491-91faaeb4af56_45/outputs/model.pkl',\n",
       " 'model_size_on_disk': '564240',\n",
       " 'scoring_data_location': 'aml://artifact/ExperimentRun/dcid.AutoML_5a6ae0d4-dc22-4937-8491-91faaeb4af56_45/outputs/scoring_file_v_1_0_0.py',\n",
       " 'model_exp_support': 'True',\n",
       " 'pipeline_graph_version': '1.0.0',\n",
       " 'model_name': 'AutoML5a6ae0d4d45',\n",
       " 'staticProperties': '{}',\n",
       " 'score': '0.8595749440715883',\n",
       " 'score_table': 'NaN',\n",
       " 'run_properties': \"classification_labels=None,\\n                              estimators=[('28',\\n                                           Pipeline(memory=None,\\n                                                    steps=[('standardscalerwrapper',\\n                                                            <azureml.automl.runtime.shared.model_wrappers.StandardScalerWrapper object at 0x7f1594690550>\",\n",
       " 'pipeline_script': '{\"pipeline_id\":\"__AutoML_Ensemble__\",\"objects\":[{\"module\":\"azureml.train.automl.ensemble\",\"class_name\":\"Ensemble\",\"spec_class\":\"sklearn\",\"param_args\":[],\"param_kwargs\":{\"automl_settings\":\"{\\'task_type\\':\\'classification\\',\\'primary_metric\\':\\'accuracy\\',\\'verbosity\\':20,\\'ensemble_iterations\\':15,\\'is_timeseries\\':False,\\'name\\':\\'heart-failure-prediction\\',\\'compute_target\\':\\'compute-cluster2\\',\\'subscription_id\\':\\'9a7511b8-150f-4a58-8528-3e7d50216c31\\',\\'region\\':\\'southcentralus\\',\\'spark_service\\':None}\",\"ensemble_run_id\":\"AutoML_5a6ae0d4-dc22-4937-8491-91faaeb4af56_45\",\"experiment_name\":\"heart-failure-prediction\",\"workspace_name\":\"quick-starts-ws-139817\",\"subscription_id\":\"9a7511b8-150f-4a58-8528-3e7d50216c31\",\"resource_group_name\":\"aml-quickstarts-139817\"}}]}',\n",
       " 'training_type': 'MeanCrossValidation',\n",
       " 'num_classes': '',\n",
       " 'framework': 'sklearn',\n",
       " 'fit_time': '15',\n",
       " 'goal': 'accuracy_max',\n",
       " 'class_labels': '',\n",
       " 'primary_metric': 'accuracy',\n",
       " 'errors': '{}',\n",
       " 'onnx_model_resource': '{}',\n",
       " 'error_code': '',\n",
       " 'failure_reason': '',\n",
       " 'feature_skus': 'automatedml_sdk_guardrails',\n",
       " 'dependencies_versions': '{\"azureml-train-automl-runtime\": \"1.23.0\", \"azureml-train-automl-client\": \"1.23.0\", \"azureml-telemetry\": \"1.23.0\", \"azureml-pipeline-core\": \"1.23.0\", \"azureml-model-management-sdk\": \"1.0.1b6.post1\", \"azureml-mlflow\": \"1.23.0\", \"azureml-interpret\": \"1.23.0\", \"azureml-defaults\": \"1.23.0\", \"azureml-dataset-runtime\": \"1.23.0\", \"azureml-dataprep\": \"2.10.1\", \"azureml-dataprep-rslex\": \"1.8.0\", \"azureml-dataprep-native\": \"30.0.0\", \"azureml-core\": \"1.23.0\", \"azureml-automl-runtime\": \"1.23.0\", \"azureml-automl-core\": \"1.23.0\"}',\n",
       " 'num_cores': '4',\n",
       " 'num_logical_cores': '4',\n",
       " 'peak_memory_usage': '552444',\n",
       " 'vm_configuration': 'Intel(R) Xeon(R) CPU E5-2673 v4 @ 2.30GHz',\n",
       " 'core_hours': '0.005535157777777778'}"
      ]
     },
     "execution_count": 28,
     "metadata": {},
     "output_type": "execute_result"
    }
   ],
   "source": [
    "#Get the best model outputs\n",
    "best_automl_run, best_model = remote_run.get_output()\n",
    "\n",
    "\n",
    "# Retrieve the best automl run model\n",
    "print('Best AutoML run: ', best_automl_run)\n",
    "print('Best AutoML model :', best_model)\n",
    "\n",
    "# get best model and display properties\n",
    "model_name = best_automl_run.properties['model_name']\n",
    "print('Best_model name: ', model_name)\n",
    "\n",
    "# display all the properties of the best model\n",
    "best_automl_run.get_properties()"
   ]
  },
  {
   "cell_type": "code",
   "execution_count": 29,
   "metadata": {},
   "outputs": [
    {
     "name": "stdout",
     "output_type": "stream",
     "text": [
      "AutoML_5a6ae0d4-dc22-4937-8491-91faaeb4af56_45\n"
     ]
    }
   ],
   "source": [
    "print(best_automl_run.id)"
   ]
  },
  {
   "cell_type": "markdown",
   "metadata": {},
   "source": [
    "# Save the best AutoML model"
   ]
  },
  {
   "cell_type": "code",
   "execution_count": 30,
   "metadata": {
    "gather": {
     "logged": 1612384106353
    }
   },
   "outputs": [
    {
     "data": {
      "text/plain": [
       "['heart_disease_model.pkl']"
      ]
     },
     "execution_count": 30,
     "metadata": {},
     "output_type": "execute_result"
    }
   ],
   "source": [
    "import joblib\n",
    "\n",
    "joblib.dump(best_model, 'heart_disease_model.pkl')"
   ]
  },
  {
   "cell_type": "markdown",
   "metadata": {},
   "source": [
    "## Register and Deploy the Model\n",
    "\n",
    "As the best model coming from AutoML run has better accuracy than the one coming from the HyperDrive run, I deploy it in the cell below, register it, create an inference config and deploy the model as a web service."
   ]
  },
  {
   "cell_type": "code",
   "execution_count": 33,
   "metadata": {
    "gather": {
     "logged": 1612384627131
    },
    "jupyter": {
     "outputs_hidden": false,
     "source_hidden": false
    },
    "nteract": {
     "transient": {
      "deleting": false
     }
    }
   },
   "outputs": [
    {
     "name": "stdout",
     "output_type": "stream",
     "text": [
      "heart_disease_model.pkl\n",
      "Tips: You can try get_logs(): https://aka.ms/debugimage#dockerlog or local deployment: https://aka.ms/debugimage#debug-locally to debug if deployment takes longer than 10 minutes.\n",
      "Running........................................................\n",
      "Succeeded\n",
      "ACI service creation operation finished, operation \"Succeeded\"\n"
     ]
    }
   ],
   "source": [
    "model = remote_run.register_model(model_name = 'heart_disease_model.pkl')\n",
    "print(remote_run.model_id)\n",
    "\n",
    "# https://knowledge.udacity.com/questions/463620\n",
    "\n",
    "environment = best_automl_run.get_environment()\n",
    "entry_script='inference/scoring.py'\n",
    "best_automl_run.download_file('outputs/scoring_file_v_1_0_0.py', entry_script)\n",
    "\n",
    "inference_config = InferenceConfig(entry_script = entry_script, environment = environment)\n",
    "\n",
    "# Deploying the model via ACI WebService\n",
    "# https://github.com/MicrosoftDocs/azure-docs/blob/master/articles/machine-learning/how-to-deploy-azure-container-instance.md\n",
    "\n",
    "deployment_config = AciWebservice.deploy_configuration(cpu_cores = 1, \n",
    "                                                    memory_gb = 1, \n",
    "                                                    auth_enabled= True, \n",
    "                                                    enable_app_insights= True)\n",
    "\n",
    "service = Model.deploy(ws, \"aciservice\", [model], inference_config, deployment_config)\n",
    "service.wait_for_deployment(show_output = True)\n"
   ]
  },
  {
   "cell_type": "code",
   "execution_count": 34,
   "metadata": {
    "gather": {
     "logged": 1612384813062
    }
   },
   "outputs": [
    {
     "name": "stdout",
     "output_type": "stream",
     "text": [
      "Service state: Healthy\n",
      "Service scoring URI: http://96b36cce-0ac0-4372-ba95-416e6a38e207.southcentralus.azurecontainer.io/score\n",
      "Service Swagger URI: http://96b36cce-0ac0-4372-ba95-416e6a38e207.southcentralus.azurecontainer.io/swagger.json\n",
      "Service primary authentication key: KpSlX2yKG9DQjuIYG9do62xvblxdlZgv\n"
     ]
    }
   ],
   "source": [
    "# Getting the service state\n",
    "# The scorig URI & the primary authentication key are copied to the endpoint.py file in order to test the deployed service.\n",
    "# The Swagger URI can be used in Swagger UI: https://petstore.swagger.io/ For more info, please see the relevant part in the README file.\n",
    "\n",
    "# Authentication is enabled, so I use the get_keys method to retrieve the primary and secondary authentication keys:\n",
    "primary, secondary = service.get_keys()\n",
    "\n",
    "print('Service state: ' + service.state)\n",
    "print('Service scoring URI: ' + service.scoring_uri)\n",
    "print('Service Swagger URI: ' + service.swagger_uri)\n",
    "print('Service primary authentication key: ' + primary)\n"
   ]
  },
  {
   "cell_type": "markdown",
   "metadata": {},
   "source": [
    "# Consume the Endpoint"
   ]
  },
  {
   "cell_type": "code",
   "execution_count": 41,
   "metadata": {
    "gather": {
     "logged": 1612384880056
    }
   },
   "outputs": [
    {
     "name": "stdout",
     "output_type": "stream",
     "text": [
      "{\"result\": [1, 1]}\n",
      "++++++++++++++++++++++++++++++\n",
      "Expected result: [true, true], where 'true' means '1' as result in the 'DEATH_EVENT' column\n"
     ]
    }
   ],
   "source": [
    "# Sending a request to the deployed web service to test it: consuming model endpoint\n",
    "#bfeore running endpoint.py , change the scoring_uri and key in the endpoint.py\n",
    "%run endpoint.py"
   ]
  },
  {
   "cell_type": "code",
   "execution_count": 39,
   "metadata": {},
   "outputs": [],
   "source": [
    "#Store the uri's in variables:\n",
    "scoring_uri = 'http://96b36cce-0ac0-4372-ba95-416e6a38e207.southcentralus.azurecontainer.io/score'\n",
    "\n",
    "key = 'KpSlX2yKG9DQjuIYG9do62xvblxdlZgv'"
   ]
  },
  {
   "cell_type": "code",
   "execution_count": 40,
   "metadata": {},
   "outputs": [
    {
     "name": "stdout",
     "output_type": "stream",
     "text": [
      "{\"result\": [1, 1]}\n",
      "++++++++++++++++++++++++++++++\n",
      "Expected result: [true, true], where 'true' means '1' as result in the 'DEATH_EVENT' column\n"
     ]
    }
   ],
   "source": [
    "import requests\n",
    "import json\n",
    "\n",
    "# URL for the web service, should be similar to:\n",
    "# 'http://8530a665-66f3-49c8-a953-b82a2d312917.eastus.azurecontainer.io/score'\n",
    "scoring_uri = scoring_uri\n",
    "# If the service is authenticated, set the key or token\n",
    "key = key\n",
    "\n",
    "# Two sets of data to score, so we get two results back\n",
    "data = {\"data\":\n",
    "        [\n",
    "          {\n",
    "           \"age\": 75, \n",
    "           \"anaemia\": 0, \n",
    "           \"creatinine_phosphokinase\": 582, \n",
    "           \"diabetes\": 0, \n",
    "           \"ejection_fraction\": 20, \n",
    "           \"high_blood_pressure\": 1, \n",
    "           \"platelets\": 265000, \n",
    "           \"serum_creatinine\": 1.9, \n",
    "           \"serum_sodium\": 130, \n",
    "           \"sex\": 1, \n",
    "           \"smoking\": 0,\n",
    "           \"time\": 4\n",
    "          },\n",
    "          {\n",
    "           \"age\": 30, \n",
    "           \"anaemia\": 0, \n",
    "           \"creatinine_phosphokinase\": 2656, \n",
    "           \"diabetes\": 1, \n",
    "           \"ejection_fraction\": 30, \n",
    "           \"high_blood_pressure\": 0, \n",
    "           \"platelets\": 305000, \n",
    "           \"serum_creatinine\": 2.3, \n",
    "           \"serum_sodium\": 130, \n",
    "           \"sex\": 1, \n",
    "           \"smoking\": 0,\n",
    "           \"time\": 30\n",
    "          },\n",
    "      ]\n",
    "    }\n",
    "# Convert to JSON string\n",
    "input_data = json.dumps(data)\n",
    "with open(\"data.json\", \"w\") as _f:\n",
    "    _f.write(input_data)\n",
    "\n",
    "# Set the content type\n",
    "headers = {'Content-Type': 'application/json'}\n",
    "# If authentication is enabled, set the authorization header\n",
    "headers['Authorization'] = f'Bearer {key}'\n",
    "\n",
    "# Make the request and display the response\n",
    "resp = requests.post(scoring_uri, input_data, headers=headers)\n",
    "print(resp.json())\n",
    "print(\"++++++++++++++++++++++++++++++\")\n",
    "print(\"Expected result: [true, true], where 'true' means '1' as result in the 'DEATH_EVENT' column\")"
   ]
  },
  {
   "cell_type": "code",
   "execution_count": 38,
   "metadata": {
    "gather": {
     "logged": 1612385060829
    },
    "jupyter": {
     "outputs_hidden": false,
     "source_hidden": false
    },
    "nteract": {
     "transient": {
      "deleting": false
     }
    }
   },
   "outputs": [
    {
     "name": "stdout",
     "output_type": "stream",
     "text": [
      "2021-03-04T19:46:07,736339100+00:00 - gunicorn/run \n",
      "2021-03-04T19:46:07,763454000+00:00 - nginx/run \n",
      "2021-03-04T19:46:07,761102700+00:00 - iot-server/run \n",
      "/usr/sbin/nginx: /azureml-envs/azureml_661474bbe74e96b5d8added5888dfc85/lib/libcrypto.so.1.0.0: no version information available (required by /usr/sbin/nginx)\n",
      "/usr/sbin/nginx: /azureml-envs/azureml_661474bbe74e96b5d8added5888dfc85/lib/libcrypto.so.1.0.0: no version information available (required by /usr/sbin/nginx)\n",
      "/usr/sbin/nginx: /azureml-envs/azureml_661474bbe74e96b5d8added5888dfc85/lib/libssl.so.1.0.0: no version information available (required by /usr/sbin/nginx)\n",
      "/usr/sbin/nginx: /azureml-envs/azureml_661474bbe74e96b5d8added5888dfc85/lib/libssl.so.1.0.0: no version information available (required by /usr/sbin/nginx)\n",
      "/usr/sbin/nginx: /azureml-envs/azureml_661474bbe74e96b5d8added5888dfc85/lib/libssl.so.1.0.0: no version information available (required by /usr/sbin/nginx)\n",
      "2021-03-04T19:46:07,790650600+00:00 - rsyslog/run \n",
      "rsyslogd: /azureml-envs/azureml_661474bbe74e96b5d8added5888dfc85/lib/libuuid.so.1: no version information available (required by rsyslogd)\n",
      "EdgeHubConnectionString and IOTEDGE_IOTHUBHOSTNAME are not set. Exiting...\n",
      "2021-03-04T19:46:10,064887900+00:00 - iot-server/finish 1 0\n",
      "2021-03-04T19:46:10,067652200+00:00 - Exit code 1 is normal. Not restarting iot-server.\n",
      "Starting gunicorn 19.9.0\n",
      "Listening at: http://127.0.0.1:31311 (70)\n",
      "Using worker: sync\n",
      "worker timeout is set to 300\n",
      "Booting worker with pid: 101\n",
      "SPARK_HOME not set. Skipping PySpark Initialization.\n",
      "Generating new fontManager, this may take some time...\n",
      "Initializing logger\n",
      "2021-03-04 19:46:16,541 | root | INFO | Starting up app insights client\n",
      "2021-03-04 19:46:16,542 | root | INFO | Starting up request id generator\n",
      "2021-03-04 19:46:16,542 | root | INFO | Starting up app insight hooks\n",
      "2021-03-04 19:46:16,543 | root | INFO | Invoking user's init function\n",
      "2021-03-04 19:46:29,621 | azureml.core | WARNING | Failure while loading azureml_run_type_providers. Failed to load entrypoint automl = azureml.train.automl.run:AutoMLRun._from_run_dto with exception (cryptography 3.2 (/azureml-envs/azureml_661474bbe74e96b5d8added5888dfc85/lib/python3.6/site-packages), Requirement.parse('cryptography<4.0.0,>=3.3.1; extra == \"crypto\"'), {'PyJWT'}).\n",
      "Failure while loading azureml_run_type_providers. Failed to load entrypoint automl = azureml.train.automl.run:AutoMLRun._from_run_dto with exception (cryptography 3.2 (/azureml-envs/azureml_661474bbe74e96b5d8added5888dfc85/lib/python3.6/site-packages), Requirement.parse('cryptography<4.0.0,>=3.3.1; extra == \"crypto\"'), {'PyJWT'}).\n",
      "2021-03-04 19:46:30,427 | root | INFO | Users's init has completed successfully\n",
      "2021-03-04 19:46:30,485 | root | INFO | Skipping middleware: dbg_model_info as it's not enabled.\n",
      "2021-03-04 19:46:30,486 | root | INFO | Skipping middleware: dbg_resource_usage as it's not enabled.\n",
      "2021-03-04 19:46:30,489 | root | INFO | Scoring timeout is found from os.environ: 60000 ms\n",
      "2021-03-04 19:46:30,514 | root | INFO | 200\n",
      "127.0.0.1 - - [04/Mar/2021:19:46:30 +0000] \"GET /swagger.json HTTP/1.0\" 200 2832 \"-\" \"Go-http-client/1.1\"\n",
      "2021-03-04 19:46:31,493 | root | INFO | 200\n",
      "127.0.0.1 - - [04/Mar/2021:19:46:31 +0000] \"GET /swagger.json HTTP/1.0\" 200 2832 \"-\" \"Go-http-client/1.1\"\n",
      "2021-03-04 19:47:41,732 | root | INFO | Validation Request Content-Type\n",
      "2021-03-04 19:47:41,733 | root | INFO | Scoring Timer is set to 60.0 seconds\n",
      "2021-03-04 19:47:41,888 | root | INFO | 200\n",
      "127.0.0.1 - - [04/Mar/2021:19:47:41 +0000] \"POST /score HTTP/1.0\" 200 22 \"-\" \"python-requests/2.25.1\"\n",
      "2021-03-04 19:47:44,463 | root | INFO | Validation Request Content-Type\n",
      "2021-03-04 19:47:44,464 | root | INFO | Scoring Timer is set to 60.0 seconds\n",
      "2021-03-04 19:47:44,619 | root | INFO | 200\n",
      "127.0.0.1 - - [04/Mar/2021:19:47:44 +0000] \"POST /score HTTP/1.0\" 200 22 \"-\" \"python-requests/2.25.1\"\n",
      "\n"
     ]
    }
   ],
   "source": [
    "# Printing the logs\n",
    "print(service.get_logs())"
   ]
  },
  {
   "cell_type": "markdown",
   "metadata": {},
   "source": [
    "## Deleting the service\n",
    "Putting the deletion of the service in a separate cell to avoid accidentally running the cell before finishing the tasks"
   ]
  },
  {
   "cell_type": "code",
   "execution_count": null,
   "metadata": {},
   "outputs": [],
   "source": [
    "#Service.delete()\n"
   ]
  }
 ],
 "metadata": {
  "kernel_info": {
   "name": "python3"
  },
  "kernelspec": {
   "display_name": "Python 3",
   "language": "python",
   "name": "python3"
  },
  "language_info": {
   "codemirror_mode": {
    "name": "ipython",
    "version": 3
   },
   "file_extension": ".py",
   "mimetype": "text/x-python",
   "name": "python",
   "nbconvert_exporter": "python",
   "pygments_lexer": "ipython3",
   "version": "3.6.9"
  },
  "microsoft": {
   "host": {
    "AzureML": {
     "notebookHasBeenCompleted": true
    }
   }
  },
  "nteract": {
   "version": "nteract-front-end@1.0.0"
  }
 },
 "nbformat": 4,
 "nbformat_minor": 2
}
