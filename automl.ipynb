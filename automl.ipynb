{
 "cells": [
  {
   "cell_type": "markdown",
   "metadata": {},
   "source": [
    "# Automated ML\n",
    "\n",
    "## Dependencies \n",
    "\n",
    "All the dependencies needed to complete the project appear here."
   ]
  },
  {
   "cell_type": "code",
   "execution_count": 1,
   "metadata": {
    "gather": {
     "logged": 1612382549902
    },
    "jupyter": {
     "outputs_hidden": false,
     "source_hidden": false
    },
    "nteract": {
     "transient": {
      "deleting": false
     }
    }
   },
   "outputs": [
    {
     "name": "stdout",
     "output_type": "stream",
     "text": [
      "SDK version: 1.22.0\n"
     ]
    }
   ],
   "source": [
    "import logging\n",
    "import os\n",
    "import csv\n",
    "\n",
    "from matplotlib import pyplot as plt\n",
    "import numpy as np\n",
    "import pandas as pd\n",
    "from sklearn import datasets\n",
    "import pkg_resources\n",
    "\n",
    "import azureml.core\n",
    "from azureml.core.experiment import Experiment\n",
    "from azureml.core.workspace import Workspace\n",
    "from azureml.train.automl import AutoMLConfig\n",
    "from azureml.core.dataset import Dataset\n",
    "from azureml.data.dataset_factory import TabularDatasetFactory\n",
    "\n",
    "from azureml.core.compute import AmlCompute\n",
    "from azureml.core.compute import ComputeTarget\n",
    "from azureml.core.compute_target import ComputeTargetException\n",
    "\n",
    "from azureml.pipeline.steps import AutoMLStep\n",
    "\n",
    "from azureml.widgets import RunDetails\n",
    "\n",
    "import joblib\n",
    "\n",
    "from azureml.core.environment import Environment \n",
    "from azureml.core.model import InferenceConfig \n",
    "from azureml.core.webservice import AciWebservice, Webservice\n",
    "from azureml.core.model import Model\n",
    "\n",
    "# Check core SDK version number\n",
    "print(\"SDK version:\", azureml.core.VERSION)"
   ]
  },
  {
   "cell_type": "markdown",
   "metadata": {},
   "source": [
    "## Workspace\n",
    "\n",
    "The `config.json` file is downloaded from Azure environment and has to be in the project folder in order for this cell to run."
   ]
  },
  {
   "cell_type": "code",
   "execution_count": 2,
   "metadata": {
    "gather": {
     "logged": 1612382555927
    }
   },
   "outputs": [
    {
     "name": "stdout",
     "output_type": "stream",
     "text": [
      "quick-starts-ws-139741\n",
      "aml-quickstarts-139741\n",
      "southcentralus\n",
      "3d1a56d2-7c81-4118-9790-f85d1acf0c77\n"
     ]
    }
   ],
   "source": [
    "ws = Workspace.from_config()\n",
    "print(ws.name, ws.resource_group, ws.location, ws.subscription_id, sep = '\\n')"
   ]
  },
  {
   "cell_type": "markdown",
   "metadata": {},
   "source": [
    "## Create an Azure ML experiment\n",
    "I am creating an experiment named `heart-failure-prediction` and a folder to hold the training scripts. The script runs will be recorded under the experiment in Azure.\n",
    "\n",
    "The best practice is to use separate folders for scripts and its dependent files for each step and specify that folder as the `source_directory` for the step. This helps reduce the size of the snapshot created for the step (only the specific folder is snapshotted). Since changes in any files in the `source_directory` would trigger a re-upload of the snapshot, this helps keep the reuse of the step when there are no changes in the `source_directory` of the step.\n"
   ]
  },
  {
   "cell_type": "code",
   "execution_count": 3,
   "metadata": {
    "gather": {
     "logged": 1612382568571
    }
   },
   "outputs": [],
   "source": [
    "# Choose a name for the run history container in the workspace.\n",
    "\n",
    "experiment_name = 'heart-failure-prediction'\n",
    "project_folder = './capstone-project'\n",
    "\n",
    "experiment = Experiment(ws, experiment_name)\n",
    "experiment\n",
    "\n",
    "run = experiment.start_logging()"
   ]
  },
  {
   "cell_type": "markdown",
   "metadata": {},
   "source": [
    "## Create or Attach a cluster\n",
    "\n",
    "We will need to create a [compute target](https://docs.microsoft.com/en-us/azure/machine-learning/concept-azure-machine-learning-architecture#compute-target) for the AutoML run. In case the compute target (named `compute-cluster` in this script) is not found, a new one is created using the default AmlCompute as the training compute resource."
   ]
  },
  {
   "cell_type": "code",
   "execution_count": 4,
   "metadata": {
    "gather": {
     "logged": 1612382581963
    }
   },
   "outputs": [
    {
     "name": "stdout",
     "output_type": "stream",
     "text": [
      "Found existing cluster, use it.\n",
      "Succeeded\n",
      "AmlCompute wait for completion finished\n",
      "\n",
      "Minimum number of nodes requested have been provisioned\n",
      "{'currentNodeCount': 1, 'targetNodeCount': 1, 'nodeStateCounts': {'preparingNodeCount': 0, 'runningNodeCount': 0, 'idleNodeCount': 1, 'unusableNodeCount': 0, 'leavingNodeCount': 0, 'preemptedNodeCount': 0}, 'allocationState': 'Steady', 'allocationStateTransitionTime': '2021-03-02T22:28:26.655000+00:00', 'errors': None, 'creationTime': '2021-03-02T22:11:34.934045+00:00', 'modifiedTime': '2021-03-02T22:11:50.386356+00:00', 'provisioningState': 'Succeeded', 'provisioningStateTransitionTime': None, 'scaleSettings': {'minNodeCount': 1, 'maxNodeCount': 4, 'nodeIdleTimeBeforeScaleDown': 'PT120S'}, 'vmPriority': 'Dedicated', 'vmSize': 'STANDARD_DS3_V2'}\n"
     ]
    }
   ],
   "source": [
    "# max_nodes should be no greater than 4.\n",
    "\n",
    "# Choose a name for the cluster\n",
    "cpu_cluster_name = \"compute-cluster\"\n",
    "\n",
    "# Verify that cluster does not exist already\n",
    "try:\n",
    "    compute_target = ComputeTarget(workspace=ws, name=cpu_cluster_name)\n",
    "    print('Found existing cluster, use it.')\n",
    "except ComputeTargetException:\n",
    "    print('Creating a new compute cluster...')\n",
    "    # Poll for a minimum number of nodes (min_nodes = 1). \n",
    "    # If no min node count is provided it uses the scale settings for the cluster.\n",
    "    compute_config = AmlCompute.provisioning_configuration(vm_size='Standard_DS3_v2', min_nodes=1, max_nodes=4)\n",
    "    compute_target = ComputeTarget.create(ws, cpu_cluster_name, compute_config)\n",
    "\n",
    "compute_target.wait_for_completion(show_output=True)\n",
    "\n",
    "# use get_status() to get a detailed status for the current cluster. \n",
    "print(compute_target.get_status().serialize())\n"
   ]
  },
  {
   "cell_type": "markdown",
   "metadata": {},
   "source": [
    "## Dataset\n",
    "\n",
    "### Overview\n",
    "\n",
    "The dataset used is taken from [Kaggle](https://www.kaggle.com/andrewmvd/heart-failure-clinical-data) and the data comes from 299 patients with heart failure collected at the Faisalabad Institute of Cardiology and at the Allied Hospital in Faisalabad (Punjab, Pakistan), during April–December 2015. The patients consisted of both women (105) and men (194), and the main task of the project is to classify the patients based on their odds of survival.\n",
    "\n",
    "Dataset features:\n",
    "\n",
    "| Feature | Explanation |\n",
    "| :---: | :---: |\n",
    "| *age* | Age of patient |\n",
    "| *anaemia* | Decrease of red blood cells or hemoglobin |\n",
    "| *creatinine-phosphokinase* | Level of the CPK enzyme in the blood |\n",
    "| *diabetes* | Whether the patient has diabetes or not |\n",
    "| *ejection_fraction* | Percentage of blood leaving the heart at each contraction |\n",
    "| *high_blood_pressure* | Whether the patient has hypertension or not |\n",
    "| *platelets* | Platelets in the blood |\n",
    "| *serum_creatinine* | Level of creatinine in the blood |\n",
    "| *serum_sodium* | Level of sodium in the blood |\n",
    "| *sex* | Female (F) or Male (M) |\n",
    "| *smoking* | Whether the patient smokes or not |\n",
    "| *time* | Follow-up period |\n",
    "| *DEATH_EVENT* | Whether the patient died during the follow-up period |\n"
   ]
  },
  {
   "cell_type": "code",
   "execution_count": 5,
   "metadata": {
    "gather": {
     "logged": 1612382598440
    },
    "jupyter": {
     "outputs_hidden": false,
     "source_hidden": false
    },
    "nteract": {
     "transient": {
      "deleting": false
     }
    }
   },
   "outputs": [
    {
     "name": "stdout",
     "output_type": "stream",
     "text": [
      "    age  anaemia  creatinine_phosphokinase  diabetes  ejection_fraction  \\\n",
      "0  75.0        0                       582         0                 20   \n",
      "1  55.0        0                      7861         0                 38   \n",
      "2  65.0        0                       146         0                 20   \n",
      "3  50.0        1                       111         0                 20   \n",
      "4  65.0        1                       160         1                 20   \n",
      "\n",
      "   high_blood_pressure  platelets  serum_creatinine  serum_sodium  sex  \\\n",
      "0                    1  265000.00               1.9           130    1   \n",
      "1                    0  263358.03               1.1           136    1   \n",
      "2                    0  162000.00               1.3           129    1   \n",
      "3                    0  210000.00               1.9           137    1   \n",
      "4                    0  327000.00               2.7           116    0   \n",
      "\n",
      "   smoking  time  DEATH_EVENT  \n",
      "0        0     4            1  \n",
      "1        0     6            1  \n",
      "2        1     7            1  \n",
      "3        0     7            1  \n",
      "4        0     8            1  \n",
      "              age     anaemia  creatinine_phosphokinase    diabetes  \\\n",
      "count  299.000000  299.000000                299.000000  299.000000   \n",
      "mean    60.833893    0.431438                581.839465    0.418060   \n",
      "std     11.894809    0.496107                970.287881    0.494067   \n",
      "min     40.000000    0.000000                 23.000000    0.000000   \n",
      "25%     51.000000    0.000000                116.500000    0.000000   \n",
      "50%     60.000000    0.000000                250.000000    0.000000   \n",
      "75%     70.000000    1.000000                582.000000    1.000000   \n",
      "max     95.000000    1.000000               7861.000000    1.000000   \n",
      "\n",
      "       ejection_fraction  high_blood_pressure      platelets  \\\n",
      "count         299.000000           299.000000     299.000000   \n",
      "mean           38.083612             0.351171  263358.029264   \n",
      "std            11.834841             0.478136   97804.236869   \n",
      "min            14.000000             0.000000   25100.000000   \n",
      "25%            30.000000             0.000000  212500.000000   \n",
      "50%            38.000000             0.000000  262000.000000   \n",
      "75%            45.000000             1.000000  303500.000000   \n",
      "max            80.000000             1.000000  850000.000000   \n",
      "\n",
      "       serum_creatinine  serum_sodium         sex    smoking        time  \\\n",
      "count         299.00000    299.000000  299.000000  299.00000  299.000000   \n",
      "mean            1.39388    136.625418    0.648829    0.32107  130.260870   \n",
      "std             1.03451      4.412477    0.478136    0.46767   77.614208   \n",
      "min             0.50000    113.000000    0.000000    0.00000    4.000000   \n",
      "25%             0.90000    134.000000    0.000000    0.00000   73.000000   \n",
      "50%             1.10000    137.000000    1.000000    0.00000  115.000000   \n",
      "75%             1.40000    140.000000    1.000000    1.00000  203.000000   \n",
      "max             9.40000    148.000000    1.000000    1.00000  285.000000   \n",
      "\n",
      "       DEATH_EVENT  \n",
      "count    299.00000  \n",
      "mean       0.32107  \n",
      "std        0.46767  \n",
      "min        0.00000  \n",
      "25%        0.00000  \n",
      "50%        0.00000  \n",
      "75%        1.00000  \n",
      "max        1.00000  \n"
     ]
    }
   ],
   "source": [
    "data = pd.read_csv('./heart_failure_clinical_records_dataset.csv')\n",
    "\n",
    "found = False\n",
    "key = \"heart-failure-prediction\"\n",
    "description_text = \"Prediction of survival of patients with heart failure\"\n",
    "\n",
    "if key in ws.datasets.keys(): \n",
    "        found = True\n",
    "        dataset = ws.datasets[key] \n",
    "\n",
    "if not found:\n",
    "        # Create AML Dataset and register it into Workspace\n",
    "        my_dataset = 'https://raw.githubusercontent.com/ddgope/Udacity-Capstone-Heart-Failure-Prediction/master/heart_failure_clinical_records_dataset.csv'\n",
    "        dataset = Dataset.Tabular.from_delimited_files(my_dataset)        \n",
    "        # Register Dataset in Workspace\n",
    "        dataset = dataset.register(workspace=ws,\n",
    "                                   name=key,\n",
    "                                   description=description_text)\n",
    "                                \n",
    "# Preview of the first five rows\n",
    "print(data.head())\n",
    "\n",
    "# Explore data\n",
    "print(data.describe())\n",
    "\n",
    "df = dataset.to_pandas_dataframe()\n",
    "df.describe()\n",
    "\n",
    "# Data columns\n",
    "df.columns = ['age', 'anaemia', 'creatinine_phosphokinase', 'diabetes', 'ejection_fraction', 'high_blood_pressure', 'platelets', 'serum_creatinine', 'serum_sodium', 'sex', 'smoking', 'time', 'DEATH_EVENT']\n",
    "x = df[['age', 'anaemia', 'creatinine_phosphokinase', 'diabetes', 'ejection_fraction', 'high_blood_pressure', 'platelets', 'serum_creatinine', 'serum_sodium', 'sex', 'smoking', 'time']]\n",
    "y = df[['DEATH_EVENT']]\n"
   ]
  },
  {
   "cell_type": "markdown",
   "metadata": {},
   "source": [
    "## AutoML Configuration\n",
    "\n",
    "Here is an overview of the `automl` settings and configuration I used for the AutoML run:\n",
    "\n",
    "`\"n_cross_validations\": 2`\n",
    "\n",
    "This parameter sets how many cross validations to perform, based on the same number of folds (number of subsets). As one cross-validation could result in overfit, in my code I chose 2 folds for cross-validation; thus the metrics are calculated with the average of the 2 validation metrics.\n",
    "\n",
    "`\"primary_metric\": 'accuracy'`\n",
    "\n",
    "I chose accuracy as the primary metric as it is the default metric used for classification tasks.\n",
    "\n",
    "`\"enable_early_stopping\": True`\n",
    "\n",
    "It defines to enable early termination if the score is not improving in the short term. In this experiment, it could also be omitted because the _experiment_timeout_minutes_ is already defined below.\n",
    "\n",
    "`\"max_concurrent_iterations\": 4`\n",
    "\n",
    "It represents the maximum number of iterations that would be executed in parallel.\n",
    "\n",
    "`\"experiment_timeout_minutes\": 20`\n",
    "\n",
    "This is an exit criterion and is used to define how long, in minutes, the experiment should continue to run. To help avoid experiment time out failures, I used the value of 20 minutes.\n",
    "\n",
    "`\"verbosity\": logging.INFO`\n",
    "\n",
    "The verbosity level for writing to the log file.\n",
    "\n",
    "`compute_target = compute_target`\n",
    "\n",
    "The Azure Machine Learning compute target to run the Automated Machine Learning experiment on.\n",
    "\n",
    "`task = 'classification'`\n",
    "\n",
    "This defines the experiment type which in this case is classification. Other options are _regression_ and _forecasting_.\n",
    "\n",
    "`training_data = dataset`\n",
    "\n",
    "The training data to be used within the experiment. It should contain both training features and a label column - see next parameter.\n",
    "\n",
    "`label_column_name = 'DEATH_EVENT'` \n",
    "\n",
    "The name of the label column i.e. the target column based on which the prediction is done.\n",
    "\n",
    "`path = project_folder`\n",
    "\n",
    "The full path to the Azure Machine Learning project folder.\n",
    "\n",
    "`featurization = 'auto'`\n",
    "\n",
    "This parameter defines whether featurization step should be done automatically as in this case (_auto_) or not (_off_).\n",
    "\n",
    "`debug_log = 'automl_errors.log`\n",
    "\n",
    "The log file to write debug information to.\n",
    "\n",
    "`enable_onnx_compatible_models = False`\n",
    "\n",
    "I chose not to enable enforcing the ONNX-compatible models at this stage. However, I will try it in the future. For more info on Open Neural Network Exchange (ONNX), please see [here](https://docs.microsoft.com/en-us/azure/machine-learning/concept-onnx).\n"
   ]
  },
  {
   "cell_type": "code",
   "execution_count": 6,
   "metadata": {
    "gather": {
     "logged": 1612382615679
    },
    "jupyter": {
     "outputs_hidden": false,
     "source_hidden": false
    },
    "nteract": {
     "transient": {
      "deleting": false
     }
    }
   },
   "outputs": [],
   "source": [
    "# Automl settings\n",
    "\n",
    "automl_settings = {\"n_cross_validations\": 2,\n",
    "                    \"primary_metric\": 'accuracy',\n",
    "                    \"enable_early_stopping\": True,\n",
    "                    \"max_concurrent_iterations\": 4,\n",
    "                    \"experiment_timeout_minutes\": 20,\n",
    "                    \"verbosity\": logging.INFO\n",
    "                    }\n",
    "\n",
    "# Parameters for AutoMLConfig\n",
    "\n",
    "automl_config = AutoMLConfig(compute_target = compute_target,\n",
    "                            task='classification',\n",
    "                            training_data=dataset,\n",
    "                            label_column_name='DEATH_EVENT',\n",
    "                            path = project_folder,\n",
    "                            featurization= 'auto',\n",
    "                            debug_log = \"automl_errors.log\",\n",
    "                            enable_onnx_compatible_models=False,\n",
    "                            **automl_settings\n",
    "                            )"
   ]
  },
  {
   "cell_type": "code",
   "execution_count": 7,
   "metadata": {
    "gather": {
     "logged": 1612383725503
    },
    "jupyter": {
     "outputs_hidden": false,
     "source_hidden": false
    },
    "nteract": {
     "transient": {
      "deleting": false
     }
    }
   },
   "outputs": [
    {
     "name": "stdout",
     "output_type": "stream",
     "text": [
      "Running on remote.\n",
      "No run_configuration provided, running on compute-cluster with default configuration\n",
      "Running on remote compute: compute-cluster\n",
      "Parent Run ID: AutoML_5e61848c-c8be-4ca5-b8c2-026872976d6c\n",
      "\n",
      "Current status: FeaturesGeneration. Generating features for the dataset.\n",
      "Current status: ModelSelection. Beginning model selection.\n",
      "\n",
      "****************************************************************************************************\n",
      "DATA GUARDRAILS: \n",
      "\n",
      "TYPE:         Class balancing detection\n",
      "STATUS:       PASSED\n",
      "DESCRIPTION:  Your inputs were analyzed, and all classes are balanced in your training data.\n",
      "              Learn more about imbalanced data: https://aka.ms/AutomatedMLImbalancedData\n",
      "\n",
      "****************************************************************************************************\n",
      "\n",
      "TYPE:         Missing feature values imputation\n",
      "STATUS:       PASSED\n",
      "DESCRIPTION:  No feature missing values were detected in the training data.\n",
      "              Learn more about missing value imputation: https://aka.ms/AutomatedMLFeaturization\n",
      "\n",
      "****************************************************************************************************\n",
      "\n",
      "TYPE:         High cardinality feature detection\n",
      "STATUS:       PASSED\n",
      "DESCRIPTION:  Your inputs were analyzed, and no high cardinality features were detected.\n",
      "              Learn more about high cardinality feature handling: https://aka.ms/AutomatedMLFeaturization\n",
      "\n",
      "****************************************************************************************************\n",
      "\n",
      "****************************************************************************************************\n",
      "ITERATION: The iteration being evaluated.\n",
      "PIPELINE: A summary description of the pipeline being evaluated.\n",
      "DURATION: Time taken for the current iteration.\n",
      "METRIC: The result of computing score on the fitted pipeline.\n",
      "BEST: The best observed score thus far.\n",
      "****************************************************************************************************\n",
      "\n",
      " ITERATION   PIPELINE                                       DURATION      METRIC      BEST\n",
      "         1   MaxAbsScaler XGBoostClassifier                 0:00:47       0.8027    0.8027\n",
      "         2   MinMaxScaler RandomForest                      0:00:46       0.8126    0.8126\n",
      "         0   MaxAbsScaler LightGBM                          0:00:46       0.8127    0.8127\n",
      "         3   MinMaxScaler RandomForest                      0:01:56       0.8528    0.8528\n",
      "         4   MinMaxScaler RandomForest                      0:02:07       0.8562    0.8562\n",
      "         5   SparseNormalizer XGBoostClassifier             0:02:00       0.8194    0.8562\n",
      "         6   SparseNormalizer XGBoostClassifier             0:01:08       0.8294    0.8562\n",
      "         7   MinMaxScaler SVM                               0:00:48       0.6956    0.8562\n",
      "        10   StandardScalerWrapper LightGBM                 0:00:50       0.8261    0.8562\n",
      "         8   SparseNormalizer XGBoostClassifier             0:00:51       0.7959    0.8562\n",
      "         9   SparseNormalizer XGBoostClassifier             0:00:47       0.7959    0.8562\n",
      "        11   MaxAbsScaler GradientBoosting                  0:00:53       0.8361    0.8562\n",
      "        12   StandardScalerWrapper RandomForest             0:00:51       0.8194    0.8562\n",
      "        13   StandardScalerWrapper LightGBM                 0:00:53       0.8462    0.8562\n",
      "        14   MinMaxScaler LightGBM                          0:00:52       0.7826    0.8562\n",
      "        15   StandardScalerWrapper LightGBM                 0:00:44       0.8361    0.8562\n",
      "        16   SparseNormalizer XGBoostClassifier             0:00:51       0.8026    0.8562\n",
      "        17   StandardScalerWrapper LightGBM                 0:00:47       0.8060    0.8562\n",
      "        18   SparseNormalizer XGBoostClassifier             0:00:46       0.8194    0.8562\n",
      "        19   StandardScalerWrapper LightGBM                 0:00:58       0.8395    0.8562\n",
      "        20   MinMaxScaler LightGBM                          0:00:52       0.8227    0.8562\n",
      "        21   StandardScalerWrapper LightGBM                 0:00:47       0.8428    0.8562\n",
      "        22   SparseNormalizer XGBoostClassifier             0:00:49       0.7727    0.8562\n",
      "        23   MinMaxScaler LightGBM                          0:00:54       0.7491    0.8562\n",
      "        24   MaxAbsScaler LightGBM                          0:00:50       0.8128    0.8562\n",
      "        26   StandardScalerWrapper XGBoostClassifier        0:00:45       0.8361    0.8562\n",
      "        25   StandardScalerWrapper RandomForest             0:00:50       0.6653    0.8562\n",
      "        27   SparseNormalizer XGBoostClassifier             0:00:50       0.8194    0.8562\n",
      "        28   SparseNormalizer XGBoostClassifier             0:00:57       0.7993    0.8562\n",
      "        29   StandardScalerWrapper XGBoostClassifier        0:01:06       0.8394    0.8562\n",
      "        30   StandardScalerWrapper RandomForest             0:00:57       0.8228    0.8562\n",
      "        31   MaxAbsScaler LightGBM                          0:00:53       0.7124    0.8562\n",
      "        32   StandardScalerWrapper LightGBM                 0:00:48       0.7826    0.8562\n",
      "        33   StandardScalerWrapper LightGBM                 0:00:47       0.7993    0.8562\n",
      "        34   StandardScalerWrapper LightGBM                 0:00:42       0.8261    0.8562\n",
      "        35                                                  0:00:08          nan    0.8562\n",
      "        36    VotingEnsemble                                0:01:01       0.8629    0.8629\n",
      "        37    StackEnsemble                                 0:01:04       0.8327    0.8629\n"
     ]
    },
    {
     "data": {
      "text/plain": [
       "{'runId': 'AutoML_5e61848c-c8be-4ca5-b8c2-026872976d6c',\n",
       " 'target': 'compute-cluster',\n",
       " 'status': 'Completed',\n",
       " 'startTimeUtc': '2021-03-02T23:08:08.486894Z',\n",
       " 'endTimeUtc': '2021-03-02T23:24:22.709423Z',\n",
       " 'properties': {'num_iterations': '1000',\n",
       "  'training_type': 'TrainFull',\n",
       "  'acquisition_function': 'EI',\n",
       "  'primary_metric': 'accuracy',\n",
       "  'train_split': '0',\n",
       "  'acquisition_parameter': '0',\n",
       "  'num_cross_validation': '2',\n",
       "  'target': 'compute-cluster',\n",
       "  'AMLSettingsJsonString': '{\"path\":null,\"name\":\"heart-failure-prediction\",\"subscription_id\":\"3d1a56d2-7c81-4118-9790-f85d1acf0c77\",\"resource_group\":\"aml-quickstarts-139741\",\"workspace_name\":\"quick-starts-ws-139741\",\"region\":\"southcentralus\",\"compute_target\":\"compute-cluster\",\"spark_service\":null,\"azure_service\":\"remote\",\"many_models\":false,\"pipeline_fetch_max_batch_size\":1,\"iterations\":1000,\"primary_metric\":\"accuracy\",\"task_type\":\"classification\",\"data_script\":null,\"validation_size\":0.0,\"n_cross_validations\":2,\"y_min\":null,\"y_max\":null,\"num_classes\":null,\"featurization\":\"auto\",\"_ignore_package_version_incompatibilities\":false,\"is_timeseries\":false,\"max_cores_per_iteration\":1,\"max_concurrent_iterations\":4,\"iteration_timeout_minutes\":null,\"mem_in_mb\":null,\"enforce_time_on_windows\":false,\"experiment_timeout_minutes\":20,\"experiment_exit_score\":null,\"whitelist_models\":null,\"blacklist_algos\":[\"TensorFlowLinearClassifier\",\"TensorFlowDNN\"],\"supported_models\":[\"DecisionTree\",\"TensorFlowLinearClassifier\",\"AveragedPerceptronClassifier\",\"LinearSVM\",\"RandomForest\",\"TensorFlowDNN\",\"KNN\",\"SGD\",\"SVM\",\"XGBoostClassifier\",\"BernoulliNaiveBayes\",\"ExtremeRandomTrees\",\"MultinomialNaiveBayes\",\"GradientBoosting\",\"LogisticRegression\",\"LightGBM\"],\"private_models\":[],\"auto_blacklist\":true,\"blacklist_samples_reached\":false,\"exclude_nan_labels\":true,\"verbosity\":20,\"_debug_log\":\"azureml_automl.log\",\"show_warnings\":false,\"model_explainability\":true,\"service_url\":null,\"sdk_url\":null,\"sdk_packages\":null,\"enable_onnx_compatible_models\":false,\"enable_split_onnx_featurizer_estimator_models\":false,\"vm_type\":\"STANDARD_DS3_V2\",\"telemetry_verbosity\":20,\"send_telemetry\":true,\"enable_dnn\":false,\"scenario\":\"SDK-1.13.0\",\"environment_label\":null,\"force_text_dnn\":false,\"enable_feature_sweeping\":true,\"enable_early_stopping\":true,\"early_stopping_n_iters\":10,\"metrics\":null,\"enable_ensembling\":true,\"enable_stack_ensembling\":true,\"ensemble_iterations\":15,\"enable_tf\":false,\"enable_subsampling\":null,\"subsample_seed\":null,\"enable_nimbusml\":false,\"enable_streaming\":false,\"force_streaming\":false,\"track_child_runs\":true,\"allowed_private_models\":[],\"label_column_name\":\"DEATH_EVENT\",\"weight_column_name\":null,\"cv_split_column_names\":null,\"enable_local_managed\":false,\"_local_managed_run_id\":null,\"cost_mode\":1,\"lag_length\":0,\"metric_operation\":\"maximize\",\"preprocess\":true}',\n",
       "  'DataPrepJsonString': '{\\\\\"training_data\\\\\": \\\\\"{\\\\\\\\\\\\\"blocks\\\\\\\\\\\\\": [{\\\\\\\\\\\\\"id\\\\\\\\\\\\\": \\\\\\\\\\\\\"f6394da1-c833-43c4-ae12-05425c3f85f5\\\\\\\\\\\\\", \\\\\\\\\\\\\"type\\\\\\\\\\\\\": \\\\\\\\\\\\\"Microsoft.DPrep.GetDatastoreFilesBlock\\\\\\\\\\\\\", \\\\\\\\\\\\\"arguments\\\\\\\\\\\\\": {\\\\\\\\\\\\\"datastores\\\\\\\\\\\\\": [{\\\\\\\\\\\\\"datastoreName\\\\\\\\\\\\\": \\\\\\\\\\\\\"workspaceblobstore\\\\\\\\\\\\\", \\\\\\\\\\\\\"path\\\\\\\\\\\\\": \\\\\\\\\\\\\"UI/03-02-2021_101514_UTC/heart_failure_clinical_records_dataset.csv\\\\\\\\\\\\\", \\\\\\\\\\\\\"resourceGroup\\\\\\\\\\\\\": \\\\\\\\\\\\\"aml-quickstarts-139741\\\\\\\\\\\\\", \\\\\\\\\\\\\"subscription\\\\\\\\\\\\\": \\\\\\\\\\\\\"3d1a56d2-7c81-4118-9790-f85d1acf0c77\\\\\\\\\\\\\", \\\\\\\\\\\\\"workspaceName\\\\\\\\\\\\\": \\\\\\\\\\\\\"quick-starts-ws-139741\\\\\\\\\\\\\"}]}, \\\\\\\\\\\\\"localData\\\\\\\\\\\\\": {}, \\\\\\\\\\\\\"isEnabled\\\\\\\\\\\\\": true, \\\\\\\\\\\\\"name\\\\\\\\\\\\\": null, \\\\\\\\\\\\\"annotation\\\\\\\\\\\\\": null}, {\\\\\\\\\\\\\"id\\\\\\\\\\\\\": \\\\\\\\\\\\\"48616064-acd3-455a-a1cb-4499dcc21e33\\\\\\\\\\\\\", \\\\\\\\\\\\\"type\\\\\\\\\\\\\": \\\\\\\\\\\\\"Microsoft.DPrep.ParseDelimitedBlock\\\\\\\\\\\\\", \\\\\\\\\\\\\"arguments\\\\\\\\\\\\\": {\\\\\\\\\\\\\"columnHeadersMode\\\\\\\\\\\\\": 1, \\\\\\\\\\\\\"fileEncoding\\\\\\\\\\\\\": 0, \\\\\\\\\\\\\"handleQuotedLineBreaks\\\\\\\\\\\\\": false, \\\\\\\\\\\\\"preview\\\\\\\\\\\\\": false, \\\\\\\\\\\\\"separator\\\\\\\\\\\\\": \\\\\\\\\\\\\",\\\\\\\\\\\\\", \\\\\\\\\\\\\"skipRows\\\\\\\\\\\\\": 0, \\\\\\\\\\\\\"skipRowsMode\\\\\\\\\\\\\": 0}, \\\\\\\\\\\\\"localData\\\\\\\\\\\\\": {}, \\\\\\\\\\\\\"isEnabled\\\\\\\\\\\\\": true, \\\\\\\\\\\\\"name\\\\\\\\\\\\\": null, \\\\\\\\\\\\\"annotation\\\\\\\\\\\\\": null}, {\\\\\\\\\\\\\"id\\\\\\\\\\\\\": \\\\\\\\\\\\\"e40de151-d3f6-4be2-90ac-c93bfb692517\\\\\\\\\\\\\", \\\\\\\\\\\\\"type\\\\\\\\\\\\\": \\\\\\\\\\\\\"Microsoft.DPrep.DropColumnsBlock\\\\\\\\\\\\\", \\\\\\\\\\\\\"arguments\\\\\\\\\\\\\": {\\\\\\\\\\\\\"columns\\\\\\\\\\\\\": {\\\\\\\\\\\\\"type\\\\\\\\\\\\\": 0, \\\\\\\\\\\\\"details\\\\\\\\\\\\\": {\\\\\\\\\\\\\"selectedColumns\\\\\\\\\\\\\": [\\\\\\\\\\\\\"Path\\\\\\\\\\\\\"]}}}, \\\\\\\\\\\\\"localData\\\\\\\\\\\\\": {}, \\\\\\\\\\\\\"isEnabled\\\\\\\\\\\\\": true, \\\\\\\\\\\\\"name\\\\\\\\\\\\\": null, \\\\\\\\\\\\\"annotation\\\\\\\\\\\\\": null}, {\\\\\\\\\\\\\"id\\\\\\\\\\\\\": \\\\\\\\\\\\\"6355f89d-aa65-43ce-bec0-56cd2b931fb6\\\\\\\\\\\\\", \\\\\\\\\\\\\"type\\\\\\\\\\\\\": \\\\\\\\\\\\\"Microsoft.DPrep.SetColumnTypesBlock\\\\\\\\\\\\\", \\\\\\\\\\\\\"arguments\\\\\\\\\\\\\": {\\\\\\\\\\\\\"columnConversion\\\\\\\\\\\\\": [{\\\\\\\\\\\\\"column\\\\\\\\\\\\\": {\\\\\\\\\\\\\"type\\\\\\\\\\\\\": 2, \\\\\\\\\\\\\"details\\\\\\\\\\\\\": {\\\\\\\\\\\\\"selectedColumn\\\\\\\\\\\\\": \\\\\\\\\\\\\"Path\\\\\\\\\\\\\"}}, \\\\\\\\\\\\\"typeProperty\\\\\\\\\\\\\": 0}, {\\\\\\\\\\\\\"column\\\\\\\\\\\\\": {\\\\\\\\\\\\\"type\\\\\\\\\\\\\": 2, \\\\\\\\\\\\\"details\\\\\\\\\\\\\": {\\\\\\\\\\\\\"selectedColumn\\\\\\\\\\\\\": \\\\\\\\\\\\\"age\\\\\\\\\\\\\"}}, \\\\\\\\\\\\\"typeProperty\\\\\\\\\\\\\": 3}, {\\\\\\\\\\\\\"column\\\\\\\\\\\\\": {\\\\\\\\\\\\\"type\\\\\\\\\\\\\": 2, \\\\\\\\\\\\\"details\\\\\\\\\\\\\": {\\\\\\\\\\\\\"selectedColumn\\\\\\\\\\\\\": \\\\\\\\\\\\\"anaemia\\\\\\\\\\\\\"}}, \\\\\\\\\\\\\"typeProperty\\\\\\\\\\\\\": 2}, {\\\\\\\\\\\\\"column\\\\\\\\\\\\\": {\\\\\\\\\\\\\"type\\\\\\\\\\\\\": 2, \\\\\\\\\\\\\"details\\\\\\\\\\\\\": {\\\\\\\\\\\\\"selectedColumn\\\\\\\\\\\\\": \\\\\\\\\\\\\"creatinine_phosphokinase\\\\\\\\\\\\\"}}, \\\\\\\\\\\\\"typeProperty\\\\\\\\\\\\\": 2}, {\\\\\\\\\\\\\"column\\\\\\\\\\\\\": {\\\\\\\\\\\\\"type\\\\\\\\\\\\\": 2, \\\\\\\\\\\\\"details\\\\\\\\\\\\\": {\\\\\\\\\\\\\"selectedColumn\\\\\\\\\\\\\": \\\\\\\\\\\\\"diabetes\\\\\\\\\\\\\"}}, \\\\\\\\\\\\\"typeProperty\\\\\\\\\\\\\": 2}, {\\\\\\\\\\\\\"column\\\\\\\\\\\\\": {\\\\\\\\\\\\\"type\\\\\\\\\\\\\": 2, \\\\\\\\\\\\\"details\\\\\\\\\\\\\": {\\\\\\\\\\\\\"selectedColumn\\\\\\\\\\\\\": \\\\\\\\\\\\\"ejection_fraction\\\\\\\\\\\\\"}}, \\\\\\\\\\\\\"typeProperty\\\\\\\\\\\\\": 2}, {\\\\\\\\\\\\\"column\\\\\\\\\\\\\": {\\\\\\\\\\\\\"type\\\\\\\\\\\\\": 2, \\\\\\\\\\\\\"details\\\\\\\\\\\\\": {\\\\\\\\\\\\\"selectedColumn\\\\\\\\\\\\\": \\\\\\\\\\\\\"high_blood_pressure\\\\\\\\\\\\\"}}, \\\\\\\\\\\\\"typeProperty\\\\\\\\\\\\\": 2}, {\\\\\\\\\\\\\"column\\\\\\\\\\\\\": {\\\\\\\\\\\\\"type\\\\\\\\\\\\\": 2, \\\\\\\\\\\\\"details\\\\\\\\\\\\\": {\\\\\\\\\\\\\"selectedColumn\\\\\\\\\\\\\": \\\\\\\\\\\\\"platelets\\\\\\\\\\\\\"}}, \\\\\\\\\\\\\"typeProperty\\\\\\\\\\\\\": 3}, {\\\\\\\\\\\\\"column\\\\\\\\\\\\\": {\\\\\\\\\\\\\"type\\\\\\\\\\\\\": 2, \\\\\\\\\\\\\"details\\\\\\\\\\\\\": {\\\\\\\\\\\\\"selectedColumn\\\\\\\\\\\\\": \\\\\\\\\\\\\"serum_creatinine\\\\\\\\\\\\\"}}, \\\\\\\\\\\\\"typeProperty\\\\\\\\\\\\\": 3}, {\\\\\\\\\\\\\"column\\\\\\\\\\\\\": {\\\\\\\\\\\\\"type\\\\\\\\\\\\\": 2, \\\\\\\\\\\\\"details\\\\\\\\\\\\\": {\\\\\\\\\\\\\"selectedColumn\\\\\\\\\\\\\": \\\\\\\\\\\\\"serum_sodium\\\\\\\\\\\\\"}}, \\\\\\\\\\\\\"typeProperty\\\\\\\\\\\\\": 2}, {\\\\\\\\\\\\\"column\\\\\\\\\\\\\": {\\\\\\\\\\\\\"type\\\\\\\\\\\\\": 2, \\\\\\\\\\\\\"details\\\\\\\\\\\\\": {\\\\\\\\\\\\\"selectedColumn\\\\\\\\\\\\\": \\\\\\\\\\\\\"sex\\\\\\\\\\\\\"}}, \\\\\\\\\\\\\"typeProperty\\\\\\\\\\\\\": 2}, {\\\\\\\\\\\\\"column\\\\\\\\\\\\\": {\\\\\\\\\\\\\"type\\\\\\\\\\\\\": 2, \\\\\\\\\\\\\"details\\\\\\\\\\\\\": {\\\\\\\\\\\\\"selectedColumn\\\\\\\\\\\\\": \\\\\\\\\\\\\"smoking\\\\\\\\\\\\\"}}, \\\\\\\\\\\\\"typeProperty\\\\\\\\\\\\\": 2}, {\\\\\\\\\\\\\"column\\\\\\\\\\\\\": {\\\\\\\\\\\\\"type\\\\\\\\\\\\\": 2, \\\\\\\\\\\\\"details\\\\\\\\\\\\\": {\\\\\\\\\\\\\"selectedColumn\\\\\\\\\\\\\": \\\\\\\\\\\\\"time\\\\\\\\\\\\\"}}, \\\\\\\\\\\\\"typeProperty\\\\\\\\\\\\\": 2}, {\\\\\\\\\\\\\"column\\\\\\\\\\\\\": {\\\\\\\\\\\\\"type\\\\\\\\\\\\\": 2, \\\\\\\\\\\\\"details\\\\\\\\\\\\\": {\\\\\\\\\\\\\"selectedColumn\\\\\\\\\\\\\": \\\\\\\\\\\\\"DEATH_EVENT\\\\\\\\\\\\\"}}, \\\\\\\\\\\\\"typeProperty\\\\\\\\\\\\\": 2}]}, \\\\\\\\\\\\\"localData\\\\\\\\\\\\\": {}, \\\\\\\\\\\\\"isEnabled\\\\\\\\\\\\\": true, \\\\\\\\\\\\\"name\\\\\\\\\\\\\": null, \\\\\\\\\\\\\"annotation\\\\\\\\\\\\\": null}], \\\\\\\\\\\\\"inspectors\\\\\\\\\\\\\": [], \\\\\\\\\\\\\"meta\\\\\\\\\\\\\": {\\\\\\\\\\\\\"savedDatasetId\\\\\\\\\\\\\": \\\\\\\\\\\\\"2084db39-a08a-4562-bbe4-1d9b149c83b9\\\\\\\\\\\\\", \\\\\\\\\\\\\"datasetType\\\\\\\\\\\\\": \\\\\\\\\\\\\"tabular\\\\\\\\\\\\\", \\\\\\\\\\\\\"subscriptionId\\\\\\\\\\\\\": \\\\\\\\\\\\\"3d1a56d2-7c81-4118-9790-f85d1acf0c77\\\\\\\\\\\\\", \\\\\\\\\\\\\"workspaceId\\\\\\\\\\\\\": \\\\\\\\\\\\\"cd011f4a-569c-46c3-99d2-6ff1778b09b7\\\\\\\\\\\\\", \\\\\\\\\\\\\"workspaceLocation\\\\\\\\\\\\\": \\\\\\\\\\\\\"southcentralus\\\\\\\\\\\\\"}}\\\\\", \\\\\"activities\\\\\": 0}',\n",
       "  'EnableSubsampling': None,\n",
       "  'runTemplate': 'AutoML',\n",
       "  'azureml.runsource': 'automl',\n",
       "  'display_task_type': 'classification',\n",
       "  'dependencies_versions': '{\"azureml-widgets\": \"1.22.0\", \"azureml-train\": \"1.22.0\", \"azureml-train-restclients-hyperdrive\": \"1.22.0\", \"azureml-train-core\": \"1.22.0\", \"azureml-train-automl\": \"1.22.0\", \"azureml-train-automl-runtime\": \"1.22.0\", \"azureml-train-automl-client\": \"1.22.0\", \"azureml-tensorboard\": \"1.22.0\", \"azureml-telemetry\": \"1.22.0\", \"azureml-sdk\": \"1.22.0\", \"azureml-samples\": \"0+unknown\", \"azureml-pipeline\": \"1.22.0\", \"azureml-pipeline-steps\": \"1.22.0\", \"azureml-pipeline-core\": \"1.22.0\", \"azureml-opendatasets\": \"1.22.0\", \"azureml-model-management-sdk\": \"1.0.1b6.post1\", \"azureml-mlflow\": \"1.22.0\", \"azureml-interpret\": \"1.22.0\", \"azureml-explain-model\": \"1.22.0\", \"azureml-defaults\": \"1.22.0\", \"azureml-dataset-runtime\": \"1.22.0\", \"azureml-dataprep\": \"2.9.1\", \"azureml-dataprep-rslex\": \"1.7.0\", \"azureml-dataprep-native\": \"29.0.0\", \"azureml-datadrift\": \"1.22.0\", \"azureml-core\": \"1.22.0\", \"azureml-contrib-services\": \"1.22.0\", \"azureml-contrib-server\": \"1.22.0\", \"azureml-contrib-reinforcementlearning\": \"1.22.0\", \"azureml-contrib-pipeline-steps\": \"1.22.0\", \"azureml-contrib-notebook\": \"1.22.0\", \"azureml-contrib-interpret\": \"1.22.0\", \"azureml-contrib-gbdt\": \"1.22.0\", \"azureml-contrib-fairness\": \"1.22.0\", \"azureml-contrib-dataset\": \"1.22.0\", \"azureml-cli-common\": \"1.22.0\", \"azureml-automl-runtime\": \"1.22.0\", \"azureml-automl-core\": \"1.22.0\", \"azureml-accel-models\": \"1.22.0\"}',\n",
       "  '_aml_system_scenario_identification': 'Remote.Parent',\n",
       "  'ClientType': 'SDK',\n",
       "  'environment_cpu_name': 'AzureML-AutoML',\n",
       "  'environment_cpu_label': 'prod',\n",
       "  'environment_gpu_name': 'AzureML-AutoML-GPU',\n",
       "  'environment_gpu_label': 'prod',\n",
       "  'root_attribution': 'automl',\n",
       "  'attribution': 'AutoML',\n",
       "  'Orchestrator': 'AutoML',\n",
       "  'CancelUri': 'https://southcentralus.experiments.azureml.net/jasmine/v1.0/subscriptions/3d1a56d2-7c81-4118-9790-f85d1acf0c77/resourceGroups/aml-quickstarts-139741/providers/Microsoft.MachineLearningServices/workspaces/quick-starts-ws-139741/experimentids/afa9ff58-8f03-404b-85a1-f4ed37954ab7/cancel/AutoML_5e61848c-c8be-4ca5-b8c2-026872976d6c',\n",
       "  'ClientSdkVersion': '1.22.0',\n",
       "  'snapshotId': '00000000-0000-0000-0000-000000000000',\n",
       "  'SetupRunId': 'AutoML_5e61848c-c8be-4ca5-b8c2-026872976d6c_setup',\n",
       "  'SetupRunContainerId': 'dcid.AutoML_5e61848c-c8be-4ca5-b8c2-026872976d6c_setup',\n",
       "  'FeaturizationRunJsonPath': 'featurizer_container.json',\n",
       "  'FeaturizationRunId': 'AutoML_5e61848c-c8be-4ca5-b8c2-026872976d6c_featurize',\n",
       "  'ProblemInfoJsonString': '{\"dataset_num_categorical\": 0, \"is_sparse\": false, \"subsampling\": false, \"dataset_classes\": 2, \"dataset_features\": 12, \"dataset_samples\": 299, \"single_frequency_class_detected\": false}',\n",
       "  'ModelExplainRunId': 'AutoML_5e61848c-c8be-4ca5-b8c2-026872976d6c_ModelExplain'},\n",
       " 'inputDatasets': [{'dataset': {'id': '2084db39-a08a-4562-bbe4-1d9b149c83b9'}, 'consumptionDetails': {'type': 'RunInput', 'inputName': 'training_data', 'mechanism': 'Direct'}}],\n",
       " 'outputDatasets': [],\n",
       " 'logFiles': {},\n",
       " 'submittedBy': 'ODL_User 139741'}"
      ]
     },
     "execution_count": 7,
     "metadata": {},
     "output_type": "execute_result"
    }
   ],
   "source": [
    "# Submit the experiment\n",
    "\n",
    "remote_run = experiment.submit(automl_config, show_output = True)\n",
    "remote_run.wait_for_completion()"
   ]
  },
  {
   "cell_type": "code",
   "execution_count": 8,
   "metadata": {
    "gather": {
     "logged": 1612383975181
    }
   },
   "outputs": [
    {
     "name": "stdout",
     "output_type": "stream",
     "text": [
      "Run Status:  Completed\n"
     ]
    }
   ],
   "source": [
    "# get_status()\n",
    "# Fetch the latest status of the run. It should show 'Completed'\n",
    "\n",
    "print(\"Run Status: \",remote_run.get_status())"
   ]
  },
  {
   "cell_type": "markdown",
   "metadata": {},
   "source": [
    "## Run Details\n",
    "\n",
    "In the cell below, I use the `RunDetails` widget and show the children runs of the experiment."
   ]
  },
  {
   "cell_type": "code",
   "execution_count": 9,
   "metadata": {
    "gather": {
     "logged": 1612383984076
    },
    "jupyter": {
     "outputs_hidden": false,
     "source_hidden": false
    },
    "nteract": {
     "transient": {
      "deleting": false
     }
    }
   },
   "outputs": [
    {
     "data": {
      "application/vnd.jupyter.widget-view+json": {
       "model_id": "6a439827fd93417698785d57a3a8ee21",
       "version_major": 2,
       "version_minor": 0
      },
      "text/plain": [
       "_AutoMLWidget(widget_settings={'childWidgetDisplay': 'popup', 'send_telemetry': False, 'log_level': 'INFO', 's…"
      ]
     },
     "metadata": {},
     "output_type": "display_data"
    },
    {
     "data": {
      "application/aml.mini.widget.v1": "{\"status\": \"Completed\", \"workbench_run_details_uri\": \"https://ml.azure.com/experiments/heart-failure-prediction/runs/AutoML_5e61848c-c8be-4ca5-b8c2-026872976d6c?wsid=/subscriptions/3d1a56d2-7c81-4118-9790-f85d1acf0c77/resourcegroups/aml-quickstarts-139741/workspaces/quick-starts-ws-139741\", \"run_id\": \"AutoML_5e61848c-c8be-4ca5-b8c2-026872976d6c\", \"run_properties\": {\"run_id\": \"AutoML_5e61848c-c8be-4ca5-b8c2-026872976d6c\", \"created_utc\": \"2021-03-02T23:07:50.097346Z\", \"properties\": {\"num_iterations\": \"1000\", \"training_type\": \"TrainFull\", \"acquisition_function\": \"EI\", \"primary_metric\": \"accuracy\", \"train_split\": \"0\", \"acquisition_parameter\": \"0\", \"num_cross_validation\": \"2\", \"target\": \"compute-cluster\", \"AMLSettingsJsonString\": \"{\\\"path\\\":null,\\\"name\\\":\\\"heart-failure-prediction\\\",\\\"subscription_id\\\":\\\"3d1a56d2-7c81-4118-9790-f85d1acf0c77\\\",\\\"resource_group\\\":\\\"aml-quickstarts-139741\\\",\\\"workspace_name\\\":\\\"quick-starts-ws-139741\\\",\\\"region\\\":\\\"southcentralus\\\",\\\"compute_target\\\":\\\"compute-cluster\\\",\\\"spark_service\\\":null,\\\"azure_service\\\":\\\"remote\\\",\\\"many_models\\\":false,\\\"pipeline_fetch_max_batch_size\\\":1,\\\"iterations\\\":1000,\\\"primary_metric\\\":\\\"accuracy\\\",\\\"task_type\\\":\\\"classification\\\",\\\"data_script\\\":null,\\\"validation_size\\\":0.0,\\\"n_cross_validations\\\":2,\\\"y_min\\\":null,\\\"y_max\\\":null,\\\"num_classes\\\":null,\\\"featurization\\\":\\\"auto\\\",\\\"_ignore_package_version_incompatibilities\\\":false,\\\"is_timeseries\\\":false,\\\"max_cores_per_iteration\\\":1,\\\"max_concurrent_iterations\\\":4,\\\"iteration_timeout_minutes\\\":null,\\\"mem_in_mb\\\":null,\\\"enforce_time_on_windows\\\":false,\\\"experiment_timeout_minutes\\\":20,\\\"experiment_exit_score\\\":null,\\\"whitelist_models\\\":null,\\\"blacklist_algos\\\":[\\\"TensorFlowLinearClassifier\\\",\\\"TensorFlowDNN\\\"],\\\"supported_models\\\":[\\\"DecisionTree\\\",\\\"TensorFlowLinearClassifier\\\",\\\"AveragedPerceptronClassifier\\\",\\\"LinearSVM\\\",\\\"RandomForest\\\",\\\"TensorFlowDNN\\\",\\\"KNN\\\",\\\"SGD\\\",\\\"SVM\\\",\\\"XGBoostClassifier\\\",\\\"BernoulliNaiveBayes\\\",\\\"ExtremeRandomTrees\\\",\\\"MultinomialNaiveBayes\\\",\\\"GradientBoosting\\\",\\\"LogisticRegression\\\",\\\"LightGBM\\\"],\\\"private_models\\\":[],\\\"auto_blacklist\\\":true,\\\"blacklist_samples_reached\\\":false,\\\"exclude_nan_labels\\\":true,\\\"verbosity\\\":20,\\\"_debug_log\\\":\\\"azureml_automl.log\\\",\\\"show_warnings\\\":false,\\\"model_explainability\\\":true,\\\"service_url\\\":null,\\\"sdk_url\\\":null,\\\"sdk_packages\\\":null,\\\"enable_onnx_compatible_models\\\":false,\\\"enable_split_onnx_featurizer_estimator_models\\\":false,\\\"vm_type\\\":\\\"STANDARD_DS3_V2\\\",\\\"telemetry_verbosity\\\":20,\\\"send_telemetry\\\":true,\\\"enable_dnn\\\":false,\\\"scenario\\\":\\\"SDK-1.13.0\\\",\\\"environment_label\\\":null,\\\"force_text_dnn\\\":false,\\\"enable_feature_sweeping\\\":true,\\\"enable_early_stopping\\\":true,\\\"early_stopping_n_iters\\\":10,\\\"metrics\\\":null,\\\"enable_ensembling\\\":true,\\\"enable_stack_ensembling\\\":true,\\\"ensemble_iterations\\\":15,\\\"enable_tf\\\":false,\\\"enable_subsampling\\\":null,\\\"subsample_seed\\\":null,\\\"enable_nimbusml\\\":false,\\\"enable_streaming\\\":false,\\\"force_streaming\\\":false,\\\"track_child_runs\\\":true,\\\"allowed_private_models\\\":[],\\\"label_column_name\\\":\\\"DEATH_EVENT\\\",\\\"weight_column_name\\\":null,\\\"cv_split_column_names\\\":null,\\\"enable_local_managed\\\":false,\\\"_local_managed_run_id\\\":null,\\\"cost_mode\\\":1,\\\"lag_length\\\":0,\\\"metric_operation\\\":\\\"maximize\\\",\\\"preprocess\\\":true}\", \"DataPrepJsonString\": \"{\\\\\\\"training_data\\\\\\\": \\\\\\\"{\\\\\\\\\\\\\\\"blocks\\\\\\\\\\\\\\\": [{\\\\\\\\\\\\\\\"id\\\\\\\\\\\\\\\": \\\\\\\\\\\\\\\"f6394da1-c833-43c4-ae12-05425c3f85f5\\\\\\\\\\\\\\\", \\\\\\\\\\\\\\\"type\\\\\\\\\\\\\\\": \\\\\\\\\\\\\\\"Microsoft.DPrep.GetDatastoreFilesBlock\\\\\\\\\\\\\\\", \\\\\\\\\\\\\\\"arguments\\\\\\\\\\\\\\\": {\\\\\\\\\\\\\\\"datastores\\\\\\\\\\\\\\\": [{\\\\\\\\\\\\\\\"datastoreName\\\\\\\\\\\\\\\": \\\\\\\\\\\\\\\"workspaceblobstore\\\\\\\\\\\\\\\", \\\\\\\\\\\\\\\"path\\\\\\\\\\\\\\\": \\\\\\\\\\\\\\\"UI/03-02-2021_101514_UTC/heart_failure_clinical_records_dataset.csv\\\\\\\\\\\\\\\", \\\\\\\\\\\\\\\"resourceGroup\\\\\\\\\\\\\\\": \\\\\\\\\\\\\\\"aml-quickstarts-139741\\\\\\\\\\\\\\\", \\\\\\\\\\\\\\\"subscription\\\\\\\\\\\\\\\": \\\\\\\\\\\\\\\"3d1a56d2-7c81-4118-9790-f85d1acf0c77\\\\\\\\\\\\\\\", \\\\\\\\\\\\\\\"workspaceName\\\\\\\\\\\\\\\": \\\\\\\\\\\\\\\"quick-starts-ws-139741\\\\\\\\\\\\\\\"}]}, \\\\\\\\\\\\\\\"localData\\\\\\\\\\\\\\\": {}, \\\\\\\\\\\\\\\"isEnabled\\\\\\\\\\\\\\\": true, \\\\\\\\\\\\\\\"name\\\\\\\\\\\\\\\": null, \\\\\\\\\\\\\\\"annotation\\\\\\\\\\\\\\\": null}, {\\\\\\\\\\\\\\\"id\\\\\\\\\\\\\\\": \\\\\\\\\\\\\\\"48616064-acd3-455a-a1cb-4499dcc21e33\\\\\\\\\\\\\\\", \\\\\\\\\\\\\\\"type\\\\\\\\\\\\\\\": \\\\\\\\\\\\\\\"Microsoft.DPrep.ParseDelimitedBlock\\\\\\\\\\\\\\\", \\\\\\\\\\\\\\\"arguments\\\\\\\\\\\\\\\": {\\\\\\\\\\\\\\\"columnHeadersMode\\\\\\\\\\\\\\\": 1, \\\\\\\\\\\\\\\"fileEncoding\\\\\\\\\\\\\\\": 0, \\\\\\\\\\\\\\\"handleQuotedLineBreaks\\\\\\\\\\\\\\\": false, \\\\\\\\\\\\\\\"preview\\\\\\\\\\\\\\\": false, \\\\\\\\\\\\\\\"separator\\\\\\\\\\\\\\\": \\\\\\\\\\\\\\\",\\\\\\\\\\\\\\\", \\\\\\\\\\\\\\\"skipRows\\\\\\\\\\\\\\\": 0, \\\\\\\\\\\\\\\"skipRowsMode\\\\\\\\\\\\\\\": 0}, \\\\\\\\\\\\\\\"localData\\\\\\\\\\\\\\\": {}, \\\\\\\\\\\\\\\"isEnabled\\\\\\\\\\\\\\\": true, \\\\\\\\\\\\\\\"name\\\\\\\\\\\\\\\": null, \\\\\\\\\\\\\\\"annotation\\\\\\\\\\\\\\\": null}, {\\\\\\\\\\\\\\\"id\\\\\\\\\\\\\\\": \\\\\\\\\\\\\\\"e40de151-d3f6-4be2-90ac-c93bfb692517\\\\\\\\\\\\\\\", \\\\\\\\\\\\\\\"type\\\\\\\\\\\\\\\": \\\\\\\\\\\\\\\"Microsoft.DPrep.DropColumnsBlock\\\\\\\\\\\\\\\", \\\\\\\\\\\\\\\"arguments\\\\\\\\\\\\\\\": {\\\\\\\\\\\\\\\"columns\\\\\\\\\\\\\\\": {\\\\\\\\\\\\\\\"type\\\\\\\\\\\\\\\": 0, \\\\\\\\\\\\\\\"details\\\\\\\\\\\\\\\": {\\\\\\\\\\\\\\\"selectedColumns\\\\\\\\\\\\\\\": [\\\\\\\\\\\\\\\"Path\\\\\\\\\\\\\\\"]}}}, \\\\\\\\\\\\\\\"localData\\\\\\\\\\\\\\\": {}, \\\\\\\\\\\\\\\"isEnabled\\\\\\\\\\\\\\\": true, \\\\\\\\\\\\\\\"name\\\\\\\\\\\\\\\": null, \\\\\\\\\\\\\\\"annotation\\\\\\\\\\\\\\\": null}, {\\\\\\\\\\\\\\\"id\\\\\\\\\\\\\\\": \\\\\\\\\\\\\\\"6355f89d-aa65-43ce-bec0-56cd2b931fb6\\\\\\\\\\\\\\\", \\\\\\\\\\\\\\\"type\\\\\\\\\\\\\\\": \\\\\\\\\\\\\\\"Microsoft.DPrep.SetColumnTypesBlock\\\\\\\\\\\\\\\", \\\\\\\\\\\\\\\"arguments\\\\\\\\\\\\\\\": {\\\\\\\\\\\\\\\"columnConversion\\\\\\\\\\\\\\\": [{\\\\\\\\\\\\\\\"column\\\\\\\\\\\\\\\": {\\\\\\\\\\\\\\\"type\\\\\\\\\\\\\\\": 2, \\\\\\\\\\\\\\\"details\\\\\\\\\\\\\\\": {\\\\\\\\\\\\\\\"selectedColumn\\\\\\\\\\\\\\\": \\\\\\\\\\\\\\\"Path\\\\\\\\\\\\\\\"}}, \\\\\\\\\\\\\\\"typeProperty\\\\\\\\\\\\\\\": 0}, {\\\\\\\\\\\\\\\"column\\\\\\\\\\\\\\\": {\\\\\\\\\\\\\\\"type\\\\\\\\\\\\\\\": 2, \\\\\\\\\\\\\\\"details\\\\\\\\\\\\\\\": {\\\\\\\\\\\\\\\"selectedColumn\\\\\\\\\\\\\\\": \\\\\\\\\\\\\\\"age\\\\\\\\\\\\\\\"}}, \\\\\\\\\\\\\\\"typeProperty\\\\\\\\\\\\\\\": 3}, {\\\\\\\\\\\\\\\"column\\\\\\\\\\\\\\\": {\\\\\\\\\\\\\\\"type\\\\\\\\\\\\\\\": 2, \\\\\\\\\\\\\\\"details\\\\\\\\\\\\\\\": {\\\\\\\\\\\\\\\"selectedColumn\\\\\\\\\\\\\\\": \\\\\\\\\\\\\\\"anaemia\\\\\\\\\\\\\\\"}}, \\\\\\\\\\\\\\\"typeProperty\\\\\\\\\\\\\\\": 2}, {\\\\\\\\\\\\\\\"column\\\\\\\\\\\\\\\": {\\\\\\\\\\\\\\\"type\\\\\\\\\\\\\\\": 2, \\\\\\\\\\\\\\\"details\\\\\\\\\\\\\\\": {\\\\\\\\\\\\\\\"selectedColumn\\\\\\\\\\\\\\\": \\\\\\\\\\\\\\\"creatinine_phosphokinase\\\\\\\\\\\\\\\"}}, \\\\\\\\\\\\\\\"typeProperty\\\\\\\\\\\\\\\": 2}, {\\\\\\\\\\\\\\\"column\\\\\\\\\\\\\\\": {\\\\\\\\\\\\\\\"type\\\\\\\\\\\\\\\": 2, \\\\\\\\\\\\\\\"details\\\\\\\\\\\\\\\": {\\\\\\\\\\\\\\\"selectedColumn\\\\\\\\\\\\\\\": \\\\\\\\\\\\\\\"diabetes\\\\\\\\\\\\\\\"}}, \\\\\\\\\\\\\\\"typeProperty\\\\\\\\\\\\\\\": 2}, {\\\\\\\\\\\\\\\"column\\\\\\\\\\\\\\\": {\\\\\\\\\\\\\\\"type\\\\\\\\\\\\\\\": 2, \\\\\\\\\\\\\\\"details\\\\\\\\\\\\\\\": {\\\\\\\\\\\\\\\"selectedColumn\\\\\\\\\\\\\\\": \\\\\\\\\\\\\\\"ejection_fraction\\\\\\\\\\\\\\\"}}, \\\\\\\\\\\\\\\"typeProperty\\\\\\\\\\\\\\\": 2}, {\\\\\\\\\\\\\\\"column\\\\\\\\\\\\\\\": {\\\\\\\\\\\\\\\"type\\\\\\\\\\\\\\\": 2, \\\\\\\\\\\\\\\"details\\\\\\\\\\\\\\\": {\\\\\\\\\\\\\\\"selectedColumn\\\\\\\\\\\\\\\": \\\\\\\\\\\\\\\"high_blood_pressure\\\\\\\\\\\\\\\"}}, \\\\\\\\\\\\\\\"typeProperty\\\\\\\\\\\\\\\": 2}, {\\\\\\\\\\\\\\\"column\\\\\\\\\\\\\\\": {\\\\\\\\\\\\\\\"type\\\\\\\\\\\\\\\": 2, \\\\\\\\\\\\\\\"details\\\\\\\\\\\\\\\": {\\\\\\\\\\\\\\\"selectedColumn\\\\\\\\\\\\\\\": \\\\\\\\\\\\\\\"platelets\\\\\\\\\\\\\\\"}}, \\\\\\\\\\\\\\\"typeProperty\\\\\\\\\\\\\\\": 3}, {\\\\\\\\\\\\\\\"column\\\\\\\\\\\\\\\": {\\\\\\\\\\\\\\\"type\\\\\\\\\\\\\\\": 2, \\\\\\\\\\\\\\\"details\\\\\\\\\\\\\\\": {\\\\\\\\\\\\\\\"selectedColumn\\\\\\\\\\\\\\\": \\\\\\\\\\\\\\\"serum_creatinine\\\\\\\\\\\\\\\"}}, \\\\\\\\\\\\\\\"typeProperty\\\\\\\\\\\\\\\": 3}, {\\\\\\\\\\\\\\\"column\\\\\\\\\\\\\\\": {\\\\\\\\\\\\\\\"type\\\\\\\\\\\\\\\": 2, \\\\\\\\\\\\\\\"details\\\\\\\\\\\\\\\": {\\\\\\\\\\\\\\\"selectedColumn\\\\\\\\\\\\\\\": \\\\\\\\\\\\\\\"serum_sodium\\\\\\\\\\\\\\\"}}, \\\\\\\\\\\\\\\"typeProperty\\\\\\\\\\\\\\\": 2}, {\\\\\\\\\\\\\\\"column\\\\\\\\\\\\\\\": {\\\\\\\\\\\\\\\"type\\\\\\\\\\\\\\\": 2, \\\\\\\\\\\\\\\"details\\\\\\\\\\\\\\\": {\\\\\\\\\\\\\\\"selectedColumn\\\\\\\\\\\\\\\": \\\\\\\\\\\\\\\"sex\\\\\\\\\\\\\\\"}}, \\\\\\\\\\\\\\\"typeProperty\\\\\\\\\\\\\\\": 2}, {\\\\\\\\\\\\\\\"column\\\\\\\\\\\\\\\": {\\\\\\\\\\\\\\\"type\\\\\\\\\\\\\\\": 2, \\\\\\\\\\\\\\\"details\\\\\\\\\\\\\\\": {\\\\\\\\\\\\\\\"selectedColumn\\\\\\\\\\\\\\\": \\\\\\\\\\\\\\\"smoking\\\\\\\\\\\\\\\"}}, \\\\\\\\\\\\\\\"typeProperty\\\\\\\\\\\\\\\": 2}, {\\\\\\\\\\\\\\\"column\\\\\\\\\\\\\\\": {\\\\\\\\\\\\\\\"type\\\\\\\\\\\\\\\": 2, \\\\\\\\\\\\\\\"details\\\\\\\\\\\\\\\": {\\\\\\\\\\\\\\\"selectedColumn\\\\\\\\\\\\\\\": \\\\\\\\\\\\\\\"time\\\\\\\\\\\\\\\"}}, \\\\\\\\\\\\\\\"typeProperty\\\\\\\\\\\\\\\": 2}, {\\\\\\\\\\\\\\\"column\\\\\\\\\\\\\\\": {\\\\\\\\\\\\\\\"type\\\\\\\\\\\\\\\": 2, \\\\\\\\\\\\\\\"details\\\\\\\\\\\\\\\": {\\\\\\\\\\\\\\\"selectedColumn\\\\\\\\\\\\\\\": \\\\\\\\\\\\\\\"DEATH_EVENT\\\\\\\\\\\\\\\"}}, \\\\\\\\\\\\\\\"typeProperty\\\\\\\\\\\\\\\": 2}]}, \\\\\\\\\\\\\\\"localData\\\\\\\\\\\\\\\": {}, \\\\\\\\\\\\\\\"isEnabled\\\\\\\\\\\\\\\": true, \\\\\\\\\\\\\\\"name\\\\\\\\\\\\\\\": null, \\\\\\\\\\\\\\\"annotation\\\\\\\\\\\\\\\": null}], \\\\\\\\\\\\\\\"inspectors\\\\\\\\\\\\\\\": [], \\\\\\\\\\\\\\\"meta\\\\\\\\\\\\\\\": {\\\\\\\\\\\\\\\"savedDatasetId\\\\\\\\\\\\\\\": \\\\\\\\\\\\\\\"2084db39-a08a-4562-bbe4-1d9b149c83b9\\\\\\\\\\\\\\\", \\\\\\\\\\\\\\\"datasetType\\\\\\\\\\\\\\\": \\\\\\\\\\\\\\\"tabular\\\\\\\\\\\\\\\", \\\\\\\\\\\\\\\"subscriptionId\\\\\\\\\\\\\\\": \\\\\\\\\\\\\\\"3d1a56d2-7c81-4118-9790-f85d1acf0c77\\\\\\\\\\\\\\\", \\\\\\\\\\\\\\\"workspaceId\\\\\\\\\\\\\\\": \\\\\\\\\\\\\\\"cd011f4a-569c-46c3-99d2-6ff1778b09b7\\\\\\\\\\\\\\\", \\\\\\\\\\\\\\\"workspaceLocation\\\\\\\\\\\\\\\": \\\\\\\\\\\\\\\"southcentralus\\\\\\\\\\\\\\\"}}\\\\\\\", \\\\\\\"activities\\\\\\\": 0}\", \"EnableSubsampling\": null, \"runTemplate\": \"AutoML\", \"azureml.runsource\": \"automl\", \"display_task_type\": \"classification\", \"dependencies_versions\": \"{\\\"azureml-widgets\\\": \\\"1.22.0\\\", \\\"azureml-train\\\": \\\"1.22.0\\\", \\\"azureml-train-restclients-hyperdrive\\\": \\\"1.22.0\\\", \\\"azureml-train-core\\\": \\\"1.22.0\\\", \\\"azureml-train-automl\\\": \\\"1.22.0\\\", \\\"azureml-train-automl-runtime\\\": \\\"1.22.0\\\", \\\"azureml-train-automl-client\\\": \\\"1.22.0\\\", \\\"azureml-tensorboard\\\": \\\"1.22.0\\\", \\\"azureml-telemetry\\\": \\\"1.22.0\\\", \\\"azureml-sdk\\\": \\\"1.22.0\\\", \\\"azureml-samples\\\": \\\"0+unknown\\\", \\\"azureml-pipeline\\\": \\\"1.22.0\\\", \\\"azureml-pipeline-steps\\\": \\\"1.22.0\\\", \\\"azureml-pipeline-core\\\": \\\"1.22.0\\\", \\\"azureml-opendatasets\\\": \\\"1.22.0\\\", \\\"azureml-model-management-sdk\\\": \\\"1.0.1b6.post1\\\", \\\"azureml-mlflow\\\": \\\"1.22.0\\\", \\\"azureml-interpret\\\": \\\"1.22.0\\\", \\\"azureml-explain-model\\\": \\\"1.22.0\\\", \\\"azureml-defaults\\\": \\\"1.22.0\\\", \\\"azureml-dataset-runtime\\\": \\\"1.22.0\\\", \\\"azureml-dataprep\\\": \\\"2.9.1\\\", \\\"azureml-dataprep-rslex\\\": \\\"1.7.0\\\", \\\"azureml-dataprep-native\\\": \\\"29.0.0\\\", \\\"azureml-datadrift\\\": \\\"1.22.0\\\", \\\"azureml-core\\\": \\\"1.22.0\\\", \\\"azureml-contrib-services\\\": \\\"1.22.0\\\", \\\"azureml-contrib-server\\\": \\\"1.22.0\\\", \\\"azureml-contrib-reinforcementlearning\\\": \\\"1.22.0\\\", \\\"azureml-contrib-pipeline-steps\\\": \\\"1.22.0\\\", \\\"azureml-contrib-notebook\\\": \\\"1.22.0\\\", \\\"azureml-contrib-interpret\\\": \\\"1.22.0\\\", \\\"azureml-contrib-gbdt\\\": \\\"1.22.0\\\", \\\"azureml-contrib-fairness\\\": \\\"1.22.0\\\", \\\"azureml-contrib-dataset\\\": \\\"1.22.0\\\", \\\"azureml-cli-common\\\": \\\"1.22.0\\\", \\\"azureml-automl-runtime\\\": \\\"1.22.0\\\", \\\"azureml-automl-core\\\": \\\"1.22.0\\\", \\\"azureml-accel-models\\\": \\\"1.22.0\\\"}\", \"_aml_system_scenario_identification\": \"Remote.Parent\", \"ClientType\": \"SDK\", \"environment_cpu_name\": \"AzureML-AutoML\", \"environment_cpu_label\": \"prod\", \"environment_gpu_name\": \"AzureML-AutoML-GPU\", \"environment_gpu_label\": \"prod\", \"root_attribution\": \"automl\", \"attribution\": \"AutoML\", \"Orchestrator\": \"AutoML\", \"CancelUri\": \"https://southcentralus.experiments.azureml.net/jasmine/v1.0/subscriptions/3d1a56d2-7c81-4118-9790-f85d1acf0c77/resourceGroups/aml-quickstarts-139741/providers/Microsoft.MachineLearningServices/workspaces/quick-starts-ws-139741/experimentids/afa9ff58-8f03-404b-85a1-f4ed37954ab7/cancel/AutoML_5e61848c-c8be-4ca5-b8c2-026872976d6c\", \"ClientSdkVersion\": \"1.22.0\", \"snapshotId\": \"00000000-0000-0000-0000-000000000000\", \"SetupRunId\": \"AutoML_5e61848c-c8be-4ca5-b8c2-026872976d6c_setup\", \"SetupRunContainerId\": \"dcid.AutoML_5e61848c-c8be-4ca5-b8c2-026872976d6c_setup\", \"FeaturizationRunJsonPath\": \"featurizer_container.json\", \"FeaturizationRunId\": \"AutoML_5e61848c-c8be-4ca5-b8c2-026872976d6c_featurize\", \"ProblemInfoJsonString\": \"{\\\"dataset_num_categorical\\\": 0, \\\"is_sparse\\\": false, \\\"subsampling\\\": false, \\\"dataset_classes\\\": 2, \\\"dataset_features\\\": 12, \\\"dataset_samples\\\": 299, \\\"single_frequency_class_detected\\\": false}\", \"ModelExplainRunId\": \"AutoML_5e61848c-c8be-4ca5-b8c2-026872976d6c_ModelExplain\"}, \"tags\": {\"model_explain_run\": \"best_run\", \"_aml_system_azureml.automlComponent\": \"AutoML\", \"pipeline_id\": \"\", \"score\": \"\", \"predicted_cost\": \"\", \"fit_time\": \"\", \"training_percent\": \"\", \"iteration\": \"\", \"run_preprocessor\": \"\", \"run_algorithm\": \"\", \"dynamic_whitelisting_iterations\": \"<25>;<30>;<35>;\", \"automl_best_child_run_id\": \"AutoML_5e61848c-c8be-4ca5-b8c2-026872976d6c_36\", \"model_explain_best_run_child_id\": \"AutoML_5e61848c-c8be-4ca5-b8c2-026872976d6c_36\"}, \"end_time_utc\": \"2021-03-02T23:24:22.709423Z\", \"status\": \"Completed\", \"log_files\": {}, \"log_groups\": [], \"run_duration\": \"0:16:32\", \"run_number\": \"73\", \"run_queued_details\": {\"status\": \"Completed\", \"details\": null}}, \"child_runs\": [{\"run_id\": \"AutoML_5e61848c-c8be-4ca5-b8c2-026872976d6c_1\", \"run_number\": 84, \"metric\": null, \"status\": \"Completed\", \"run_type\": \"azureml.scriptrun\", \"training_percent\": \"100\", \"start_time\": \"2021-03-02T23:11:26.516467Z\", \"end_time\": \"2021-03-02T23:12:13.12108Z\", \"created_time\": \"2021-03-02T23:11:17.500171Z\", \"created_time_dt\": \"2021-03-02T23:11:17.500171Z\", \"duration\": \"0:00:55\", \"iteration\": \"1\", \"goal\": \"accuracy_max\", \"run_name\": \"MaxAbsScaler, XGBoostClassifier\", \"run_properties\": \"copy=True\", \"primary_metric\": 0.80266219, \"best_metric\": 0.81270694}, {\"run_id\": \"AutoML_5e61848c-c8be-4ca5-b8c2-026872976d6c_2\", \"run_number\": 85, \"metric\": null, \"status\": \"Completed\", \"run_type\": \"azureml.scriptrun\", \"training_percent\": \"100\", \"start_time\": \"2021-03-02T23:12:19.16543Z\", \"end_time\": \"2021-03-02T23:13:04.733129Z\", \"created_time\": \"2021-03-02T23:11:17.507702Z\", \"created_time_dt\": \"2021-03-02T23:11:17.507702Z\", \"duration\": \"0:01:47\", \"iteration\": \"2\", \"goal\": \"accuracy_max\", \"run_name\": \"MinMaxScaler, RandomForest\", \"run_properties\": \"copy=True, feature_range=(0, 1\", \"primary_metric\": 0.81259508, \"best_metric\": 0.81270694}, {\"run_id\": \"AutoML_5e61848c-c8be-4ca5-b8c2-026872976d6c_0\", \"run_number\": 86, \"metric\": null, \"status\": \"Completed\", \"run_type\": \"azureml.scriptrun\", \"training_percent\": \"100\", \"start_time\": \"2021-03-02T23:13:13.252852Z\", \"end_time\": \"2021-03-02T23:13:59.076474Z\", \"created_time\": \"2021-03-02T23:11:17.514737Z\", \"created_time_dt\": \"2021-03-02T23:11:17.514737Z\", \"duration\": \"0:02:41\", \"iteration\": \"0\", \"goal\": \"accuracy_max\", \"run_name\": \"MaxAbsScaler, LightGBM\", \"run_properties\": \"copy=True\", \"primary_metric\": 0.81270694, \"best_metric\": 0.81270694}, {\"run_id\": \"AutoML_5e61848c-c8be-4ca5-b8c2-026872976d6c_3\", \"run_number\": 87, \"metric\": null, \"status\": \"Completed\", \"run_type\": \"azureml.scriptrun\", \"training_percent\": \"100\", \"start_time\": \"2021-03-02T23:13:14.127523Z\", \"end_time\": \"2021-03-02T23:15:09.934855Z\", \"created_time\": \"2021-03-02T23:11:17.517878Z\", \"created_time_dt\": \"2021-03-02T23:11:17.517878Z\", \"duration\": \"0:03:52\", \"iteration\": \"3\", \"goal\": \"accuracy_max\", \"run_name\": \"MinMaxScaler, RandomForest\", \"run_properties\": \"copy=True, feature_range=(0, 1\", \"primary_metric\": 0.85284116, \"best_metric\": 0.85284116}, {\"run_id\": \"AutoML_5e61848c-c8be-4ca5-b8c2-026872976d6c_4\", \"run_number\": 89, \"metric\": null, \"status\": \"Completed\", \"run_type\": \"azureml.scriptrun\", \"training_percent\": \"100\", \"start_time\": \"2021-03-02T23:13:14.185784Z\", \"end_time\": \"2021-03-02T23:15:21.322996Z\", \"created_time\": \"2021-03-02T23:12:14.425869Z\", \"created_time_dt\": \"2021-03-02T23:12:14.425869Z\", \"duration\": \"0:03:06\", \"iteration\": \"4\", \"goal\": \"accuracy_max\", \"run_name\": \"MinMaxScaler, RandomForest\", \"run_properties\": \"copy=True, feature_range=(0, 1\", \"primary_metric\": 0.85615213, \"best_metric\": 0.85615213}, {\"run_id\": \"AutoML_5e61848c-c8be-4ca5-b8c2-026872976d6c_5\", \"run_number\": 91, \"metric\": null, \"status\": \"Completed\", \"run_type\": \"azureml.scriptrun\", \"training_percent\": \"100\", \"start_time\": \"2021-03-02T23:13:23.295283Z\", \"end_time\": \"2021-03-02T23:15:23.474106Z\", \"created_time\": \"2021-03-02T23:13:07.222169Z\", \"created_time_dt\": \"2021-03-02T23:13:07.222169Z\", \"duration\": \"0:02:16\", \"iteration\": \"5\", \"goal\": \"accuracy_max\", \"run_name\": \"SparseNormalizer, XGBoostClassifier\", \"run_properties\": \"<azureml.automl.runtime.shared.model_wrappers.SparseNormalizer object at 0x7fe06e7862b0\", \"primary_metric\": 0.8193736, \"best_metric\": 0.85615213}, {\"run_id\": \"AutoML_5e61848c-c8be-4ca5-b8c2-026872976d6c_6\", \"run_number\": 95, \"metric\": null, \"status\": \"Completed\", \"run_type\": \"azureml.scriptrun\", \"training_percent\": \"100\", \"start_time\": \"2021-03-02T23:14:14.508722Z\", \"end_time\": \"2021-03-02T23:15:22.369139Z\", \"created_time\": \"2021-03-02T23:14:02.289782Z\", \"created_time_dt\": \"2021-03-02T23:14:02.289782Z\", \"duration\": \"0:01:20\", \"iteration\": \"6\", \"goal\": \"accuracy_max\", \"run_name\": \"SparseNormalizer, XGBoostClassifier\", \"run_properties\": \"<azureml.automl.runtime.shared.model_wrappers.SparseNormalizer object at 0x7eff492f5fd0\", \"primary_metric\": 0.82944072, \"best_metric\": 0.85615213}, {\"run_id\": \"AutoML_5e61848c-c8be-4ca5-b8c2-026872976d6c_7\", \"run_number\": 100, \"metric\": null, \"status\": \"Completed\", \"run_type\": \"azureml.scriptrun\", \"training_percent\": \"100\", \"start_time\": \"2021-03-02T23:15:23.588804Z\", \"end_time\": \"2021-03-02T23:16:11.899728Z\", \"created_time\": \"2021-03-02T23:15:13.288684Z\", \"created_time_dt\": \"2021-03-02T23:15:13.288684Z\", \"duration\": \"0:00:58\", \"iteration\": \"7\", \"goal\": \"accuracy_max\", \"run_name\": \"MinMaxScaler, SVM\", \"run_properties\": \"copy=True, feature_range=(0, 1\", \"primary_metric\": 0.69557047, \"best_metric\": 0.85615213}, {\"run_id\": \"AutoML_5e61848c-c8be-4ca5-b8c2-026872976d6c_8\", \"run_number\": 102, \"metric\": null, \"status\": \"Completed\", \"run_type\": \"azureml.scriptrun\", \"training_percent\": \"100\", \"start_time\": \"2021-03-02T23:15:33.78208Z\", \"end_time\": \"2021-03-02T23:16:24.848016Z\", \"created_time\": \"2021-03-02T23:15:23.616768Z\", \"created_time_dt\": \"2021-03-02T23:15:23.616768Z\", \"duration\": \"0:01:01\", \"iteration\": \"8\", \"goal\": \"accuracy_max\", \"run_name\": \"SparseNormalizer, XGBoostClassifier\", \"run_properties\": \"<azureml.automl.runtime.shared.model_wrappers.SparseNormalizer object at 0x7fd095755eb8\", \"primary_metric\": 0.79592841, \"best_metric\": 0.85615213}, {\"run_id\": \"AutoML_5e61848c-c8be-4ca5-b8c2-026872976d6c_9\", \"run_number\": 103, \"metric\": null, \"status\": \"Completed\", \"run_type\": \"azureml.scriptrun\", \"training_percent\": \"100\", \"start_time\": \"2021-03-02T23:15:35.440613Z\", \"end_time\": \"2021-03-02T23:16:22.097349Z\", \"created_time\": \"2021-03-02T23:15:27.803771Z\", \"created_time_dt\": \"2021-03-02T23:15:27.803771Z\", \"duration\": \"0:00:54\", \"iteration\": \"9\", \"goal\": \"accuracy_max\", \"run_name\": \"SparseNormalizer, XGBoostClassifier\", \"run_properties\": \"<azureml.automl.runtime.shared.model_wrappers.SparseNormalizer object at 0x7fa32d904c18\", \"primary_metric\": 0.79592841, \"best_metric\": 0.85615213}, {\"run_id\": \"AutoML_5e61848c-c8be-4ca5-b8c2-026872976d6c_10\", \"run_number\": 104, \"metric\": null, \"status\": \"Completed\", \"run_type\": \"azureml.scriptrun\", \"training_percent\": \"100\", \"start_time\": \"2021-03-02T23:15:36.787294Z\", \"end_time\": \"2021-03-02T23:16:26.700036Z\", \"created_time\": \"2021-03-02T23:15:27.977895Z\", \"created_time_dt\": \"2021-03-02T23:15:27.977895Z\", \"duration\": \"0:00:58\", \"iteration\": \"10\", \"goal\": \"accuracy_max\", \"run_name\": \"StandardScalerWrapper, LightGBM\", \"run_properties\": \"<azureml.automl.runtime.shared.model_wrappers.StandardScalerWrapper object at 0x7f3ab390d358\", \"primary_metric\": 0.82606264, \"best_metric\": 0.85615213}, {\"run_id\": \"AutoML_5e61848c-c8be-4ca5-b8c2-026872976d6c_11\", \"run_number\": 108, \"metric\": null, \"status\": \"Completed\", \"run_type\": \"azureml.scriptrun\", \"training_percent\": \"100\", \"start_time\": \"2021-03-02T23:16:22.363515Z\", \"end_time\": \"2021-03-02T23:17:14.991121Z\", \"created_time\": \"2021-03-02T23:16:14.172851Z\", \"created_time_dt\": \"2021-03-02T23:16:14.172851Z\", \"duration\": \"0:01:00\", \"iteration\": \"11\", \"goal\": \"accuracy_max\", \"run_name\": \"MaxAbsScaler, GradientBoosting\", \"run_properties\": \"copy=True\", \"primary_metric\": 0.83610738, \"best_metric\": 0.85615213}, {\"run_id\": \"AutoML_5e61848c-c8be-4ca5-b8c2-026872976d6c_12\", \"run_number\": 110, \"metric\": null, \"status\": \"Completed\", \"run_type\": \"azureml.scriptrun\", \"training_percent\": \"100\", \"start_time\": \"2021-03-02T23:16:32.121Z\", \"end_time\": \"2021-03-02T23:17:22.831478Z\", \"created_time\": \"2021-03-02T23:16:24.421304Z\", \"created_time_dt\": \"2021-03-02T23:16:24.421304Z\", \"duration\": \"0:00:58\", \"iteration\": \"12\", \"goal\": \"accuracy_max\", \"run_name\": \"StandardScalerWrapper, RandomForest\", \"run_properties\": \"<azureml.automl.runtime.shared.model_wrappers.StandardScalerWrapper object at 0x7f374e38d860\", \"primary_metric\": 0.8193736, \"best_metric\": 0.85615213}, {\"run_id\": \"AutoML_5e61848c-c8be-4ca5-b8c2-026872976d6c_13\", \"run_number\": 111, \"metric\": null, \"status\": \"Completed\", \"run_type\": \"azureml.scriptrun\", \"training_percent\": \"100\", \"start_time\": \"2021-03-02T23:16:36.135874Z\", \"end_time\": \"2021-03-02T23:17:29.605749Z\", \"created_time\": \"2021-03-02T23:16:28.31317Z\", \"created_time_dt\": \"2021-03-02T23:16:28.31317Z\", \"duration\": \"0:01:01\", \"iteration\": \"13\", \"goal\": \"accuracy_max\", \"run_name\": \"StandardScalerWrapper, LightGBM\", \"run_properties\": \"<azureml.automl.runtime.shared.model_wrappers.StandardScalerWrapper object at 0x7fedf7d8edd8\", \"primary_metric\": 0.8461745, \"best_metric\": 0.85615213}, {\"run_id\": \"AutoML_5e61848c-c8be-4ca5-b8c2-026872976d6c_14\", \"run_number\": 112, \"metric\": null, \"status\": \"Completed\", \"run_type\": \"azureml.scriptrun\", \"training_percent\": \"100\", \"start_time\": \"2021-03-02T23:16:39.914475Z\", \"end_time\": \"2021-03-02T23:17:32.012126Z\", \"created_time\": \"2021-03-02T23:16:32.21147Z\", \"created_time_dt\": \"2021-03-02T23:16:32.21147Z\", \"duration\": \"0:00:59\", \"iteration\": \"14\", \"goal\": \"accuracy_max\", \"run_name\": \"MinMaxScaler, LightGBM\", \"run_properties\": \"copy=True, feature_range=(0, 1\", \"primary_metric\": 0.78263982, \"best_metric\": 0.85615213}, {\"run_id\": \"AutoML_5e61848c-c8be-4ca5-b8c2-026872976d6c_15\", \"run_number\": 116, \"metric\": null, \"status\": \"Completed\", \"run_type\": \"azureml.scriptrun\", \"training_percent\": \"100\", \"start_time\": \"2021-03-02T23:17:26.268576Z\", \"end_time\": \"2021-03-02T23:18:09.899772Z\", \"created_time\": \"2021-03-02T23:17:17.227918Z\", \"created_time_dt\": \"2021-03-02T23:17:17.227918Z\", \"duration\": \"0:00:52\", \"iteration\": \"15\", \"goal\": \"accuracy_max\", \"run_name\": \"StandardScalerWrapper, LightGBM\", \"run_properties\": \"<azureml.automl.runtime.shared.model_wrappers.StandardScalerWrapper object at 0x7f2903681c50\", \"primary_metric\": 0.83610738, \"best_metric\": 0.85615213}, {\"run_id\": \"AutoML_5e61848c-c8be-4ca5-b8c2-026872976d6c_16\", \"run_number\": 118, \"metric\": null, \"status\": \"Completed\", \"run_type\": \"azureml.scriptrun\", \"training_percent\": \"100\", \"start_time\": \"2021-03-02T23:17:36.332197Z\", \"end_time\": \"2021-03-02T23:18:27.564575Z\", \"created_time\": \"2021-03-02T23:17:25.535486Z\", \"created_time_dt\": \"2021-03-02T23:17:25.535486Z\", \"duration\": \"0:01:02\", \"iteration\": \"16\", \"goal\": \"accuracy_max\", \"run_name\": \"SparseNormalizer, XGBoostClassifier\", \"run_properties\": \"<azureml.automl.runtime.shared.model_wrappers.SparseNormalizer object at 0x7fa83375cb70\", \"primary_metric\": 0.80257271, \"best_metric\": 0.85615213}, {\"run_id\": \"AutoML_5e61848c-c8be-4ca5-b8c2-026872976d6c_17\", \"run_number\": 119, \"metric\": null, \"status\": \"Completed\", \"run_type\": \"azureml.scriptrun\", \"training_percent\": \"100\", \"start_time\": \"2021-03-02T23:17:40.772703Z\", \"end_time\": \"2021-03-02T23:18:28.188156Z\", \"created_time\": \"2021-03-02T23:17:32.339008Z\", \"created_time_dt\": \"2021-03-02T23:17:32.339008Z\", \"duration\": \"0:00:55\", \"iteration\": \"17\", \"goal\": \"accuracy_max\", \"run_name\": \"StandardScalerWrapper, LightGBM\", \"run_properties\": \"<azureml.automl.runtime.shared.model_wrappers.StandardScalerWrapper object at 0x7ff3849a3fd0\", \"primary_metric\": 0.80599553, \"best_metric\": 0.85615213}, {\"run_id\": \"AutoML_5e61848c-c8be-4ca5-b8c2-026872976d6c_18\", \"run_number\": 120, \"metric\": null, \"status\": \"Completed\", \"run_type\": \"azureml.scriptrun\", \"training_percent\": \"100\", \"start_time\": \"2021-03-02T23:17:46.532941Z\", \"end_time\": \"2021-03-02T23:18:32.037785Z\", \"created_time\": \"2021-03-02T23:17:36.747997Z\", \"created_time_dt\": \"2021-03-02T23:17:36.747997Z\", \"duration\": \"0:00:55\", \"iteration\": \"18\", \"goal\": \"accuracy_max\", \"run_name\": \"SparseNormalizer, XGBoostClassifier\", \"run_properties\": \"<azureml.automl.runtime.shared.model_wrappers.SparseNormalizer object at 0x7ff6b4e15668\", \"primary_metric\": 0.81935123, \"best_metric\": 0.85615213}, {\"run_id\": \"AutoML_5e61848c-c8be-4ca5-b8c2-026872976d6c_19\", \"run_number\": 122, \"metric\": null, \"status\": \"Completed\", \"run_type\": \"azureml.scriptrun\", \"training_percent\": \"100\", \"start_time\": \"2021-03-02T23:18:20.854162Z\", \"end_time\": \"2021-03-02T23:19:18.983281Z\", \"created_time\": \"2021-03-02T23:18:12.099227Z\", \"created_time_dt\": \"2021-03-02T23:18:12.099227Z\", \"duration\": \"0:01:06\", \"iteration\": \"19\", \"goal\": \"accuracy_max\", \"run_name\": \"StandardScalerWrapper, LightGBM\", \"run_properties\": \"<azureml.automl.runtime.shared.model_wrappers.StandardScalerWrapper object at 0x7f214971e5f8\", \"primary_metric\": 0.83946309, \"best_metric\": 0.85615213}, {\"run_id\": \"AutoML_5e61848c-c8be-4ca5-b8c2-026872976d6c_20\", \"run_number\": 126, \"metric\": null, \"status\": \"Completed\", \"run_type\": \"azureml.scriptrun\", \"training_percent\": \"100\", \"start_time\": \"2021-03-02T23:18:38.543942Z\", \"end_time\": \"2021-03-02T23:19:30.526656Z\", \"created_time\": \"2021-03-02T23:18:29.868502Z\", \"created_time_dt\": \"2021-03-02T23:18:29.868502Z\", \"duration\": \"0:01:00\", \"iteration\": \"20\", \"goal\": \"accuracy_max\", \"run_name\": \"MinMaxScaler, LightGBM\", \"run_properties\": \"copy=True, feature_range=(0, 1\", \"primary_metric\": 0.82270694, \"best_metric\": 0.85615213}, {\"run_id\": \"AutoML_5e61848c-c8be-4ca5-b8c2-026872976d6c_21\", \"run_number\": 127, \"metric\": null, \"status\": \"Completed\", \"run_type\": \"azureml.scriptrun\", \"training_percent\": \"100\", \"start_time\": \"2021-03-02T23:18:39.658964Z\", \"end_time\": \"2021-03-02T23:19:27.158026Z\", \"created_time\": \"2021-03-02T23:18:29.997611Z\", \"created_time_dt\": \"2021-03-02T23:18:29.997611Z\", \"duration\": \"0:00:57\", \"iteration\": \"21\", \"goal\": \"accuracy_max\", \"run_name\": \"StandardScalerWrapper, LightGBM\", \"run_properties\": \"<azureml.automl.runtime.shared.model_wrappers.StandardScalerWrapper object at 0x7f17d0151d68\", \"primary_metric\": 0.84279642, \"best_metric\": 0.85615213}, {\"run_id\": \"AutoML_5e61848c-c8be-4ca5-b8c2-026872976d6c_22\", \"run_number\": 128, \"metric\": null, \"status\": \"Completed\", \"run_type\": \"azureml.scriptrun\", \"training_percent\": \"100\", \"start_time\": \"2021-03-02T23:18:42.036432Z\", \"end_time\": \"2021-03-02T23:19:31.381586Z\", \"created_time\": \"2021-03-02T23:18:34.313466Z\", \"created_time_dt\": \"2021-03-02T23:18:34.313466Z\", \"duration\": \"0:00:57\", \"iteration\": \"22\", \"goal\": \"accuracy_max\", \"run_name\": \"SparseNormalizer, XGBoostClassifier\", \"run_properties\": \"<azureml.automl.runtime.shared.model_wrappers.SparseNormalizer object at 0x7f1fb32802b0\", \"primary_metric\": 0.77266219, \"best_metric\": 0.85615213}, {\"run_id\": \"AutoML_5e61848c-c8be-4ca5-b8c2-026872976d6c_23\", \"run_number\": 130, \"metric\": null, \"status\": \"Completed\", \"run_type\": \"azureml.scriptrun\", \"training_percent\": \"100\", \"start_time\": \"2021-03-02T23:19:32.242612Z\", \"end_time\": \"2021-03-02T23:20:26.279783Z\", \"created_time\": \"2021-03-02T23:19:21.279382Z\", \"created_time_dt\": \"2021-03-02T23:19:21.279382Z\", \"duration\": \"0:01:05\", \"iteration\": \"23\", \"goal\": \"accuracy_max\", \"run_name\": \"MinMaxScaler, LightGBM\", \"run_properties\": \"copy=True, feature_range=(0, 1\", \"primary_metric\": 0.74912752, \"best_metric\": 0.85615213}, {\"run_id\": \"AutoML_5e61848c-c8be-4ca5-b8c2-026872976d6c_24\", \"run_number\": 134, \"metric\": null, \"status\": \"Completed\", \"run_type\": \"azureml.scriptrun\", \"training_percent\": \"100\", \"start_time\": \"2021-03-02T23:19:38.733432Z\", \"end_time\": \"2021-03-02T23:20:28.599243Z\", \"created_time\": \"2021-03-02T23:19:30.197925Z\", \"created_time_dt\": \"2021-03-02T23:19:30.197925Z\", \"duration\": \"0:00:58\", \"iteration\": \"24\", \"goal\": \"accuracy_max\", \"run_name\": \"MaxAbsScaler, LightGBM\", \"run_properties\": \"copy=True\", \"primary_metric\": 0.81275168, \"best_metric\": 0.85615213}, {\"run_id\": \"AutoML_5e61848c-c8be-4ca5-b8c2-026872976d6c_25\", \"run_number\": 135, \"metric\": null, \"status\": \"Completed\", \"run_type\": \"azureml.scriptrun\", \"training_percent\": \"100\", \"start_time\": \"2021-03-02T23:19:48.791045Z\", \"end_time\": \"2021-03-02T23:20:39.103201Z\", \"created_time\": \"2021-03-02T23:19:36.286397Z\", \"created_time_dt\": \"2021-03-02T23:19:36.286397Z\", \"duration\": \"0:01:02\", \"iteration\": \"25\", \"goal\": \"accuracy_max\", \"run_name\": \"StandardScalerWrapper, RandomForest\", \"run_properties\": \"<azureml.automl.runtime.shared.model_wrappers.StandardScalerWrapper object at 0x7f5dc122ae48\", \"primary_metric\": 0.66525727, \"best_metric\": 0.85615213}, {\"run_id\": \"AutoML_5e61848c-c8be-4ca5-b8c2-026872976d6c_26\", \"run_number\": 136, \"metric\": null, \"status\": \"Completed\", \"run_type\": \"azureml.scriptrun\", \"training_percent\": \"100\", \"start_time\": \"2021-03-02T23:19:46.982496Z\", \"end_time\": \"2021-03-02T23:20:32.198419Z\", \"created_time\": \"2021-03-02T23:19:36.431217Z\", \"created_time_dt\": \"2021-03-02T23:19:36.431217Z\", \"duration\": \"0:00:55\", \"iteration\": \"26\", \"goal\": \"accuracy_max\", \"run_name\": \"StandardScalerWrapper, XGBoostClassifier\", \"run_properties\": \"<azureml.automl.runtime.shared.model_wrappers.StandardScalerWrapper object at 0x7fdf82d50748\", \"primary_metric\": 0.83612975, \"best_metric\": 0.85615213}, {\"run_id\": \"AutoML_5e61848c-c8be-4ca5-b8c2-026872976d6c_27\", \"run_number\": 139, \"metric\": null, \"status\": \"Completed\", \"run_type\": \"azureml.scriptrun\", \"training_percent\": \"100\", \"start_time\": \"2021-03-02T23:20:38.361766Z\", \"end_time\": \"2021-03-02T23:21:28.147694Z\", \"created_time\": \"2021-03-02T23:20:29.621595Z\", \"created_time_dt\": \"2021-03-02T23:20:29.621595Z\", \"duration\": \"0:00:58\", \"iteration\": \"27\", \"goal\": \"accuracy_max\", \"run_name\": \"SparseNormalizer, XGBoostClassifier\", \"run_properties\": \"<azureml.automl.runtime.shared.model_wrappers.SparseNormalizer object at 0x7f81f27596a0\", \"primary_metric\": 0.81941834, \"best_metric\": 0.85615213}, {\"run_id\": \"AutoML_5e61848c-c8be-4ca5-b8c2-026872976d6c_28\", \"run_number\": 142, \"metric\": null, \"status\": \"Completed\", \"run_type\": \"azureml.scriptrun\", \"training_percent\": \"100\", \"start_time\": \"2021-03-02T23:20:45.184288Z\", \"end_time\": \"2021-03-02T23:21:42.417544Z\", \"created_time\": \"2021-03-02T23:20:34.213255Z\", \"created_time_dt\": \"2021-03-02T23:20:34.213255Z\", \"duration\": \"0:01:08\", \"iteration\": \"28\", \"goal\": \"accuracy_max\", \"run_name\": \"SparseNormalizer, XGBoostClassifier\", \"run_properties\": \"<azureml.automl.runtime.shared.model_wrappers.SparseNormalizer object at 0x7f9ed738a668\", \"primary_metric\": 0.79928412, \"best_metric\": 0.85615213}, {\"run_id\": \"AutoML_5e61848c-c8be-4ca5-b8c2-026872976d6c_29\", \"run_number\": 143, \"metric\": null, \"status\": \"Completed\", \"run_type\": \"azureml.scriptrun\", \"training_percent\": \"100\", \"start_time\": \"2021-03-02T23:20:46.271146Z\", \"end_time\": \"2021-03-02T23:21:52.54072Z\", \"created_time\": \"2021-03-02T23:20:34.389615Z\", \"created_time_dt\": \"2021-03-02T23:20:34.389615Z\", \"duration\": \"0:01:18\", \"iteration\": \"29\", \"goal\": \"accuracy_max\", \"run_name\": \"StandardScalerWrapper, XGBoostClassifier\", \"run_properties\": \"<azureml.automl.runtime.shared.model_wrappers.StandardScalerWrapper object at 0x7ff8a4574780\", \"primary_metric\": 0.83944072, \"best_metric\": 0.85615213}, {\"run_id\": \"AutoML_5e61848c-c8be-4ca5-b8c2-026872976d6c_30\", \"run_number\": 144, \"metric\": null, \"status\": \"Completed\", \"run_type\": \"azureml.scriptrun\", \"training_percent\": \"100\", \"start_time\": \"2021-03-02T23:20:53.838254Z\", \"end_time\": \"2021-03-02T23:21:50.562754Z\", \"created_time\": \"2021-03-02T23:20:42.598916Z\", \"created_time_dt\": \"2021-03-02T23:20:42.598916Z\", \"duration\": \"0:01:07\", \"iteration\": \"30\", \"goal\": \"accuracy_max\", \"run_name\": \"StandardScalerWrapper, RandomForest\", \"run_properties\": \"<azureml.automl.runtime.shared.model_wrappers.StandardScalerWrapper object at 0x7f11a2c09f98\", \"primary_metric\": 0.82277405, \"best_metric\": 0.85615213}, {\"run_id\": \"AutoML_5e61848c-c8be-4ca5-b8c2-026872976d6c_31\", \"run_number\": 146, \"metric\": null, \"status\": \"Completed\", \"run_type\": \"azureml.scriptrun\", \"training_percent\": \"100\", \"start_time\": \"2021-03-02T23:21:43.330321Z\", \"end_time\": \"2021-03-02T23:22:36.769252Z\", \"created_time\": \"2021-03-02T23:21:30.842795Z\", \"created_time_dt\": \"2021-03-02T23:21:30.842795Z\", \"duration\": \"0:01:05\", \"iteration\": \"31\", \"goal\": \"accuracy_max\", \"run_name\": \"MaxAbsScaler, LightGBM\", \"run_properties\": \"copy=True\", \"primary_metric\": 0.71239374, \"best_metric\": 0.85615213}, {\"run_id\": \"AutoML_5e61848c-c8be-4ca5-b8c2-026872976d6c_32\", \"run_number\": 150, \"metric\": null, \"status\": \"Completed\", \"run_type\": \"azureml.scriptrun\", \"training_percent\": \"100\", \"start_time\": \"2021-03-02T23:21:56.209006Z\", \"end_time\": \"2021-03-02T23:22:44.258338Z\", \"created_time\": \"2021-03-02T23:21:45.253621Z\", \"created_time_dt\": \"2021-03-02T23:21:45.253621Z\", \"duration\": \"0:00:59\", \"iteration\": \"32\", \"goal\": \"accuracy_max\", \"run_name\": \"StandardScalerWrapper, LightGBM\", \"run_properties\": \"<azureml.automl.runtime.shared.model_wrappers.StandardScalerWrapper object at 0x7f3e018fc710\", \"primary_metric\": 0.78261745, \"best_metric\": 0.85615213}, {\"run_id\": \"AutoML_5e61848c-c8be-4ca5-b8c2-026872976d6c_33\", \"run_number\": 151, \"metric\": null, \"status\": \"Canceled\", \"run_type\": \"azureml.scriptrun\", \"training_percent\": \"100\", \"start_time\": \"2021-03-02T23:22:01.398013Z\", \"end_time\": \"2021-03-02T23:22:48.002906Z\", \"created_time\": \"2021-03-02T23:21:53.232314Z\", \"created_time_dt\": \"2021-03-02T23:21:53.232314Z\", \"duration\": \"0:00:54\", \"iteration\": \"33\", \"goal\": \"accuracy_max\", \"run_name\": \"StandardScalerWrapper, LightGBM\", \"run_properties\": \"<azureml.automl.runtime.shared.model_wrappers.StandardScalerWrapper object at 0x7fd6fee722b0\", \"primary_metric\": 0.79928412, \"best_metric\": 0.85615213}, {\"run_id\": \"AutoML_5e61848c-c8be-4ca5-b8c2-026872976d6c_34\", \"run_number\": 152, \"metric\": null, \"status\": \"Canceled\", \"run_type\": \"azureml.scriptrun\", \"training_percent\": \"100\", \"start_time\": \"2021-03-02T23:22:06.044671Z\", \"end_time\": \"2021-03-02T23:22:47.874698Z\", \"created_time\": \"2021-03-02T23:21:57.348549Z\", \"created_time_dt\": \"2021-03-02T23:21:57.348549Z\", \"duration\": \"0:00:50\", \"iteration\": \"34\", \"goal\": \"accuracy_max\", \"run_name\": \"StandardScalerWrapper, LightGBM\", \"run_properties\": \"<azureml.automl.runtime.shared.model_wrappers.StandardScalerWrapper object at 0x7f3897664dd8\", \"primary_metric\": 0.82606264, \"best_metric\": 0.85615213}, {\"run_id\": \"AutoML_5e61848c-c8be-4ca5-b8c2-026872976d6c_35\", \"run_number\": 154, \"metric\": null, \"status\": \"Canceled\", \"run_type\": \"azureml.scriptrun\", \"training_percent\": \"100\", \"start_time\": \"2021-03-02T23:22:49.744516Z\", \"end_time\": \"2021-03-02T23:22:57.506587Z\", \"created_time\": \"2021-03-02T23:22:40.325115Z\", \"created_time_dt\": \"2021-03-02T23:22:40.325115Z\", \"duration\": \"0:00:17\", \"iteration\": \"35\", \"goal\": null, \"run_name\": \"Canceled\", \"run_properties\": null}, {\"run_id\": \"AutoML_5e61848c-c8be-4ca5-b8c2-026872976d6c_36\", \"run_number\": 158, \"metric\": null, \"status\": \"Completed\", \"run_type\": \"azureml.scriptrun\", \"training_percent\": \"100\", \"start_time\": \"2021-03-02T23:23:07.44542Z\", \"end_time\": \"2021-03-02T23:24:08.300086Z\", \"created_time\": \"2021-03-02T23:22:58.908568Z\", \"created_time_dt\": \"2021-03-02T23:22:58.908568Z\", \"duration\": \"0:01:09\", \"iteration\": \"36\", \"goal\": \"accuracy_max\", \"run_name\": \"VotingEnsemble\", \"run_properties\": \"classification_labels=None,\\n                              estimators=[('4',\\n                                           Pipeline(memory=None,\\n                                                    steps=[('minmaxscaler',\\n                                                            MinMaxScaler(copy=True,\\n                                                                         feature_range=(0,\\n                                                                                        1\", \"primary_metric\": 0.86290828, \"best_metric\": 0.86290828}, {\"run_id\": \"AutoML_5e61848c-c8be-4ca5-b8c2-026872976d6c_37\", \"run_number\": 159, \"metric\": null, \"status\": \"Completed\", \"run_type\": \"azureml.scriptrun\", \"training_percent\": \"100\", \"start_time\": \"2021-03-02T23:23:07.182078Z\", \"end_time\": \"2021-03-02T23:24:11.041028Z\", \"created_time\": \"2021-03-02T23:22:59.080553Z\", \"created_time_dt\": \"2021-03-02T23:22:59.080553Z\", \"duration\": \"0:01:11\", \"iteration\": \"37\", \"goal\": \"accuracy_max\", \"run_name\": \"StackEnsemble\", \"run_properties\": \"base_learners=[('4',\\n                                        Pipeline(memory=None,\\n                                                 steps=[('minmaxscaler',\\n                                                         MinMaxScaler(copy=True,\\n                                                                      feature_range=(0,\\n                                                                                     1\", \"primary_metric\": 0.83272931, \"best_metric\": 0.86290828}], \"children_metrics\": {\"categories\": [0], \"series\": {\"log_loss\": [{\"categories\": [\"0\", \"1\", \"2\", \"3\", \"4\", \"5\", \"6\", \"7\", \"8\", \"9\", \"10\", \"11\", \"12\", \"13\", \"14\", \"15\", \"16\", \"17\", \"18\", \"19\", \"20\", \"21\", \"22\", \"23\", \"24\", \"25\", \"26\", \"27\", \"28\", \"29\", \"30\", \"31\", \"32\", \"33\", \"34\", \"36\", \"37\"], \"mode\": \"markers\", \"name\": \"log_loss\", \"stepped\": false, \"type\": \"scatter\", \"data\": [0.5552296145880724, 0.4808864033102538, 0.4384149242859429, 0.39997448636882854, 0.3979941898819166, 0.5924350089797887, 0.46328514623048916, 0.5622548660915803, 0.4411691237465704, 0.5208843458039687, 0.4094328028394219, 0.37970912574816296, 0.4220174325118424, 0.41456108961755955, 0.4388154417096779, 0.40840478405748465, 0.4287118137213588, 0.432983082462326, 0.4303221289001967, 0.4078150166937383, 0.3958007168935356, 0.37734707192033656, 0.5535169750975619, 0.4859939354143044, 0.47952182921659325, 0.5861412593690999, 0.3929039128518633, 0.5286506905132754, 0.4709275706891872, 0.47105918559689974, 0.4191217635829714, 0.5331866773921603, 0.4337943411041588, 0.3981193609382504, 0.40303050345575153, 0.3915950348566869, 0.4487597319266511]}, {\"categories\": [\"0\", \"1\", \"2\", \"3\", \"4\", \"5\", \"6\", \"7\", \"8\", \"9\", \"10\", \"11\", \"12\", \"13\", \"14\", \"15\", \"16\", \"17\", \"18\", \"19\", \"20\", \"21\", \"22\", \"23\", \"24\", \"25\", \"26\", \"27\", \"28\", \"29\", \"30\", \"31\", \"32\", \"33\", \"34\", \"36\", \"37\"], \"mode\": \"lines\", \"name\": \"log_loss_min\", \"stepped\": true, \"type\": \"scatter\", \"data\": [0.5552296145880724, 0.4808864033102538, 0.4384149242859429, 0.39997448636882854, 0.3979941898819166, 0.3979941898819166, 0.3979941898819166, 0.3979941898819166, 0.3979941898819166, 0.3979941898819166, 0.3979941898819166, 0.37970912574816296, 0.37970912574816296, 0.37970912574816296, 0.37970912574816296, 0.37970912574816296, 0.37970912574816296, 0.37970912574816296, 0.37970912574816296, 0.37970912574816296, 0.37970912574816296, 0.37734707192033656, 0.37734707192033656, 0.37734707192033656, 0.37734707192033656, 0.37734707192033656, 0.37734707192033656, 0.37734707192033656, 0.37734707192033656, 0.37734707192033656, 0.37734707192033656, 0.37734707192033656, 0.37734707192033656, 0.37734707192033656, 0.37734707192033656, 0.37734707192033656, 0.37734707192033656]}], \"accuracy\": [{\"categories\": [\"0\", \"1\", \"2\", \"3\", \"4\", \"5\", \"6\", \"7\", \"8\", \"9\", \"10\", \"11\", \"12\", \"13\", \"14\", \"15\", \"16\", \"17\", \"18\", \"19\", \"20\", \"21\", \"22\", \"23\", \"24\", \"25\", \"26\", \"27\", \"28\", \"29\", \"30\", \"31\", \"32\", \"33\", \"34\", \"36\", \"37\"], \"mode\": \"markers\", \"name\": \"accuracy\", \"stepped\": false, \"type\": \"scatter\", \"data\": [0.8127069351230425, 0.802662192393736, 0.8125950782997763, 0.852841163310962, 0.856152125279642, 0.8193736017897092, 0.829440715883669, 0.6955704697986578, 0.7959284116331096, 0.7959284116331096, 0.8260626398210291, 0.8361073825503356, 0.8193736017897092, 0.8461744966442952, 0.7826398210290828, 0.8361073825503356, 0.8025727069351231, 0.8059955257270693, 0.8193512304250559, 0.8394630872483222, 0.8227069351230425, 0.8427964205816555, 0.772662192393736, 0.7491275167785235, 0.812751677852349, 0.6652572706935123, 0.8361297539149888, 0.8194183445190157, 0.7992841163310962, 0.839440715883669, 0.8227740492170023, 0.7123937360178971, 0.7826174496644296, 0.7992841163310962, 0.8260626398210291, 0.8629082774049217, 0.8327293064876957]}, {\"categories\": [\"0\", \"1\", \"2\", \"3\", \"4\", \"5\", \"6\", \"7\", \"8\", \"9\", \"10\", \"11\", \"12\", \"13\", \"14\", \"15\", \"16\", \"17\", \"18\", \"19\", \"20\", \"21\", \"22\", \"23\", \"24\", \"25\", \"26\", \"27\", \"28\", \"29\", \"30\", \"31\", \"32\", \"33\", \"34\", \"36\", \"37\"], \"mode\": \"lines\", \"name\": \"accuracy_max\", \"stepped\": true, \"type\": \"scatter\", \"data\": [0.8127069351230425, 0.8127069351230425, 0.8127069351230425, 0.852841163310962, 0.856152125279642, 0.856152125279642, 0.856152125279642, 0.856152125279642, 0.856152125279642, 0.856152125279642, 0.856152125279642, 0.856152125279642, 0.856152125279642, 0.856152125279642, 0.856152125279642, 0.856152125279642, 0.856152125279642, 0.856152125279642, 0.856152125279642, 0.856152125279642, 0.856152125279642, 0.856152125279642, 0.856152125279642, 0.856152125279642, 0.856152125279642, 0.856152125279642, 0.856152125279642, 0.856152125279642, 0.856152125279642, 0.856152125279642, 0.856152125279642, 0.856152125279642, 0.856152125279642, 0.856152125279642, 0.856152125279642, 0.8629082774049217, 0.8629082774049217]}], \"AUC_micro\": [{\"categories\": [\"0\", \"1\", \"2\", \"3\", \"4\", \"5\", \"6\", \"7\", \"8\", \"9\", \"10\", \"11\", \"12\", \"13\", \"14\", \"15\", \"16\", \"17\", \"18\", \"19\", \"20\", \"21\", \"22\", \"23\", \"24\", \"25\", \"26\", \"27\", \"28\", \"29\", \"30\", \"31\", \"32\", \"33\", \"34\", \"36\", \"37\"], \"mode\": \"markers\", \"name\": \"AUC_micro\", \"stepped\": false, \"type\": \"scatter\", \"data\": [0.8778265723766197, 0.8861676871412199, 0.8830731858925275, 0.9072541787406974, 0.905790243682717, 0.8850837349668934, 0.8756706414625968, 0.7874521312853776, 0.8788192393736018, 0.8569832520056655, 0.8979492785610257, 0.9083281033386884, 0.8951183019783894, 0.9035031124724111, 0.8905277299821329, 0.8977533184190902, 0.885720996551707, 0.8955194991216612, 0.8932082388681191, 0.9013949942194797, 0.9032746062489677, 0.9159132881902217, 0.8395005740482161, 0.8524823906831024, 0.8741278050538264, 0.7691991231626203, 0.9078127281553884, 0.8364422853825404, 0.8675933516508265, 0.8947115685479632, 0.8945539169907262, 0.8299766677176703, 0.8867046099024569, 0.901900943400948, 0.8985352121275819, 0.9121591539920625, 0.8866663773904078]}, {\"categories\": [\"0\", \"1\", \"2\", \"3\", \"4\", \"5\", \"6\", \"7\", \"8\", \"9\", \"10\", \"11\", \"12\", \"13\", \"14\", \"15\", \"16\", \"17\", \"18\", \"19\", \"20\", \"21\", \"22\", \"23\", \"24\", \"25\", \"26\", \"27\", \"28\", \"29\", \"30\", \"31\", \"32\", \"33\", \"34\", \"36\", \"37\"], \"mode\": \"lines\", \"name\": \"AUC_micro_max\", \"stepped\": true, \"type\": \"scatter\", \"data\": [0.8778265723766197, 0.8861676871412199, 0.8861676871412199, 0.9072541787406974, 0.9072541787406974, 0.9072541787406974, 0.9072541787406974, 0.9072541787406974, 0.9072541787406974, 0.9072541787406974, 0.9072541787406974, 0.9083281033386884, 0.9083281033386884, 0.9083281033386884, 0.9083281033386884, 0.9083281033386884, 0.9083281033386884, 0.9083281033386884, 0.9083281033386884, 0.9083281033386884, 0.9083281033386884, 0.9159132881902217, 0.9159132881902217, 0.9159132881902217, 0.9159132881902217, 0.9159132881902217, 0.9159132881902217, 0.9159132881902217, 0.9159132881902217, 0.9159132881902217, 0.9159132881902217, 0.9159132881902217, 0.9159132881902217, 0.9159132881902217, 0.9159132881902217, 0.9159132881902217, 0.9159132881902217]}], \"precision_score_macro\": [{\"categories\": [\"0\", \"1\", \"2\", \"3\", \"4\", \"5\", \"6\", \"7\", \"8\", \"9\", \"10\", \"11\", \"12\", \"13\", \"14\", \"15\", \"16\", \"17\", \"18\", \"19\", \"20\", \"21\", \"22\", \"23\", \"24\", \"25\", \"26\", \"27\", \"28\", \"29\", \"30\", \"31\", \"32\", \"33\", \"34\", \"36\", \"37\"], \"mode\": \"markers\", \"name\": \"precision_score_macro\", \"stepped\": false, \"type\": \"scatter\", \"data\": [0.8038548007066774, 0.7878442465157718, 0.7965718227019161, 0.8499897628048889, 0.8444372113926569, 0.8097461263323483, 0.8306035808532563, 0.7354590323142455, 0.7738193704565386, 0.7836322349259269, 0.8263072986203828, 0.8301911375993267, 0.8132435335589985, 0.8457740317496416, 0.7902056373611124, 0.8301911375993267, 0.7893338898669422, 0.8123242650285214, 0.8009903316459466, 0.8346008158508158, 0.811101233596887, 0.8445893476413577, 0.7595800580009755, 0.7552361531657197, 0.8274420062695925, 0.6960076583825019, 0.8277707347306739, 0.8328512203617334, 0.8017350286284818, 0.8338066260987154, 0.8191596751572059, 0.7105634038724744, 0.793006993006993, 0.7917317465710882, 0.8196257181389559, 0.8650294150294151, 0.8311933639624198]}, {\"categories\": [\"0\", \"1\", \"2\", \"3\", \"4\", \"5\", \"6\", \"7\", \"8\", \"9\", \"10\", \"11\", \"12\", \"13\", \"14\", \"15\", \"16\", \"17\", \"18\", \"19\", \"20\", \"21\", \"22\", \"23\", \"24\", \"25\", \"26\", \"27\", \"28\", \"29\", \"30\", \"31\", \"32\", \"33\", \"34\", \"36\", \"37\"], \"mode\": \"lines\", \"name\": \"precision_score_macro_max\", \"stepped\": true, \"type\": \"scatter\", \"data\": [0.8038548007066774, 0.8038548007066774, 0.8038548007066774, 0.8499897628048889, 0.8499897628048889, 0.8499897628048889, 0.8499897628048889, 0.8499897628048889, 0.8499897628048889, 0.8499897628048889, 0.8499897628048889, 0.8499897628048889, 0.8499897628048889, 0.8499897628048889, 0.8499897628048889, 0.8499897628048889, 0.8499897628048889, 0.8499897628048889, 0.8499897628048889, 0.8499897628048889, 0.8499897628048889, 0.8499897628048889, 0.8499897628048889, 0.8499897628048889, 0.8499897628048889, 0.8499897628048889, 0.8499897628048889, 0.8499897628048889, 0.8499897628048889, 0.8499897628048889, 0.8499897628048889, 0.8499897628048889, 0.8499897628048889, 0.8499897628048889, 0.8499897628048889, 0.8650294150294151, 0.8650294150294151]}], \"recall_score_micro\": [{\"categories\": [\"0\", \"1\", \"2\", \"3\", \"4\", \"5\", \"6\", \"7\", \"8\", \"9\", \"10\", \"11\", \"12\", \"13\", \"14\", \"15\", \"16\", \"17\", \"18\", \"19\", \"20\", \"21\", \"22\", \"23\", \"24\", \"25\", \"26\", \"27\", \"28\", \"29\", \"30\", \"31\", \"32\", \"33\", \"34\", \"36\", \"37\"], \"mode\": \"markers\", \"name\": \"recall_score_micro\", \"stepped\": false, \"type\": \"scatter\", \"data\": [0.8127069351230425, 0.802662192393736, 0.8125950782997763, 0.852841163310962, 0.856152125279642, 0.8193736017897092, 0.829440715883669, 0.6955704697986578, 0.7959284116331096, 0.7959284116331096, 0.8260626398210291, 0.8361073825503356, 0.8193736017897092, 0.8461744966442952, 0.7826398210290828, 0.8361073825503356, 0.8025727069351231, 0.8059955257270693, 0.8193512304250559, 0.8394630872483222, 0.8227069351230425, 0.8427964205816555, 0.772662192393736, 0.7491275167785235, 0.812751677852349, 0.6652572706935123, 0.8361297539149888, 0.8194183445190157, 0.7992841163310962, 0.839440715883669, 0.8227740492170023, 0.7123937360178971, 0.7826174496644296, 0.7992841163310962, 0.8260626398210291, 0.8629082774049217, 0.8327293064876957]}, {\"categories\": [\"0\", \"1\", \"2\", \"3\", \"4\", \"5\", \"6\", \"7\", \"8\", \"9\", \"10\", \"11\", \"12\", \"13\", \"14\", \"15\", \"16\", \"17\", \"18\", \"19\", \"20\", \"21\", \"22\", \"23\", \"24\", \"25\", \"26\", \"27\", \"28\", \"29\", \"30\", \"31\", \"32\", \"33\", \"34\", \"36\", \"37\"], \"mode\": \"lines\", \"name\": \"recall_score_micro_max\", \"stepped\": true, \"type\": \"scatter\", \"data\": [0.8127069351230425, 0.8127069351230425, 0.8127069351230425, 0.852841163310962, 0.856152125279642, 0.856152125279642, 0.856152125279642, 0.856152125279642, 0.856152125279642, 0.856152125279642, 0.856152125279642, 0.856152125279642, 0.856152125279642, 0.856152125279642, 0.856152125279642, 0.856152125279642, 0.856152125279642, 0.856152125279642, 0.856152125279642, 0.856152125279642, 0.856152125279642, 0.856152125279642, 0.856152125279642, 0.856152125279642, 0.856152125279642, 0.856152125279642, 0.856152125279642, 0.856152125279642, 0.856152125279642, 0.856152125279642, 0.856152125279642, 0.856152125279642, 0.856152125279642, 0.856152125279642, 0.856152125279642, 0.8629082774049217, 0.8629082774049217]}], \"average_precision_score_weighted\": [{\"categories\": [\"0\", \"1\", \"2\", \"3\", \"4\", \"5\", \"6\", \"7\", \"8\", \"9\", \"10\", \"11\", \"12\", \"13\", \"14\", \"15\", \"16\", \"17\", \"18\", \"19\", \"20\", \"21\", \"22\", \"23\", \"24\", \"25\", \"26\", \"27\", \"28\", \"29\", \"30\", \"31\", \"32\", \"33\", \"34\", \"36\", \"37\"], \"mode\": \"markers\", \"name\": \"average_precision_score_weighted\", \"stepped\": false, \"type\": \"scatter\", \"data\": [0.862550328383885, 0.8780079755412578, 0.8619430884023246, 0.9005092862053401, 0.8939647137047617, 0.8713276769442833, 0.8758471524704599, 0.7709343256804393, 0.8665839996852734, 0.8306752843234793, 0.897123445658561, 0.9038748060010442, 0.8787867827093943, 0.9051884841937943, 0.8994059581272327, 0.8964709842193388, 0.8768594599545698, 0.9003446635947849, 0.880794159705389, 0.8960373236658598, 0.8976879792285908, 0.9101637488103458, 0.8234792942150974, 0.853619151891246, 0.881513751711427, 0.7711617349317403, 0.8997495480005202, 0.7783816139019624, 0.8609522270574067, 0.8727650892443187, 0.8923474892403778, 0.8337013076336917, 0.886228238613646, 0.9002261627169084, 0.8947268021085917, 0.9064171751506644, 0.9030545636704158]}, {\"categories\": [\"0\", \"1\", \"2\", \"3\", \"4\", \"5\", \"6\", \"7\", \"8\", \"9\", \"10\", \"11\", \"12\", \"13\", \"14\", \"15\", \"16\", \"17\", \"18\", \"19\", \"20\", \"21\", \"22\", \"23\", \"24\", \"25\", \"26\", \"27\", \"28\", \"29\", \"30\", \"31\", \"32\", \"33\", \"34\", \"36\", \"37\"], \"mode\": \"lines\", \"name\": \"average_precision_score_weighted_max\", \"stepped\": true, \"type\": \"scatter\", \"data\": [0.862550328383885, 0.8780079755412578, 0.8780079755412578, 0.9005092862053401, 0.9005092862053401, 0.9005092862053401, 0.9005092862053401, 0.9005092862053401, 0.9005092862053401, 0.9005092862053401, 0.9005092862053401, 0.9038748060010442, 0.9038748060010442, 0.9051884841937943, 0.9051884841937943, 0.9051884841937943, 0.9051884841937943, 0.9051884841937943, 0.9051884841937943, 0.9051884841937943, 0.9051884841937943, 0.9101637488103458, 0.9101637488103458, 0.9101637488103458, 0.9101637488103458, 0.9101637488103458, 0.9101637488103458, 0.9101637488103458, 0.9101637488103458, 0.9101637488103458, 0.9101637488103458, 0.9101637488103458, 0.9101637488103458, 0.9101637488103458, 0.9101637488103458, 0.9101637488103458, 0.9101637488103458]}], \"f1_score_micro\": [{\"categories\": [\"0\", \"1\", \"2\", \"3\", \"4\", \"5\", \"6\", \"7\", \"8\", \"9\", \"10\", \"11\", \"12\", \"13\", \"14\", \"15\", \"16\", \"17\", \"18\", \"19\", \"20\", \"21\", \"22\", \"23\", \"24\", \"25\", \"26\", \"27\", \"28\", \"29\", \"30\", \"31\", \"32\", \"33\", \"34\", \"36\", \"37\"], \"mode\": \"markers\", \"name\": \"f1_score_micro\", \"stepped\": false, \"type\": \"scatter\", \"data\": [0.8127069351230425, 0.8026621923937359, 0.8125950782997763, 0.852841163310962, 0.856152125279642, 0.8193736017897092, 0.829440715883669, 0.6955704697986578, 0.7959284116331096, 0.7959284116331096, 0.8260626398210291, 0.8361073825503356, 0.8193736017897092, 0.8461744966442952, 0.7826398210290828, 0.8361073825503356, 0.8025727069351231, 0.8059955257270693, 0.8193512304250559, 0.8394630872483221, 0.8227069351230425, 0.8427964205816555, 0.772662192393736, 0.7491275167785235, 0.8127516778523491, 0.6652572706935123, 0.8361297539149888, 0.8194183445190157, 0.7992841163310962, 0.839440715883669, 0.8227740492170023, 0.7123937360178971, 0.7826174496644295, 0.7992841163310962, 0.8260626398210291, 0.8629082774049217, 0.8327293064876957]}, {\"categories\": [\"0\", \"1\", \"2\", \"3\", \"4\", \"5\", \"6\", \"7\", \"8\", \"9\", \"10\", \"11\", \"12\", \"13\", \"14\", \"15\", \"16\", \"17\", \"18\", \"19\", \"20\", \"21\", \"22\", \"23\", \"24\", \"25\", \"26\", \"27\", \"28\", \"29\", \"30\", \"31\", \"32\", \"33\", \"34\", \"36\", \"37\"], \"mode\": \"lines\", \"name\": \"f1_score_micro_max\", \"stepped\": true, \"type\": \"scatter\", \"data\": [0.8127069351230425, 0.8127069351230425, 0.8127069351230425, 0.852841163310962, 0.856152125279642, 0.856152125279642, 0.856152125279642, 0.856152125279642, 0.856152125279642, 0.856152125279642, 0.856152125279642, 0.856152125279642, 0.856152125279642, 0.856152125279642, 0.856152125279642, 0.856152125279642, 0.856152125279642, 0.856152125279642, 0.856152125279642, 0.856152125279642, 0.856152125279642, 0.856152125279642, 0.856152125279642, 0.856152125279642, 0.856152125279642, 0.856152125279642, 0.856152125279642, 0.856152125279642, 0.856152125279642, 0.856152125279642, 0.856152125279642, 0.856152125279642, 0.856152125279642, 0.856152125279642, 0.856152125279642, 0.8629082774049217, 0.8629082774049217]}], \"precision_score_weighted\": [{\"categories\": [\"0\", \"1\", \"2\", \"3\", \"4\", \"5\", \"6\", \"7\", \"8\", \"9\", \"10\", \"11\", \"12\", \"13\", \"14\", \"15\", \"16\", \"17\", \"18\", \"19\", \"20\", \"21\", \"22\", \"23\", \"24\", \"25\", \"26\", \"27\", \"28\", \"29\", \"30\", \"31\", \"32\", \"33\", \"34\", \"36\", \"37\"], \"mode\": \"markers\", \"name\": \"precision_score_weighted\", \"stepped\": false, \"type\": \"scatter\", \"data\": [0.8129063373603715, 0.803082390133849, 0.8197996367705365, 0.8588424421045255, 0.8568565788962493, 0.8191456262182562, 0.8310584708520145, 0.7357530398979655, 0.7964582497587189, 0.7952341537546159, 0.8294549804910152, 0.8383076795213426, 0.8217532434171508, 0.8475080219490106, 0.7885333478989595, 0.8383076795213426, 0.8085020357607922, 0.8143301804531797, 0.8190732121352621, 0.8413136093337437, 0.8251567134606678, 0.845465152310706, 0.7688136247438822, 0.7565867295482169, 0.8199898609328649, 0.7617504472872971, 0.8365958618269494, 0.8257335285028738, 0.8023069496005888, 0.8405735214706109, 0.8263499217328638, 0.713160526044929, 0.7926228938846389, 0.8021717753679001, 0.8285718161243838, 0.8659450268846243, 0.8481315994939922]}, {\"categories\": [\"0\", \"1\", \"2\", \"3\", \"4\", \"5\", \"6\", \"7\", \"8\", \"9\", \"10\", \"11\", \"12\", \"13\", \"14\", \"15\", \"16\", \"17\", \"18\", \"19\", \"20\", \"21\", \"22\", \"23\", \"24\", \"25\", \"26\", \"27\", \"28\", \"29\", \"30\", \"31\", \"32\", \"33\", \"34\", \"36\", \"37\"], \"mode\": \"lines\", \"name\": \"precision_score_weighted_max\", \"stepped\": true, \"type\": \"scatter\", \"data\": [0.8129063373603715, 0.8129063373603715, 0.8197996367705365, 0.8588424421045255, 0.8588424421045255, 0.8588424421045255, 0.8588424421045255, 0.8588424421045255, 0.8588424421045255, 0.8588424421045255, 0.8588424421045255, 0.8588424421045255, 0.8588424421045255, 0.8588424421045255, 0.8588424421045255, 0.8588424421045255, 0.8588424421045255, 0.8588424421045255, 0.8588424421045255, 0.8588424421045255, 0.8588424421045255, 0.8588424421045255, 0.8588424421045255, 0.8588424421045255, 0.8588424421045255, 0.8588424421045255, 0.8588424421045255, 0.8588424421045255, 0.8588424421045255, 0.8588424421045255, 0.8588424421045255, 0.8588424421045255, 0.8588424421045255, 0.8588424421045255, 0.8588424421045255, 0.8659450268846243, 0.8659450268846243]}], \"recall_score_macro\": [{\"categories\": [\"0\", \"1\", \"2\", \"3\", \"4\", \"5\", \"6\", \"7\", \"8\", \"9\", \"10\", \"11\", \"12\", \"13\", \"14\", \"15\", \"16\", \"17\", \"18\", \"19\", \"20\", \"21\", \"22\", \"23\", \"24\", \"25\", \"26\", \"27\", \"28\", \"29\", \"30\", \"31\", \"32\", \"33\", \"34\", \"36\", \"37\"], \"mode\": \"markers\", \"name\": \"recall_score_macro\", \"stepped\": false, \"type\": \"scatter\", \"data\": [0.7557586759161217, 0.7512496361510688, 0.7831134455045974, 0.8159003963919673, 0.8231707471275849, 0.7659627575487746, 0.7678207368896579, 0.5939120328982657, 0.7542523223740728, 0.7348992683232973, 0.76826219217411, 0.7894974926983643, 0.766204132801214, 0.7939822653308216, 0.6953308919944636, 0.7894974926983643, 0.7620952531001868, 0.7401081667130724, 0.7796037416441192, 0.7919484730905213, 0.7796693039971413, 0.788687383527247, 0.6909904260840634, 0.648551331212915, 0.7337302943085808, 0.7031295033286118, 0.7894732255657688, 0.7439343759412339, 0.723492156500266, 0.7917313649706776, 0.7690893294330582, 0.5774367151537252, 0.701091496215086, 0.7404597925119067, 0.7766253225537108, 0.8175170004804113, 0.8042797907028832]}, {\"categories\": [\"0\", \"1\", \"2\", \"3\", \"4\", \"5\", \"6\", \"7\", \"8\", \"9\", \"10\", \"11\", \"12\", \"13\", \"14\", \"15\", \"16\", \"17\", \"18\", \"19\", \"20\", \"21\", \"22\", \"23\", \"24\", \"25\", \"26\", \"27\", \"28\", \"29\", \"30\", \"31\", \"32\", \"33\", \"34\", \"36\", \"37\"], \"mode\": \"lines\", \"name\": \"recall_score_macro_max\", \"stepped\": true, \"type\": \"scatter\", \"data\": [0.7557586759161217, 0.7557586759161217, 0.7831134455045974, 0.8159003963919673, 0.8231707471275849, 0.8231707471275849, 0.8231707471275849, 0.8231707471275849, 0.8231707471275849, 0.8231707471275849, 0.8231707471275849, 0.8231707471275849, 0.8231707471275849, 0.8231707471275849, 0.8231707471275849, 0.8231707471275849, 0.8231707471275849, 0.8231707471275849, 0.8231707471275849, 0.8231707471275849, 0.8231707471275849, 0.8231707471275849, 0.8231707471275849, 0.8231707471275849, 0.8231707471275849, 0.8231707471275849, 0.8231707471275849, 0.8231707471275849, 0.8231707471275849, 0.8231707471275849, 0.8231707471275849, 0.8231707471275849, 0.8231707471275849, 0.8231707471275849, 0.8231707471275849, 0.8231707471275849, 0.8231707471275849]}], \"weighted_accuracy\": [{\"categories\": [\"0\", \"1\", \"2\", \"3\", \"4\", \"5\", \"6\", \"7\", \"8\", \"9\", \"10\", \"11\", \"12\", \"13\", \"14\", \"15\", \"16\", \"17\", \"18\", \"19\", \"20\", \"21\", \"22\", \"23\", \"24\", \"25\", \"26\", \"27\", \"28\", \"29\", \"30\", \"31\", \"32\", \"33\", \"34\", \"36\", \"37\"], \"mode\": \"markers\", \"name\": \"weighted_accuracy\", \"stepped\": false, \"type\": \"scatter\", \"data\": [0.8569164934675346, 0.8426420083882742, 0.8356356112556487, 0.8817062899146044, 0.881785365580032, 0.8608047651704389, 0.8771785616352251, 0.7747246340471441, 0.8283294733746905, 0.8432401278130512, 0.8709186774129714, 0.8723456726309226, 0.8606876395706886, 0.8866563045186575, 0.8503294068628015, 0.8723456726309226, 0.8341276372464215, 0.8571993829015347, 0.8502185442772074, 0.8763891198679004, 0.8562080304914861, 0.8847570006500071, 0.8360462366092133, 0.8270581727251352, 0.8739626060998953, 0.6366613375787531, 0.8723818194393969, 0.8778508778027995, 0.8579507747345366, 0.8764700986591765, 0.864569129225114, 0.8168170656169984, 0.8459326797007236, 0.8449861592734768, 0.8644949324823168, 0.8981972119791409, 0.8551843375246603]}, {\"categories\": [\"0\", \"1\", \"2\", \"3\", \"4\", \"5\", \"6\", \"7\", \"8\", \"9\", \"10\", \"11\", \"12\", \"13\", \"14\", \"15\", \"16\", \"17\", \"18\", \"19\", \"20\", \"21\", \"22\", \"23\", \"24\", \"25\", \"26\", \"27\", \"28\", \"29\", \"30\", \"31\", \"32\", \"33\", \"34\", \"36\", \"37\"], \"mode\": \"lines\", \"name\": \"weighted_accuracy_max\", \"stepped\": true, \"type\": \"scatter\", \"data\": [0.8569164934675346, 0.8569164934675346, 0.8569164934675346, 0.8817062899146044, 0.881785365580032, 0.881785365580032, 0.881785365580032, 0.881785365580032, 0.881785365580032, 0.881785365580032, 0.881785365580032, 0.881785365580032, 0.881785365580032, 0.8866563045186575, 0.8866563045186575, 0.8866563045186575, 0.8866563045186575, 0.8866563045186575, 0.8866563045186575, 0.8866563045186575, 0.8866563045186575, 0.8866563045186575, 0.8866563045186575, 0.8866563045186575, 0.8866563045186575, 0.8866563045186575, 0.8866563045186575, 0.8866563045186575, 0.8866563045186575, 0.8866563045186575, 0.8866563045186575, 0.8866563045186575, 0.8866563045186575, 0.8866563045186575, 0.8866563045186575, 0.8981972119791409, 0.8981972119791409]}], \"average_precision_score_micro\": [{\"categories\": [\"0\", \"1\", \"2\", \"3\", \"4\", \"5\", \"6\", \"7\", \"8\", \"9\", \"10\", \"11\", \"12\", \"13\", \"14\", \"15\", \"16\", \"17\", \"18\", \"19\", \"20\", \"21\", \"22\", \"23\", \"24\", \"25\", \"26\", \"27\", \"28\", \"29\", \"30\", \"31\", \"32\", \"33\", \"34\", \"36\", \"37\"], \"mode\": \"markers\", \"name\": \"average_precision_score_micro\", \"stepped\": false, \"type\": \"scatter\", \"data\": [0.8729387725912188, 0.8849886003656349, 0.8764211571031619, 0.9039463508666277, 0.9036917546270098, 0.8798269497121141, 0.876196822869751, 0.7808033119785245, 0.8768579432227521, 0.8473461089094203, 0.8992493934504394, 0.9082796249798353, 0.8905411696948579, 0.9053069334714021, 0.8936952278078273, 0.8946989460458776, 0.8856621542130454, 0.8961269845768753, 0.8903421837518906, 0.8997283462502672, 0.9024274390966913, 0.9143021499940995, 0.8328140968678613, 0.8599486913356413, 0.8734474062040045, 0.7573216596653147, 0.9085367328491635, 0.7964685167023633, 0.8676909560275614, 0.8789364532640622, 0.8917062000548701, 0.8379943484072792, 0.8912896680522475, 0.9048435824752542, 0.899359706793464, 0.9113540427441269, 0.8753158428512339]}, {\"categories\": [\"0\", \"1\", \"2\", \"3\", \"4\", \"5\", \"6\", \"7\", \"8\", \"9\", \"10\", \"11\", \"12\", \"13\", \"14\", \"15\", \"16\", \"17\", \"18\", \"19\", \"20\", \"21\", \"22\", \"23\", \"24\", \"25\", \"26\", \"27\", \"28\", \"29\", \"30\", \"31\", \"32\", \"33\", \"34\", \"36\", \"37\"], \"mode\": \"lines\", \"name\": \"average_precision_score_micro_max\", \"stepped\": true, \"type\": \"scatter\", \"data\": [0.8729387725912188, 0.8849886003656349, 0.8849886003656349, 0.9039463508666277, 0.9039463508666277, 0.9039463508666277, 0.9039463508666277, 0.9039463508666277, 0.9039463508666277, 0.9039463508666277, 0.9039463508666277, 0.9082796249798353, 0.9082796249798353, 0.9082796249798353, 0.9082796249798353, 0.9082796249798353, 0.9082796249798353, 0.9082796249798353, 0.9082796249798353, 0.9082796249798353, 0.9082796249798353, 0.9143021499940995, 0.9143021499940995, 0.9143021499940995, 0.9143021499940995, 0.9143021499940995, 0.9143021499940995, 0.9143021499940995, 0.9143021499940995, 0.9143021499940995, 0.9143021499940995, 0.9143021499940995, 0.9143021499940995, 0.9143021499940995, 0.9143021499940995, 0.9143021499940995, 0.9143021499940995]}], \"f1_score_macro\": [{\"categories\": [\"0\", \"1\", \"2\", \"3\", \"4\", \"5\", \"6\", \"7\", \"8\", \"9\", \"10\", \"11\", \"12\", \"13\", \"14\", \"15\", \"16\", \"17\", \"18\", \"19\", \"20\", \"21\", \"22\", \"23\", \"24\", \"25\", \"26\", \"27\", \"28\", \"29\", \"30\", \"31\", \"32\", \"33\", \"34\", \"36\", \"37\"], \"mode\": \"markers\", \"name\": \"f1_score_macro\", \"stepped\": false, \"type\": \"scatter\", \"data\": [0.7692501942501943, 0.7608368644045373, 0.7845079611263591, 0.8240750224905358, 0.8307454735792578, 0.7794835696239812, 0.7863324106851447, 0.5779906854462515, 0.7597980482778034, 0.7485115047578088, 0.784466185616025, 0.8016142265595487, 0.7791370064085344, 0.8106158563223902, 0.7102216087723334, 0.8016142265595487, 0.7679676589334576, 0.7550409284369461, 0.7867881213475652, 0.8049627276162856, 0.7883268198495492, 0.8060033911632085, 0.702056445631212, 0.6572365557106324, 0.7543962941792162, 0.6530594684957102, 0.8015533469661698, 0.7655782230806373, 0.742046724195312, 0.805350640317436, 0.7810327727715611, 0.5605407523510972, 0.7139613920238526, 0.7529334055294375, 0.7887932189578684, 0.8325528093689437, 0.8043322116307968]}, {\"categories\": [\"0\", \"1\", \"2\", \"3\", \"4\", \"5\", \"6\", \"7\", \"8\", \"9\", \"10\", \"11\", \"12\", \"13\", \"14\", \"15\", \"16\", \"17\", \"18\", \"19\", \"20\", \"21\", \"22\", \"23\", \"24\", \"25\", \"26\", \"27\", \"28\", \"29\", \"30\", \"31\", \"32\", \"33\", \"34\", \"36\", \"37\"], \"mode\": \"lines\", \"name\": \"f1_score_macro_max\", \"stepped\": true, \"type\": \"scatter\", \"data\": [0.7692501942501943, 0.7692501942501943, 0.7845079611263591, 0.8240750224905358, 0.8307454735792578, 0.8307454735792578, 0.8307454735792578, 0.8307454735792578, 0.8307454735792578, 0.8307454735792578, 0.8307454735792578, 0.8307454735792578, 0.8307454735792578, 0.8307454735792578, 0.8307454735792578, 0.8307454735792578, 0.8307454735792578, 0.8307454735792578, 0.8307454735792578, 0.8307454735792578, 0.8307454735792578, 0.8307454735792578, 0.8307454735792578, 0.8307454735792578, 0.8307454735792578, 0.8307454735792578, 0.8307454735792578, 0.8307454735792578, 0.8307454735792578, 0.8307454735792578, 0.8307454735792578, 0.8307454735792578, 0.8307454735792578, 0.8307454735792578, 0.8307454735792578, 0.8325528093689437, 0.8325528093689437]}], \"matthews_correlation\": [{\"categories\": [\"0\", \"1\", \"2\", \"3\", \"4\", \"5\", \"6\", \"7\", \"8\", \"9\", \"10\", \"11\", \"12\", \"13\", \"14\", \"15\", \"16\", \"17\", \"18\", \"19\", \"20\", \"21\", \"22\", \"23\", \"24\", \"25\", \"26\", \"27\", \"28\", \"29\", \"30\", \"31\", \"32\", \"33\", \"34\", \"36\", \"37\"], \"mode\": \"markers\", \"name\": \"matthews_correlation\", \"stepped\": false, \"type\": \"scatter\", \"data\": [0.5565126394717403, 0.5366227528940228, 0.5785526025090189, 0.6632739495083251, 0.6668311575432524, 0.5733412531927123, 0.5946107907053964, 0.2759044264575089, 0.527048009806968, 0.51539558481369, 0.5905432866524027, 0.6172719143997885, 0.5762253056257878, 0.6370889900428772, 0.47382354041675795, 0.6172719143997885, 0.5493619121151613, 0.5448416844201444, 0.5797252886157986, 0.624115276709206, 0.5887950329434113, 0.6300856545467457, 0.44334957982564527, 0.3859988860200612, 0.5523429936557006, 0.3990273058930231, 0.6152629433666621, 0.5693526805808032, 0.518620001679036, 0.6234183603747714, 0.5841035795526923, 0.251551575478828, 0.4812020694622955, 0.5280333728795591, 0.5934570244883812, 0.6799427752774265, 0.6320738202835605]}, {\"categories\": [\"0\", \"1\", \"2\", \"3\", \"4\", \"5\", \"6\", \"7\", \"8\", \"9\", \"10\", \"11\", \"12\", \"13\", \"14\", \"15\", \"16\", \"17\", \"18\", \"19\", \"20\", \"21\", \"22\", \"23\", \"24\", \"25\", \"26\", \"27\", \"28\", \"29\", \"30\", \"31\", \"32\", \"33\", \"34\", \"36\", \"37\"], \"mode\": \"lines\", \"name\": \"matthews_correlation_max\", \"stepped\": true, \"type\": \"scatter\", \"data\": [0.5565126394717403, 0.5565126394717403, 0.5785526025090189, 0.6632739495083251, 0.6668311575432524, 0.6668311575432524, 0.6668311575432524, 0.6668311575432524, 0.6668311575432524, 0.6668311575432524, 0.6668311575432524, 0.6668311575432524, 0.6668311575432524, 0.6668311575432524, 0.6668311575432524, 0.6668311575432524, 0.6668311575432524, 0.6668311575432524, 0.6668311575432524, 0.6668311575432524, 0.6668311575432524, 0.6668311575432524, 0.6668311575432524, 0.6668311575432524, 0.6668311575432524, 0.6668311575432524, 0.6668311575432524, 0.6668311575432524, 0.6668311575432524, 0.6668311575432524, 0.6668311575432524, 0.6668311575432524, 0.6668311575432524, 0.6668311575432524, 0.6668311575432524, 0.6799427752774265, 0.6799427752774265]}], \"AUC_macro\": [{\"categories\": [\"0\", \"1\", \"2\", \"3\", \"4\", \"5\", \"6\", \"7\", \"8\", \"9\", \"10\", \"11\", \"12\", \"13\", \"14\", \"15\", \"16\", \"17\", \"18\", \"19\", \"20\", \"21\", \"22\", \"23\", \"24\", \"25\", \"26\", \"27\", \"28\", \"29\", \"30\", \"31\", \"32\", \"33\", \"34\", \"36\", \"37\"], \"mode\": \"markers\", \"name\": \"AUC_macro\", \"stepped\": false, \"type\": \"scatter\", \"data\": [0.8555301412749637, 0.8704079904555039, 0.8603799535402954, 0.8970018700549527, 0.8902730198883851, 0.8607454568092247, 0.862768985833221, 0.7485281241209356, 0.860257574696194, 0.8241845611216889, 0.8873169448946632, 0.8962731922345513, 0.8779015081912268, 0.8983737164551939, 0.8892136589204884, 0.8826275401671095, 0.8675210341140881, 0.889409418707445, 0.870222957520906, 0.8859062479004662, 0.8908919792901361, 0.9057441598927332, 0.8134649478076463, 0.8386575822661064, 0.8668616488095133, 0.7896764667527008, 0.8968854447192822, 0.7774276131349949, 0.8434187346731403, 0.8761900589180268, 0.8859844127244325, 0.8226424970662375, 0.8765066801947238, 0.8903478602310948, 0.8852017213036468, 0.8989751156413692, 0.8991673770835489]}, {\"categories\": [\"0\", \"1\", \"2\", \"3\", \"4\", \"5\", \"6\", \"7\", \"8\", \"9\", \"10\", \"11\", \"12\", \"13\", \"14\", \"15\", \"16\", \"17\", \"18\", \"19\", \"20\", \"21\", \"22\", \"23\", \"24\", \"25\", \"26\", \"27\", \"28\", \"29\", \"30\", \"31\", \"32\", \"33\", \"34\", \"36\", \"37\"], \"mode\": \"lines\", \"name\": \"AUC_macro_max\", \"stepped\": true, \"type\": \"scatter\", \"data\": [0.8555301412749637, 0.8704079904555039, 0.8704079904555039, 0.8970018700549527, 0.8970018700549527, 0.8970018700549527, 0.8970018700549527, 0.8970018700549527, 0.8970018700549527, 0.8970018700549527, 0.8970018700549527, 0.8970018700549527, 0.8970018700549527, 0.8983737164551939, 0.8983737164551939, 0.8983737164551939, 0.8983737164551939, 0.8983737164551939, 0.8983737164551939, 0.8983737164551939, 0.8983737164551939, 0.9057441598927332, 0.9057441598927332, 0.9057441598927332, 0.9057441598927332, 0.9057441598927332, 0.9057441598927332, 0.9057441598927332, 0.9057441598927332, 0.9057441598927332, 0.9057441598927332, 0.9057441598927332, 0.9057441598927332, 0.9057441598927332, 0.9057441598927332, 0.9057441598927332, 0.9057441598927332]}], \"balanced_accuracy\": [{\"categories\": [\"0\", \"1\", \"2\", \"3\", \"4\", \"5\", \"6\", \"7\", \"8\", \"9\", \"10\", \"11\", \"12\", \"13\", \"14\", \"15\", \"16\", \"17\", \"18\", \"19\", \"20\", \"21\", \"22\", \"23\", \"24\", \"25\", \"26\", \"27\", \"28\", \"29\", \"30\", \"31\", \"32\", \"33\", \"34\", \"36\", \"37\"], \"mode\": \"markers\", \"name\": \"balanced_accuracy\", \"stepped\": false, \"type\": \"scatter\", \"data\": [0.7557586759161217, 0.7512496361510688, 0.7831134455045974, 0.8159003963919673, 0.8231707471275849, 0.7659627575487746, 0.7678207368896579, 0.5939120328982657, 0.7542523223740728, 0.7348992683232973, 0.76826219217411, 0.7894974926983643, 0.766204132801214, 0.7939822653308216, 0.6953308919944636, 0.7894974926983643, 0.7620952531001868, 0.7401081667130724, 0.7796037416441192, 0.7919484730905213, 0.7796693039971413, 0.788687383527247, 0.6909904260840634, 0.648551331212915, 0.7337302943085808, 0.7031295033286118, 0.7894732255657688, 0.7439343759412339, 0.723492156500266, 0.7917313649706776, 0.7690893294330582, 0.5774367151537252, 0.701091496215086, 0.7404597925119067, 0.7766253225537108, 0.8175170004804113, 0.8042797907028832]}, {\"categories\": [\"0\", \"1\", \"2\", \"3\", \"4\", \"5\", \"6\", \"7\", \"8\", \"9\", \"10\", \"11\", \"12\", \"13\", \"14\", \"15\", \"16\", \"17\", \"18\", \"19\", \"20\", \"21\", \"22\", \"23\", \"24\", \"25\", \"26\", \"27\", \"28\", \"29\", \"30\", \"31\", \"32\", \"33\", \"34\", \"36\", \"37\"], \"mode\": \"lines\", \"name\": \"balanced_accuracy_max\", \"stepped\": true, \"type\": \"scatter\", \"data\": [0.7557586759161217, 0.7557586759161217, 0.7831134455045974, 0.8159003963919673, 0.8231707471275849, 0.8231707471275849, 0.8231707471275849, 0.8231707471275849, 0.8231707471275849, 0.8231707471275849, 0.8231707471275849, 0.8231707471275849, 0.8231707471275849, 0.8231707471275849, 0.8231707471275849, 0.8231707471275849, 0.8231707471275849, 0.8231707471275849, 0.8231707471275849, 0.8231707471275849, 0.8231707471275849, 0.8231707471275849, 0.8231707471275849, 0.8231707471275849, 0.8231707471275849, 0.8231707471275849, 0.8231707471275849, 0.8231707471275849, 0.8231707471275849, 0.8231707471275849, 0.8231707471275849, 0.8231707471275849, 0.8231707471275849, 0.8231707471275849, 0.8231707471275849, 0.8231707471275849, 0.8231707471275849]}], \"f1_score_weighted\": [{\"categories\": [\"0\", \"1\", \"2\", \"3\", \"4\", \"5\", \"6\", \"7\", \"8\", \"9\", \"10\", \"11\", \"12\", \"13\", \"14\", \"15\", \"16\", \"17\", \"18\", \"19\", \"20\", \"21\", \"22\", \"23\", \"24\", \"25\", \"26\", \"27\", \"28\", \"29\", \"30\", \"31\", \"32\", \"33\", \"34\", \"36\", \"37\"], \"mode\": \"markers\", \"name\": \"f1_score_weighted\", \"stepped\": false, \"type\": \"scatter\", \"data\": [0.8048405818640718, 0.7962700620594443, 0.8120105716271331, 0.8491462111567869, 0.8541526889226124, 0.8129142102942677, 0.8205671758060354, 0.6546366680288986, 0.7929196485105163, 0.7874605885854205, 0.8181624681777895, 0.8309918648805035, 0.8126038701070097, 0.8398432699364772, 0.7616398833004221, 0.8309918648805035, 0.79961689321737, 0.794546998078803, 0.8165073241921719, 0.8341095436776377, 0.8185705989906319, 0.836131750725644, 0.7533738438889602, 0.7202990674121605, 0.7970125195900819, 0.6671547065909482, 0.8309953724264407, 0.8056602293631991, 0.785484266574386, 0.8343878468007232, 0.8147660220178292, 0.6525489329770746, 0.7634378181706838, 0.7908765814515982, 0.8202860496437244, 0.8578559922118096, 0.8300802857044134]}, {\"categories\": [\"0\", \"1\", \"2\", \"3\", \"4\", \"5\", \"6\", \"7\", \"8\", \"9\", \"10\", \"11\", \"12\", \"13\", \"14\", \"15\", \"16\", \"17\", \"18\", \"19\", \"20\", \"21\", \"22\", \"23\", \"24\", \"25\", \"26\", \"27\", \"28\", \"29\", \"30\", \"31\", \"32\", \"33\", \"34\", \"36\", \"37\"], \"mode\": \"lines\", \"name\": \"f1_score_weighted_max\", \"stepped\": true, \"type\": \"scatter\", \"data\": [0.8048405818640718, 0.8048405818640718, 0.8120105716271331, 0.8491462111567869, 0.8541526889226124, 0.8541526889226124, 0.8541526889226124, 0.8541526889226124, 0.8541526889226124, 0.8541526889226124, 0.8541526889226124, 0.8541526889226124, 0.8541526889226124, 0.8541526889226124, 0.8541526889226124, 0.8541526889226124, 0.8541526889226124, 0.8541526889226124, 0.8541526889226124, 0.8541526889226124, 0.8541526889226124, 0.8541526889226124, 0.8541526889226124, 0.8541526889226124, 0.8541526889226124, 0.8541526889226124, 0.8541526889226124, 0.8541526889226124, 0.8541526889226124, 0.8541526889226124, 0.8541526889226124, 0.8541526889226124, 0.8541526889226124, 0.8541526889226124, 0.8541526889226124, 0.8578559922118096, 0.8578559922118096]}], \"norm_macro_recall\": [{\"categories\": [\"0\", \"1\", \"2\", \"3\", \"4\", \"5\", \"6\", \"7\", \"8\", \"9\", \"10\", \"11\", \"12\", \"13\", \"14\", \"15\", \"16\", \"17\", \"18\", \"19\", \"20\", \"21\", \"22\", \"23\", \"24\", \"25\", \"26\", \"27\", \"28\", \"29\", \"30\", \"31\", \"32\", \"33\", \"34\", \"36\", \"37\"], \"mode\": \"markers\", \"name\": \"norm_macro_recall\", \"stepped\": false, \"type\": \"scatter\", \"data\": [0.5115173518322433, 0.5024992723021376, 0.5662268910091948, 0.6318007927839348, 0.6463414942551698, 0.5319255150975494, 0.5356414737793158, 0.18782406579653133, 0.5085046447481456, 0.46979853664659466, 0.5365243843482199, 0.5789949853967287, 0.532408265602428, 0.5879645306616432, 0.39066178398892726, 0.5789949853967287, 0.5241905062003736, 0.4802163334261449, 0.5592074832882383, 0.5838969461810425, 0.5593386079942826, 0.577374767054494, 0.3819808521681266, 0.29710266242582983, 0.46746058861716167, 0.4062590066572237, 0.5789464511315375, 0.4878687518824678, 0.446984313000532, 0.5834627299413552, 0.5381786588661164, 0.1548734303074505, 0.40218299243017197, 0.4809195850238135, 0.5532506451074215, 0.6350340009608225, 0.6085595814057665]}, {\"categories\": [\"0\", \"1\", \"2\", \"3\", \"4\", \"5\", \"6\", \"7\", \"8\", \"9\", \"10\", \"11\", \"12\", \"13\", \"14\", \"15\", \"16\", \"17\", \"18\", \"19\", \"20\", \"21\", \"22\", \"23\", \"24\", \"25\", \"26\", \"27\", \"28\", \"29\", \"30\", \"31\", \"32\", \"33\", \"34\", \"36\", \"37\"], \"mode\": \"lines\", \"name\": \"norm_macro_recall_max\", \"stepped\": true, \"type\": \"scatter\", \"data\": [0.5115173518322433, 0.5115173518322433, 0.5662268910091948, 0.6318007927839348, 0.6463414942551698, 0.6463414942551698, 0.6463414942551698, 0.6463414942551698, 0.6463414942551698, 0.6463414942551698, 0.6463414942551698, 0.6463414942551698, 0.6463414942551698, 0.6463414942551698, 0.6463414942551698, 0.6463414942551698, 0.6463414942551698, 0.6463414942551698, 0.6463414942551698, 0.6463414942551698, 0.6463414942551698, 0.6463414942551698, 0.6463414942551698, 0.6463414942551698, 0.6463414942551698, 0.6463414942551698, 0.6463414942551698, 0.6463414942551698, 0.6463414942551698, 0.6463414942551698, 0.6463414942551698, 0.6463414942551698, 0.6463414942551698, 0.6463414942551698, 0.6463414942551698, 0.6463414942551698, 0.6463414942551698]}], \"average_precision_score_macro\": [{\"categories\": [\"0\", \"1\", \"2\", \"3\", \"4\", \"5\", \"6\", \"7\", \"8\", \"9\", \"10\", \"11\", \"12\", \"13\", \"14\", \"15\", \"16\", \"17\", \"18\", \"19\", \"20\", \"21\", \"22\", \"23\", \"24\", \"25\", \"26\", \"27\", \"28\", \"29\", \"30\", \"31\", \"32\", \"33\", \"34\", \"36\", \"37\"], \"mode\": \"markers\", \"name\": \"average_precision_score_macro\", \"stepped\": false, \"type\": \"scatter\", \"data\": [0.8315719322255934, 0.8478967328112191, 0.8305009871555236, 0.8774180972813675, 0.8678934655944899, 0.845356097724465, 0.8473557955963174, 0.7318341894963702, 0.8355076559723493, 0.7960514547034745, 0.8722915734458467, 0.8805391918338672, 0.8507234835247501, 0.8805940244355501, 0.8744740470715837, 0.8759285546274145, 0.8480822251750584, 0.8779750161862505, 0.855844337118455, 0.8726083055502167, 0.8729662517460146, 0.8874714100099187, 0.7876926917338458, 0.8156172589357511, 0.8567494991046389, 0.7179702654976821, 0.8722042580458887, 0.7490892102789318, 0.8308806880988046, 0.8491623691431758, 0.8677475983010291, 0.7908753067958404, 0.856428716070067, 0.8750187676627994, 0.869474189975953, 0.8840540208769798, 0.8782358406232039]}, {\"categories\": [\"0\", \"1\", \"2\", \"3\", \"4\", \"5\", \"6\", \"7\", \"8\", \"9\", \"10\", \"11\", \"12\", \"13\", \"14\", \"15\", \"16\", \"17\", \"18\", \"19\", \"20\", \"21\", \"22\", \"23\", \"24\", \"25\", \"26\", \"27\", \"28\", \"29\", \"30\", \"31\", \"32\", \"33\", \"34\", \"36\", \"37\"], \"mode\": \"lines\", \"name\": \"average_precision_score_macro_max\", \"stepped\": true, \"type\": \"scatter\", \"data\": [0.8315719322255934, 0.8478967328112191, 0.8478967328112191, 0.8774180972813675, 0.8774180972813675, 0.8774180972813675, 0.8774180972813675, 0.8774180972813675, 0.8774180972813675, 0.8774180972813675, 0.8774180972813675, 0.8805391918338672, 0.8805391918338672, 0.8805940244355501, 0.8805940244355501, 0.8805940244355501, 0.8805940244355501, 0.8805940244355501, 0.8805940244355501, 0.8805940244355501, 0.8805940244355501, 0.8874714100099187, 0.8874714100099187, 0.8874714100099187, 0.8874714100099187, 0.8874714100099187, 0.8874714100099187, 0.8874714100099187, 0.8874714100099187, 0.8874714100099187, 0.8874714100099187, 0.8874714100099187, 0.8874714100099187, 0.8874714100099187, 0.8874714100099187, 0.8874714100099187, 0.8874714100099187]}], \"AUC_weighted\": [{\"categories\": [\"0\", \"1\", \"2\", \"3\", \"4\", \"5\", \"6\", \"7\", \"8\", \"9\", \"10\", \"11\", \"12\", \"13\", \"14\", \"15\", \"16\", \"17\", \"18\", \"19\", \"20\", \"21\", \"22\", \"23\", \"24\", \"25\", \"26\", \"27\", \"28\", \"29\", \"30\", \"31\", \"32\", \"33\", \"34\", \"36\", \"37\"], \"mode\": \"markers\", \"name\": \"AUC_weighted\", \"stepped\": false, \"type\": \"scatter\", \"data\": [0.8555301412749636, 0.870407990455504, 0.8603799535402955, 0.8970018700549526, 0.8902826446150428, 0.8607454568092245, 0.8627689858332209, 0.7485281241209355, 0.860257574696194, 0.8241845611216889, 0.8873169448946632, 0.8962731922345513, 0.8779015081912267, 0.8983737164551939, 0.8892136589204884, 0.8826275401671095, 0.8675210341140881, 0.8894094187074452, 0.870222957520906, 0.8859062479004662, 0.8908919792901362, 0.9057441598927332, 0.8134649478076463, 0.8386575822661064, 0.8668616488095133, 0.7896764667527006, 0.8968854447192822, 0.7774276131349949, 0.8434187346731403, 0.8761900589180268, 0.8859844127244325, 0.8226424970662376, 0.8765066801947237, 0.8903478602310947, 0.8852017213036467, 0.8989751156413692, 0.8991673770835489]}, {\"categories\": [\"0\", \"1\", \"2\", \"3\", \"4\", \"5\", \"6\", \"7\", \"8\", \"9\", \"10\", \"11\", \"12\", \"13\", \"14\", \"15\", \"16\", \"17\", \"18\", \"19\", \"20\", \"21\", \"22\", \"23\", \"24\", \"25\", \"26\", \"27\", \"28\", \"29\", \"30\", \"31\", \"32\", \"33\", \"34\", \"36\", \"37\"], \"mode\": \"lines\", \"name\": \"AUC_weighted_max\", \"stepped\": true, \"type\": \"scatter\", \"data\": [0.8555301412749636, 0.870407990455504, 0.870407990455504, 0.8970018700549526, 0.8970018700549526, 0.8970018700549526, 0.8970018700549526, 0.8970018700549526, 0.8970018700549526, 0.8970018700549526, 0.8970018700549526, 0.8970018700549526, 0.8970018700549526, 0.8983737164551939, 0.8983737164551939, 0.8983737164551939, 0.8983737164551939, 0.8983737164551939, 0.8983737164551939, 0.8983737164551939, 0.8983737164551939, 0.9057441598927332, 0.9057441598927332, 0.9057441598927332, 0.9057441598927332, 0.9057441598927332, 0.9057441598927332, 0.9057441598927332, 0.9057441598927332, 0.9057441598927332, 0.9057441598927332, 0.9057441598927332, 0.9057441598927332, 0.9057441598927332, 0.9057441598927332, 0.9057441598927332, 0.9057441598927332]}], \"precision_score_micro\": [{\"categories\": [\"0\", \"1\", \"2\", \"3\", \"4\", \"5\", \"6\", \"7\", \"8\", \"9\", \"10\", \"11\", \"12\", \"13\", \"14\", \"15\", \"16\", \"17\", \"18\", \"19\", \"20\", \"21\", \"22\", \"23\", \"24\", \"25\", \"26\", \"27\", \"28\", \"29\", \"30\", \"31\", \"32\", \"33\", \"34\", \"36\", \"37\"], \"mode\": \"markers\", \"name\": \"precision_score_micro\", \"stepped\": false, \"type\": \"scatter\", \"data\": [0.8127069351230425, 0.802662192393736, 0.8125950782997763, 0.852841163310962, 0.856152125279642, 0.8193736017897092, 0.829440715883669, 0.6955704697986578, 0.7959284116331096, 0.7959284116331096, 0.8260626398210291, 0.8361073825503356, 0.8193736017897092, 0.8461744966442952, 0.7826398210290828, 0.8361073825503356, 0.8025727069351231, 0.8059955257270693, 0.8193512304250559, 0.8394630872483222, 0.8227069351230425, 0.8427964205816555, 0.772662192393736, 0.7491275167785235, 0.812751677852349, 0.6652572706935123, 0.8361297539149888, 0.8194183445190157, 0.7992841163310962, 0.839440715883669, 0.8227740492170023, 0.7123937360178971, 0.7826174496644296, 0.7992841163310962, 0.8260626398210291, 0.8629082774049217, 0.8327293064876957]}, {\"categories\": [\"0\", \"1\", \"2\", \"3\", \"4\", \"5\", \"6\", \"7\", \"8\", \"9\", \"10\", \"11\", \"12\", \"13\", \"14\", \"15\", \"16\", \"17\", \"18\", \"19\", \"20\", \"21\", \"22\", \"23\", \"24\", \"25\", \"26\", \"27\", \"28\", \"29\", \"30\", \"31\", \"32\", \"33\", \"34\", \"36\", \"37\"], \"mode\": \"lines\", \"name\": \"precision_score_micro_max\", \"stepped\": true, \"type\": \"scatter\", \"data\": [0.8127069351230425, 0.8127069351230425, 0.8127069351230425, 0.852841163310962, 0.856152125279642, 0.856152125279642, 0.856152125279642, 0.856152125279642, 0.856152125279642, 0.856152125279642, 0.856152125279642, 0.856152125279642, 0.856152125279642, 0.856152125279642, 0.856152125279642, 0.856152125279642, 0.856152125279642, 0.856152125279642, 0.856152125279642, 0.856152125279642, 0.856152125279642, 0.856152125279642, 0.856152125279642, 0.856152125279642, 0.856152125279642, 0.856152125279642, 0.856152125279642, 0.856152125279642, 0.856152125279642, 0.856152125279642, 0.856152125279642, 0.856152125279642, 0.856152125279642, 0.856152125279642, 0.856152125279642, 0.8629082774049217, 0.8629082774049217]}], \"recall_score_weighted\": [{\"categories\": [\"0\", \"1\", \"2\", \"3\", \"4\", \"5\", \"6\", \"7\", \"8\", \"9\", \"10\", \"11\", \"12\", \"13\", \"14\", \"15\", \"16\", \"17\", \"18\", \"19\", \"20\", \"21\", \"22\", \"23\", \"24\", \"25\", \"26\", \"27\", \"28\", \"29\", \"30\", \"31\", \"32\", \"33\", \"34\", \"36\", \"37\"], \"mode\": \"markers\", \"name\": \"recall_score_weighted\", \"stepped\": false, \"type\": \"scatter\", \"data\": [0.8127069351230425, 0.802662192393736, 0.8125950782997763, 0.852841163310962, 0.856152125279642, 0.8193736017897092, 0.829440715883669, 0.6955704697986578, 0.7959284116331096, 0.7959284116331096, 0.8260626398210291, 0.8361073825503356, 0.8193736017897092, 0.8461744966442952, 0.7826398210290828, 0.8361073825503356, 0.8025727069351231, 0.8059955257270693, 0.8193512304250559, 0.8394630872483222, 0.8227069351230425, 0.8427964205816555, 0.772662192393736, 0.7491275167785235, 0.812751677852349, 0.6652572706935123, 0.8361297539149888, 0.8194183445190157, 0.7992841163310962, 0.839440715883669, 0.8227740492170023, 0.7123937360178971, 0.7826174496644296, 0.7992841163310962, 0.8260626398210291, 0.8629082774049217, 0.8327293064876957]}, {\"categories\": [\"0\", \"1\", \"2\", \"3\", \"4\", \"5\", \"6\", \"7\", \"8\", \"9\", \"10\", \"11\", \"12\", \"13\", \"14\", \"15\", \"16\", \"17\", \"18\", \"19\", \"20\", \"21\", \"22\", \"23\", \"24\", \"25\", \"26\", \"27\", \"28\", \"29\", \"30\", \"31\", \"32\", \"33\", \"34\", \"36\", \"37\"], \"mode\": \"lines\", \"name\": \"recall_score_weighted_max\", \"stepped\": true, \"type\": \"scatter\", \"data\": [0.8127069351230425, 0.8127069351230425, 0.8127069351230425, 0.852841163310962, 0.856152125279642, 0.856152125279642, 0.856152125279642, 0.856152125279642, 0.856152125279642, 0.856152125279642, 0.856152125279642, 0.856152125279642, 0.856152125279642, 0.856152125279642, 0.856152125279642, 0.856152125279642, 0.856152125279642, 0.856152125279642, 0.856152125279642, 0.856152125279642, 0.856152125279642, 0.856152125279642, 0.856152125279642, 0.856152125279642, 0.856152125279642, 0.856152125279642, 0.856152125279642, 0.856152125279642, 0.856152125279642, 0.856152125279642, 0.856152125279642, 0.856152125279642, 0.856152125279642, 0.856152125279642, 0.856152125279642, 0.8629082774049217, 0.8629082774049217]}]}, \"metricName\": null, \"primaryMetricName\": \"accuracy\", \"showLegend\": false}, \"run_metrics\": [{\"name\": \"experiment_status\", \"run_id\": \"AutoML_5e61848c-c8be-4ca5-b8c2-026872976d6c\", \"categories\": [0, 1, 2, 3, 4, 5, 6, 7, 8, 9, 10, 11, 12, 13], \"series\": [{\"data\": [\"DatasetEvaluation\", \"FeaturesGeneration\", \"DatasetFeaturization\", \"DatasetFeaturizationCompleted\", \"DatasetCrossValidationSplit\", \"ModelSelection\", \"BestRunExplainModel\", \"ModelExplanationDataSetSetup\", \"PickSurrogateModel\", \"EngineeredFeatureExplanations\", \"EngineeredFeatureExplanations\", \"RawFeaturesExplanations\", \"RawFeaturesExplanations\", \"BestRunExplainModel\"]}]}, {\"name\": \"experiment_status_description\", \"run_id\": \"AutoML_5e61848c-c8be-4ca5-b8c2-026872976d6c\", \"categories\": [0, 1, 2, 3, 4, 5, 6, 7, 8, 9, 10, 11, 12, 13], \"series\": [{\"data\": [\"Gathering dataset statistics.\", \"Generating features for the dataset.\", \"Beginning to fit featurizers and featurize the dataset.\", \"Completed fit featurizers and featurizing the dataset.\", \"Generating individually featurized CV splits.\", \"Beginning model selection.\", \"Best run model explanations started\", \"Model explanations data setup completed\", \"Choosing LightGBM as the surrogate model for explanations\", \"Computation of engineered features started\", \"Computation of engineered features completed\", \"Computation of raw features started\", \"Computation of raw features completed\", \"Best run model explanations completed\"]}]}, {\"name\": \"precision_score_macro\", \"run_id\": \"AutoML_5e61848c-c8be-4ca5-b8c2-026872976d6c\", \"categories\": [0], \"series\": [{\"data\": [0.8650294150294151]}]}, {\"name\": \"log_loss\", \"run_id\": \"AutoML_5e61848c-c8be-4ca5-b8c2-026872976d6c\", \"categories\": [0], \"series\": [{\"data\": [0.3915950348566869]}]}, {\"name\": \"weighted_accuracy\", \"run_id\": \"AutoML_5e61848c-c8be-4ca5-b8c2-026872976d6c\", \"categories\": [0], \"series\": [{\"data\": [0.8981972119791409]}]}, {\"name\": \"norm_macro_recall\", \"run_id\": \"AutoML_5e61848c-c8be-4ca5-b8c2-026872976d6c\", \"categories\": [0], \"series\": [{\"data\": [0.6350340009608225]}]}, {\"name\": \"matthews_correlation\", \"run_id\": \"AutoML_5e61848c-c8be-4ca5-b8c2-026872976d6c\", \"categories\": [0], \"series\": [{\"data\": [0.6799427752774265]}]}, {\"name\": \"precision_score_micro\", \"run_id\": \"AutoML_5e61848c-c8be-4ca5-b8c2-026872976d6c\", \"categories\": [0], \"series\": [{\"data\": [0.8629082774049217]}]}, {\"name\": \"AUC_weighted\", \"run_id\": \"AutoML_5e61848c-c8be-4ca5-b8c2-026872976d6c\", \"categories\": [0], \"series\": [{\"data\": [0.8989751156413692]}]}, {\"name\": \"balanced_accuracy\", \"run_id\": \"AutoML_5e61848c-c8be-4ca5-b8c2-026872976d6c\", \"categories\": [0], \"series\": [{\"data\": [0.8175170004804113]}]}, {\"name\": \"recall_score_macro\", \"run_id\": \"AutoML_5e61848c-c8be-4ca5-b8c2-026872976d6c\", \"categories\": [0], \"series\": [{\"data\": [0.8175170004804113]}]}, {\"name\": \"AUC_macro\", \"run_id\": \"AutoML_5e61848c-c8be-4ca5-b8c2-026872976d6c\", \"categories\": [0], \"series\": [{\"data\": [0.8989751156413692]}]}, {\"name\": \"f1_score_weighted\", \"run_id\": \"AutoML_5e61848c-c8be-4ca5-b8c2-026872976d6c\", \"categories\": [0], \"series\": [{\"data\": [0.8578559922118096]}]}, {\"name\": \"recall_score_micro\", \"run_id\": \"AutoML_5e61848c-c8be-4ca5-b8c2-026872976d6c\", \"categories\": [0], \"series\": [{\"data\": [0.8629082774049217]}]}, {\"name\": \"average_precision_score_macro\", \"run_id\": \"AutoML_5e61848c-c8be-4ca5-b8c2-026872976d6c\", \"categories\": [0], \"series\": [{\"data\": [0.8840540208769798]}]}, {\"name\": \"average_precision_score_micro\", \"run_id\": \"AutoML_5e61848c-c8be-4ca5-b8c2-026872976d6c\", \"categories\": [0], \"series\": [{\"data\": [0.9113540427441269]}]}, {\"name\": \"accuracy\", \"run_id\": \"AutoML_5e61848c-c8be-4ca5-b8c2-026872976d6c\", \"categories\": [0], \"series\": [{\"data\": [0.8629082774049217]}]}, {\"name\": \"average_precision_score_weighted\", \"run_id\": \"AutoML_5e61848c-c8be-4ca5-b8c2-026872976d6c\", \"categories\": [0], \"series\": [{\"data\": [0.9064171751506644]}]}, {\"name\": \"f1_score_macro\", \"run_id\": \"AutoML_5e61848c-c8be-4ca5-b8c2-026872976d6c\", \"categories\": [0], \"series\": [{\"data\": [0.8325528093689437]}]}, {\"name\": \"f1_score_micro\", \"run_id\": \"AutoML_5e61848c-c8be-4ca5-b8c2-026872976d6c\", \"categories\": [0], \"series\": [{\"data\": [0.8629082774049217]}]}, {\"name\": \"precision_score_weighted\", \"run_id\": \"AutoML_5e61848c-c8be-4ca5-b8c2-026872976d6c\", \"categories\": [0], \"series\": [{\"data\": [0.8659450268846243]}]}, {\"name\": \"recall_score_weighted\", \"run_id\": \"AutoML_5e61848c-c8be-4ca5-b8c2-026872976d6c\", \"categories\": [0], \"series\": [{\"data\": [0.8629082774049217]}]}, {\"name\": \"AUC_micro\", \"run_id\": \"AutoML_5e61848c-c8be-4ca5-b8c2-026872976d6c\", \"categories\": [0], \"series\": [{\"data\": [0.9121591539920625]}]}], \"run_logs\": \"\\nRun is completed.\", \"graph\": {}, \"widget_settings\": {\"childWidgetDisplay\": \"popup\", \"send_telemetry\": false, \"log_level\": \"INFO\", \"sdk_version\": \"1.22.0\"}, \"loading\": false}"
     },
     "metadata": {},
     "output_type": "display_data"
    },
    {
     "name": "stdout",
     "output_type": "stream",
     "text": [
      "===================================================\n",
      "Run(Experiment: heart-failure-prediction,\n",
      "Id: AutoML_5e61848c-c8be-4ca5-b8c2-026872976d6c_36,\n",
      "Type: azureml.scriptrun,\n",
      "Status: Completed)\n",
      "===================================================\n",
      "Run(Experiment: heart-failure-prediction,\n",
      "Id: AutoML_5e61848c-c8be-4ca5-b8c2-026872976d6c_37,\n",
      "Type: azureml.scriptrun,\n",
      "Status: Completed)\n",
      "===================================================\n",
      "Run(Experiment: heart-failure-prediction,\n",
      "Id: AutoML_5e61848c-c8be-4ca5-b8c2-026872976d6c_35,\n",
      "Type: azureml.scriptrun,\n",
      "Status: Canceled)\n",
      "===================================================\n",
      "Run(Experiment: heart-failure-prediction,\n",
      "Id: AutoML_5e61848c-c8be-4ca5-b8c2-026872976d6c_34,\n",
      "Type: azureml.scriptrun,\n",
      "Status: Canceled)\n",
      "===================================================\n",
      "Run(Experiment: heart-failure-prediction,\n",
      "Id: AutoML_5e61848c-c8be-4ca5-b8c2-026872976d6c_33,\n",
      "Type: azureml.scriptrun,\n",
      "Status: Canceled)\n",
      "===================================================\n",
      "Run(Experiment: heart-failure-prediction,\n",
      "Id: AutoML_5e61848c-c8be-4ca5-b8c2-026872976d6c_32,\n",
      "Type: azureml.scriptrun,\n",
      "Status: Completed)\n",
      "===================================================\n",
      "Run(Experiment: heart-failure-prediction,\n",
      "Id: AutoML_5e61848c-c8be-4ca5-b8c2-026872976d6c_31,\n",
      "Type: azureml.scriptrun,\n",
      "Status: Completed)\n",
      "===================================================\n",
      "Run(Experiment: heart-failure-prediction,\n",
      "Id: AutoML_5e61848c-c8be-4ca5-b8c2-026872976d6c_30,\n",
      "Type: azureml.scriptrun,\n",
      "Status: Completed)\n",
      "===================================================\n",
      "Run(Experiment: heart-failure-prediction,\n",
      "Id: AutoML_5e61848c-c8be-4ca5-b8c2-026872976d6c_29,\n",
      "Type: azureml.scriptrun,\n",
      "Status: Completed)\n",
      "===================================================\n",
      "Run(Experiment: heart-failure-prediction,\n",
      "Id: AutoML_5e61848c-c8be-4ca5-b8c2-026872976d6c_28,\n",
      "Type: azureml.scriptrun,\n",
      "Status: Completed)\n",
      "===================================================\n",
      "Run(Experiment: heart-failure-prediction,\n",
      "Id: AutoML_5e61848c-c8be-4ca5-b8c2-026872976d6c_27,\n",
      "Type: azureml.scriptrun,\n",
      "Status: Completed)\n",
      "===================================================\n",
      "Run(Experiment: heart-failure-prediction,\n",
      "Id: AutoML_5e61848c-c8be-4ca5-b8c2-026872976d6c_25,\n",
      "Type: azureml.scriptrun,\n",
      "Status: Completed)\n",
      "===================================================\n",
      "Run(Experiment: heart-failure-prediction,\n",
      "Id: AutoML_5e61848c-c8be-4ca5-b8c2-026872976d6c_26,\n",
      "Type: azureml.scriptrun,\n",
      "Status: Completed)\n",
      "===================================================\n",
      "Run(Experiment: heart-failure-prediction,\n",
      "Id: AutoML_5e61848c-c8be-4ca5-b8c2-026872976d6c_24,\n",
      "Type: azureml.scriptrun,\n",
      "Status: Completed)\n",
      "===================================================\n",
      "Run(Experiment: heart-failure-prediction,\n",
      "Id: AutoML_5e61848c-c8be-4ca5-b8c2-026872976d6c_23,\n",
      "Type: azureml.scriptrun,\n",
      "Status: Completed)\n",
      "===================================================\n",
      "Run(Experiment: heart-failure-prediction,\n",
      "Id: AutoML_5e61848c-c8be-4ca5-b8c2-026872976d6c_22,\n",
      "Type: azureml.scriptrun,\n",
      "Status: Completed)\n",
      "===================================================\n",
      "Run(Experiment: heart-failure-prediction,\n",
      "Id: AutoML_5e61848c-c8be-4ca5-b8c2-026872976d6c_21,\n",
      "Type: azureml.scriptrun,\n",
      "Status: Completed)\n",
      "===================================================\n",
      "Run(Experiment: heart-failure-prediction,\n",
      "Id: AutoML_5e61848c-c8be-4ca5-b8c2-026872976d6c_20,\n",
      "Type: azureml.scriptrun,\n",
      "Status: Completed)\n",
      "===================================================\n",
      "Run(Experiment: heart-failure-prediction,\n",
      "Id: AutoML_5e61848c-c8be-4ca5-b8c2-026872976d6c_19,\n",
      "Type: azureml.scriptrun,\n",
      "Status: Completed)\n",
      "===================================================\n",
      "Run(Experiment: heart-failure-prediction,\n",
      "Id: AutoML_5e61848c-c8be-4ca5-b8c2-026872976d6c_18,\n",
      "Type: azureml.scriptrun,\n",
      "Status: Completed)\n",
      "===================================================\n",
      "Run(Experiment: heart-failure-prediction,\n",
      "Id: AutoML_5e61848c-c8be-4ca5-b8c2-026872976d6c_17,\n",
      "Type: azureml.scriptrun,\n",
      "Status: Completed)\n",
      "===================================================\n",
      "Run(Experiment: heart-failure-prediction,\n",
      "Id: AutoML_5e61848c-c8be-4ca5-b8c2-026872976d6c_16,\n",
      "Type: azureml.scriptrun,\n",
      "Status: Completed)\n",
      "===================================================\n",
      "Run(Experiment: heart-failure-prediction,\n",
      "Id: AutoML_5e61848c-c8be-4ca5-b8c2-026872976d6c_15,\n",
      "Type: azureml.scriptrun,\n",
      "Status: Completed)\n",
      "===================================================\n",
      "Run(Experiment: heart-failure-prediction,\n",
      "Id: AutoML_5e61848c-c8be-4ca5-b8c2-026872976d6c_14,\n",
      "Type: azureml.scriptrun,\n",
      "Status: Completed)\n",
      "===================================================\n",
      "Run(Experiment: heart-failure-prediction,\n",
      "Id: AutoML_5e61848c-c8be-4ca5-b8c2-026872976d6c_13,\n",
      "Type: azureml.scriptrun,\n",
      "Status: Completed)\n",
      "===================================================\n",
      "Run(Experiment: heart-failure-prediction,\n",
      "Id: AutoML_5e61848c-c8be-4ca5-b8c2-026872976d6c_12,\n",
      "Type: azureml.scriptrun,\n",
      "Status: Completed)\n",
      "===================================================\n",
      "Run(Experiment: heart-failure-prediction,\n",
      "Id: AutoML_5e61848c-c8be-4ca5-b8c2-026872976d6c_11,\n",
      "Type: azureml.scriptrun,\n",
      "Status: Completed)\n",
      "===================================================\n",
      "Run(Experiment: heart-failure-prediction,\n",
      "Id: AutoML_5e61848c-c8be-4ca5-b8c2-026872976d6c_10,\n",
      "Type: azureml.scriptrun,\n",
      "Status: Completed)\n",
      "===================================================\n",
      "Run(Experiment: heart-failure-prediction,\n",
      "Id: AutoML_5e61848c-c8be-4ca5-b8c2-026872976d6c_9,\n",
      "Type: azureml.scriptrun,\n",
      "Status: Completed)\n",
      "===================================================\n",
      "Run(Experiment: heart-failure-prediction,\n",
      "Id: AutoML_5e61848c-c8be-4ca5-b8c2-026872976d6c_8,\n",
      "Type: azureml.scriptrun,\n",
      "Status: Completed)\n",
      "===================================================\n",
      "Run(Experiment: heart-failure-prediction,\n",
      "Id: AutoML_5e61848c-c8be-4ca5-b8c2-026872976d6c_7,\n",
      "Type: azureml.scriptrun,\n",
      "Status: Completed)\n",
      "===================================================\n",
      "Run(Experiment: heart-failure-prediction,\n",
      "Id: AutoML_5e61848c-c8be-4ca5-b8c2-026872976d6c_6,\n",
      "Type: azureml.scriptrun,\n",
      "Status: Completed)\n",
      "===================================================\n",
      "Run(Experiment: heart-failure-prediction,\n",
      "Id: AutoML_5e61848c-c8be-4ca5-b8c2-026872976d6c_5,\n",
      "Type: azureml.scriptrun,\n",
      "Status: Completed)\n",
      "===================================================\n",
      "Run(Experiment: heart-failure-prediction,\n",
      "Id: AutoML_5e61848c-c8be-4ca5-b8c2-026872976d6c_4,\n",
      "Type: azureml.scriptrun,\n",
      "Status: Completed)\n",
      "===================================================\n",
      "Run(Experiment: heart-failure-prediction,\n",
      "Id: AutoML_5e61848c-c8be-4ca5-b8c2-026872976d6c_3,\n",
      "Type: azureml.scriptrun,\n",
      "Status: Completed)\n",
      "===================================================\n",
      "Run(Experiment: heart-failure-prediction,\n",
      "Id: AutoML_5e61848c-c8be-4ca5-b8c2-026872976d6c_0,\n",
      "Type: azureml.scriptrun,\n",
      "Status: Completed)\n",
      "===================================================\n",
      "Run(Experiment: heart-failure-prediction,\n",
      "Id: AutoML_5e61848c-c8be-4ca5-b8c2-026872976d6c_2,\n",
      "Type: azureml.scriptrun,\n",
      "Status: Completed)\n",
      "===================================================\n",
      "Run(Experiment: heart-failure-prediction,\n",
      "Id: AutoML_5e61848c-c8be-4ca5-b8c2-026872976d6c_1,\n",
      "Type: azureml.scriptrun,\n",
      "Status: Completed)\n"
     ]
    }
   ],
   "source": [
    "\n",
    "RunDetails(remote_run).show()\n",
    "\n",
    "# Get details from each run\n",
    "for child_run in remote_run.get_children():\n",
    "    print('===================================================')\n",
    "    print(child_run)\n"
   ]
  },
  {
   "cell_type": "markdown",
   "metadata": {},
   "source": [
    "## Best Model\n",
    "In the cell below, I get the best model from the automl experiment and display all the properties of the model."
   ]
  },
  {
   "cell_type": "code",
   "execution_count": 13,
   "metadata": {
    "gather": {
     "logged": 1612384051283
    },
    "jupyter": {
     "outputs_hidden": false,
     "source_hidden": false
    },
    "nteract": {
     "transient": {
      "deleting": false
     }
    }
   },
   "outputs": [
    {
     "ename": "AttributeError",
     "evalue": "/anaconda/envs/azureml_py36/lib/libxgboost.so: undefined symbol: XGBoosterUnserializeFromBuffer",
     "output_type": "error",
     "traceback": [
      "\u001b[0;31m---------------------------------------------------------------------------\u001b[0m",
      "\u001b[0;31mAttributeError\u001b[0m                            Traceback (most recent call last)",
      "\u001b[0;32m<ipython-input-13-98a9c7863be3>\u001b[0m in \u001b[0;36m<module>\u001b[0;34m\u001b[0m\n\u001b[0;32m----> 1\u001b[0;31m \u001b[0mbest_run\u001b[0m\u001b[0;34m,\u001b[0m \u001b[0mfitted_model\u001b[0m \u001b[0;34m=\u001b[0m \u001b[0mremote_run\u001b[0m\u001b[0;34m.\u001b[0m\u001b[0mget_output\u001b[0m\u001b[0;34m(\u001b[0m\u001b[0;34m)\u001b[0m\u001b[0;34m\u001b[0m\u001b[0;34m\u001b[0m\u001b[0m\n\u001b[0m\u001b[1;32m      2\u001b[0m \u001b[0;34m\u001b[0m\u001b[0m\n\u001b[1;32m      3\u001b[0m \u001b[0;31m# get_metrics()\u001b[0m\u001b[0;34m\u001b[0m\u001b[0;34m\u001b[0m\u001b[0;34m\u001b[0m\u001b[0m\n\u001b[1;32m      4\u001b[0m \u001b[0;31m# Returns the metrics\u001b[0m\u001b[0;34m\u001b[0m\u001b[0;34m\u001b[0m\u001b[0;34m\u001b[0m\u001b[0m\n\u001b[1;32m      5\u001b[0m \u001b[0mprint\u001b[0m\u001b[0;34m(\u001b[0m\u001b[0;34m\"Best run metrics :\"\u001b[0m\u001b[0;34m,\u001b[0m\u001b[0mbest_run\u001b[0m\u001b[0;34m.\u001b[0m\u001b[0mget_metrics\u001b[0m\u001b[0;34m(\u001b[0m\u001b[0;34m)\u001b[0m\u001b[0;34m)\u001b[0m\u001b[0;34m\u001b[0m\u001b[0;34m\u001b[0m\u001b[0m\n",
      "\u001b[0;32m/anaconda/envs/azureml_py36/lib/python3.6/site-packages/azureml/train/automl/run.py\u001b[0m in \u001b[0;36mget_output\u001b[0;34m(self, iteration, metric, return_onnx_model, return_split_onnx_model, **kwargs)\u001b[0m\n\u001b[1;32m    699\u001b[0m                     \u001b[0mfitted_model\u001b[0m \u001b[0;34m=\u001b[0m \u001b[0m_download_automl_onnx_model\u001b[0m\u001b[0;34m(\u001b[0m\u001b[0mcurr_run\u001b[0m\u001b[0;34m,\u001b[0m \u001b[0mmodel_name\u001b[0m\u001b[0;34m)\u001b[0m\u001b[0;34m\u001b[0m\u001b[0;34m\u001b[0m\u001b[0m\n\u001b[1;32m    700\u001b[0m                 \u001b[0;32melse\u001b[0m\u001b[0;34m:\u001b[0m\u001b[0;34m\u001b[0m\u001b[0;34m\u001b[0m\u001b[0m\n\u001b[0;32m--> 701\u001b[0;31m                     \u001b[0mfitted_model\u001b[0m \u001b[0;34m=\u001b[0m \u001b[0m_download_automl_model\u001b[0m\u001b[0;34m(\u001b[0m\u001b[0mcurr_run\u001b[0m\u001b[0;34m,\u001b[0m \u001b[0mmodel_name\u001b[0m\u001b[0;34m)\u001b[0m\u001b[0;34m\u001b[0m\u001b[0;34m\u001b[0m\u001b[0m\n\u001b[0m\u001b[1;32m    702\u001b[0m \u001b[0;34m\u001b[0m\u001b[0m\n\u001b[1;32m    703\u001b[0m             \u001b[0;32mreturn\u001b[0m \u001b[0mcurr_run\u001b[0m\u001b[0;34m,\u001b[0m \u001b[0mfitted_model\u001b[0m\u001b[0;34m\u001b[0m\u001b[0;34m\u001b[0m\u001b[0m\n",
      "\u001b[0;32m/anaconda/envs/azureml_py36/lib/python3.6/site-packages/azureml/train/automl/_model_download_utilities.py\u001b[0m in \u001b[0;36m_download_automl_model\u001b[0;34m(run, model_name)\u001b[0m\n\u001b[1;32m     88\u001b[0m             \u001b[0;31m# Pass through any exceptions from loading the model.\u001b[0m\u001b[0;34m\u001b[0m\u001b[0;34m\u001b[0m\u001b[0;34m\u001b[0m\u001b[0m\n\u001b[1;32m     89\u001b[0m             \u001b[0;31m# Try is used here to ensure we can cleanup the side effect of model downlad.\u001b[0m\u001b[0;34m\u001b[0m\u001b[0;34m\u001b[0m\u001b[0;34m\u001b[0m\u001b[0m\n\u001b[0;32m---> 90\u001b[0;31m             \u001b[0mmodel\u001b[0m \u001b[0;34m=\u001b[0m \u001b[0m_load_automl_model\u001b[0m\u001b[0;34m(\u001b[0m\u001b[0mmodel_path\u001b[0m\u001b[0;34m)\u001b[0m\u001b[0;34m\u001b[0m\u001b[0;34m\u001b[0m\u001b[0m\n\u001b[0m\u001b[1;32m     91\u001b[0m             \u001b[0;32mif\u001b[0m \u001b[0mmodel\u001b[0m \u001b[0;32mis\u001b[0m \u001b[0;32mNone\u001b[0m\u001b[0;34m:\u001b[0m\u001b[0;34m\u001b[0m\u001b[0;34m\u001b[0m\u001b[0m\n\u001b[1;32m     92\u001b[0m                 \u001b[0;31m# If we can retrieve the automl runtime version, we do so we can inform the user what to install.\u001b[0m\u001b[0;34m\u001b[0m\u001b[0;34m\u001b[0m\u001b[0;34m\u001b[0m\u001b[0m\n",
      "\u001b[0;32m/anaconda/envs/azureml_py36/lib/python3.6/site-packages/azureml/train/automl/_model_download_utilities.py\u001b[0m in \u001b[0;36m_load_automl_model\u001b[0;34m(model_path)\u001b[0m\n\u001b[1;32m    172\u001b[0m         \u001b[0;32mimport\u001b[0m \u001b[0mazureml\u001b[0m\u001b[0;34m.\u001b[0m\u001b[0mtrain\u001b[0m\u001b[0;34m.\u001b[0m\u001b[0mautoml\u001b[0m\u001b[0;34m.\u001b[0m\u001b[0mruntime\u001b[0m\u001b[0;34m\u001b[0m\u001b[0;34m\u001b[0m\u001b[0m\n\u001b[1;32m    173\u001b[0m         \u001b[0;32mwith\u001b[0m \u001b[0mopen\u001b[0m\u001b[0;34m(\u001b[0m\u001b[0mmodel_path\u001b[0m\u001b[0;34m,\u001b[0m \u001b[0;34m\"rb\"\u001b[0m\u001b[0;34m)\u001b[0m \u001b[0;32mas\u001b[0m \u001b[0mmodel_file\u001b[0m\u001b[0;34m:\u001b[0m\u001b[0;34m\u001b[0m\u001b[0;34m\u001b[0m\u001b[0m\n\u001b[0;32m--> 174\u001b[0;31m             \u001b[0mfitted_model\u001b[0m \u001b[0;34m=\u001b[0m \u001b[0mpickle\u001b[0m\u001b[0;34m.\u001b[0m\u001b[0mload\u001b[0m\u001b[0;34m(\u001b[0m\u001b[0mmodel_file\u001b[0m\u001b[0;34m)\u001b[0m  \u001b[0;31m# type: Optional[Any]\u001b[0m\u001b[0;34m\u001b[0m\u001b[0;34m\u001b[0m\u001b[0m\n\u001b[0m\u001b[1;32m    175\u001b[0m             \u001b[0;32mreturn\u001b[0m \u001b[0mfitted_model\u001b[0m\u001b[0;34m\u001b[0m\u001b[0;34m\u001b[0m\u001b[0m\n\u001b[1;32m    176\u001b[0m     \u001b[0;32mexcept\u001b[0m \u001b[0mImportError\u001b[0m \u001b[0;32mas\u001b[0m \u001b[0me\u001b[0m\u001b[0;34m:\u001b[0m\u001b[0;34m\u001b[0m\u001b[0;34m\u001b[0m\u001b[0m\n",
      "\u001b[0;32m/anaconda/envs/azureml_py36/lib/python3.6/site-packages/xgboost/core.py\u001b[0m in \u001b[0;36m__setstate__\u001b[0;34m(self, state)\u001b[0m\n\u001b[1;32m   1086\u001b[0m             \u001b[0mptr\u001b[0m \u001b[0;34m=\u001b[0m \u001b[0;34m(\u001b[0m\u001b[0mctypes\u001b[0m\u001b[0;34m.\u001b[0m\u001b[0mc_char\u001b[0m \u001b[0;34m*\u001b[0m \u001b[0mlen\u001b[0m\u001b[0;34m(\u001b[0m\u001b[0mbuf\u001b[0m\u001b[0;34m)\u001b[0m\u001b[0;34m)\u001b[0m\u001b[0;34m.\u001b[0m\u001b[0mfrom_buffer\u001b[0m\u001b[0;34m(\u001b[0m\u001b[0mbuf\u001b[0m\u001b[0;34m)\u001b[0m\u001b[0;34m\u001b[0m\u001b[0;34m\u001b[0m\u001b[0m\n\u001b[1;32m   1087\u001b[0m             _check_call(\n\u001b[0;32m-> 1088\u001b[0;31m                 _LIB.XGBoosterUnserializeFromBuffer(handle, ptr, length))\n\u001b[0m\u001b[1;32m   1089\u001b[0m             \u001b[0mstate\u001b[0m\u001b[0;34m[\u001b[0m\u001b[0;34m'handle'\u001b[0m\u001b[0;34m]\u001b[0m \u001b[0;34m=\u001b[0m \u001b[0mhandle\u001b[0m\u001b[0;34m\u001b[0m\u001b[0;34m\u001b[0m\u001b[0m\n\u001b[1;32m   1090\u001b[0m         \u001b[0mself\u001b[0m\u001b[0;34m.\u001b[0m\u001b[0m__dict__\u001b[0m\u001b[0;34m.\u001b[0m\u001b[0mupdate\u001b[0m\u001b[0;34m(\u001b[0m\u001b[0mstate\u001b[0m\u001b[0;34m)\u001b[0m\u001b[0;34m\u001b[0m\u001b[0;34m\u001b[0m\u001b[0m\n",
      "\u001b[0;32m/anaconda/envs/azureml_py36/lib/python3.6/ctypes/__init__.py\u001b[0m in \u001b[0;36m__getattr__\u001b[0;34m(self, name)\u001b[0m\n\u001b[1;32m    359\u001b[0m         \u001b[0;32mif\u001b[0m \u001b[0mname\u001b[0m\u001b[0;34m.\u001b[0m\u001b[0mstartswith\u001b[0m\u001b[0;34m(\u001b[0m\u001b[0;34m'__'\u001b[0m\u001b[0;34m)\u001b[0m \u001b[0;32mand\u001b[0m \u001b[0mname\u001b[0m\u001b[0;34m.\u001b[0m\u001b[0mendswith\u001b[0m\u001b[0;34m(\u001b[0m\u001b[0;34m'__'\u001b[0m\u001b[0;34m)\u001b[0m\u001b[0;34m:\u001b[0m\u001b[0;34m\u001b[0m\u001b[0;34m\u001b[0m\u001b[0m\n\u001b[1;32m    360\u001b[0m             \u001b[0;32mraise\u001b[0m \u001b[0mAttributeError\u001b[0m\u001b[0;34m(\u001b[0m\u001b[0mname\u001b[0m\u001b[0;34m)\u001b[0m\u001b[0;34m\u001b[0m\u001b[0;34m\u001b[0m\u001b[0m\n\u001b[0;32m--> 361\u001b[0;31m         \u001b[0mfunc\u001b[0m \u001b[0;34m=\u001b[0m \u001b[0mself\u001b[0m\u001b[0;34m.\u001b[0m\u001b[0m__getitem__\u001b[0m\u001b[0;34m(\u001b[0m\u001b[0mname\u001b[0m\u001b[0;34m)\u001b[0m\u001b[0;34m\u001b[0m\u001b[0;34m\u001b[0m\u001b[0m\n\u001b[0m\u001b[1;32m    362\u001b[0m         \u001b[0msetattr\u001b[0m\u001b[0;34m(\u001b[0m\u001b[0mself\u001b[0m\u001b[0;34m,\u001b[0m \u001b[0mname\u001b[0m\u001b[0;34m,\u001b[0m \u001b[0mfunc\u001b[0m\u001b[0;34m)\u001b[0m\u001b[0;34m\u001b[0m\u001b[0;34m\u001b[0m\u001b[0m\n\u001b[1;32m    363\u001b[0m         \u001b[0;32mreturn\u001b[0m \u001b[0mfunc\u001b[0m\u001b[0;34m\u001b[0m\u001b[0;34m\u001b[0m\u001b[0m\n",
      "\u001b[0;32m/anaconda/envs/azureml_py36/lib/python3.6/ctypes/__init__.py\u001b[0m in \u001b[0;36m__getitem__\u001b[0;34m(self, name_or_ordinal)\u001b[0m\n\u001b[1;32m    364\u001b[0m \u001b[0;34m\u001b[0m\u001b[0m\n\u001b[1;32m    365\u001b[0m     \u001b[0;32mdef\u001b[0m \u001b[0m__getitem__\u001b[0m\u001b[0;34m(\u001b[0m\u001b[0mself\u001b[0m\u001b[0;34m,\u001b[0m \u001b[0mname_or_ordinal\u001b[0m\u001b[0;34m)\u001b[0m\u001b[0;34m:\u001b[0m\u001b[0;34m\u001b[0m\u001b[0;34m\u001b[0m\u001b[0m\n\u001b[0;32m--> 366\u001b[0;31m         \u001b[0mfunc\u001b[0m \u001b[0;34m=\u001b[0m \u001b[0mself\u001b[0m\u001b[0;34m.\u001b[0m\u001b[0m_FuncPtr\u001b[0m\u001b[0;34m(\u001b[0m\u001b[0;34m(\u001b[0m\u001b[0mname_or_ordinal\u001b[0m\u001b[0;34m,\u001b[0m \u001b[0mself\u001b[0m\u001b[0;34m)\u001b[0m\u001b[0;34m)\u001b[0m\u001b[0;34m\u001b[0m\u001b[0;34m\u001b[0m\u001b[0m\n\u001b[0m\u001b[1;32m    367\u001b[0m         \u001b[0;32mif\u001b[0m \u001b[0;32mnot\u001b[0m \u001b[0misinstance\u001b[0m\u001b[0;34m(\u001b[0m\u001b[0mname_or_ordinal\u001b[0m\u001b[0;34m,\u001b[0m \u001b[0mint\u001b[0m\u001b[0;34m)\u001b[0m\u001b[0;34m:\u001b[0m\u001b[0;34m\u001b[0m\u001b[0;34m\u001b[0m\u001b[0m\n\u001b[1;32m    368\u001b[0m             \u001b[0mfunc\u001b[0m\u001b[0;34m.\u001b[0m\u001b[0m__name__\u001b[0m \u001b[0;34m=\u001b[0m \u001b[0mname_or_ordinal\u001b[0m\u001b[0;34m\u001b[0m\u001b[0;34m\u001b[0m\u001b[0m\n",
      "\u001b[0;31mAttributeError\u001b[0m: /anaconda/envs/azureml_py36/lib/libxgboost.so: undefined symbol: XGBoosterUnserializeFromBuffer"
     ]
    }
   ],
   "source": [
    "\n",
    "best_run, fitted_model = remote_run.get_output()\n",
    "\n",
    "# get_metrics()\n",
    "# Returns the metrics\n",
    "print(\"Best run metrics :\",best_run.get_metrics())\n",
    "print('===================================================')\n",
    "\n",
    "# get_details()\n",
    "# Returns a dictionary with the details for the run\n",
    "print(\"Best run details :\",best_run.get_details())\n",
    "print('===================================================')\n",
    "\n",
    "# get_properties()\n",
    "# Fetch the latest properties of the run from the service\n",
    "print(\"Best run properties :\",best_run.get_properties())\n",
    "print('===================================================')"
   ]
  },
  {
   "cell_type": "code",
   "execution_count": 14,
   "metadata": {
    "gather": {
     "logged": 1612384084492
    }
   },
   "outputs": [
    {
     "ename": "NameError",
     "evalue": "name 'best_run' is not defined",
     "output_type": "error",
     "traceback": [
      "\u001b[0;31m---------------------------------------------------------------------------\u001b[0m",
      "\u001b[0;31mNameError\u001b[0m                                 Traceback (most recent call last)",
      "\u001b[0;32m<ipython-input-14-df00495f3df0>\u001b[0m in \u001b[0;36m<module>\u001b[0;34m\u001b[0m\n\u001b[0;32m----> 1\u001b[0;31m \u001b[0mbest_run\u001b[0m\u001b[0;34m.\u001b[0m\u001b[0mget_file_names\u001b[0m\u001b[0;34m(\u001b[0m\u001b[0;34m)\u001b[0m\u001b[0;34m\u001b[0m\u001b[0;34m\u001b[0m\u001b[0m\n\u001b[0m\u001b[1;32m      2\u001b[0m \u001b[0;34m\u001b[0m\u001b[0m\n\u001b[1;32m      3\u001b[0m \u001b[0;31m# Download the yaml file that includes the environment dependencies\u001b[0m\u001b[0;34m\u001b[0m\u001b[0;34m\u001b[0m\u001b[0;34m\u001b[0m\u001b[0m\n\u001b[1;32m      4\u001b[0m \u001b[0mbest_run\u001b[0m\u001b[0;34m.\u001b[0m\u001b[0mdownload_file\u001b[0m\u001b[0;34m(\u001b[0m\u001b[0;34m'outputs/conda_env_v_1_0_0.yml'\u001b[0m\u001b[0;34m,\u001b[0m \u001b[0;34m'env.yml'\u001b[0m\u001b[0;34m)\u001b[0m\u001b[0;34m\u001b[0m\u001b[0;34m\u001b[0m\u001b[0m\n",
      "\u001b[0;31mNameError\u001b[0m: name 'best_run' is not defined"
     ]
    }
   ],
   "source": [
    "best_run.get_file_names()\n",
    "\n",
    "# Download the yaml file that includes the environment dependencies\n",
    "best_run.download_file('outputs/conda_env_v_1_0_0.yml', 'env.yml')"
   ]
  },
  {
   "cell_type": "code",
   "execution_count": null,
   "metadata": {
    "jupyter": {
     "outputs_hidden": false,
     "source_hidden": false
    },
    "nteract": {
     "transient": {
      "deleting": false
     }
    }
   },
   "outputs": [],
   "source": [
    "# Download the model file\n",
    "\n",
    "best_run.download_file('outputs/model.pkl', 'heart_disease_model.pkl')"
   ]
  },
  {
   "cell_type": "code",
   "execution_count": null,
   "metadata": {
    "gather": {
     "logged": 1612384096483
    }
   },
   "outputs": [],
   "source": [
    "print(fitted_model)"
   ]
  },
  {
   "cell_type": "code",
   "execution_count": null,
   "metadata": {
    "gather": {
     "logged": 1612384106353
    }
   },
   "outputs": [],
   "source": [
    "best_run"
   ]
  },
  {
   "cell_type": "code",
   "execution_count": null,
   "metadata": {
    "gather": {
     "logged": 1612384120796
    },
    "jupyter": {
     "outputs_hidden": false,
     "source_hidden": false
    },
    "nteract": {
     "transient": {
      "deleting": false
     }
    }
   },
   "outputs": [],
   "source": [
    "# Save the best model\n",
    "best_run.register_model(model_name = \"heart_disease_model.pkl\", model_path = './outputs/')\n",
    "\n",
    "print(best_run)"
   ]
  },
  {
   "cell_type": "markdown",
   "metadata": {},
   "source": [
    "## Best Model Based on Another Metric\n",
    "\n",
    "Show the run and model that has the highest **AUC_weighted** and the one with the smallest **average_precision_score_weighted** value:"
   ]
  },
  {
   "cell_type": "code",
   "execution_count": null,
   "metadata": {
    "gather": {
     "logged": 1612384358504
    }
   },
   "outputs": [],
   "source": [
    "lookup_metric = \"AUC_weighted\"\n",
    "best_run, fitted_model = remote_run.get_output(metric = lookup_metric)\n",
    "print('========================================================')\n",
    "print(\"Based on AUC_weighted: \",best_run)\n",
    "print(fitted_model)\n",
    "\n",
    "lookup_metric = \"average_precision_score_weighted\"\n",
    "best_run, fitted_model = remote_run.get_output(metric = lookup_metric)\n",
    "print('========================================================')\n",
    "print(\"Based on average_precision_score_weighted: \",best_run)\n",
    "print(fitted_model)"
   ]
  },
  {
   "cell_type": "markdown",
   "metadata": {},
   "source": [
    "## Deploy the Model\n",
    "\n",
    "As the best model coming from AutoML run has better accuracy than the one coming from the HyperDrive run, I deploy it in the cell below, register it, create an inference config and deploy the model as a web service."
   ]
  },
  {
   "cell_type": "code",
   "execution_count": null,
   "metadata": {
    "gather": {
     "logged": 1612384627131
    },
    "jupyter": {
     "outputs_hidden": false,
     "source_hidden": false
    },
    "nteract": {
     "transient": {
      "deleting": false
     }
    }
   },
   "outputs": [],
   "source": [
    "model = remote_run.register_model(model_name = 'heart_disease_model.pkl')\n",
    "print(remote_run.model_id)\n",
    "\n",
    "# https://knowledge.udacity.com/questions/463620\n",
    "\n",
    "environment = best_run.get_environment()\n",
    "entry_script='inference/scoring.py'\n",
    "best_run.download_file('outputs/scoring_file_v_1_0_0.py', entry_script)\n",
    "\n",
    "\n",
    "inference_config = InferenceConfig(entry_script = entry_script, environment = environment)\n",
    "\n",
    "# Deploying the model via ACI WebService\n",
    "# https://github.com/MicrosoftDocs/azure-docs/blob/master/articles/machine-learning/how-to-deploy-azure-container-instance.md\n",
    "\n",
    "deployment_config = AciWebservice.deploy_configuration(cpu_cores = 1, \n",
    "                                                    memory_gb = 1, \n",
    "                                                    auth_enabled= True, \n",
    "                                                    enable_app_insights= True)\n",
    "\n",
    "service = Model.deploy(ws, \"aciservice\", [model], inference_config, deployment_config)\n",
    "service.wait_for_deployment(show_output = True)\n"
   ]
  },
  {
   "cell_type": "code",
   "execution_count": null,
   "metadata": {
    "gather": {
     "logged": 1612384813062
    }
   },
   "outputs": [],
   "source": [
    "# Getting the service state\n",
    "# The scorig URI & the primary authentication key are copied to the endpoint.py file in order to test the deployed service.\n",
    "# The Swagger URI can be used in Swagger UI: https://petstore.swagger.io/ For more info, please see the relevant part in the README file.\n",
    "\n",
    "# Authentication is enabled, so I use the get_keys method to retrieve the primary and secondary authentication keys:\n",
    "primary, secondary = service.get_keys()\n",
    "\n",
    "print('Service state: ' + service.state)\n",
    "print('Service scoring URI: ' + service.scoring_uri)\n",
    "print('Service Swagger URI: ' + service.swagger_uri)\n",
    "print('Service primary authentication key: ' + primary)\n"
   ]
  },
  {
   "cell_type": "markdown",
   "metadata": {},
   "source": [
    "# Consume the Endpoint"
   ]
  },
  {
   "cell_type": "code",
   "execution_count": null,
   "metadata": {
    "gather": {
     "logged": 1612384880056
    }
   },
   "outputs": [],
   "source": [
    "# Sending a request to the deployed web service to test it: consuming model endpoint\n",
    "%run endpoint.py"
   ]
  },
  {
   "cell_type": "code",
   "execution_count": null,
   "metadata": {},
   "outputs": [],
   "source": [
    "#Store the uri's in variables:\n",
    "scoring_uri = 'http://64f66fd9-4942-4998-b945-a726512c767a.southcentralus.azurecontainer.io/score'\n",
    "\n",
    "key = 'q0KNVV8uahLC1jGacIbteTFeiAXn1lmf'"
   ]
  },
  {
   "cell_type": "code",
   "execution_count": null,
   "metadata": {},
   "outputs": [],
   "source": [
    "import requests\n",
    "import json\n",
    "\n",
    "# URL for the web service, should be similar to:\n",
    "# 'http://8530a665-66f3-49c8-a953-b82a2d312917.eastus.azurecontainer.io/score'\n",
    "scoring_uri = scoring_uri\n",
    "# If the service is authenticated, set the key or token\n",
    "key = key\n",
    "\n",
    "# Two sets of data to score, so we get two results back\n",
    "data = {\"data\":\n",
    "        [\n",
    "          {\n",
    "           \"age\": 75, \n",
    "           \"anaemia\": 0, \n",
    "           \"creatinine_phosphokinase\": 582, \n",
    "           \"diabetes\": 0, \n",
    "           \"ejection_fraction\": 20, \n",
    "           \"high_blood_pressure\": 1, \n",
    "           \"platelets\": 265000, \n",
    "           \"serum_creatinine\": 1.9, \n",
    "           \"serum_sodium\": 130, \n",
    "           \"sex\": 1, \n",
    "           \"smoking\": 0,\n",
    "           \"time\": 4\n",
    "          },\n",
    "          {\n",
    "           \"age\": 30, \n",
    "           \"anaemia\": 0, \n",
    "           \"creatinine_phosphokinase\": 2656, \n",
    "           \"diabetes\": 1, \n",
    "           \"ejection_fraction\": 30, \n",
    "           \"high_blood_pressure\": 0, \n",
    "           \"platelets\": 305000, \n",
    "           \"serum_creatinine\": 2.3, \n",
    "           \"serum_sodium\": 130, \n",
    "           \"sex\": 1, \n",
    "           \"smoking\": 0,\n",
    "           \"time\": 30\n",
    "          },\n",
    "      ]\n",
    "    }\n",
    "# Convert to JSON string\n",
    "input_data = json.dumps(data)\n",
    "with open(\"data.json\", \"w\") as _f:\n",
    "    _f.write(input_data)\n",
    "\n",
    "# Set the content type\n",
    "headers = {'Content-Type': 'application/json'}\n",
    "# If authentication is enabled, set the authorization header\n",
    "headers['Authorization'] = f'Bearer {key}'\n",
    "\n",
    "# Make the request and display the response\n",
    "resp = requests.post(scoring_uri, input_data, headers=headers)\n",
    "print(resp.json())\n",
    "print(\"++++++++++++++++++++++++++++++\")\n",
    "print(\"Expected result: [true, true], where 'true' means '1' as result in the 'DEATH_EVENT' column\")"
   ]
  },
  {
   "cell_type": "code",
   "execution_count": null,
   "metadata": {
    "gather": {
     "logged": 1612385060829
    },
    "jupyter": {
     "outputs_hidden": false,
     "source_hidden": false
    },
    "nteract": {
     "transient": {
      "deleting": false
     }
    }
   },
   "outputs": [],
   "source": [
    "# Printing the logs\n",
    "print(service.get_logs())"
   ]
  },
  {
   "cell_type": "markdown",
   "metadata": {},
   "source": [
    "## Deleting the service\n",
    "Putting the deletion of the service in a separate cell to avoid accidentally running the cell before finishing the tasks"
   ]
  },
  {
   "cell_type": "code",
   "execution_count": null,
   "metadata": {},
   "outputs": [],
   "source": [
    "\n",
    "service.delete()\n"
   ]
  }
 ],
 "metadata": {
  "kernel_info": {
   "name": "python3"
  },
  "kernelspec": {
   "display_name": "Python 3",
   "language": "python",
   "name": "python3"
  },
  "language_info": {
   "codemirror_mode": {
    "name": "ipython",
    "version": 3
   },
   "file_extension": ".py",
   "mimetype": "text/x-python",
   "name": "python",
   "nbconvert_exporter": "python",
   "pygments_lexer": "ipython3",
   "version": "3.6.9"
  },
  "microsoft": {
   "host": {
    "AzureML": {
     "notebookHasBeenCompleted": true
    }
   }
  },
  "nteract": {
   "version": "nteract-front-end@1.0.0"
  }
 },
 "nbformat": 4,
 "nbformat_minor": 2
}
